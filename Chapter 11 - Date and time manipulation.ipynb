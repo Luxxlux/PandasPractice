{
 "cells": [
  {
   "cell_type": "code",
   "execution_count": 1,
   "id": "f9946b9c",
   "metadata": {},
   "outputs": [],
   "source": [
    "import datetime as dt\n",
    "import pandas as pd\n",
    "\n",
    "time = pd.Series (['2015-03-08 01:00:00',\n",
    "'2015-03-08 01:30:00',\n",
    "'2015-03-08 02:00:00',\n",
    "'2015-03-08 02:30:00',\n",
    "'2015-03-08 03:00:00',\n",
    "'2015-03-08 02:00:00',\n",
    "'2015-03-08 02:30:00',\n",
    "'2015-03-08 03:00:00',\n",
    "'2015-03-08 03:30:00',\n",
    "'2015-11-01 00:30:00',\n",
    "'2015-11-01 01:00:00',\n",
    "'2015-11-01 01:30:00',\n",
    "'2015-11-01 02:00:00',\n",
    "'2015-11-01 02:30:00',\n",
    "'2015-11-01 01:00:00',\n",
    "'2015-11-01 01:30:00',\n",
    "'2015-11-01 02:00:00',\n",
    "'2015-11-01 02:30:00', \n",
    "'2015-11-01 03:00:00'])"
   ]
  },
  {
   "cell_type": "code",
   "execution_count": 5,
   "id": "4dbb5770",
   "metadata": {},
   "outputs": [],
   "source": [
    "# Offsets in integers get translated as seconds when doing an offset\n",
    "offset = pd.Series([-7, -7, -7, -7, -7, -6, -6, -6, -6, -6, -6, -6, -6, -6, -7, -7, -7, -7, -7])"
   ]
  },
  {
   "cell_type": "code",
   "execution_count": 21,
   "id": "3615b718",
   "metadata": {},
   "outputs": [
    {
     "data": {
      "text/plain": [
       "0    2015-03-07 18:00:07-07:00\n",
       "1    2015-03-07 18:30:07-07:00\n",
       "2    2015-03-07 19:00:07-07:00\n",
       "3    2015-03-07 19:30:07-07:00\n",
       "4    2015-03-07 20:00:07-07:00\n",
       "5    2015-03-07 19:00:06-07:00\n",
       "6    2015-03-07 19:30:06-07:00\n",
       "7    2015-03-07 20:00:06-07:00\n",
       "8    2015-03-07 20:30:06-07:00\n",
       "9    2015-10-31 18:30:06-06:00\n",
       "10   2015-10-31 19:00:06-06:00\n",
       "11   2015-10-31 19:30:06-06:00\n",
       "12   2015-10-31 20:00:06-06:00\n",
       "13   2015-10-31 20:30:06-06:00\n",
       "14   2015-10-31 19:00:07-06:00\n",
       "15   2015-10-31 19:30:07-06:00\n",
       "16   2015-10-31 20:00:07-06:00\n",
       "17   2015-10-31 20:30:07-06:00\n",
       "18   2015-10-31 21:00:07-06:00\n",
       "dtype: datetime64[ns, America/Denver]"
      ]
     },
     "execution_count": 21,
     "metadata": {},
     "output_type": "execute_result"
    }
   ],
   "source": [
    "# Bugged version\n",
    "(pd.to_datetime(time) # converts the string series into workable time\n",
    " .groupby(offset) # puts the offsets -6 and -7 as bins in which the times fall into\n",
    " .transform(lambda s: # takes the lambda funciton and returns the same length series\n",
    "            s.dt.tz_localize(s.name) # s.name is the group key (timezone offset in this case) # tz_localize attaches the offset as seconds\n",
    "            .dt.tz_convert('America/Denver'))) # lz.convert then takes the offsets and converts them into the specified timezone\n",
    "\n",
    "\n",
    "# why it's bugged: because the raw numbers get converted into seconds, not hours."
   ]
  },
  {
   "cell_type": "code",
   "execution_count": 19,
   "id": "a3087359",
   "metadata": {},
   "outputs": [
    {
     "name": "stdout",
     "output_type": "stream",
     "text": [
      "Offset: -7\n",
      "0    2015-03-08 01:00:00\n",
      "1    2015-03-08 01:30:00\n",
      "2    2015-03-08 02:00:00\n",
      "3    2015-03-08 02:30:00\n",
      "4    2015-03-08 03:00:00\n",
      "14   2015-11-01 01:00:00\n",
      "15   2015-11-01 01:30:00\n",
      "16   2015-11-01 02:00:00\n",
      "17   2015-11-01 02:30:00\n",
      "18   2015-11-01 03:00:00\n",
      "dtype: datetime64[ns]\n",
      "------\n",
      "Offset: -6\n",
      "5    2015-03-08 02:00:00\n",
      "6    2015-03-08 02:30:00\n",
      "7    2015-03-08 03:00:00\n",
      "8    2015-03-08 03:30:00\n",
      "9    2015-11-01 00:30:00\n",
      "10   2015-11-01 01:00:00\n",
      "11   2015-11-01 01:30:00\n",
      "12   2015-11-01 02:00:00\n",
      "13   2015-11-01 02:30:00\n",
      "dtype: datetime64[ns]\n",
      "------\n"
     ]
    }
   ],
   "source": [
    "for key, group in pd.to_datetime(time).groupby(offset):\n",
    "    print(f'Offset: {key}')\n",
    "    print(group)\n",
    "    print('------')"
   ]
  },
  {
   "cell_type": "code",
   "execution_count": 37,
   "id": "691d8bd2",
   "metadata": {},
   "outputs": [
    {
     "data": {
      "text/plain": [
       "0    2015-03-08 01:00:00-07:00\n",
       "1    2015-03-08 01:30:00-07:00\n",
       "2    2015-03-08 03:00:00-06:00\n",
       "3    2015-03-08 03:30:00-06:00\n",
       "4    2015-03-08 04:00:00-06:00\n",
       "5    2015-03-08 01:00:00-07:00\n",
       "6    2015-03-08 01:30:00-07:00\n",
       "7    2015-03-08 03:00:00-06:00\n",
       "8    2015-03-08 03:30:00-06:00\n",
       "9    2015-11-01 00:30:00-06:00\n",
       "10   2015-11-01 01:00:00-06:00\n",
       "11   2015-11-01 01:30:00-06:00\n",
       "12   2015-11-01 01:00:00-07:00\n",
       "13   2015-11-01 01:30:00-07:00\n",
       "14   2015-11-01 01:00:00-07:00\n",
       "15   2015-11-01 01:30:00-07:00\n",
       "16   2015-11-01 02:00:00-07:00\n",
       "17   2015-11-01 02:30:00-07:00\n",
       "18   2015-11-01 03:00:00-07:00\n",
       "dtype: datetime64[ns, America/Denver]"
      ]
     },
     "execution_count": 37,
     "metadata": {},
     "output_type": "execute_result"
    }
   ],
   "source": [
    "# Fixed version:\n",
    "offset = pd.Series([-7, -7, -7, -7, -7, -6, -6, -6, -6, -6, -6, -6, -6, -6, -7, -7, -7, -7, -7])\n",
    "offset = offset.replace({-7: \"Etc/GMT+7\", -6: \"Etc/GMT+6\"}) # explicit statement of offset as hours\n",
    "\n",
    "local = (pd.to_datetime(time)\n",
    "         .groupby(offset)\n",
    "         .transform(lambda s: \n",
    "                    s.dt.tz_localize(s.name)\n",
    "                    .dt.tz_convert('America/Denver')))\n",
    "\n",
    "local"
   ]
  },
  {
   "cell_type": "code",
   "execution_count": 38,
   "id": "4524135f",
   "metadata": {},
   "outputs": [
    {
     "data": {
      "text/plain": [
       "0    2015-03-08 08:00:00+00:00\n",
       "1    2015-03-08 08:30:00+00:00\n",
       "2    2015-03-08 09:00:00+00:00\n",
       "3    2015-03-08 09:30:00+00:00\n",
       "4    2015-03-08 10:00:00+00:00\n",
       "5    2015-03-08 08:00:00+00:00\n",
       "6    2015-03-08 08:30:00+00:00\n",
       "7    2015-03-08 09:00:00+00:00\n",
       "8    2015-03-08 09:30:00+00:00\n",
       "9    2015-11-01 06:30:00+00:00\n",
       "10   2015-11-01 07:00:00+00:00\n",
       "11   2015-11-01 07:30:00+00:00\n",
       "12   2015-11-01 08:00:00+00:00\n",
       "13   2015-11-01 08:30:00+00:00\n",
       "14   2015-11-01 08:00:00+00:00\n",
       "15   2015-11-01 08:30:00+00:00\n",
       "16   2015-11-01 09:00:00+00:00\n",
       "17   2015-11-01 09:30:00+00:00\n",
       "18   2015-11-01 10:00:00+00:00\n",
       "dtype: datetime64[ns, UTC]"
      ]
     },
     "execution_count": 38,
     "metadata": {},
     "output_type": "execute_result"
    }
   ],
   "source": [
    "local.dt.tz_convert('UTC')"
   ]
  },
  {
   "cell_type": "code",
   "execution_count": 42,
   "id": "21ae80de",
   "metadata": {},
   "outputs": [
    {
     "data": {
      "text/plain": [
       "0     1425801600000000000\n",
       "1     1425803400000000000\n",
       "2     1425805200000000000\n",
       "3     1425807000000000000\n",
       "4     1425808800000000000\n",
       "5     1425801600000000000\n",
       "6     1425803400000000000\n",
       "7     1425805200000000000\n",
       "8     1425807000000000000\n",
       "9     1446359400000000000\n",
       "10    1446361200000000000\n",
       "11    1446363000000000000\n",
       "12    1446364800000000000\n",
       "13    1446366600000000000\n",
       "14    1446364800000000000\n",
       "15    1446366600000000000\n",
       "16    1446368400000000000\n",
       "17    1446370200000000000\n",
       "18    1446372000000000000\n",
       "dtype: int64[pyarrow]"
      ]
     },
     "execution_count": 42,
     "metadata": {},
     "output_type": "execute_result"
    }
   ],
   "source": [
    "# convert from UTC to nano seconds using UNIX epoch code\n",
    "\n",
    "nano_secs = local.astype('int64[pyarrow]')\n",
    "nano_secs"
   ]
  },
  {
   "cell_type": "code",
   "execution_count": 43,
   "id": "814dc5e3",
   "metadata": {},
   "outputs": [
    {
     "data": {
      "text/plain": [
       "0    2015-03-08 08:00:00+00:00\n",
       "1    2015-03-08 08:30:00+00:00\n",
       "2    2015-03-08 09:00:00+00:00\n",
       "3    2015-03-08 09:30:00+00:00\n",
       "4    2015-03-08 10:00:00+00:00\n",
       "5    2015-03-08 08:00:00+00:00\n",
       "6    2015-03-08 08:30:00+00:00\n",
       "7    2015-03-08 09:00:00+00:00\n",
       "8    2015-03-08 09:30:00+00:00\n",
       "9    2015-11-01 06:30:00+00:00\n",
       "10   2015-11-01 07:00:00+00:00\n",
       "11   2015-11-01 07:30:00+00:00\n",
       "12   2015-11-01 08:00:00+00:00\n",
       "13   2015-11-01 08:30:00+00:00\n",
       "14   2015-11-01 08:00:00+00:00\n",
       "15   2015-11-01 08:30:00+00:00\n",
       "16   2015-11-01 09:00:00+00:00\n",
       "17   2015-11-01 09:30:00+00:00\n",
       "18   2015-11-01 10:00:00+00:00\n",
       "dtype: datetime64[ns, UTC]"
      ]
     },
     "execution_count": 43,
     "metadata": {},
     "output_type": "execute_result"
    }
   ],
   "source": [
    "# converting back to UTC\n",
    "(pd.to_datetime(nano_secs, unit='ns')\n",
    " .dt.tz_localize('UTC'))\n"
   ]
  },
  {
   "cell_type": "code",
   "execution_count": 45,
   "id": "3dac2aee",
   "metadata": {},
   "outputs": [
    {
     "data": {
      "text/plain": [
       "0    1970-01-01 00:23:45.801600+00:00\n",
       "1    1970-01-01 00:23:45.803400+00:00\n",
       "2    1970-01-01 00:23:45.805200+00:00\n",
       "3    1970-01-01 00:23:45.807000+00:00\n",
       "4    1970-01-01 00:23:45.808800+00:00\n",
       "5    1970-01-01 00:23:45.801600+00:00\n",
       "6    1970-01-01 00:23:45.803400+00:00\n",
       "7    1970-01-01 00:23:45.805200+00:00\n",
       "8    1970-01-01 00:23:45.807000+00:00\n",
       "9    1970-01-01 00:24:06.359400+00:00\n",
       "10   1970-01-01 00:24:06.361200+00:00\n",
       "11   1970-01-01 00:24:06.363000+00:00\n",
       "12   1970-01-01 00:24:06.364800+00:00\n",
       "13   1970-01-01 00:24:06.366600+00:00\n",
       "14   1970-01-01 00:24:06.364800+00:00\n",
       "15   1970-01-01 00:24:06.366600+00:00\n",
       "16   1970-01-01 00:24:06.368400+00:00\n",
       "17   1970-01-01 00:24:06.370200+00:00\n",
       "18   1970-01-01 00:24:06.372000+00:00\n",
       "dtype: datetime64[ns, UTC]"
      ]
     },
     "execution_count": 45,
     "metadata": {},
     "output_type": "execute_result"
    }
   ],
   "source": [
    "# nano seconds (ns) is the wrong unit\n",
    "(nano_secs\n",
    " .truediv(1_000_000)\n",
    " .pipe(pd.to_datetime, unit='ns')\n",
    " .dt.tz_localize('UTC'))"
   ]
  },
  {
   "cell_type": "code",
   "execution_count": 47,
   "id": "20ce8922",
   "metadata": {},
   "outputs": [
    {
     "data": {
      "text/plain": [
       "0    2015-03-08 08:00:00+00:00\n",
       "1    2015-03-08 08:30:00+00:00\n",
       "2    2015-03-08 09:00:00+00:00\n",
       "3    2015-03-08 09:30:00+00:00\n",
       "4    2015-03-08 10:00:00+00:00\n",
       "5    2015-03-08 08:00:00+00:00\n",
       "6    2015-03-08 08:30:00+00:00\n",
       "7    2015-03-08 09:00:00+00:00\n",
       "8    2015-03-08 09:30:00+00:00\n",
       "9    2015-11-01 06:30:00+00:00\n",
       "10   2015-11-01 07:00:00+00:00\n",
       "11   2015-11-01 07:30:00+00:00\n",
       "12   2015-11-01 08:00:00+00:00\n",
       "13   2015-11-01 08:30:00+00:00\n",
       "14   2015-11-01 08:00:00+00:00\n",
       "15   2015-11-01 08:30:00+00:00\n",
       "16   2015-11-01 09:00:00+00:00\n",
       "17   2015-11-01 09:30:00+00:00\n",
       "18   2015-11-01 10:00:00+00:00\n",
       "dtype: datetime64[ns, UTC]"
      ]
     },
     "execution_count": 47,
     "metadata": {},
     "output_type": "execute_result"
    }
   ],
   "source": [
    "# microseconds (ms) is the right unit\n",
    "\n",
    "(nano_secs\n",
    " .truediv(1_000_000)\n",
    " .pipe(pd.to_datetime, unit='ms')\n",
    " .dt.tz_localize('UTC'))"
   ]
  },
  {
   "cell_type": "code",
   "execution_count": 52,
   "id": "69f62588",
   "metadata": {},
   "outputs": [
    {
     "data": {
      "text/html": [
       "<div>\n",
       "<style scoped>\n",
       "    .dataframe tbody tr th:only-of-type {\n",
       "        vertical-align: middle;\n",
       "    }\n",
       "\n",
       "    .dataframe tbody tr th {\n",
       "        vertical-align: top;\n",
       "    }\n",
       "\n",
       "    .dataframe thead th {\n",
       "        text-align: right;\n",
       "    }\n",
       "</style>\n",
       "<table border=\"1\" class=\"dataframe\">\n",
       "  <thead>\n",
       "    <tr style=\"text-align: right;\">\n",
       "      <th></th>\n",
       "      <th>STATION</th>\n",
       "      <th>NAME</th>\n",
       "      <th>LATITUDE</th>\n",
       "      <th>LONGITUDE</th>\n",
       "      <th>ELEVATION</th>\n",
       "      <th>DATE</th>\n",
       "      <th>DAPR</th>\n",
       "      <th>DASF</th>\n",
       "      <th>MDPR</th>\n",
       "      <th>MDSF</th>\n",
       "      <th>...</th>\n",
       "      <th>SNWD</th>\n",
       "      <th>TMAX</th>\n",
       "      <th>TMIN</th>\n",
       "      <th>TOBS</th>\n",
       "      <th>WT01</th>\n",
       "      <th>WT03</th>\n",
       "      <th>WT04</th>\n",
       "      <th>WT05</th>\n",
       "      <th>WT06</th>\n",
       "      <th>WT11</th>\n",
       "    </tr>\n",
       "  </thead>\n",
       "  <tbody>\n",
       "    <tr>\n",
       "      <th>0</th>\n",
       "      <td>USC00420072</td>\n",
       "      <td>ALTA, UT US</td>\n",
       "      <td>40.5905</td>\n",
       "      <td>-111.6369</td>\n",
       "      <td>2660.9</td>\n",
       "      <td>1980-01-01</td>\n",
       "      <td>NaN</td>\n",
       "      <td>NaN</td>\n",
       "      <td>NaN</td>\n",
       "      <td>NaN</td>\n",
       "      <td>...</td>\n",
       "      <td>29.0</td>\n",
       "      <td>38.0</td>\n",
       "      <td>25.0</td>\n",
       "      <td>25.0</td>\n",
       "      <td>NaN</td>\n",
       "      <td>NaN</td>\n",
       "      <td>NaN</td>\n",
       "      <td>NaN</td>\n",
       "      <td>NaN</td>\n",
       "      <td>NaN</td>\n",
       "    </tr>\n",
       "    <tr>\n",
       "      <th>1</th>\n",
       "      <td>USC00420072</td>\n",
       "      <td>ALTA, UT US</td>\n",
       "      <td>40.5905</td>\n",
       "      <td>-111.6369</td>\n",
       "      <td>2660.9</td>\n",
       "      <td>1980-01-02</td>\n",
       "      <td>NaN</td>\n",
       "      <td>NaN</td>\n",
       "      <td>NaN</td>\n",
       "      <td>NaN</td>\n",
       "      <td>...</td>\n",
       "      <td>34.0</td>\n",
       "      <td>27.0</td>\n",
       "      <td>18.0</td>\n",
       "      <td>18.0</td>\n",
       "      <td>NaN</td>\n",
       "      <td>NaN</td>\n",
       "      <td>NaN</td>\n",
       "      <td>NaN</td>\n",
       "      <td>NaN</td>\n",
       "      <td>NaN</td>\n",
       "    </tr>\n",
       "    <tr>\n",
       "      <th>2</th>\n",
       "      <td>USC00420072</td>\n",
       "      <td>ALTA, UT US</td>\n",
       "      <td>40.5905</td>\n",
       "      <td>-111.6369</td>\n",
       "      <td>2660.9</td>\n",
       "      <td>1980-01-03</td>\n",
       "      <td>NaN</td>\n",
       "      <td>NaN</td>\n",
       "      <td>NaN</td>\n",
       "      <td>NaN</td>\n",
       "      <td>...</td>\n",
       "      <td>30.0</td>\n",
       "      <td>27.0</td>\n",
       "      <td>12.0</td>\n",
       "      <td>18.0</td>\n",
       "      <td>NaN</td>\n",
       "      <td>NaN</td>\n",
       "      <td>NaN</td>\n",
       "      <td>NaN</td>\n",
       "      <td>NaN</td>\n",
       "      <td>NaN</td>\n",
       "    </tr>\n",
       "    <tr>\n",
       "      <th>3</th>\n",
       "      <td>USC00420072</td>\n",
       "      <td>ALTA, UT US</td>\n",
       "      <td>40.5905</td>\n",
       "      <td>-111.6369</td>\n",
       "      <td>2660.9</td>\n",
       "      <td>1980-01-04</td>\n",
       "      <td>NaN</td>\n",
       "      <td>NaN</td>\n",
       "      <td>NaN</td>\n",
       "      <td>NaN</td>\n",
       "      <td>...</td>\n",
       "      <td>30.0</td>\n",
       "      <td>31.0</td>\n",
       "      <td>18.0</td>\n",
       "      <td>27.0</td>\n",
       "      <td>NaN</td>\n",
       "      <td>NaN</td>\n",
       "      <td>NaN</td>\n",
       "      <td>NaN</td>\n",
       "      <td>NaN</td>\n",
       "      <td>NaN</td>\n",
       "    </tr>\n",
       "    <tr>\n",
       "      <th>4</th>\n",
       "      <td>USC00420072</td>\n",
       "      <td>ALTA, UT US</td>\n",
       "      <td>40.5905</td>\n",
       "      <td>-111.6369</td>\n",
       "      <td>2660.9</td>\n",
       "      <td>1980-01-05</td>\n",
       "      <td>NaN</td>\n",
       "      <td>NaN</td>\n",
       "      <td>NaN</td>\n",
       "      <td>NaN</td>\n",
       "      <td>...</td>\n",
       "      <td>30.0</td>\n",
       "      <td>34.0</td>\n",
       "      <td>26.0</td>\n",
       "      <td>34.0</td>\n",
       "      <td>NaN</td>\n",
       "      <td>NaN</td>\n",
       "      <td>NaN</td>\n",
       "      <td>NaN</td>\n",
       "      <td>NaN</td>\n",
       "      <td>NaN</td>\n",
       "    </tr>\n",
       "    <tr>\n",
       "      <th>...</th>\n",
       "      <td>...</td>\n",
       "      <td>...</td>\n",
       "      <td>...</td>\n",
       "      <td>...</td>\n",
       "      <td>...</td>\n",
       "      <td>...</td>\n",
       "      <td>...</td>\n",
       "      <td>...</td>\n",
       "      <td>...</td>\n",
       "      <td>...</td>\n",
       "      <td>...</td>\n",
       "      <td>...</td>\n",
       "      <td>...</td>\n",
       "      <td>...</td>\n",
       "      <td>...</td>\n",
       "      <td>...</td>\n",
       "      <td>...</td>\n",
       "      <td>...</td>\n",
       "      <td>...</td>\n",
       "      <td>...</td>\n",
       "      <td>...</td>\n",
       "    </tr>\n",
       "    <tr>\n",
       "      <th>14155</th>\n",
       "      <td>USC00420072</td>\n",
       "      <td>ALTA, UT US</td>\n",
       "      <td>40.5905</td>\n",
       "      <td>-111.6369</td>\n",
       "      <td>2660.9</td>\n",
       "      <td>2019-09-03</td>\n",
       "      <td>NaN</td>\n",
       "      <td>NaN</td>\n",
       "      <td>NaN</td>\n",
       "      <td>NaN</td>\n",
       "      <td>...</td>\n",
       "      <td>0.0</td>\n",
       "      <td>74.0</td>\n",
       "      <td>57.0</td>\n",
       "      <td>73.0</td>\n",
       "      <td>NaN</td>\n",
       "      <td>NaN</td>\n",
       "      <td>NaN</td>\n",
       "      <td>NaN</td>\n",
       "      <td>NaN</td>\n",
       "      <td>NaN</td>\n",
       "    </tr>\n",
       "    <tr>\n",
       "      <th>14156</th>\n",
       "      <td>USC00420072</td>\n",
       "      <td>ALTA, UT US</td>\n",
       "      <td>40.5905</td>\n",
       "      <td>-111.6369</td>\n",
       "      <td>2660.9</td>\n",
       "      <td>2019-09-04</td>\n",
       "      <td>NaN</td>\n",
       "      <td>NaN</td>\n",
       "      <td>NaN</td>\n",
       "      <td>NaN</td>\n",
       "      <td>...</td>\n",
       "      <td>0.0</td>\n",
       "      <td>77.0</td>\n",
       "      <td>52.0</td>\n",
       "      <td>74.0</td>\n",
       "      <td>NaN</td>\n",
       "      <td>NaN</td>\n",
       "      <td>NaN</td>\n",
       "      <td>NaN</td>\n",
       "      <td>NaN</td>\n",
       "      <td>NaN</td>\n",
       "    </tr>\n",
       "    <tr>\n",
       "      <th>14157</th>\n",
       "      <td>USC00420072</td>\n",
       "      <td>ALTA, UT US</td>\n",
       "      <td>40.5905</td>\n",
       "      <td>-111.6369</td>\n",
       "      <td>2660.9</td>\n",
       "      <td>2019-09-05</td>\n",
       "      <td>NaN</td>\n",
       "      <td>NaN</td>\n",
       "      <td>NaN</td>\n",
       "      <td>NaN</td>\n",
       "      <td>...</td>\n",
       "      <td>0.0</td>\n",
       "      <td>76.0</td>\n",
       "      <td>54.0</td>\n",
       "      <td>65.0</td>\n",
       "      <td>NaN</td>\n",
       "      <td>NaN</td>\n",
       "      <td>NaN</td>\n",
       "      <td>NaN</td>\n",
       "      <td>NaN</td>\n",
       "      <td>NaN</td>\n",
       "    </tr>\n",
       "    <tr>\n",
       "      <th>14158</th>\n",
       "      <td>USC00420072</td>\n",
       "      <td>ALTA, UT US</td>\n",
       "      <td>40.5905</td>\n",
       "      <td>-111.6369</td>\n",
       "      <td>2660.9</td>\n",
       "      <td>2019-09-06</td>\n",
       "      <td>NaN</td>\n",
       "      <td>NaN</td>\n",
       "      <td>NaN</td>\n",
       "      <td>NaN</td>\n",
       "      <td>...</td>\n",
       "      <td>0.0</td>\n",
       "      <td>66.0</td>\n",
       "      <td>52.0</td>\n",
       "      <td>60.0</td>\n",
       "      <td>NaN</td>\n",
       "      <td>NaN</td>\n",
       "      <td>NaN</td>\n",
       "      <td>NaN</td>\n",
       "      <td>NaN</td>\n",
       "      <td>NaN</td>\n",
       "    </tr>\n",
       "    <tr>\n",
       "      <th>14159</th>\n",
       "      <td>USC00420072</td>\n",
       "      <td>ALTA, UT US</td>\n",
       "      <td>40.5905</td>\n",
       "      <td>-111.6369</td>\n",
       "      <td>2660.9</td>\n",
       "      <td>2019-09-07</td>\n",
       "      <td>NaN</td>\n",
       "      <td>NaN</td>\n",
       "      <td>NaN</td>\n",
       "      <td>NaN</td>\n",
       "      <td>...</td>\n",
       "      <td>0.0</td>\n",
       "      <td>68.0</td>\n",
       "      <td>45.0</td>\n",
       "      <td>64.0</td>\n",
       "      <td>NaN</td>\n",
       "      <td>NaN</td>\n",
       "      <td>NaN</td>\n",
       "      <td>NaN</td>\n",
       "      <td>NaN</td>\n",
       "      <td>NaN</td>\n",
       "    </tr>\n",
       "  </tbody>\n",
       "</table>\n",
       "<p>14160 rows × 22 columns</p>\n",
       "</div>"
      ],
      "text/plain": [
       "           STATION         NAME  LATITUDE  LONGITUDE  ELEVATION        DATE  \\\n",
       "0      USC00420072  ALTA, UT US   40.5905  -111.6369     2660.9  1980-01-01   \n",
       "1      USC00420072  ALTA, UT US   40.5905  -111.6369     2660.9  1980-01-02   \n",
       "2      USC00420072  ALTA, UT US   40.5905  -111.6369     2660.9  1980-01-03   \n",
       "3      USC00420072  ALTA, UT US   40.5905  -111.6369     2660.9  1980-01-04   \n",
       "4      USC00420072  ALTA, UT US   40.5905  -111.6369     2660.9  1980-01-05   \n",
       "...            ...          ...       ...        ...        ...         ...   \n",
       "14155  USC00420072  ALTA, UT US   40.5905  -111.6369     2660.9  2019-09-03   \n",
       "14156  USC00420072  ALTA, UT US   40.5905  -111.6369     2660.9  2019-09-04   \n",
       "14157  USC00420072  ALTA, UT US   40.5905  -111.6369     2660.9  2019-09-05   \n",
       "14158  USC00420072  ALTA, UT US   40.5905  -111.6369     2660.9  2019-09-06   \n",
       "14159  USC00420072  ALTA, UT US   40.5905  -111.6369     2660.9  2019-09-07   \n",
       "\n",
       "       DAPR  DASF  MDPR  MDSF  ...  SNWD  TMAX  TMIN  TOBS  WT01  WT03  WT04  \\\n",
       "0       NaN   NaN   NaN   NaN  ...  29.0  38.0  25.0  25.0   NaN   NaN   NaN   \n",
       "1       NaN   NaN   NaN   NaN  ...  34.0  27.0  18.0  18.0   NaN   NaN   NaN   \n",
       "2       NaN   NaN   NaN   NaN  ...  30.0  27.0  12.0  18.0   NaN   NaN   NaN   \n",
       "3       NaN   NaN   NaN   NaN  ...  30.0  31.0  18.0  27.0   NaN   NaN   NaN   \n",
       "4       NaN   NaN   NaN   NaN  ...  30.0  34.0  26.0  34.0   NaN   NaN   NaN   \n",
       "...     ...   ...   ...   ...  ...   ...   ...   ...   ...   ...   ...   ...   \n",
       "14155   NaN   NaN   NaN   NaN  ...   0.0  74.0  57.0  73.0   NaN   NaN   NaN   \n",
       "14156   NaN   NaN   NaN   NaN  ...   0.0  77.0  52.0  74.0   NaN   NaN   NaN   \n",
       "14157   NaN   NaN   NaN   NaN  ...   0.0  76.0  54.0  65.0   NaN   NaN   NaN   \n",
       "14158   NaN   NaN   NaN   NaN  ...   0.0  66.0  52.0  60.0   NaN   NaN   NaN   \n",
       "14159   NaN   NaN   NaN   NaN  ...   0.0  68.0  45.0  64.0   NaN   NaN   NaN   \n",
       "\n",
       "       WT05  WT06  WT11  \n",
       "0       NaN   NaN   NaN  \n",
       "1       NaN   NaN   NaN  \n",
       "2       NaN   NaN   NaN  \n",
       "3       NaN   NaN   NaN  \n",
       "4       NaN   NaN   NaN  \n",
       "...     ...   ...   ...  \n",
       "14155   NaN   NaN   NaN  \n",
       "14156   NaN   NaN   NaN  \n",
       "14157   NaN   NaN   NaN  \n",
       "14158   NaN   NaN   NaN  \n",
       "14159   NaN   NaN   NaN  \n",
       "\n",
       "[14160 rows x 22 columns]"
      ]
     },
     "execution_count": 52,
     "metadata": {},
     "output_type": "execute_result"
    }
   ],
   "source": [
    "url = 'https://github.com/mattharrison/datasets/raw/master/data/alta-noaa-1980-2019.csv'\n",
    "alta_df = pd.read_csv(url)\n",
    "alta_df"
   ]
  },
  {
   "cell_type": "code",
   "execution_count": 53,
   "id": "7649909d",
   "metadata": {},
   "outputs": [
    {
     "data": {
      "text/plain": [
       "0        1980-01-01 00:00:00\n",
       "1        1980-01-02 00:00:00\n",
       "2        1980-01-03 00:00:00\n",
       "3        1980-01-04 00:00:00\n",
       "4        1980-01-05 00:00:00\n",
       "                ...         \n",
       "14155    2019-09-03 00:00:00\n",
       "14156    2019-09-04 00:00:00\n",
       "14157    2019-09-05 00:00:00\n",
       "14158    2019-09-06 00:00:00\n",
       "14159    2019-09-07 00:00:00\n",
       "Name: DATE, Length: 14160, dtype: timestamp[ns][pyarrow]"
      ]
     },
     "execution_count": 53,
     "metadata": {},
     "output_type": "execute_result"
    }
   ],
   "source": [
    "dates = (pd.to_datetime(alta_df.DATE)\n",
    "         .astype('timestamp[ns][pyarrow]'))\n",
    "dates"
   ]
  },
  {
   "cell_type": "code",
   "execution_count": 54,
   "id": "fab9302e",
   "metadata": {},
   "outputs": [
    {
     "data": {
      "text/plain": [
       "0           martes\n",
       "1        miércoles\n",
       "2           jueves\n",
       "3          viernes\n",
       "4           sábado\n",
       "           ...    \n",
       "14155       martes\n",
       "14156    miércoles\n",
       "14157       jueves\n",
       "14158      viernes\n",
       "14159       sábado\n",
       "Name: DATE, Length: 14160, dtype: string[pyarrow]"
      ]
     },
     "execution_count": 54,
     "metadata": {},
     "output_type": "execute_result"
    }
   ],
   "source": [
    "dates.dt.day_name('es_ES')"
   ]
  },
  {
   "cell_type": "code",
   "execution_count": 55,
   "id": "2f7d8063",
   "metadata": {},
   "outputs": [
    {
     "data": {
      "text/plain": [
       "0        False\n",
       "1        False\n",
       "2        False\n",
       "3        False\n",
       "4        False\n",
       "         ...  \n",
       "14155    False\n",
       "14156    False\n",
       "14157    False\n",
       "14158    False\n",
       "14159    False\n",
       "Name: DATE, Length: 14160, dtype: bool[pyarrow]"
      ]
     },
     "execution_count": 55,
     "metadata": {},
     "output_type": "execute_result"
    }
   ],
   "source": [
    "dates.dt.is_month_end"
   ]
  },
  {
   "cell_type": "code",
   "execution_count": 56,
   "id": "852471b2",
   "metadata": {},
   "outputs": [
    {
     "data": {
      "text/plain": [
       "0        01/01/80\n",
       "1        02/01/80\n",
       "2        03/01/80\n",
       "3        04/01/80\n",
       "4        05/01/80\n",
       "           ...   \n",
       "14155    03/09/19\n",
       "14156    04/09/19\n",
       "14157    05/09/19\n",
       "14158    06/09/19\n",
       "14159    07/09/19\n",
       "Name: DATE, Length: 14160, dtype: string[pyarrow]"
      ]
     },
     "execution_count": 56,
     "metadata": {},
     "output_type": "execute_result"
    }
   ],
   "source": [
    "dates.dt.strftime('%d/%m/%y')"
   ]
  },
  {
   "cell_type": "code",
   "execution_count": 59,
   "id": "95a7bb2b",
   "metadata": {},
   "outputs": [
    {
     "data": {
      "text/plain": [
       "cs106      2015-03-08 00:00:00\n",
       "cs150      2015-03-08 00:00:00\n",
       "hist205    2015-03-09 00:00:00\n",
       "hist206    2015-03-09 00:00:00\n",
       "hist207    2015-03-11 00:00:00\n",
       "dtype: timestamp[ns][pyarrow]"
      ]
     },
     "execution_count": 59,
     "metadata": {},
     "output_type": "execute_result"
    }
   ],
   "source": [
    "classes = ['cs106', 'cs150', 'hist205', 'hist206', 'hist207']\n",
    "start_dates = (pd.Series(['2015-03-08','2015-03-08','2015-03-09','2015-03-09','2015-03-11'],\n",
    "                          dtype='datetime64[ns]', index=classes)\n",
    "                          .astype('timestamp[ns][pyarrow]'))\n",
    "start_dates"
   ]
  },
  {
   "cell_type": "code",
   "execution_count": 69,
   "id": "87c05a28",
   "metadata": {},
   "outputs": [
    {
     "data": {
      "text/plain": [
       "cs106      2015-05-28 23:59:59\n",
       "cs150      2015-06-01 03:00:00\n",
       "hist205    2015-06-03 00:00:00\n",
       "hist206    2015-06-02 14:20:00\n",
       "hist207    2015-06-01 00:00:00\n",
       "dtype: timestamp[ns][pyarrow]"
      ]
     },
     "execution_count": 69,
     "metadata": {},
     "output_type": "execute_result"
    }
   ],
   "source": [
    "classes = ['cs106', 'cs150', 'hist205', 'hist206', 'hist207']\n",
    "end_dates = (pd.Series(['2015-05-28 23:59:59',\n",
    "                        '2015-06-01 3:00:00',\n",
    "                        '2015-06-03',\n",
    "                        '2015-06-02 14:20',\n",
    "                        '2015-06-01'],\n",
    "                       dtype='datetime64[ns]', index=classes)\n",
    "                       .astype('timestamp[ns][pyarrow]'))\n",
    "\n",
    "end_dates\n"
   ]
  },
  {
   "cell_type": "code",
   "execution_count": 71,
   "id": "2e2ad886",
   "metadata": {},
   "outputs": [
    {
     "data": {
      "text/plain": [
       "cs106      81 days 23:59:59\n",
       "cs150      85 days 03:00:00\n",
       "hist205    86 days 00:00:00\n",
       "hist206    85 days 14:20:00\n",
       "hist207    82 days 00:00:00\n",
       "dtype: duration[ns][pyarrow]"
      ]
     },
     "execution_count": 71,
     "metadata": {},
     "output_type": "execute_result"
    }
   ],
   "source": [
    "duration = (end_dates - start_dates)\n",
    "duration"
   ]
  },
  {
   "cell_type": "code",
   "execution_count": 73,
   "id": "fc20d27d",
   "metadata": {},
   "outputs": [
    {
     "data": {
      "text/plain": [
       "cs106      81 days 23:59:59\n",
       "cs150      85 days 03:00:00\n",
       "hist205    86 days 00:00:00\n",
       "hist206    85 days 14:20:00\n",
       "hist207    82 days 00:00:00\n",
       "dtype: duration[ns][pyarrow]"
      ]
     },
     "execution_count": 73,
     "metadata": {},
     "output_type": "execute_result"
    }
   ],
   "source": [
    "duration.astype('timedelta64[ns]')\n",
    "duration"
   ]
  },
  {
   "cell_type": "code",
   "execution_count": 74,
   "id": "a8312bb3",
   "metadata": {},
   "outputs": [
    {
     "data": {
      "text/plain": [
       "cs106      7084799.0\n",
       "cs150      7354800.0\n",
       "hist205    7430400.0\n",
       "hist206    7395600.0\n",
       "hist207    7084800.0\n",
       "dtype: float64"
      ]
     },
     "execution_count": 74,
     "metadata": {},
     "output_type": "execute_result"
    }
   ],
   "source": [
    "(duration\n",
    " .astype('timedelta64[ns]')\n",
    " .dt.total_seconds()\n",
    " )"
   ]
  },
  {
   "cell_type": "code",
   "execution_count": 75,
   "id": "103df04d",
   "metadata": {},
   "outputs": [
    {
     "data": {
      "text/plain": [
       "cs106      86399\n",
       "cs150      10800\n",
       "hist205        0\n",
       "hist206    51600\n",
       "hist207        0\n",
       "dtype: int32"
      ]
     },
     "execution_count": 75,
     "metadata": {},
     "output_type": "execute_result"
    }
   ],
   "source": [
    "(duration\n",
    " .astype('timedelta64[ns]')\n",
    " .dt.seconds)"
   ]
  },
  {
   "cell_type": "code",
   "execution_count": 79,
   "id": "c8b50b6c",
   "metadata": {},
   "outputs": [
    {
     "data": {
      "text/plain": [
       "cs106      81\n",
       "cs150      85\n",
       "hist205    86\n",
       "hist206    85\n",
       "hist207    82\n",
       "dtype: int64"
      ]
     },
     "execution_count": 79,
     "metadata": {},
     "output_type": "execute_result"
    }
   ],
   "source": [
    "(duration\n",
    " .astype('timedelta64[ns]')\n",
    " .dt.days)"
   ]
  },
  {
   "cell_type": "code",
   "execution_count": 80,
   "id": "47346fdf",
   "metadata": {},
   "outputs": [],
   "source": [
    "# Exercises"
   ]
  },
  {
   "cell_type": "code",
   "execution_count": 96,
   "id": "c92b56fd",
   "metadata": {},
   "outputs": [],
   "source": [
    "# Convert a column with date information to a date\n",
    "url = 'https://github.com/mattharrison/datasets/raw/master/data/alta-noaa-1980-2019.csv'\n",
    "alta_df = pd.read_csv(url)\n",
    "\n",
    "dates = (pd.to_datetime(alta_df.DATE)\n",
    " .astype('datetime64[ns]'))"
   ]
  },
  {
   "cell_type": "code",
   "execution_count": 107,
   "id": "357b6daa",
   "metadata": {},
   "outputs": [
    {
     "ename": "TypeError",
     "evalue": "Cannot convert tz-naive timestamps, use tz_localize to localize",
     "output_type": "error",
     "traceback": [
      "\u001b[0;31m---------------------------------------------------------------------------\u001b[0m",
      "\u001b[0;31mTypeError\u001b[0m                                 Traceback (most recent call last)",
      "Cell \u001b[0;32mIn[107], line 3\u001b[0m\n\u001b[1;32m      1\u001b[0m \u001b[38;5;66;03m# Convert a date column into UTC dates\u001b[39;00m\n\u001b[0;32m----> 3\u001b[0m dates_conv \u001b[38;5;241m=\u001b[39m (dates\u001b[38;5;241m.\u001b[39mdt\u001b[38;5;241m.\u001b[39mtz_convert(\u001b[38;5;124m\"\u001b[39m\u001b[38;5;124mAmerica/Denver\u001b[39m\u001b[38;5;124m\"\u001b[39m))\n\u001b[1;32m      4\u001b[0m dates_conv\n",
      "File \u001b[0;32m/opt/anaconda3/lib/python3.12/site-packages/pandas/core/accessor.py:112\u001b[0m, in \u001b[0;36mPandasDelegate._add_delegate_accessors.<locals>._create_delegator_method.<locals>.f\u001b[0;34m(self, *args, **kwargs)\u001b[0m\n\u001b[1;32m    111\u001b[0m \u001b[38;5;28;01mdef\u001b[39;00m \u001b[38;5;21mf\u001b[39m(\u001b[38;5;28mself\u001b[39m, \u001b[38;5;241m*\u001b[39margs, \u001b[38;5;241m*\u001b[39m\u001b[38;5;241m*\u001b[39mkwargs):\n\u001b[0;32m--> 112\u001b[0m     \u001b[38;5;28;01mreturn\u001b[39;00m \u001b[38;5;28mself\u001b[39m\u001b[38;5;241m.\u001b[39m_delegate_method(name, \u001b[38;5;241m*\u001b[39margs, \u001b[38;5;241m*\u001b[39m\u001b[38;5;241m*\u001b[39mkwargs)\n",
      "File \u001b[0;32m/opt/anaconda3/lib/python3.12/site-packages/pandas/core/indexes/accessors.py:132\u001b[0m, in \u001b[0;36mProperties._delegate_method\u001b[0;34m(self, name, *args, **kwargs)\u001b[0m\n\u001b[1;32m    129\u001b[0m values \u001b[38;5;241m=\u001b[39m \u001b[38;5;28mself\u001b[39m\u001b[38;5;241m.\u001b[39m_get_values()\n\u001b[1;32m    131\u001b[0m method \u001b[38;5;241m=\u001b[39m \u001b[38;5;28mgetattr\u001b[39m(values, name)\n\u001b[0;32m--> 132\u001b[0m result \u001b[38;5;241m=\u001b[39m method(\u001b[38;5;241m*\u001b[39margs, \u001b[38;5;241m*\u001b[39m\u001b[38;5;241m*\u001b[39mkwargs)\n\u001b[1;32m    134\u001b[0m \u001b[38;5;28;01mif\u001b[39;00m \u001b[38;5;129;01mnot\u001b[39;00m is_list_like(result):\n\u001b[1;32m    135\u001b[0m     \u001b[38;5;28;01mreturn\u001b[39;00m result\n",
      "File \u001b[0;32m/opt/anaconda3/lib/python3.12/site-packages/pandas/core/indexes/datetimes.py:283\u001b[0m, in \u001b[0;36mDatetimeIndex.tz_convert\u001b[0;34m(self, tz)\u001b[0m\n\u001b[1;32m    281\u001b[0m \u001b[38;5;129m@doc\u001b[39m(DatetimeArray\u001b[38;5;241m.\u001b[39mtz_convert)\n\u001b[1;32m    282\u001b[0m \u001b[38;5;28;01mdef\u001b[39;00m \u001b[38;5;21mtz_convert\u001b[39m(\u001b[38;5;28mself\u001b[39m, tz) \u001b[38;5;241m-\u001b[39m\u001b[38;5;241m>\u001b[39m Self:\n\u001b[0;32m--> 283\u001b[0m     arr \u001b[38;5;241m=\u001b[39m \u001b[38;5;28mself\u001b[39m\u001b[38;5;241m.\u001b[39m_data\u001b[38;5;241m.\u001b[39mtz_convert(tz)\n\u001b[1;32m    284\u001b[0m     \u001b[38;5;28;01mreturn\u001b[39;00m \u001b[38;5;28mtype\u001b[39m(\u001b[38;5;28mself\u001b[39m)\u001b[38;5;241m.\u001b[39m_simple_new(arr, name\u001b[38;5;241m=\u001b[39m\u001b[38;5;28mself\u001b[39m\u001b[38;5;241m.\u001b[39mname, refs\u001b[38;5;241m=\u001b[39m\u001b[38;5;28mself\u001b[39m\u001b[38;5;241m.\u001b[39m_references)\n",
      "File \u001b[0;32m/opt/anaconda3/lib/python3.12/site-packages/pandas/core/arrays/datetimes.py:915\u001b[0m, in \u001b[0;36mDatetimeArray.tz_convert\u001b[0;34m(self, tz)\u001b[0m\n\u001b[1;32m    911\u001b[0m tz \u001b[38;5;241m=\u001b[39m timezones\u001b[38;5;241m.\u001b[39mmaybe_get_tz(tz)\n\u001b[1;32m    913\u001b[0m \u001b[38;5;28;01mif\u001b[39;00m \u001b[38;5;28mself\u001b[39m\u001b[38;5;241m.\u001b[39mtz \u001b[38;5;129;01mis\u001b[39;00m \u001b[38;5;28;01mNone\u001b[39;00m:\n\u001b[1;32m    914\u001b[0m     \u001b[38;5;66;03m# tz naive, use tz_localize\u001b[39;00m\n\u001b[0;32m--> 915\u001b[0m     \u001b[38;5;28;01mraise\u001b[39;00m \u001b[38;5;167;01mTypeError\u001b[39;00m(\n\u001b[1;32m    916\u001b[0m         \u001b[38;5;124m\"\u001b[39m\u001b[38;5;124mCannot convert tz-naive timestamps, use tz_localize to localize\u001b[39m\u001b[38;5;124m\"\u001b[39m\n\u001b[1;32m    917\u001b[0m     )\n\u001b[1;32m    919\u001b[0m \u001b[38;5;66;03m# No conversion since timestamps are all UTC to begin with\u001b[39;00m\n\u001b[1;32m    920\u001b[0m dtype \u001b[38;5;241m=\u001b[39m tz_to_dtype(tz, unit\u001b[38;5;241m=\u001b[39m\u001b[38;5;28mself\u001b[39m\u001b[38;5;241m.\u001b[39munit)\n",
      "\u001b[0;31mTypeError\u001b[0m: Cannot convert tz-naive timestamps, use tz_localize to localize"
     ]
    }
   ],
   "source": [
    "# Convert a date column into UTC dates\n",
    "\n",
    "dates_conv = (dates.dt.tz_convert(\"America/Denver\"))\n",
    "dates_conv"
   ]
  },
  {
   "cell_type": "code",
   "execution_count": 123,
   "id": "a0d804e6",
   "metadata": {},
   "outputs": [
    {
     "data": {
      "text/plain": [
       "0       1980-01-01 07:00:00+00:00\n",
       "1       1980-01-02 07:00:00+00:00\n",
       "2       1980-01-03 07:00:00+00:00\n",
       "3       1980-01-04 07:00:00+00:00\n",
       "4       1980-01-05 07:00:00+00:00\n",
       "                   ...           \n",
       "14155   2019-09-03 06:00:00+00:00\n",
       "14156   2019-09-04 06:00:00+00:00\n",
       "14157   2019-09-05 06:00:00+00:00\n",
       "14158   2019-09-06 06:00:00+00:00\n",
       "14159   2019-09-07 06:00:00+00:00\n",
       "Name: DATE, Length: 14160, dtype: datetime64[ns, UTC]"
      ]
     },
     "execution_count": 123,
     "metadata": {},
     "output_type": "execute_result"
    }
   ],
   "source": [
    "# Convert a date column into local dates with a timezone\n",
    "\n",
    "dates_local = (dates_conv.dt.tz_convert('UTC'))\n",
    "dates_local"
   ]
  },
  {
   "cell_type": "code",
   "execution_count": 127,
   "id": "003512a5",
   "metadata": {},
   "outputs": [
    {
     "data": {
      "text/plain": [
       "0         315558000000000000\n",
       "1         315644400000000000\n",
       "2         315730800000000000\n",
       "3         315817200000000000\n",
       "4         315903600000000000\n",
       "                ...         \n",
       "14155    1567490400000000000\n",
       "14156    1567576800000000000\n",
       "14157    1567663200000000000\n",
       "14158    1567749600000000000\n",
       "14159    1567836000000000000\n",
       "Name: DATE, Length: 14160, dtype: int64[pyarrow]"
      ]
     },
     "execution_count": 127,
     "metadata": {},
     "output_type": "execute_result"
    }
   ],
   "source": [
    "# Convert a date column into epoch values\n",
    "\n",
    "dates_epoch = dates_conv.astype('int64[pyarrow]')\n",
    "dates_epoch"
   ]
  },
  {
   "cell_type": "code",
   "execution_count": 130,
   "id": "f2b94e38",
   "metadata": {},
   "outputs": [
    {
     "data": {
      "text/plain": [
       "0       1980-01-01 07:00:00\n",
       "1       1980-01-02 07:00:00\n",
       "2       1980-01-03 07:00:00\n",
       "3       1980-01-04 07:00:00\n",
       "4       1980-01-05 07:00:00\n",
       "                ...        \n",
       "14155   2019-09-03 06:00:00\n",
       "14156   2019-09-04 06:00:00\n",
       "14157   2019-09-05 06:00:00\n",
       "14158   2019-09-06 06:00:00\n",
       "14159   2019-09-07 06:00:00\n",
       "Name: DATE, Length: 14160, dtype: datetime64[ns]"
      ]
     },
     "execution_count": 130,
     "metadata": {},
     "output_type": "execute_result"
    }
   ],
   "source": [
    "# Convert an epoch number into UTC\n",
    "\n",
    "dates_UTC = dates_epoch.astype('datetime64[ns]')\n",
    "dates_UTC"
   ]
  },
  {
   "cell_type": "code",
   "execution_count": null,
   "id": "2cea82e4",
   "metadata": {},
   "outputs": [],
   "source": []
  }
 ],
 "metadata": {
  "kernelspec": {
   "display_name": "base",
   "language": "python",
   "name": "python3"
  },
  "language_info": {
   "codemirror_mode": {
    "name": "ipython",
    "version": 3
   },
   "file_extension": ".py",
   "mimetype": "text/x-python",
   "name": "python",
   "nbconvert_exporter": "python",
   "pygments_lexer": "ipython3",
   "version": "3.12.2"
  }
 },
 "nbformat": 4,
 "nbformat_minor": 5
}
