{
 "cells": [
  {
   "cell_type": "code",
   "execution_count": 1,
   "id": "1cb0aff6",
   "metadata": {},
   "outputs": [],
   "source": [
    "import pandas as pd\n",
    "url = \"https://raw.githubusercontent.com/mattharrison/datasets/master/data/alta-noaa-1980-2019.csv\""
   ]
  },
  {
   "cell_type": "code",
   "execution_count": 2,
   "id": "2c343f4c",
   "metadata": {},
   "outputs": [],
   "source": [
    "alta_df = pd.read_csv(url, engine='pyarrow', dtype_backend='pyarrow')\n",
    "dates = pd.to_datetime(alta_df.DATE)"
   ]
  },
  {
   "cell_type": "code",
   "execution_count": 3,
   "id": "7daa119d",
   "metadata": {},
   "outputs": [],
   "source": [
    "snow = (alta_df # take the df you want to work from\n",
    "        .SNOW # .heading that you want to use\n",
    "        .rename(dates))"
   ]
  },
  {
   "cell_type": "code",
   "execution_count": 4,
   "id": "68a72706",
   "metadata": {},
   "outputs": [
    {
     "data": {
      "text/plain": [
       "1980-01-01    2.0\n",
       "1980-01-02    3.0\n",
       "1980-01-03    1.0\n",
       "1980-01-04    0.0\n",
       "1980-01-05    0.0\n",
       "             ... \n",
       "2019-09-03    0.0\n",
       "2019-09-04    0.0\n",
       "2019-09-05    0.0\n",
       "2019-09-06    0.0\n",
       "2019-09-07    0.0\n",
       "Name: SNOW, Length: 14160, dtype: double[pyarrow]"
      ]
     },
     "execution_count": 4,
     "metadata": {},
     "output_type": "execute_result"
    }
   ],
   "source": [
    "snow"
   ]
  },
  {
   "cell_type": "code",
   "execution_count": 5,
   "id": "7aefff6d",
   "metadata": {},
   "outputs": [
    {
     "data": {
      "text/plain": [
       "np.True_"
      ]
     },
     "execution_count": 5,
     "metadata": {},
     "output_type": "execute_result"
    }
   ],
   "source": [
    "snow.isna().any()"
   ]
  },
  {
   "cell_type": "code",
   "execution_count": 6,
   "id": "34fd6780",
   "metadata": {},
   "outputs": [
    {
     "data": {
      "text/plain": [
       "1985-07-30    <NA>\n",
       "1985-09-12    <NA>\n",
       "1985-09-19    <NA>\n",
       "1986-02-07    <NA>\n",
       "1986-06-26    <NA>\n",
       "              ... \n",
       "2017-04-26    <NA>\n",
       "2017-09-20    <NA>\n",
       "2017-10-02    <NA>\n",
       "2017-12-23    <NA>\n",
       "2018-12-03    <NA>\n",
       "Name: SNOW, Length: 365, dtype: double[pyarrow]"
      ]
     },
     "execution_count": 6,
     "metadata": {},
     "output_type": "execute_result"
    }
   ],
   "source": [
    "snow[snow.isna()]"
   ]
  },
  {
   "cell_type": "code",
   "execution_count": 7,
   "id": "c1c552e5",
   "metadata": {},
   "outputs": [
    {
     "data": {
      "text/plain": [
       "1985-09-01     0.0\n",
       "1985-09-02     0.0\n",
       "1985-09-03     0.0\n",
       "1985-09-04     0.0\n",
       "1985-09-05     0.0\n",
       "1985-09-06     0.0\n",
       "1985-09-07     0.0\n",
       "1985-09-08     0.0\n",
       "1985-09-09     0.0\n",
       "1985-09-10     0.0\n",
       "1985-09-11     0.0\n",
       "1985-09-12    <NA>\n",
       "1985-09-13     0.0\n",
       "1985-09-14     0.0\n",
       "1985-09-15     0.0\n",
       "1985-09-16     0.0\n",
       "1985-09-17     0.0\n",
       "1985-09-18     0.0\n",
       "1985-09-19    <NA>\n",
       "1985-09-20     0.0\n",
       "Name: SNOW, dtype: double[pyarrow]"
      ]
     },
     "execution_count": 7,
     "metadata": {},
     "output_type": "execute_result"
    }
   ],
   "source": [
    "snow.loc['1985-09':'1985-09-20']"
   ]
  },
  {
   "cell_type": "code",
   "execution_count": 8,
   "id": "d873a881",
   "metadata": {},
   "outputs": [
    {
     "data": {
      "text/plain": [
       "1985-09-01    0.0\n",
       "1985-09-02    0.0\n",
       "1985-09-03    0.0\n",
       "1985-09-04    0.0\n",
       "1985-09-05    0.0\n",
       "1985-09-06    0.0\n",
       "1985-09-07    0.0\n",
       "1985-09-08    0.0\n",
       "1985-09-09    0.0\n",
       "1985-09-10    0.0\n",
       "1985-09-11    0.0\n",
       "1985-09-12    0.0\n",
       "1985-09-13    0.0\n",
       "1985-09-14    0.0\n",
       "1985-09-15    0.0\n",
       "1985-09-16    0.0\n",
       "1985-09-17    0.0\n",
       "1985-09-18    0.0\n",
       "1985-09-19    0.0\n",
       "1985-09-20    0.0\n",
       "Name: SNOW, dtype: double[pyarrow]"
      ]
     },
     "execution_count": 8,
     "metadata": {},
     "output_type": "execute_result"
    }
   ],
   "source": [
    "(snow\n",
    " .loc['1985-09':'1985-09-20']\n",
    " .fillna(0))"
   ]
  },
  {
   "cell_type": "code",
   "execution_count": 9,
   "id": "af8a61f2",
   "metadata": {},
   "outputs": [
    {
     "data": {
      "text/plain": [
       "1987-12-30     6.0\n",
       "1987-12-31     5.0\n",
       "1988-01-01    <NA>\n",
       "1988-01-02     0.0\n",
       "1988-01-03     0.0\n",
       "1988-01-04    <NA>\n",
       "1988-01-05     2.0\n",
       "1988-01-06     6.0\n",
       "1988-01-07     4.0\n",
       "1988-01-08     9.0\n",
       "1988-01-09     5.0\n",
       "1988-01-10     2.0\n",
       "Name: SNOW, dtype: double[pyarrow]"
      ]
     },
     "execution_count": 9,
     "metadata": {},
     "output_type": "execute_result"
    }
   ],
   "source": [
    "snow.loc['1987-12-30':'1988-01-10']"
   ]
  },
  {
   "cell_type": "code",
   "execution_count": 10,
   "id": "4860bcca",
   "metadata": {},
   "outputs": [
    {
     "data": {
      "text/plain": [
       "1987-12-30    6.0\n",
       "1987-12-31    5.0\n",
       "1988-01-01    5.0\n",
       "1988-01-02    0.0\n",
       "1988-01-03    0.0\n",
       "1988-01-04    0.0\n",
       "1988-01-05    2.0\n",
       "1988-01-06    6.0\n",
       "1988-01-07    4.0\n",
       "1988-01-08    9.0\n",
       "1988-01-09    5.0\n",
       "1988-01-10    2.0\n",
       "Name: SNOW, dtype: double[pyarrow]"
      ]
     },
     "execution_count": 10,
     "metadata": {},
     "output_type": "execute_result"
    }
   ],
   "source": [
    "# Forward fill\n",
    "(snow\n",
    " .loc['1987-12-30':'1988-01-10']\n",
    " .ffill()\n",
    " )\n",
    "\n"
   ]
  },
  {
   "cell_type": "code",
   "execution_count": 11,
   "id": "0a6806c5",
   "metadata": {},
   "outputs": [
    {
     "data": {
      "text/plain": [
       "1987-12-30    6.0\n",
       "1987-12-31    5.0\n",
       "1988-01-01    0.0\n",
       "1988-01-02    0.0\n",
       "1988-01-03    0.0\n",
       "1988-01-04    2.0\n",
       "1988-01-05    2.0\n",
       "1988-01-06    6.0\n",
       "1988-01-07    4.0\n",
       "1988-01-08    9.0\n",
       "1988-01-09    5.0\n",
       "1988-01-10    2.0\n",
       "Name: SNOW, dtype: double[pyarrow]"
      ]
     },
     "execution_count": 11,
     "metadata": {},
     "output_type": "execute_result"
    }
   ],
   "source": [
    "(snow\n",
    " .loc['1987-12-30':'1988-01-10']\n",
    " .bfill())"
   ]
  },
  {
   "cell_type": "code",
   "execution_count": 12,
   "id": "b49321a0",
   "metadata": {},
   "outputs": [
    {
     "data": {
      "text/plain": [
       "1987-12-30    6.0\n",
       "1987-12-31    5.0\n",
       "1988-01-01    2.5\n",
       "1988-01-02    0.0\n",
       "1988-01-03    0.0\n",
       "1988-01-04    1.0\n",
       "1988-01-05    2.0\n",
       "1988-01-06    6.0\n",
       "1988-01-07    4.0\n",
       "1988-01-08    9.0\n",
       "1988-01-09    5.0\n",
       "1988-01-10    2.0\n",
       "Name: SNOW, dtype: double[pyarrow]"
      ]
     },
     "execution_count": 12,
     "metadata": {},
     "output_type": "execute_result"
    }
   ],
   "source": [
    "(snow\n",
    " .loc['1987-12-30':'1988-01-10']\n",
    " .interpolate()\n",
    " )"
   ]
  },
  {
   "cell_type": "code",
   "execution_count": 13,
   "id": "86385bd2",
   "metadata": {},
   "outputs": [],
   "source": [
    "winter = (snow.index.quarter == 1) | (snow.index.quarter == 4) # symbol | is an OR operator, showing that winter is in the first and last quarter of the year"
   ]
  },
  {
   "cell_type": "code",
   "execution_count": 14,
   "id": "b5a3cebb",
   "metadata": {},
   "outputs": [
    {
     "data": {
      "text/plain": [
       "1980-01-01    2.0\n",
       "1980-01-02    3.0\n",
       "1980-01-03    1.0\n",
       "1980-01-04    0.0\n",
       "1980-01-05    0.0\n",
       "             ... \n",
       "2019-09-03    0.0\n",
       "2019-09-04    0.0\n",
       "2019-09-05    0.0\n",
       "2019-09-06    0.0\n",
       "2019-09-07    0.0\n",
       "Name: SNOW, Length: 14160, dtype: double[pyarrow]"
      ]
     },
     "execution_count": 14,
     "metadata": {},
     "output_type": "execute_result"
    }
   ],
   "source": [
    "(snow.case_when(caselist=[(winter & snow.isna(), snow.interpolate()), # when winter and no data, interpolate\n",
    "                          (~winter & snow.isna(), 0)])) # when NOT winter and no data, replace with 0"
   ]
  },
  {
   "cell_type": "code",
   "execution_count": 15,
   "id": "9c32800a",
   "metadata": {},
   "outputs": [
    {
     "data": {
      "text/plain": [
       "1980-01-01    2.0\n",
       "1980-01-02    3.0\n",
       "1980-01-03    1.0\n",
       "1980-01-04    0.0\n",
       "1980-01-05    0.0\n",
       "             ... \n",
       "2019-09-03    0.0\n",
       "2019-09-04    0.0\n",
       "2019-09-05    0.0\n",
       "2019-09-06    0.0\n",
       "2019-09-07    0.0\n",
       "Name: SNOW, Length: 14160, dtype: double[pyarrow]"
      ]
     },
     "execution_count": 15,
     "metadata": {},
     "output_type": "execute_result"
    }
   ],
   "source": [
    "(snow\n",
    " .where(~(winter & snow.isna()), snow.interpolate())\n",
    " .where(~(~winter & snow.isna()), 0))\n",
    "\n",
    "# very hard to read using .where compared to previous example"
   ]
  },
  {
   "cell_type": "code",
   "execution_count": 16,
   "id": "d7ce42e3",
   "metadata": {},
   "outputs": [
    {
     "data": {
      "text/plain": [
       "1985-09-19    <NA>\n",
       "1988-01-01    <NA>\n",
       "Name: SNOW, dtype: double[pyarrow]"
      ]
     },
     "execution_count": 16,
     "metadata": {},
     "output_type": "execute_result"
    }
   ],
   "source": [
    "(snow.loc[['1985-09-19','1988-01-01']])"
   ]
  },
  {
   "cell_type": "code",
   "execution_count": 17,
   "id": "dc6ea6d5",
   "metadata": {},
   "outputs": [
    {
     "data": {
      "text/plain": [
       "1985-09-19    0.0\n",
       "1988-01-01    2.5\n",
       "Name: SNOW, dtype: double[pyarrow]"
      ]
     },
     "execution_count": 17,
     "metadata": {},
     "output_type": "execute_result"
    }
   ],
   "source": [
    "(snow.case_when(caselist=[\n",
    "    (winter & snow.isna(), snow.interpolate()),\n",
    "    (~winter & snow.isna(), 0)\n",
    "])\n",
    ".loc[['1985-09-19','1988-01-01']])"
   ]
  },
  {
   "cell_type": "code",
   "execution_count": 18,
   "id": "dff74bab",
   "metadata": {},
   "outputs": [
    {
     "data": {
      "text/plain": [
       "1980-01-01    <NA>\n",
       "1980-01-02     2.0\n",
       "1980-01-03     3.0\n",
       "1980-01-04     1.0\n",
       "1980-01-05     0.0\n",
       "              ... \n",
       "2019-09-03     0.0\n",
       "2019-09-04     0.0\n",
       "2019-09-05     0.0\n",
       "2019-09-06     0.0\n",
       "2019-09-07     0.0\n",
       "Name: SNOW, Length: 14160, dtype: double[pyarrow]"
      ]
     },
     "execution_count": 18,
     "metadata": {},
     "output_type": "execute_result"
    }
   ],
   "source": [
    "snow.shift(1)"
   ]
  },
  {
   "cell_type": "code",
   "execution_count": 19,
   "id": "f71abe72",
   "metadata": {},
   "outputs": [
    {
     "data": {
      "text/plain": [
       "1980-01-01     3.0\n",
       "1980-01-02     1.0\n",
       "1980-01-03     0.0\n",
       "1980-01-04     0.0\n",
       "1980-01-05     1.0\n",
       "              ... \n",
       "2019-09-03     0.0\n",
       "2019-09-04     0.0\n",
       "2019-09-05     0.0\n",
       "2019-09-06     0.0\n",
       "2019-09-07    <NA>\n",
       "Name: SNOW, Length: 14160, dtype: double[pyarrow]"
      ]
     },
     "execution_count": 19,
     "metadata": {},
     "output_type": "execute_result"
    }
   ],
   "source": [
    "snow.shift(-1)"
   ]
  },
  {
   "cell_type": "code",
   "execution_count": 20,
   "id": "b7e93d22",
   "metadata": {},
   "outputs": [
    {
     "data": {
      "text/plain": [
       "1980-01-01    <NA>\n",
       "1980-01-02    <NA>\n",
       "1980-01-03    <NA>\n",
       "1980-01-04    <NA>\n",
       "1980-01-05     1.2\n",
       "1980-01-06     1.0\n",
       "1980-01-07     1.2\n",
       "1980-01-08     2.2\n",
       "1980-01-09     4.0\n",
       "1980-01-10     7.8\n",
       "1980-01-11    10.0\n",
       "1980-01-12    10.6\n",
       "1980-01-13    10.6\n",
       "1980-01-14     9.6\n",
       "1980-01-15     9.2\n",
       "1980-01-16     7.0\n",
       "1980-01-17     6.0\n",
       "1980-01-18     5.8\n",
       "1980-01-19     6.0\n",
       "1980-01-20     2.6\n",
       "Name: SNOW, dtype: double[pyarrow]"
      ]
     },
     "execution_count": 20,
     "metadata": {},
     "output_type": "execute_result"
    }
   ],
   "source": [
    "(snow\n",
    " .add(snow.shift(1)) # changes the allignment +1, then on top of that number, it adds that shifted value\n",
    " .add(snow.shift(2)) # same here\n",
    " .add(snow.shift(3)) # etc\n",
    " .add(snow.shift(4))\n",
    " .div(5) # creates the mean\n",
    " ).head(20)"
   ]
  },
  {
   "cell_type": "code",
   "execution_count": 21,
   "id": "548eaabe",
   "metadata": {},
   "outputs": [
    {
     "data": {
      "text/plain": [
       "1980-01-01    NaN\n",
       "1980-01-02    NaN\n",
       "1980-01-03    NaN\n",
       "1980-01-04    NaN\n",
       "1980-01-05    1.2\n",
       "             ... \n",
       "2019-09-03    0.0\n",
       "2019-09-04    0.0\n",
       "2019-09-05    0.0\n",
       "2019-09-06    0.0\n",
       "2019-09-07    0.0\n",
       "Name: SNOW, Length: 14160, dtype: float64"
      ]
     },
     "execution_count": 21,
     "metadata": {},
     "output_type": "execute_result"
    }
   ],
   "source": [
    "# more elegant version\n",
    "(snow\n",
    " .rolling(5)\n",
    " .mean()\n",
    ")"
   ]
  },
  {
   "cell_type": "code",
   "execution_count": 22,
   "id": "c75ac81b",
   "metadata": {},
   "outputs": [
    {
     "data": {
      "text/plain": [
       "1980-01-31    20.0\n",
       "1980-02-29    25.0\n",
       "1980-03-31    16.0\n",
       "1980-04-30    10.0\n",
       "1980-05-31     9.0\n",
       "              ... \n",
       "2019-05-31     5.1\n",
       "2019-06-30     0.0\n",
       "2019-07-31     0.0\n",
       "2019-08-31     0.0\n",
       "2019-09-30     0.0\n",
       "Freq: ME, Name: SNOW, Length: 477, dtype: double[pyarrow]"
      ]
     },
     "execution_count": 22,
     "metadata": {},
     "output_type": "execute_result"
    }
   ],
   "source": [
    "(snow\n",
    " .resample('ME')\n",
    " .max()\n",
    " )"
   ]
  },
  {
   "cell_type": "code",
   "execution_count": 23,
   "id": "2dc3120b",
   "metadata": {},
   "outputs": [
    {
     "data": {
      "text/plain": [
       "1980-01-31    20.0\n",
       "1980-03-31    25.0\n",
       "1980-05-31    10.0\n",
       "1980-07-31     1.0\n",
       "1980-09-30     0.0\n",
       "              ... \n",
       "2019-01-31    19.0\n",
       "2019-03-31    20.7\n",
       "2019-05-31    18.0\n",
       "2019-07-31     0.0\n",
       "2019-09-30     0.0\n",
       "Freq: 2ME, Name: SNOW, Length: 239, dtype: double[pyarrow]"
      ]
     },
     "execution_count": 23,
     "metadata": {},
     "output_type": "execute_result"
    }
   ],
   "source": [
    "(snow\n",
    " .resample('2ME')\n",
    " .max()\n",
    ")"
   ]
  },
  {
   "cell_type": "code",
   "execution_count": 24,
   "id": "c6803454",
   "metadata": {},
   "outputs": [
    {
     "data": {
      "text/plain": [
       "1980-05-31    456.5\n",
       "1981-05-31    495.0\n",
       "1982-05-31    794.5\n",
       "1983-05-31    855.0\n",
       "1984-05-31    793.0\n",
       "1985-05-31    564.3\n",
       "1986-05-31    716.0\n",
       "1987-05-31    272.1\n",
       "1988-05-31    312.3\n",
       "1989-05-31    431.7\n",
       "1990-05-31    331.5\n",
       "1991-05-31    504.7\n",
       "1992-05-31    333.8\n",
       "1993-05-31    673.5\n",
       "1994-05-31    338.0\n",
       "1995-05-31    627.0\n",
       "1996-05-31    530.5\n",
       "1997-05-31    576.6\n",
       "1998-05-31    555.6\n",
       "1999-05-31    454.7\n",
       "2000-05-31    448.0\n",
       "2001-05-31    471.0\n",
       "2002-05-31    464.8\n",
       "2003-05-31    353.4\n",
       "2004-05-31    520.0\n",
       "2005-05-31    476.0\n",
       "2006-05-31    596.6\n",
       "2007-05-31    289.1\n",
       "2008-05-31    625.6\n",
       "2009-05-31    475.3\n",
       "2010-05-31    403.0\n",
       "2011-05-31    534.2\n",
       "2012-05-31    293.6\n",
       "2013-05-31    352.8\n",
       "2014-05-31    351.7\n",
       "2015-05-31    301.3\n",
       "2016-05-31    348.6\n",
       "2017-05-31    507.4\n",
       "2018-05-31    331.4\n",
       "2019-05-31    504.5\n",
       "2020-05-31      0.0\n",
       "Freq: YE-MAY, Name: SNOW, dtype: double[pyarrow]"
      ]
     },
     "execution_count": 24,
     "metadata": {},
     "output_type": "execute_result"
    }
   ],
   "source": [
    "(snow\n",
    " .resample('YE-MAY')\n",
    " .sum()\n",
    " )\n",
    "\n",
    "\n",
    "\n"
   ]
  },
  {
   "cell_type": "code",
   "execution_count": 25,
   "id": "15b559a0",
   "metadata": {},
   "outputs": [
    {
     "data": {
      "text/plain": [
       "1980-01-01    0.527009\n",
       "1980-01-02    0.790514\n",
       "1980-01-03    0.263505\n",
       "1980-01-04         0.0\n",
       "1980-01-05         0.0\n",
       "                ...   \n",
       "2019-09-03         NaN\n",
       "2019-09-04         NaN\n",
       "2019-09-05         NaN\n",
       "2019-09-06         NaN\n",
       "2019-09-07         NaN\n",
       "Name: SNOW, Length: 14160, dtype: double[pyarrow]"
      ]
     },
     "execution_count": 25,
     "metadata": {},
     "output_type": "execute_result"
    }
   ],
   "source": [
    "(snow\n",
    " .div(snow\n",
    "      .resample('QE')\n",
    "      .transform('sum'))\n",
    "      .mul(100)\n",
    "      .fillna(0)\n",
    "      )"
   ]
  },
  {
   "cell_type": "code",
   "execution_count": 26,
   "id": "38164410",
   "metadata": {},
   "outputs": [
    {
     "data": {
      "text/plain": [
       "1980-01-31    144.0\n",
       "1980-02-29    112.5\n",
       "1980-03-31    123.0\n",
       "1980-04-30     30.0\n",
       "1980-05-31     47.0\n",
       "              ...  \n",
       "2019-05-31     26.0\n",
       "2019-06-30      0.0\n",
       "2019-07-31      0.0\n",
       "2019-08-31      0.0\n",
       "2019-09-30      0.0\n",
       "Freq: ME, Name: SNOW, Length: 477, dtype: double[pyarrow]"
      ]
     },
     "execution_count": 26,
     "metadata": {},
     "output_type": "execute_result"
    }
   ],
   "source": [
    "(snow\n",
    " .resample('ME')\n",
    " .sum()\n",
    ")"
   ]
  },
  {
   "cell_type": "code",
   "execution_count": 27,
   "id": "e9ead639",
   "metadata": {},
   "outputs": [
    {
     "data": {
      "text/plain": [
       "1980-01-01    144.0\n",
       "1980-01-02    144.0\n",
       "1980-01-03    144.0\n",
       "1980-01-04    144.0\n",
       "1980-01-05    144.0\n",
       "              ...  \n",
       "2019-09-03      0.0\n",
       "2019-09-04      0.0\n",
       "2019-09-05      0.0\n",
       "2019-09-06      0.0\n",
       "2019-09-07      0.0\n",
       "Name: SNOW, Length: 14160, dtype: double[pyarrow]"
      ]
     },
     "execution_count": 27,
     "metadata": {},
     "output_type": "execute_result"
    }
   ],
   "source": [
    "(snow\n",
    " .resample('ME')\n",
    " .transform('sum')\n",
    " )"
   ]
  },
  {
   "cell_type": "code",
   "execution_count": 28,
   "id": "798bcbed",
   "metadata": {},
   "outputs": [],
   "source": [
    "season2017 = snow.loc['2016-10':'2017-05']"
   ]
  },
  {
   "cell_type": "code",
   "execution_count": 29,
   "id": "544ed8c9",
   "metadata": {},
   "outputs": [
    {
     "data": {
      "text/plain": [
       "2016-10-31     2.153969\n",
       "2016-11-30     9.772637\n",
       "2016-12-31    15.715995\n",
       "2017-01-31    25.468688\n",
       "2017-02-28    21.041085\n",
       "2017-03-31     9.274033\n",
       "2017-04-30    14.738732\n",
       "2017-05-31     1.834862\n",
       "Freq: ME, Name: SNOW, dtype: double[pyarrow]"
      ]
     },
     "execution_count": 29,
     "metadata": {},
     "output_type": "execute_result"
    }
   ],
   "source": [
    "(season2017\n",
    " .resample('ME')\n",
    " .sum()\n",
    " .div(season2017\n",
    "      .sum())\n",
    "      .mul(100))\n"
   ]
  },
  {
   "cell_type": "code",
   "execution_count": 30,
   "id": "0bde5635",
   "metadata": {},
   "outputs": [
    {
     "data": {
      "text/plain": [
       "2016-10-31     2.153969\n",
       "2016-11-30     9.772637\n",
       "2016-12-31    15.715995\n",
       "2017-01-31    25.468688\n",
       "2017-02-28    21.041085\n",
       "2017-03-31     9.274033\n",
       "2017-04-30    14.738732\n",
       "2017-05-31     1.834862\n",
       "Freq: ME, Name: SNOW, dtype: double[pyarrow]"
      ]
     },
     "execution_count": 30,
     "metadata": {},
     "output_type": "execute_result"
    }
   ],
   "source": [
    "\n",
    "(season2017\n",
    " .resample('ME')\n",
    " .sum()\n",
    " .div(season2017\n",
    "      .sum())\n",
    "      .mul(100)\n",
    "      )\n"
   ]
  },
  {
   "cell_type": "code",
   "execution_count": 58,
   "id": "00b79711",
   "metadata": {},
   "outputs": [],
   "source": [
    "def season(idx):\n",
    "    year = idx.year\n",
    "    month = idx.month\n",
    "    return year.where((month < 10), year + 1)"
   ]
  },
  {
   "cell_type": "code",
   "execution_count": 57,
   "id": "eea966e3",
   "metadata": {},
   "outputs": [
    {
     "data": {
      "text/plain": [
       "1980    457.5\n",
       "1981    503.0\n",
       "1982    842.5\n",
       "1983    807.5\n",
       "1984    816.0\n",
       "1985    536.0\n",
       "1986    740.8\n",
       "1987    243.1\n",
       "1988    314.5\n",
       "1989    429.5\n",
       "1990    331.5\n",
       "1991    504.7\n",
       "1992    340.8\n",
       "1993    683.5\n",
       "1994    321.0\n",
       "1995    645.0\n",
       "1996    525.5\n",
       "1997    563.6\n",
       "1998    579.6\n",
       "1999    435.7\n",
       "2000    453.0\n",
       "2001    468.0\n",
       "2002    457.8\n",
       "2003    365.4\n",
       "2004    514.0\n",
       "2005    472.0\n",
       "2006    594.6\n",
       "2007    319.7\n",
       "2008    606.0\n",
       "2009    476.8\n",
       "2010    391.0\n",
       "2011    533.8\n",
       "2012    293.5\n",
       "2013    362.8\n",
       "2014    358.7\n",
       "2015    284.3\n",
       "2016    354.6\n",
       "2017    524.0\n",
       "2018    308.8\n",
       "2019    504.5\n",
       "Name: SNOW, dtype: double[pyarrow]"
      ]
     },
     "execution_count": 57,
     "metadata": {},
     "output_type": "execute_result"
    }
   ],
   "source": [
    "(snow\n",
    " .groupby(season)\n",
    " .sum()\n",
    " )"
   ]
  },
  {
   "cell_type": "code",
   "execution_count": 33,
   "id": "04cb0448",
   "metadata": {},
   "outputs": [],
   "source": [
    "def calc_pct(s):\n",
    "    return s.div(s.sum()).mul(100) "
   ]
  },
  {
   "cell_type": "code",
   "execution_count": 34,
   "id": "c63eaac2",
   "metadata": {},
   "outputs": [
    {
     "data": {
      "text/plain": [
       "1980  1980-01-31     31.47541\n",
       "      1980-02-29    24.590164\n",
       "      1980-03-31    26.885246\n",
       "      1980-04-30     6.557377\n",
       "      1980-05-31    10.273224\n",
       "                      ...    \n",
       "2019  2019-05-31     5.153617\n",
       "      2019-06-30          0.0\n",
       "      2019-07-31          0.0\n",
       "      2019-08-31          0.0\n",
       "      2019-09-30          0.0\n",
       "Name: SNOW, Length: 477, dtype: double[pyarrow]"
      ]
     },
     "execution_count": 34,
     "metadata": {},
     "output_type": "execute_result"
    }
   ],
   "source": [
    "(snow\n",
    " .resample('ME')\n",
    " .sum()\n",
    " .groupby(season)\n",
    " .apply(calc_pct)\n",
    " )"
   ]
  },
  {
   "cell_type": "code",
   "execution_count": 35,
   "id": "68f78e09",
   "metadata": {},
   "outputs": [
    {
     "data": {
      "text/plain": [
       "1980-01-01      2.0\n",
       "1980-01-02      5.0\n",
       "1980-01-03      6.0\n",
       "1980-01-04      6.0\n",
       "1980-01-05      6.0\n",
       "              ...  \n",
       "2019-09-03    504.5\n",
       "2019-09-04    504.5\n",
       "2019-09-05    504.5\n",
       "2019-09-06    504.5\n",
       "2019-09-07    504.5\n",
       "Name: SNOW, Length: 14160, dtype: double[pyarrow]"
      ]
     },
     "execution_count": 35,
     "metadata": {},
     "output_type": "execute_result"
    }
   ],
   "source": [
    "(snow\n",
    " .resample('YE-SEP')\n",
    " .transform('cumsum')\n",
    " )"
   ]
  },
  {
   "cell_type": "code",
   "execution_count": 36,
   "id": "81cde8b8",
   "metadata": {},
   "outputs": [],
   "source": [
    "# Exercises"
   ]
  },
  {
   "cell_type": "code",
   "execution_count": 37,
   "id": "b2793a98",
   "metadata": {},
   "outputs": [
    {
     "data": {
      "text/plain": [
       "1980    2.0\n",
       "1980    3.0\n",
       "1980    1.0\n",
       "1980    0.0\n",
       "1980    0.0\n",
       "       ... \n",
       "2019    0.0\n",
       "2019    0.0\n",
       "2019    0.0\n",
       "2019    0.0\n",
       "2019    0.0\n",
       "Name: SNOW, Length: 14160, dtype: double[pyarrow]"
      ]
     },
     "execution_count": 37,
     "metadata": {},
     "output_type": "execute_result"
    }
   ],
   "source": [
    "# Convert a column with date information to a date\n",
    "snow_with_year = snow.copy()\n",
    "snow_with_year.index = snow_with_year.index.year\n",
    "snow_with_year"
   ]
  },
  {
   "cell_type": "code",
   "execution_count": 38,
   "id": "a8c45d0e",
   "metadata": {},
   "outputs": [
    {
     "data": {
      "text/html": [
       "<div>\n",
       "<style scoped>\n",
       "    .dataframe tbody tr th:only-of-type {\n",
       "        vertical-align: middle;\n",
       "    }\n",
       "\n",
       "    .dataframe tbody tr th {\n",
       "        vertical-align: top;\n",
       "    }\n",
       "\n",
       "    .dataframe thead th {\n",
       "        text-align: right;\n",
       "    }\n",
       "</style>\n",
       "<table border=\"1\" class=\"dataframe\">\n",
       "  <thead>\n",
       "    <tr style=\"text-align: right;\">\n",
       "      <th></th>\n",
       "      <th>LATITUDE</th>\n",
       "      <th>LONGITUDE</th>\n",
       "      <th>ELEVATION</th>\n",
       "    </tr>\n",
       "  </thead>\n",
       "  <tbody>\n",
       "    <tr>\n",
       "      <th>1980-01-01</th>\n",
       "      <td>40.5905</td>\n",
       "      <td>-111.6369</td>\n",
       "      <td>2660.9</td>\n",
       "    </tr>\n",
       "    <tr>\n",
       "      <th>1980-01-02</th>\n",
       "      <td>40.5905</td>\n",
       "      <td>-111.6369</td>\n",
       "      <td>2660.9</td>\n",
       "    </tr>\n",
       "    <tr>\n",
       "      <th>1980-01-03</th>\n",
       "      <td>40.5905</td>\n",
       "      <td>-111.6369</td>\n",
       "      <td>2660.9</td>\n",
       "    </tr>\n",
       "    <tr>\n",
       "      <th>1980-01-04</th>\n",
       "      <td>40.5905</td>\n",
       "      <td>-111.6369</td>\n",
       "      <td>2660.9</td>\n",
       "    </tr>\n",
       "    <tr>\n",
       "      <th>1980-01-05</th>\n",
       "      <td>40.5905</td>\n",
       "      <td>-111.6369</td>\n",
       "      <td>2660.9</td>\n",
       "    </tr>\n",
       "    <tr>\n",
       "      <th>...</th>\n",
       "      <td>...</td>\n",
       "      <td>...</td>\n",
       "      <td>...</td>\n",
       "    </tr>\n",
       "    <tr>\n",
       "      <th>2019-09-03</th>\n",
       "      <td>40.5905</td>\n",
       "      <td>-111.6369</td>\n",
       "      <td>2660.9</td>\n",
       "    </tr>\n",
       "    <tr>\n",
       "      <th>2019-09-04</th>\n",
       "      <td>40.5905</td>\n",
       "      <td>-111.6369</td>\n",
       "      <td>2660.9</td>\n",
       "    </tr>\n",
       "    <tr>\n",
       "      <th>2019-09-05</th>\n",
       "      <td>40.5905</td>\n",
       "      <td>-111.6369</td>\n",
       "      <td>2660.9</td>\n",
       "    </tr>\n",
       "    <tr>\n",
       "      <th>2019-09-06</th>\n",
       "      <td>40.5905</td>\n",
       "      <td>-111.6369</td>\n",
       "      <td>2660.9</td>\n",
       "    </tr>\n",
       "    <tr>\n",
       "      <th>2019-09-07</th>\n",
       "      <td>40.5905</td>\n",
       "      <td>-111.6369</td>\n",
       "      <td>2660.9</td>\n",
       "    </tr>\n",
       "  </tbody>\n",
       "</table>\n",
       "<p>14160 rows × 3 columns</p>\n",
       "</div>"
      ],
      "text/plain": [
       "            LATITUDE  LONGITUDE  ELEVATION\n",
       "1980-01-01   40.5905  -111.6369     2660.9\n",
       "1980-01-02   40.5905  -111.6369     2660.9\n",
       "1980-01-03   40.5905  -111.6369     2660.9\n",
       "1980-01-04   40.5905  -111.6369     2660.9\n",
       "1980-01-05   40.5905  -111.6369     2660.9\n",
       "...              ...        ...        ...\n",
       "2019-09-03   40.5905  -111.6369     2660.9\n",
       "2019-09-04   40.5905  -111.6369     2660.9\n",
       "2019-09-05   40.5905  -111.6369     2660.9\n",
       "2019-09-06   40.5905  -111.6369     2660.9\n",
       "2019-09-07   40.5905  -111.6369     2660.9\n",
       "\n",
       "[14160 rows x 3 columns]"
      ]
     },
     "execution_count": 38,
     "metadata": {},
     "output_type": "execute_result"
    }
   ],
   "source": [
    "# Put the date information into the index for a numeric column\n",
    "pd.set_option('display.max_columns', 22)\n",
    "\n",
    "date_as_index = pd.to_datetime(alta_df.DATE)\n",
    "\n",
    "location = ((alta_df[['LATITUDE','LONGITUDE','ELEVATION']])\n",
    "            .rename(date_as_index)\n",
    "            )\n",
    "location\n"
   ]
  },
  {
   "cell_type": "code",
   "execution_count": 39,
   "id": "4fc47f79",
   "metadata": {},
   "outputs": [
    {
     "data": {
      "text/plain": [
       "1980-01-31    4.645161\n",
       "1980-02-29     3.87931\n",
       "1980-03-31    3.967742\n",
       "1980-04-30         1.0\n",
       "1980-05-31    1.516129\n",
       "                ...   \n",
       "2019-05-31     0.83871\n",
       "2019-06-30         0.0\n",
       "2019-07-31         0.0\n",
       "2019-08-31         0.0\n",
       "2019-09-30         0.0\n",
       "Freq: ME, Name: SNOW, Length: 477, dtype: double[pyarrow]"
      ]
     },
     "execution_count": 39,
     "metadata": {},
     "output_type": "execute_result"
    }
   ],
   "source": [
    "# Calculate the average value of the column for each month\n",
    "\n",
    "(snow\n",
    " .resample('ME')\n",
    " .mean()\n",
    " )\n"
   ]
  },
  {
   "cell_type": "code",
   "execution_count": 40,
   "id": "41072ef0",
   "metadata": {},
   "outputs": [
    {
     "data": {
      "text/plain": [
       "1980-02-29    4.313559\n",
       "1980-04-30    2.540984\n",
       "1980-06-30    0.786885\n",
       "1980-08-31         0.0\n",
       "1980-10-31    0.606557\n",
       "                ...   \n",
       "2019-02-28    3.461017\n",
       "2019-04-30    2.406557\n",
       "2019-06-30    0.496721\n",
       "2019-08-31         0.0\n",
       "2019-10-31         0.0\n",
       "Freq: 2ME, Name: SNOW, Length: 239, dtype: double[pyarrow]"
      ]
     },
     "execution_count": 40,
     "metadata": {},
     "output_type": "execute_result"
    }
   ],
   "source": [
    "# Calculate the average value of the column for every two months.\n",
    "\n",
    "(snow\n",
    " .resample('2ME', closed='left')\n",
    " .mean()\n",
    " )\n"
   ]
  },
  {
   "cell_type": "code",
   "execution_count": 262,
   "id": "a18de9f7",
   "metadata": {},
   "outputs": [
    {
     "data": {
      "text/plain": [
       "1980-12-31    0.059807\n",
       "1981-12-31    0.267248\n",
       "1982-12-31    0.194232\n",
       "1983-12-31    0.270315\n",
       "1984-12-31    0.154457\n",
       "1985-12-31    0.126453\n",
       "1986-12-31    0.014013\n",
       "1987-12-31    0.235741\n",
       "1988-12-31    0.222914\n",
       "1989-12-31    0.076119\n",
       "1990-12-31    0.138458\n",
       "1991-12-31    0.069918\n",
       "1992-12-31    0.266247\n",
       "1993-12-31    0.086806\n",
       "1994-12-31    0.128755\n",
       "1995-12-31    0.069856\n",
       "1996-12-31    0.184926\n",
       "1997-12-31    0.147071\n",
       "1998-12-31    0.070721\n",
       "1999-12-31    0.191465\n",
       "2000-12-31     0.13475\n",
       "2001-12-31    0.160026\n",
       "2002-12-31    0.121125\n",
       "2003-12-31    0.260104\n",
       "2004-12-31         0.0\n",
       "2005-12-31    0.237833\n",
       "2006-12-31    0.088663\n",
       "2007-12-31    0.349919\n",
       "2008-12-31    0.169565\n",
       "2009-12-31    0.159838\n",
       "2010-12-31     0.19467\n",
       "2011-12-31    0.037347\n",
       "2012-12-31     0.25426\n",
       "2013-12-31     0.15706\n",
       "2014-12-31    0.188432\n",
       "2015-12-31    0.354478\n",
       "2016-12-31    0.211714\n",
       "2017-12-31    0.084324\n",
       "2018-12-31    0.162569\n",
       "Name: SNOW, dtype: double[pyarrow]"
      ]
     },
     "execution_count": 262,
     "metadata": {},
     "output_type": "execute_result"
    }
   ],
   "source": [
    "# Calculate the percentage of the column, out of the total, for each month.\n",
    "\n",
    "snow2 = snow.copy()\n",
    "\n",
    "(snow2\n",
    ".resample('ME')\n",
    ".sum()\n",
    ".div((snow2\n",
    " .resample('YE')\n",
    " .sum()))).dropna().head(60)"
   ]
  },
  {
   "cell_type": "code",
   "execution_count": null,
   "id": "70f303f5",
   "metadata": {},
   "outputs": [
    {
     "data": {
      "text/plain": [
       "1980-01-01    568.5\n",
       "1980-01-02    568.5\n",
       "1980-01-03    568.5\n",
       "1980-01-04    568.5\n",
       "1980-01-05    568.5\n",
       "              ...  \n",
       "2019-09-03    374.5\n",
       "2019-09-04    374.5\n",
       "2019-09-05    374.5\n",
       "2019-09-06    374.5\n",
       "2019-09-07    374.5\n",
       "Name: SNOW, Length: 14160, dtype: double[pyarrow]"
      ]
     },
     "execution_count": 252,
     "metadata": {},
     "output_type": "execute_result"
    }
   ],
   "source": [
    "(snow2\n",
    " .resample('YE')\n",
    " .transform('sum'))"
   ]
  },
  {
   "cell_type": "code",
   "execution_count": 271,
   "id": "15f76fa2",
   "metadata": {},
   "outputs": [
    {
     "data": {
      "text/plain": [
       "1980-01-07     1.571429\n",
       "1980-01-08     2.142857\n",
       "1980-01-09     3.000000\n",
       "1980-01-10     5.571429\n",
       "1980-01-11     7.285714\n",
       "1980-01-12     8.285714\n",
       "1980-01-13     9.000000\n",
       "1980-01-14     9.000000\n",
       "1980-01-15    10.571429\n",
       "1980-01-16     9.428571\n",
       "1980-01-17     7.000000\n",
       "1980-01-18     6.000000\n",
       "1980-01-19     5.714286\n",
       "1980-01-20     4.857143\n",
       "1980-01-21     4.285714\n",
       "1980-01-22     1.857143\n",
       "1980-01-23     1.714286\n",
       "1980-01-24     1.428571\n",
       "1980-01-25     0.714286\n",
       "1980-01-26     0.000000\n",
       "1980-01-27     0.000000\n",
       "1980-01-28     1.714286\n",
       "1980-01-29     2.857143\n",
       "1980-01-30     5.714286\n",
       "1980-01-31     5.714286\n",
       "1980-02-01     5.714286\n",
       "1980-02-02     5.714286\n",
       "1980-02-03     5.714286\n",
       "1980-02-04     4.142857\n",
       "1980-02-05     3.000000\n",
       "1980-02-06     0.142857\n",
       "1980-02-07     1.428571\n",
       "1980-02-08     1.428571\n",
       "1980-02-09     1.428571\n",
       "1980-02-10     1.428571\n",
       "1980-02-11     1.285714\n",
       "1980-02-12     1.285714\n",
       "1980-02-13     1.285714\n",
       "1980-02-14     0.214286\n",
       "1980-02-15     3.785714\n",
       "1980-02-16     4.500000\n",
       "1980-02-17     4.785714\n",
       "1980-02-18     5.785714\n",
       "1980-02-19     7.071429\n",
       "1980-02-20     8.357143\n",
       "1980-02-21    10.142857\n",
       "1980-02-22     9.285714\n",
       "1980-02-23     9.000000\n",
       "1980-02-24     9.571429\n",
       "1980-02-25     8.571429\n",
       "1980-02-26     7.285714\n",
       "1980-02-27     6.000000\n",
       "1980-02-28     4.000000\n",
       "1980-02-29     1.571429\n",
       "1980-03-01     1.571429\n",
       "1980-03-02     0.714286\n",
       "1980-03-03     1.714286\n",
       "1980-03-04     3.571429\n",
       "1980-03-05     4.142857\n",
       "1980-03-06     6.428571\n",
       "Name: SNOW, dtype: float64"
      ]
     },
     "execution_count": 271,
     "metadata": {},
     "output_type": "execute_result"
    }
   ],
   "source": [
    "# Calculate the average value of the column for a rolling window of size 7.\n",
    "\n",
    "(snow2\n",
    " .interpolate()\n",
    " .rolling(7)\n",
    " .mean()).dropna().head(60)"
   ]
  },
  {
   "cell_type": "code",
   "execution_count": 275,
   "id": "480f72e0",
   "metadata": {},
   "outputs": [
    {
     "data": {
      "text/plain": [
       "1980-01-01     2.0\n",
       "1980-01-02     3.0\n",
       "1980-01-03     1.0\n",
       "1980-01-04     0.0\n",
       "1980-01-05     0.0\n",
       "              ... \n",
       "1980-03-27     0.0\n",
       "1980-03-28    12.0\n",
       "1980-03-29     0.0\n",
       "1980-03-30     0.0\n",
       "1980-03-31    13.0\n",
       "Name: SNOW, Length: 91, dtype: double[pyarrow]"
      ]
     },
     "execution_count": 275,
     "metadata": {},
     "output_type": "execute_result"
    }
   ],
   "source": [
    "# Using .loc pull out the first three months of a year.\n",
    "\n",
    "(snow2.loc['1980-01':'1980-03'])\n"
   ]
  },
  {
   "cell_type": "code",
   "execution_count": 276,
   "id": "ea42b7da",
   "metadata": {},
   "outputs": [
    {
     "data": {
      "text/plain": [
       "1980-08-01    0.0\n",
       "1980-08-02    0.0\n",
       "1980-08-03    0.0\n",
       "1980-08-04    0.0\n",
       "1980-08-05    0.0\n",
       "             ... \n",
       "1980-12-27    0.0\n",
       "1980-12-28    0.0\n",
       "1980-12-29    0.0\n",
       "1980-12-30    0.0\n",
       "1980-12-31    0.0\n",
       "Name: SNOW, Length: 153, dtype: double[pyarrow]"
      ]
     },
     "execution_count": 276,
     "metadata": {},
     "output_type": "execute_result"
    }
   ],
   "source": [
    "# Using .loc pull out the last four months of a year.\n",
    "\n",
    "(snow2\n",
    " .loc['1980-08':'1980-12'])"
   ]
  },
  {
   "cell_type": "code",
   "execution_count": 280,
   "id": "de122b3d",
   "metadata": {},
   "outputs": [
    {
     "data": {
      "text/plain": [
       "1980-08-01    0.0\n",
       "1980-08-02    0.0\n",
       "1980-08-03    0.0\n",
       "1980-08-04    0.0\n",
       "1980-08-05    0.0\n",
       "             ... \n",
       "2019-09-03    0.0\n",
       "2019-09-04    0.0\n",
       "2019-09-05    0.0\n",
       "2019-09-06    0.0\n",
       "2019-09-07    0.0\n",
       "Name: SNOW, Length: 5842, dtype: double[pyarrow]"
      ]
     },
     "execution_count": 280,
     "metadata": {},
     "output_type": "execute_result"
    }
   ],
   "source": [
    "snow2.loc[snow2.index.month >= 8]\n",
    "\n",
    "# used for showing the last 4 months of every year, compared to specific year"
   ]
  },
  {
   "cell_type": "code",
   "execution_count": null,
   "id": "954dd6be",
   "metadata": {},
   "outputs": [],
   "source": []
  }
 ],
 "metadata": {
  "kernelspec": {
   "display_name": "base",
   "language": "python",
   "name": "python3"
  },
  "language_info": {
   "codemirror_mode": {
    "name": "ipython",
    "version": 3
   },
   "file_extension": ".py",
   "mimetype": "text/x-python",
   "name": "python",
   "nbconvert_exporter": "python",
   "pygments_lexer": "ipython3",
   "version": "3.12.2"
  }
 },
 "nbformat": 4,
 "nbformat_minor": 5
}
