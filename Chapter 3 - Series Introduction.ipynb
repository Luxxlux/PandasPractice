{
 "cells": [
  {
   "cell_type": "code",
   "execution_count": 1,
   "id": "7900a191-769b-40d7-8de0-67a9e15b8e7c",
   "metadata": {},
   "outputs": [],
   "source": [
    "series = {'index':[0,1,2,3],\n",
    "          'data':[456,432,39,15],\n",
    "          'name':'songs'\n",
    "         }"
   ]
  },
  {
   "cell_type": "code",
   "execution_count": 5,
   "id": "4e324460-ccc8-4158-b1ce-a8949f163d01",
   "metadata": {},
   "outputs": [],
   "source": [
    "def get(series, idx):\n",
    "    value_idx = series['index'].index(idx)\n",
    "    return series['data'][value_idx]"
   ]
  },
  {
   "cell_type": "code",
   "execution_count": 7,
   "id": "15aab023-9f48-47ae-995c-4361a5fa3b62",
   "metadata": {},
   "outputs": [
    {
     "data": {
      "text/plain": [
       "432"
      ]
     },
     "execution_count": 7,
     "metadata": {},
     "output_type": "execute_result"
    }
   ],
   "source": [
    "get(series,1)"
   ]
  },
  {
   "cell_type": "code",
   "execution_count": 9,
   "id": "5d4d8e22-85a0-4305-b52e-2811f0a5af82",
   "metadata": {},
   "outputs": [],
   "source": [
    "songs = {'index':['Paul', 'John', 'George', 'Ringo'],\n",
    "          'data':[456,432,39,15],\n",
    "          'name':'counts'\n",
    "         }"
   ]
  },
  {
   "cell_type": "code",
   "execution_count": 11,
   "id": "3b637c96-db8e-423b-a7ed-4f038f965223",
   "metadata": {},
   "outputs": [],
   "source": [
    "import pandas as pd"
   ]
  },
  {
   "cell_type": "code",
   "execution_count": 13,
   "id": "f58f6306-4622-4ce8-afc6-e1404191268c",
   "metadata": {},
   "outputs": [],
   "source": [
    "songs2 = pd.Series([456,432,39,15], name='counts')"
   ]
  },
  {
   "cell_type": "code",
   "execution_count": 15,
   "id": "4f152ab4-910f-433f-9b67-26ecc87d3dbc",
   "metadata": {},
   "outputs": [
    {
     "data": {
      "text/plain": [
       "0    456\n",
       "1    432\n",
       "2     39\n",
       "3     15\n",
       "Name: counts, dtype: int64"
      ]
     },
     "execution_count": 15,
     "metadata": {},
     "output_type": "execute_result"
    }
   ],
   "source": [
    "songs2"
   ]
  },
  {
   "cell_type": "code",
   "execution_count": 17,
   "id": "4a8efa1c-9de5-4806-aac7-b9672286c1fa",
   "metadata": {},
   "outputs": [],
   "source": [
    "songs3 = pd.Series([456,432,39,15], name='counts', dtype='int64[pyarrow]')"
   ]
  },
  {
   "cell_type": "code",
   "execution_count": 19,
   "id": "79e5a787-75df-40f3-9376-e3ddd980b032",
   "metadata": {},
   "outputs": [
    {
     "data": {
      "text/plain": [
       "0    456\n",
       "1    432\n",
       "2     39\n",
       "3     15\n",
       "Name: counts, dtype: int64[pyarrow]"
      ]
     },
     "execution_count": 19,
     "metadata": {},
     "output_type": "execute_result"
    }
   ],
   "source": [
    "songs3"
   ]
  },
  {
   "cell_type": "code",
   "execution_count": 21,
   "id": "24274aa3-3e44-47fe-8c2a-e6549d4b53eb",
   "metadata": {},
   "outputs": [
    {
     "data": {
      "text/plain": [
       "RangeIndex(start=0, stop=4, step=1)"
      ]
     },
     "execution_count": 21,
     "metadata": {},
     "output_type": "execute_result"
    }
   ],
   "source": [
    "songs2.index"
   ]
  },
  {
   "cell_type": "code",
   "execution_count": 27,
   "id": "f244bb06-30b1-4f34-b49a-33dd00a5c337",
   "metadata": {},
   "outputs": [],
   "source": [
    "songs3 = pd.Series([456,432,39,15],\n",
    "                   name='counts',\n",
    "                   index=['Paul', 'John', 'George', 'Ringo'],\n",
    "                  dtype='int64[pyarrow]')"
   ]
  },
  {
   "cell_type": "code",
   "execution_count": 29,
   "id": "4d1b826a-1bd1-4614-8202-880ec51938fd",
   "metadata": {},
   "outputs": [
    {
     "data": {
      "text/plain": [
       "Index(['Paul', 'John', 'George', 'Ringo'], dtype='object')"
      ]
     },
     "execution_count": 29,
     "metadata": {},
     "output_type": "execute_result"
    }
   ],
   "source": [
    "songs3.index"
   ]
  },
  {
   "cell_type": "code",
   "execution_count": 31,
   "id": "84f8d009-96eb-4107-b23e-a7b2c8009325",
   "metadata": {},
   "outputs": [
    {
     "data": {
      "text/plain": [
       "Paul      456\n",
       "John      432\n",
       "George     39\n",
       "Ringo      15\n",
       "Name: counts, dtype: int64[pyarrow]"
      ]
     },
     "execution_count": 31,
     "metadata": {},
     "output_type": "execute_result"
    }
   ],
   "source": [
    "songs3"
   ]
  },
  {
   "cell_type": "code",
   "execution_count": 43,
   "id": "870a638d-eb60-41a2-8673-2e531302ac4f",
   "metadata": {},
   "outputs": [],
   "source": [
    "class Foo:\n",
    "    pass"
   ]
  },
  {
   "cell_type": "raw",
   "id": "71bbdd20-9d25-4a5e-a07f-20364e557e2c",
   "metadata": {},
   "source": [
    "ringo = pd.Series(\n",
    "    ['Richard', 'Starkey', 13, Foo()],\n",
    "    name='ringo')"
   ]
  },
  {
   "cell_type": "code",
   "execution_count": 45,
   "id": "747939a2-1766-4e8a-9acb-cb7d4dd40a7c",
   "metadata": {},
   "outputs": [
    {
     "data": {
      "text/plain": [
       "0                                 Richard\n",
       "1                                 Starkey\n",
       "2                                      13\n",
       "3    <__main__.Foo object at 0x118ac1a00>\n",
       "Name: ringo, dtype: object"
      ]
     },
     "execution_count": 45,
     "metadata": {},
     "output_type": "execute_result"
    }
   ],
   "source": [
    "ringo"
   ]
  },
  {
   "cell_type": "code",
   "execution_count": 51,
   "id": "4c44cd30-9236-48bd-99b8-8b6e4c1d83c8",
   "metadata": {},
   "outputs": [],
   "source": [
    "import numpy as np\n",
    "nan_series = pd.Series([2, np.nan],\n",
    "                       index=['Ono', 'Clapton'])"
   ]
  },
  {
   "cell_type": "code",
   "execution_count": 53,
   "id": "3cd0f685-59fa-4458-a400-7decc577531a",
   "metadata": {},
   "outputs": [
    {
     "data": {
      "text/plain": [
       "Ono        2.0\n",
       "Clapton    NaN\n",
       "dtype: float64"
      ]
     },
     "execution_count": 53,
     "metadata": {},
     "output_type": "execute_result"
    }
   ],
   "source": [
    "nan_series"
   ]
  },
  {
   "cell_type": "code",
   "execution_count": 55,
   "id": "484f66cd-b0b2-4900-aa02-53dd39b1d3ce",
   "metadata": {},
   "outputs": [],
   "source": [
    "nan_series2 = pd.Series([2, np.nan],\n",
    "                        index=['Ono', 'Clapton'],\n",
    "                        dtype='int64[pyarrow]')"
   ]
  },
  {
   "cell_type": "code",
   "execution_count": 57,
   "id": "8f780a97-f2fa-40d5-9163-60d35e902bb0",
   "metadata": {},
   "outputs": [
    {
     "data": {
      "text/plain": [
       "Ono           2\n",
       "Clapton    <NA>\n",
       "dtype: int64[pyarrow]"
      ]
     },
     "execution_count": 57,
     "metadata": {},
     "output_type": "execute_result"
    }
   ],
   "source": [
    "nan_series2"
   ]
  },
  {
   "cell_type": "code",
   "execution_count": 59,
   "id": "70ce57aa-b721-48ba-85b6-2cb3e2ad9722",
   "metadata": {},
   "outputs": [
    {
     "data": {
      "text/plain": [
       "1"
      ]
     },
     "execution_count": 59,
     "metadata": {},
     "output_type": "execute_result"
    }
   ],
   "source": [
    "nan_series2.count()"
   ]
  },
  {
   "cell_type": "code",
   "execution_count": 63,
   "id": "a8922693-fc8a-4fce-945f-b51c795cffed",
   "metadata": {},
   "outputs": [
    {
     "data": {
      "text/plain": [
       "2"
      ]
     },
     "execution_count": 63,
     "metadata": {},
     "output_type": "execute_result"
    }
   ],
   "source": [
    "nan_series2.size"
   ]
  },
  {
   "cell_type": "code",
   "execution_count": 67,
   "id": "de694ff5-9ff4-4b3b-8ea9-799e2f704576",
   "metadata": {},
   "outputs": [],
   "source": [
    "numpy_ser = np.array([164, 124, 83, 31])"
   ]
  },
  {
   "cell_type": "code",
   "execution_count": 69,
   "id": "a04c8a61-cfd8-4252-a35b-07573b69827f",
   "metadata": {},
   "outputs": [
    {
     "data": {
      "text/plain": [
       "432"
      ]
     },
     "execution_count": 69,
     "metadata": {},
     "output_type": "execute_result"
    }
   ],
   "source": [
    "songs3.iloc[1]"
   ]
  },
  {
   "cell_type": "code",
   "execution_count": 71,
   "id": "1c135773-b155-45f7-8247-41da80f5a30a",
   "metadata": {},
   "outputs": [
    {
     "data": {
      "text/plain": [
       "124"
      ]
     },
     "execution_count": 71,
     "metadata": {},
     "output_type": "execute_result"
    }
   ],
   "source": [
    "numpy_ser[1]"
   ]
  },
  {
   "cell_type": "code",
   "execution_count": 75,
   "id": "a296c790-0efb-465c-8e5a-22683d199f30",
   "metadata": {},
   "outputs": [
    {
     "data": {
      "text/plain": [
       "235.5"
      ]
     },
     "execution_count": 75,
     "metadata": {},
     "output_type": "execute_result"
    }
   ],
   "source": [
    "songs3. mean()"
   ]
  },
  {
   "cell_type": "code",
   "execution_count": 77,
   "id": "21af4d92-a33b-4bda-b452-560bcb5dffab",
   "metadata": {},
   "outputs": [
    {
     "data": {
      "text/plain": [
       "100.5"
      ]
     },
     "execution_count": 77,
     "metadata": {},
     "output_type": "execute_result"
    }
   ],
   "source": [
    "numpy_ser.mean()"
   ]
  },
  {
   "cell_type": "code",
   "execution_count": 85,
   "id": "8232e413-f2f8-4191-87da-20021f4fc9d3",
   "metadata": {},
   "outputs": [
    {
     "data": {
      "text/plain": [
       "35"
      ]
     },
     "execution_count": 85,
     "metadata": {},
     "output_type": "execute_result"
    }
   ],
   "source": [
    "len(set(dir(numpy_ser)) & set(dir(songs)))"
   ]
  },
  {
   "cell_type": "code",
   "execution_count": 91,
   "id": "afad1461-f920-4315-a9bc-13cd2619dc95",
   "metadata": {},
   "outputs": [],
   "source": [
    "mask = songs3 > songs3.median() #boolean array"
   ]
  },
  {
   "cell_type": "code",
   "execution_count": 93,
   "id": "a97a02c2-9d65-485d-aa4a-31cb35a81601",
   "metadata": {},
   "outputs": [
    {
     "data": {
      "text/plain": [
       "Paul       True\n",
       "John       True\n",
       "George    False\n",
       "Ringo     False\n",
       "Name: counts, dtype: bool[pyarrow]"
      ]
     },
     "execution_count": 93,
     "metadata": {},
     "output_type": "execute_result"
    }
   ],
   "source": [
    "mask"
   ]
  },
  {
   "cell_type": "code",
   "execution_count": 95,
   "id": "5d03e908-a9aa-494a-8af9-4bf9ddf3c0c1",
   "metadata": {},
   "outputs": [
    {
     "data": {
      "text/plain": [
       "Paul    456\n",
       "John    432\n",
       "Name: counts, dtype: int64[pyarrow]"
      ]
     },
     "execution_count": 95,
     "metadata": {},
     "output_type": "execute_result"
    }
   ],
   "source": [
    "songs3[mask]"
   ]
  },
  {
   "cell_type": "code",
   "execution_count": 99,
   "id": "b22a038d-2973-4c0b-9701-4ba84296fe9b",
   "metadata": {},
   "outputs": [
    {
     "data": {
      "text/plain": [
       "array([164, 124])"
      ]
     },
     "execution_count": 99,
     "metadata": {},
     "output_type": "execute_result"
    }
   ],
   "source": [
    "numpy_ser[numpy_ser > np.median(numpy_ser)]"
   ]
  },
  {
   "cell_type": "code",
   "execution_count": 107,
   "id": "b6566710-a8af-4ebd-ab73-24e0bde15657",
   "metadata": {},
   "outputs": [],
   "source": [
    "s = pd.Series(['s','m','l'],\n",
    "               dtype='category')"
   ]
  },
  {
   "cell_type": "code",
   "execution_count": 109,
   "id": "81c894ec-414f-496c-9690-f4487e28551f",
   "metadata": {},
   "outputs": [
    {
     "data": {
      "text/plain": [
       "0    s\n",
       "1    m\n",
       "2    l\n",
       "dtype: category\n",
       "Categories (3, object): ['l', 'm', 's']"
      ]
     },
     "execution_count": 109,
     "metadata": {},
     "output_type": "execute_result"
    }
   ],
   "source": [
    "s"
   ]
  },
  {
   "cell_type": "code",
   "execution_count": 111,
   "id": "1e7088f4-dc7c-45bf-a003-bbb6ba667705",
   "metadata": {},
   "outputs": [],
   "source": [
    "import pyarrow as pa"
   ]
  },
  {
   "cell_type": "code",
   "execution_count": 113,
   "id": "92a6b8c3-bfb7-433d-8c93-95aed5e38678",
   "metadata": {},
   "outputs": [],
   "source": [
    "dict_type = pd.ArrowDtype(pa.dictionary(pa.int64(),pa.utf8()))"
   ]
  },
  {
   "cell_type": "code",
   "execution_count": 115,
   "id": "6a0de1ed-6fed-494d-b659-b0af4b9df711",
   "metadata": {},
   "outputs": [],
   "source": [
    "s = pd.Series(['s','m','l'],\n",
    "               dtype=dict_type)"
   ]
  },
  {
   "cell_type": "code",
   "execution_count": 117,
   "id": "e4de5cfe-f28e-4591-8e94-b2f336897507",
   "metadata": {},
   "outputs": [
    {
     "data": {
      "text/plain": [
       "0    s\n",
       "1    m\n",
       "2    l\n",
       "dtype: dictionary<values=string, indices=int64, ordered=0>[pyarrow]"
      ]
     },
     "execution_count": 117,
     "metadata": {},
     "output_type": "execute_result"
    }
   ],
   "source": [
    "s"
   ]
  },
  {
   "cell_type": "code",
   "execution_count": 121,
   "id": "0fad5392-cced-4252-a549-f296807c8769",
   "metadata": {},
   "outputs": [],
   "source": [
    "(pd.Series(['s','m','l'],\n",
    "               dtype='category')\n",
    " .rename('size')\n",
    " .to_frame()\n",
    " .to_feather('/tmp/cat.ft')\n",
    ")"
   ]
  },
  {
   "cell_type": "code",
   "execution_count": 123,
   "id": "42e7c15b-85fb-47f1-9500-a9ecb1780434",
   "metadata": {},
   "outputs": [
    {
     "data": {
      "text/plain": [
       "dictionary<values=string, indices=int8, ordered=0>[pyarrow]"
      ]
     },
     "execution_count": 123,
     "metadata": {},
     "output_type": "execute_result"
    }
   ],
   "source": [
    "(pd.read_feather('/tmp/cat.ft',\n",
    "                 dtype_backend='pyarrow')\n",
    " .loc[:, 'size']\n",
    " .dtype\n",
    ")"
   ]
  },
  {
   "cell_type": "code",
   "execution_count": 127,
   "id": "223bb37f-58f3-4a0b-a6a6-db14bbcefcab",
   "metadata": {},
   "outputs": [
    {
     "data": {
      "text/plain": [
       "False"
      ]
     },
     "execution_count": 127,
     "metadata": {},
     "output_type": "execute_result"
    }
   ],
   "source": [
    "s = pd.Series(['s','m','l'],\n",
    "              dtype='category')\n",
    "s.cat.ordered"
   ]
  },
  {
   "cell_type": "code",
   "execution_count": 131,
   "id": "204c1c6b-a7ca-4e6c-bc65-c82f6b1c6ef8",
   "metadata": {},
   "outputs": [],
   "source": [
    "s2 = pd.Series(['m','l', 'xs', 's', 'xl'], dtype='string[pyarrow]')"
   ]
  },
  {
   "cell_type": "code",
   "execution_count": 139,
   "id": "5ac3b928-f8e7-41da-b7d9-84854dc10f1b",
   "metadata": {},
   "outputs": [],
   "source": [
    "size_type = pd.CategoricalDtype(\n",
    "    categories = ['s','m','l'],\n",
    "    ordered=True)"
   ]
  },
  {
   "cell_type": "code",
   "execution_count": 141,
   "id": "c207dcca-8f21-4f7c-8562-eb3815261f26",
   "metadata": {},
   "outputs": [],
   "source": [
    "s3 = s2.astype(size_type)"
   ]
  },
  {
   "cell_type": "code",
   "execution_count": 143,
   "id": "f229fa8c-bced-41f1-9662-c988905c8592",
   "metadata": {},
   "outputs": [
    {
     "data": {
      "text/plain": [
       "0      m\n",
       "1      l\n",
       "2    NaN\n",
       "3      s\n",
       "4    NaN\n",
       "dtype: category\n",
       "Categories (3, object): ['s' < 'm' < 'l']"
      ]
     },
     "execution_count": 143,
     "metadata": {},
     "output_type": "execute_result"
    }
   ],
   "source": [
    "s3"
   ]
  },
  {
   "cell_type": "code",
   "execution_count": 145,
   "id": "abb0fb2a-87bf-4fd1-bf40-774a5b1cc902",
   "metadata": {},
   "outputs": [
    {
     "data": {
      "text/plain": [
       "0     True\n",
       "1     True\n",
       "2    False\n",
       "3    False\n",
       "4    False\n",
       "dtype: bool"
      ]
     },
     "execution_count": 145,
     "metadata": {},
     "output_type": "execute_result"
    }
   ],
   "source": [
    "s3 > 's'"
   ]
  },
  {
   "cell_type": "code",
   "execution_count": 177,
   "id": "822835c7-8d4d-42c8-84ba-aec2cff5c0cc",
   "metadata": {},
   "outputs": [],
   "source": [
    "s = pd.Series(['s','m','l',],\n",
    "              dtype='category')"
   ]
  },
  {
   "cell_type": "code",
   "execution_count": 231,
   "id": "a899a351-4411-4a94-b626-b1675a7718a5",
   "metadata": {},
   "outputs": [
    {
     "ename": "ValueError",
     "evalue": "items in new_categories are not the same as in old categories",
     "output_type": "error",
     "traceback": [
      "\u001b[0;31m---------------------------------------------------------------------------\u001b[0m",
      "\u001b[0;31mValueError\u001b[0m                                Traceback (most recent call last)",
      "Cell \u001b[0;32mIn[231], line 1\u001b[0m\n\u001b[0;32m----> 1\u001b[0m s\u001b[38;5;241m.\u001b[39mcat\u001b[38;5;241m.\u001b[39mreorder_categories([\u001b[38;5;124m'\u001b[39m\u001b[38;5;124ms\u001b[39m\u001b[38;5;124m'\u001b[39m,\u001b[38;5;124m'\u001b[39m\u001b[38;5;124mm\u001b[39m\u001b[38;5;124m'\u001b[39m,\u001b[38;5;124m'\u001b[39m\u001b[38;5;124ml\u001b[39m\u001b[38;5;124m'\u001b[39m,\u001b[38;5;124m'\u001b[39m\u001b[38;5;124mxl\u001b[39m\u001b[38;5;124m'\u001b[39m], ordered\u001b[38;5;241m=\u001b[39m\u001b[38;5;28;01mTrue\u001b[39;00m)\n",
      "File \u001b[0;32m/opt/anaconda3/lib/python3.12/site-packages/pandas/core/accessor.py:112\u001b[0m, in \u001b[0;36mPandasDelegate._add_delegate_accessors.<locals>._create_delegator_method.<locals>.f\u001b[0;34m(self, *args, **kwargs)\u001b[0m\n\u001b[1;32m    111\u001b[0m \u001b[38;5;28;01mdef\u001b[39;00m \u001b[38;5;21mf\u001b[39m(\u001b[38;5;28mself\u001b[39m, \u001b[38;5;241m*\u001b[39margs, \u001b[38;5;241m*\u001b[39m\u001b[38;5;241m*\u001b[39mkwargs):\n\u001b[0;32m--> 112\u001b[0m     \u001b[38;5;28;01mreturn\u001b[39;00m \u001b[38;5;28mself\u001b[39m\u001b[38;5;241m.\u001b[39m_delegate_method(name, \u001b[38;5;241m*\u001b[39margs, \u001b[38;5;241m*\u001b[39m\u001b[38;5;241m*\u001b[39mkwargs)\n",
      "File \u001b[0;32m/opt/anaconda3/lib/python3.12/site-packages/pandas/core/arrays/categorical.py:2941\u001b[0m, in \u001b[0;36mCategoricalAccessor._delegate_method\u001b[0;34m(self, name, *args, **kwargs)\u001b[0m\n\u001b[1;32m   2938\u001b[0m \u001b[38;5;28;01mfrom\u001b[39;00m \u001b[38;5;21;01mpandas\u001b[39;00m \u001b[38;5;28;01mimport\u001b[39;00m Series\n\u001b[1;32m   2940\u001b[0m method \u001b[38;5;241m=\u001b[39m \u001b[38;5;28mgetattr\u001b[39m(\u001b[38;5;28mself\u001b[39m\u001b[38;5;241m.\u001b[39m_parent, name)\n\u001b[0;32m-> 2941\u001b[0m res \u001b[38;5;241m=\u001b[39m method(\u001b[38;5;241m*\u001b[39margs, \u001b[38;5;241m*\u001b[39m\u001b[38;5;241m*\u001b[39mkwargs)\n\u001b[1;32m   2942\u001b[0m \u001b[38;5;28;01mif\u001b[39;00m res \u001b[38;5;129;01mis\u001b[39;00m \u001b[38;5;129;01mnot\u001b[39;00m \u001b[38;5;28;01mNone\u001b[39;00m:\n\u001b[1;32m   2943\u001b[0m     \u001b[38;5;28;01mreturn\u001b[39;00m Series(res, index\u001b[38;5;241m=\u001b[39m\u001b[38;5;28mself\u001b[39m\u001b[38;5;241m.\u001b[39m_index, name\u001b[38;5;241m=\u001b[39m\u001b[38;5;28mself\u001b[39m\u001b[38;5;241m.\u001b[39m_name)\n",
      "File \u001b[0;32m/opt/anaconda3/lib/python3.12/site-packages/pandas/core/arrays/categorical.py:1278\u001b[0m, in \u001b[0;36mCategorical.reorder_categories\u001b[0;34m(self, new_categories, ordered)\u001b[0m\n\u001b[1;32m   1209\u001b[0m \u001b[38;5;250m\u001b[39m\u001b[38;5;124;03m\"\"\"\u001b[39;00m\n\u001b[1;32m   1210\u001b[0m \u001b[38;5;124;03mReorder categories as specified in new_categories.\u001b[39;00m\n\u001b[1;32m   1211\u001b[0m \n\u001b[0;32m   (...)\u001b[0m\n\u001b[1;32m   1272\u001b[0m \u001b[38;5;124;03m                 ordered=True, dtype='category')\u001b[39;00m\n\u001b[1;32m   1273\u001b[0m \u001b[38;5;124;03m\"\"\"\u001b[39;00m\n\u001b[1;32m   1274\u001b[0m \u001b[38;5;28;01mif\u001b[39;00m (\n\u001b[1;32m   1275\u001b[0m     \u001b[38;5;28mlen\u001b[39m(\u001b[38;5;28mself\u001b[39m\u001b[38;5;241m.\u001b[39mcategories) \u001b[38;5;241m!=\u001b[39m \u001b[38;5;28mlen\u001b[39m(new_categories)\n\u001b[1;32m   1276\u001b[0m     \u001b[38;5;129;01mor\u001b[39;00m \u001b[38;5;129;01mnot\u001b[39;00m \u001b[38;5;28mself\u001b[39m\u001b[38;5;241m.\u001b[39mcategories\u001b[38;5;241m.\u001b[39mdifference(new_categories)\u001b[38;5;241m.\u001b[39mempty\n\u001b[1;32m   1277\u001b[0m ):\n\u001b[0;32m-> 1278\u001b[0m     \u001b[38;5;28;01mraise\u001b[39;00m \u001b[38;5;167;01mValueError\u001b[39;00m(\n\u001b[1;32m   1279\u001b[0m         \u001b[38;5;124m\"\u001b[39m\u001b[38;5;124mitems in new_categories are not the same as in old categories\u001b[39m\u001b[38;5;124m\"\u001b[39m\n\u001b[1;32m   1280\u001b[0m     )\n\u001b[1;32m   1281\u001b[0m \u001b[38;5;28;01mreturn\u001b[39;00m \u001b[38;5;28mself\u001b[39m\u001b[38;5;241m.\u001b[39mset_categories(new_categories, ordered\u001b[38;5;241m=\u001b[39mordered)\n",
      "\u001b[0;31mValueError\u001b[0m: items in new_categories are not the same as in old categories"
     ]
    }
   ],
   "source": [
    "s.cat.reorder_categories(['s','m','l','xl'], ordered=True)\n",
    "# Showing how you must have already defined the categories fully before trying to reorder them"
   ]
  },
  {
   "cell_type": "code",
   "execution_count": 181,
   "id": "0fc19da4-9cb8-46ce-a722-3473ce8ac905",
   "metadata": {},
   "outputs": [
    {
     "data": {
      "text/plain": [
       "Index(['l', 'm', 's'], dtype='object')"
      ]
     },
     "execution_count": 181,
     "metadata": {},
     "output_type": "execute_result"
    }
   ],
   "source": [
    "s.cat.categories"
   ]
  },
  {
   "cell_type": "code",
   "execution_count": 183,
   "id": "a7e70d6e-854f-4b25-b903-c6e9ccf61fab",
   "metadata": {},
   "outputs": [
    {
     "data": {
      "text/plain": [
       "0    s\n",
       "1    m\n",
       "2    l\n",
       "dtype: category\n",
       "Categories (5, object): ['xs' < 's' < 'm' < 'l' < 'xl']"
      ]
     },
     "execution_count": 183,
     "metadata": {},
     "output_type": "execute_result"
    }
   ],
   "source": [
    "(s.cat.add_categories(['xs','xl', ])\n",
    " .cat.reorder_categories(['xs','s','m','l','xl'],\n",
    "                         ordered=True))"
   ]
  },
  {
   "cell_type": "code",
   "execution_count": 185,
   "id": "1db9a117-ac8e-4f2b-bef9-ae31cfdd41cc",
   "metadata": {},
   "outputs": [
    {
     "data": {
      "text/plain": [
       "0      M\n",
       "1      L\n",
       "2    NaN\n",
       "3      S\n",
       "4    NaN\n",
       "dtype: object"
      ]
     },
     "execution_count": 185,
     "metadata": {},
     "output_type": "execute_result"
    }
   ],
   "source": [
    "s3.str.upper()"
   ]
  },
  {
   "cell_type": "code",
   "execution_count": 187,
   "id": "08df34a5-8a29-45bc-b11c-6dcc1d4377a9",
   "metadata": {},
   "outputs": [],
   "source": [
    "# Methods of functionality\n",
    "# pd.Series(data=None, index=None, dtype=None, name=None, copy=False)\n",
    "# s.index\n",
    "# s.astype(dtype, errors='raise')\n",
    "# s[boolean_array]\n",
    "# s.cat.ordered\n",
    "# s.cat.reorder_categories(new_categories, ordered=False)\n",
    "# s.cat.categories \n",
    "# s.cat.add_categories(new_categories)"
   ]
  },
  {
   "cell_type": "code",
   "execution_count": 189,
   "id": "e2af4c53-9e01-4305-af6a-d89d858e9dcc",
   "metadata": {},
   "outputs": [],
   "source": [
    "# Exercises"
   ]
  },
  {
   "cell_type": "code",
   "execution_count": 203,
   "id": "c6182de2-8c88-4f27-aa49-8cfcf2f5b609",
   "metadata": {},
   "outputs": [
    {
     "data": {
      "text/plain": [
       "0    24\n",
       "1    25\n",
       "2    23\n",
       "5    23\n",
       "8    23\n",
       "9    23\n",
       "dtype: int32[pyarrow]"
      ]
     },
     "execution_count": 203,
     "metadata": {},
     "output_type": "execute_result"
    }
   ],
   "source": [
    "# Using Jupyter, create a series with the temperature values for the last seven days. Filter out the values below the mean\n",
    "import pandas as pd\n",
    "recent_temp = pd.Series([24, 25, 23, 21, 20, 23,21, 20, 23, 23], dtype='int32[pyarrow]')\n",
    "temp_mask = recent_temp > recent_temp.mean()\n",
    "recent_temp[temp_mask]"
   ]
  },
  {
   "cell_type": "code",
   "execution_count": 229,
   "id": "16eb9d9d-8c8c-402e-8edb-8445894c85da",
   "metadata": {},
   "outputs": [
    {
     "data": {
      "text/plain": [
       "0    Forest green\n",
       "1        Dark red\n",
       "2          Yellow\n",
       "3       Navy blue\n",
       "Name: favourite colours, dtype: category\n",
       "Categories (4, object): ['Forest green' < 'Dark red' < 'Yellow' < 'Navy blue']"
      ]
     },
     "execution_count": 229,
     "metadata": {},
     "output_type": "execute_result"
    }
   ],
   "source": [
    "# Using Jupyter, create a series with your favorite colors. Use a categorical type.\n",
    "fav_colours = pd.Series(['Forest green', 'Dark red', 'Yellow', 'Navy blue'], dtype='category', name='favourite colours').cat.reorder_categories(['Forest green', 'Dark red', 'Yellow', 'Navy blue'], ordered=True)\n",
    "fav_colours.cat.ordered\n",
    "fav_colours.cat.categories\n",
    "fav_colours.sort_values()"
   ]
  }
 ],
 "metadata": {
  "kernelspec": {
   "display_name": "Python 3 (ipykernel)",
   "language": "python",
   "name": "python3"
  },
  "language_info": {
   "codemirror_mode": {
    "name": "ipython",
    "version": 3
   },
   "file_extension": ".py",
   "mimetype": "text/x-python",
   "name": "python",
   "nbconvert_exporter": "python",
   "pygments_lexer": "ipython3",
   "version": "3.12.2"
  }
 },
 "nbformat": 4,
 "nbformat_minor": 5
}
