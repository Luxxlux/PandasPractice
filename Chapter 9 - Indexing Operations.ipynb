{
 "cells": [
  {
   "cell_type": "code",
   "execution_count": 11,
   "id": "873efd22-ebb1-436d-98d7-7e74519c9b86",
   "metadata": {},
   "outputs": [],
   "source": [
    "import pandas as pd\n",
    "\n",
    "url = 'https://github.com/mattharrison/datasets/raw/master/data/''vehicles.csv.zip'\n",
    "df = pd.read_csv(url, dtype_backend='pyarrow', engine='pyarrow')\n",
    "pd.set_option('display.max_columns', None)\n",
    "\n",
    "def gt20(val):\n",
    "    return val > 20\n",
    "\n",
    "city_mpg = df.city08\n",
    "highway_mpg = df.highway08\n",
    "make = df.make"
   ]
  },
  {
   "cell_type": "code",
   "execution_count": 21,
   "id": "067ea133-6e8c-4443-ba19-ceb50fdf3a75",
   "metadata": {},
   "outputs": [
    {
     "data": {
      "text/plain": [
       "Alfa Romeo    19\n",
       "Ferrari        9\n",
       "Dodge         23\n",
       "Dodge         10\n",
       "Subaru        17\n",
       "              ..\n",
       "Subaru        19\n",
       "Subaru        20\n",
       "Subaru        18\n",
       "Subaru        18\n",
       "Subaru        16\n",
       "Name: city08, Length: 41144, dtype: int64[pyarrow]"
      ]
     },
     "execution_count": 21,
     "metadata": {},
     "output_type": "execute_result"
    }
   ],
   "source": [
    "city2 = city_mpg.rename(make.to_dict())\n",
    "city2"
   ]
  },
  {
   "cell_type": "code",
   "execution_count": 23,
   "id": "e5886c54-9155-428e-9ae4-3d7a232aef23",
   "metadata": {},
   "outputs": [
    {
     "data": {
      "text/plain": [
       "Index(['Alfa Romeo', 'Ferrari', 'Dodge', 'Dodge', 'Subaru', 'Subaru', 'Subaru',\n",
       "       'Toyota', 'Toyota', 'Toyota',\n",
       "       ...\n",
       "       'Saab', 'Saturn', 'Saturn', 'Saturn', 'Saturn', 'Subaru', 'Subaru',\n",
       "       'Subaru', 'Subaru', 'Subaru'],\n",
       "      dtype='object', length=41144)"
      ]
     },
     "execution_count": 23,
     "metadata": {},
     "output_type": "execute_result"
    }
   ],
   "source": [
    "city2.index"
   ]
  },
  {
   "cell_type": "code",
   "execution_count": 33,
   "id": "6656bbae-42ed-4ed0-a0a3-b6d98d1e427e",
   "metadata": {},
   "outputs": [],
   "source": [
    "city2 = city2.rename('citympg')"
   ]
  },
  {
   "cell_type": "code",
   "execution_count": 35,
   "id": "11bab0d5-d2f7-4022-8bc9-fc362a058c42",
   "metadata": {},
   "outputs": [
    {
     "name": "stdout",
     "output_type": "stream",
     "text": [
      "            index  citympg\n",
      "0      Alfa Romeo       19\n",
      "1         Ferrari        9\n",
      "2           Dodge       23\n",
      "3           Dodge       10\n",
      "4          Subaru       17\n",
      "...           ...      ...\n",
      "41139      Subaru       19\n",
      "41140      Subaru       20\n",
      "41141      Subaru       18\n",
      "41142      Subaru       18\n",
      "41143      Subaru       16\n",
      "\n",
      "[41144 rows x 2 columns]\n"
     ]
    }
   ],
   "source": [
    "print(city2.reset_index())"
   ]
  },
  {
   "cell_type": "code",
   "execution_count": 39,
   "id": "d0eead00-d09b-4200-9bb9-5990ebd44b0e",
   "metadata": {},
   "outputs": [
    {
     "data": {
      "text/plain": [
       "0        19\n",
       "1         9\n",
       "2        23\n",
       "3        10\n",
       "4        17\n",
       "         ..\n",
       "41139    19\n",
       "41140    20\n",
       "41141    18\n",
       "41142    18\n",
       "41143    16\n",
       "Name: citympg, Length: 41144, dtype: int64[pyarrow]"
      ]
     },
     "execution_count": 39,
     "metadata": {},
     "output_type": "execute_result"
    }
   ],
   "source": [
    "city2.reset_index(drop=True)"
   ]
  },
  {
   "cell_type": "code",
   "execution_count": 45,
   "id": "1c83e9ff-48db-4bb8-a37d-3ab343666fc7",
   "metadata": {},
   "outputs": [
    {
     "data": {
      "text/plain": [
       "Subaru    17\n",
       "Subaru    21\n",
       "Subaru    22\n",
       "Subaru    19\n",
       "Subaru    20\n",
       "          ..\n",
       "Subaru    19\n",
       "Subaru    20\n",
       "Subaru    18\n",
       "Subaru    18\n",
       "Subaru    16\n",
       "Name: citympg, Length: 885, dtype: int64[pyarrow]"
      ]
     },
     "execution_count": 45,
     "metadata": {},
     "output_type": "execute_result"
    }
   ],
   "source": [
    "city2.loc['Subaru']\n",
    "city2.loc[['Subaru']]"
   ]
  },
  {
   "cell_type": "code",
   "execution_count": 51,
   "id": "ae71f5d1-ba5c-4282-bdb8-467c52101f49",
   "metadata": {},
   "outputs": [
    {
     "data": {
      "text/plain": [
       "Fisker    20\n",
       "Name: citympg, dtype: int64[pyarrow]"
      ]
     },
     "execution_count": 51,
     "metadata": {},
     "output_type": "execute_result"
    }
   ],
   "source": [
    "city2.loc['Fisker']\n",
    "city2.loc[['Fisker']]"
   ]
  },
  {
   "cell_type": "code",
   "execution_count": 57,
   "id": "67fda103-b2cb-4fbe-afdd-3ba93820ded1",
   "metadata": {},
   "outputs": [
    {
     "data": {
      "text/plain": [
       "Ferrari         9\n",
       "Ferrari        12\n",
       "Ferrari        11\n",
       "Ferrari        10\n",
       "Ferrari        11\n",
       "               ..\n",
       "Lamborghini     6\n",
       "Lamborghini     8\n",
       "Lamborghini     8\n",
       "Lamborghini     8\n",
       "Lamborghini     8\n",
       "Name: citympg, Length: 357, dtype: int64[pyarrow]"
      ]
     },
     "execution_count": 57,
     "metadata": {},
     "output_type": "execute_result"
    }
   ],
   "source": [
    "city2.loc[['Ferrari','Lamborghini']]"
   ]
  },
  {
   "cell_type": "code",
   "execution_count": 61,
   "id": "3e1c0a35-2be6-484c-837e-210c39661476",
   "metadata": {},
   "outputs": [
    {
     "ename": "KeyError",
     "evalue": "\"Cannot get left slice bound for non-unique label: 'Ferrari'\"",
     "output_type": "error",
     "traceback": [
      "\u001b[0;31m---------------------------------------------------------------------------\u001b[0m",
      "\u001b[0;31mKeyError\u001b[0m                                  Traceback (most recent call last)",
      "Cell \u001b[0;32mIn[61], line 1\u001b[0m\n\u001b[0;32m----> 1\u001b[0m city2\u001b[38;5;241m.\u001b[39mloc[\u001b[38;5;124m'\u001b[39m\u001b[38;5;124mFerrari\u001b[39m\u001b[38;5;124m'\u001b[39m:\u001b[38;5;124m'\u001b[39m\u001b[38;5;124mLamborghini\u001b[39m\u001b[38;5;124m'\u001b[39m]\n",
      "File \u001b[0;32m/opt/anaconda3/lib/python3.12/site-packages/pandas/core/indexing.py:1191\u001b[0m, in \u001b[0;36m_LocationIndexer.__getitem__\u001b[0;34m(self, key)\u001b[0m\n\u001b[1;32m   1189\u001b[0m maybe_callable \u001b[38;5;241m=\u001b[39m com\u001b[38;5;241m.\u001b[39mapply_if_callable(key, \u001b[38;5;28mself\u001b[39m\u001b[38;5;241m.\u001b[39mobj)\n\u001b[1;32m   1190\u001b[0m maybe_callable \u001b[38;5;241m=\u001b[39m \u001b[38;5;28mself\u001b[39m\u001b[38;5;241m.\u001b[39m_check_deprecated_callable_usage(key, maybe_callable)\n\u001b[0;32m-> 1191\u001b[0m \u001b[38;5;28;01mreturn\u001b[39;00m \u001b[38;5;28mself\u001b[39m\u001b[38;5;241m.\u001b[39m_getitem_axis(maybe_callable, axis\u001b[38;5;241m=\u001b[39maxis)\n",
      "File \u001b[0;32m/opt/anaconda3/lib/python3.12/site-packages/pandas/core/indexing.py:1411\u001b[0m, in \u001b[0;36m_LocIndexer._getitem_axis\u001b[0;34m(self, key, axis)\u001b[0m\n\u001b[1;32m   1409\u001b[0m \u001b[38;5;28;01mif\u001b[39;00m \u001b[38;5;28misinstance\u001b[39m(key, \u001b[38;5;28mslice\u001b[39m):\n\u001b[1;32m   1410\u001b[0m     \u001b[38;5;28mself\u001b[39m\u001b[38;5;241m.\u001b[39m_validate_key(key, axis)\n\u001b[0;32m-> 1411\u001b[0m     \u001b[38;5;28;01mreturn\u001b[39;00m \u001b[38;5;28mself\u001b[39m\u001b[38;5;241m.\u001b[39m_get_slice_axis(key, axis\u001b[38;5;241m=\u001b[39maxis)\n\u001b[1;32m   1412\u001b[0m \u001b[38;5;28;01melif\u001b[39;00m com\u001b[38;5;241m.\u001b[39mis_bool_indexer(key):\n\u001b[1;32m   1413\u001b[0m     \u001b[38;5;28;01mreturn\u001b[39;00m \u001b[38;5;28mself\u001b[39m\u001b[38;5;241m.\u001b[39m_getbool_axis(key, axis\u001b[38;5;241m=\u001b[39maxis)\n",
      "File \u001b[0;32m/opt/anaconda3/lib/python3.12/site-packages/pandas/core/indexing.py:1443\u001b[0m, in \u001b[0;36m_LocIndexer._get_slice_axis\u001b[0;34m(self, slice_obj, axis)\u001b[0m\n\u001b[1;32m   1440\u001b[0m     \u001b[38;5;28;01mreturn\u001b[39;00m obj\u001b[38;5;241m.\u001b[39mcopy(deep\u001b[38;5;241m=\u001b[39m\u001b[38;5;28;01mFalse\u001b[39;00m)\n\u001b[1;32m   1442\u001b[0m labels \u001b[38;5;241m=\u001b[39m obj\u001b[38;5;241m.\u001b[39m_get_axis(axis)\n\u001b[0;32m-> 1443\u001b[0m indexer \u001b[38;5;241m=\u001b[39m labels\u001b[38;5;241m.\u001b[39mslice_indexer(slice_obj\u001b[38;5;241m.\u001b[39mstart, slice_obj\u001b[38;5;241m.\u001b[39mstop, slice_obj\u001b[38;5;241m.\u001b[39mstep)\n\u001b[1;32m   1445\u001b[0m \u001b[38;5;28;01mif\u001b[39;00m \u001b[38;5;28misinstance\u001b[39m(indexer, \u001b[38;5;28mslice\u001b[39m):\n\u001b[1;32m   1446\u001b[0m     \u001b[38;5;28;01mreturn\u001b[39;00m \u001b[38;5;28mself\u001b[39m\u001b[38;5;241m.\u001b[39mobj\u001b[38;5;241m.\u001b[39m_slice(indexer, axis\u001b[38;5;241m=\u001b[39maxis)\n",
      "File \u001b[0;32m/opt/anaconda3/lib/python3.12/site-packages/pandas/core/indexes/base.py:6662\u001b[0m, in \u001b[0;36mIndex.slice_indexer\u001b[0;34m(self, start, end, step)\u001b[0m\n\u001b[1;32m   6618\u001b[0m \u001b[38;5;28;01mdef\u001b[39;00m \u001b[38;5;21mslice_indexer\u001b[39m(\n\u001b[1;32m   6619\u001b[0m     \u001b[38;5;28mself\u001b[39m,\n\u001b[1;32m   6620\u001b[0m     start: Hashable \u001b[38;5;241m|\u001b[39m \u001b[38;5;28;01mNone\u001b[39;00m \u001b[38;5;241m=\u001b[39m \u001b[38;5;28;01mNone\u001b[39;00m,\n\u001b[1;32m   6621\u001b[0m     end: Hashable \u001b[38;5;241m|\u001b[39m \u001b[38;5;28;01mNone\u001b[39;00m \u001b[38;5;241m=\u001b[39m \u001b[38;5;28;01mNone\u001b[39;00m,\n\u001b[1;32m   6622\u001b[0m     step: \u001b[38;5;28mint\u001b[39m \u001b[38;5;241m|\u001b[39m \u001b[38;5;28;01mNone\u001b[39;00m \u001b[38;5;241m=\u001b[39m \u001b[38;5;28;01mNone\u001b[39;00m,\n\u001b[1;32m   6623\u001b[0m ) \u001b[38;5;241m-\u001b[39m\u001b[38;5;241m>\u001b[39m \u001b[38;5;28mslice\u001b[39m:\n\u001b[1;32m   6624\u001b[0m \u001b[38;5;250m    \u001b[39m\u001b[38;5;124;03m\"\"\"\u001b[39;00m\n\u001b[1;32m   6625\u001b[0m \u001b[38;5;124;03m    Compute the slice indexer for input labels and step.\u001b[39;00m\n\u001b[1;32m   6626\u001b[0m \n\u001b[0;32m   (...)\u001b[0m\n\u001b[1;32m   6660\u001b[0m \u001b[38;5;124;03m    slice(1, 3, None)\u001b[39;00m\n\u001b[1;32m   6661\u001b[0m \u001b[38;5;124;03m    \"\"\"\u001b[39;00m\n\u001b[0;32m-> 6662\u001b[0m     start_slice, end_slice \u001b[38;5;241m=\u001b[39m \u001b[38;5;28mself\u001b[39m\u001b[38;5;241m.\u001b[39mslice_locs(start, end, step\u001b[38;5;241m=\u001b[39mstep)\n\u001b[1;32m   6664\u001b[0m     \u001b[38;5;66;03m# return a slice\u001b[39;00m\n\u001b[1;32m   6665\u001b[0m     \u001b[38;5;28;01mif\u001b[39;00m \u001b[38;5;129;01mnot\u001b[39;00m is_scalar(start_slice):\n",
      "File \u001b[0;32m/opt/anaconda3/lib/python3.12/site-packages/pandas/core/indexes/base.py:6879\u001b[0m, in \u001b[0;36mIndex.slice_locs\u001b[0;34m(self, start, end, step)\u001b[0m\n\u001b[1;32m   6877\u001b[0m start_slice \u001b[38;5;241m=\u001b[39m \u001b[38;5;28;01mNone\u001b[39;00m\n\u001b[1;32m   6878\u001b[0m \u001b[38;5;28;01mif\u001b[39;00m start \u001b[38;5;129;01mis\u001b[39;00m \u001b[38;5;129;01mnot\u001b[39;00m \u001b[38;5;28;01mNone\u001b[39;00m:\n\u001b[0;32m-> 6879\u001b[0m     start_slice \u001b[38;5;241m=\u001b[39m \u001b[38;5;28mself\u001b[39m\u001b[38;5;241m.\u001b[39mget_slice_bound(start, \u001b[38;5;124m\"\u001b[39m\u001b[38;5;124mleft\u001b[39m\u001b[38;5;124m\"\u001b[39m)\n\u001b[1;32m   6880\u001b[0m \u001b[38;5;28;01mif\u001b[39;00m start_slice \u001b[38;5;129;01mis\u001b[39;00m \u001b[38;5;28;01mNone\u001b[39;00m:\n\u001b[1;32m   6881\u001b[0m     start_slice \u001b[38;5;241m=\u001b[39m \u001b[38;5;241m0\u001b[39m\n",
      "File \u001b[0;32m/opt/anaconda3/lib/python3.12/site-packages/pandas/core/indexes/base.py:6812\u001b[0m, in \u001b[0;36mIndex.get_slice_bound\u001b[0;34m(self, label, side)\u001b[0m\n\u001b[1;32m   6810\u001b[0m     slc \u001b[38;5;241m=\u001b[39m lib\u001b[38;5;241m.\u001b[39mmaybe_booleans_to_slice(slc\u001b[38;5;241m.\u001b[39mview(\u001b[38;5;124m\"\u001b[39m\u001b[38;5;124mu1\u001b[39m\u001b[38;5;124m\"\u001b[39m))\n\u001b[1;32m   6811\u001b[0m     \u001b[38;5;28;01mif\u001b[39;00m \u001b[38;5;28misinstance\u001b[39m(slc, np\u001b[38;5;241m.\u001b[39mndarray):\n\u001b[0;32m-> 6812\u001b[0m         \u001b[38;5;28;01mraise\u001b[39;00m \u001b[38;5;167;01mKeyError\u001b[39;00m(\n\u001b[1;32m   6813\u001b[0m             \u001b[38;5;124mf\u001b[39m\u001b[38;5;124m\"\u001b[39m\u001b[38;5;124mCannot get \u001b[39m\u001b[38;5;132;01m{\u001b[39;00mside\u001b[38;5;132;01m}\u001b[39;00m\u001b[38;5;124m slice bound for non-unique \u001b[39m\u001b[38;5;124m\"\u001b[39m\n\u001b[1;32m   6814\u001b[0m             \u001b[38;5;124mf\u001b[39m\u001b[38;5;124m\"\u001b[39m\u001b[38;5;124mlabel: \u001b[39m\u001b[38;5;132;01m{\u001b[39;00m\u001b[38;5;28mrepr\u001b[39m(original_label)\u001b[38;5;132;01m}\u001b[39;00m\u001b[38;5;124m\"\u001b[39m\n\u001b[1;32m   6815\u001b[0m         )\n\u001b[1;32m   6817\u001b[0m \u001b[38;5;28;01mif\u001b[39;00m \u001b[38;5;28misinstance\u001b[39m(slc, \u001b[38;5;28mslice\u001b[39m):\n\u001b[1;32m   6818\u001b[0m     \u001b[38;5;28;01mif\u001b[39;00m side \u001b[38;5;241m==\u001b[39m \u001b[38;5;124m\"\u001b[39m\u001b[38;5;124mleft\u001b[39m\u001b[38;5;124m\"\u001b[39m:\n",
      "\u001b[0;31mKeyError\u001b[0m: \"Cannot get left slice bound for non-unique label: 'Ferrari'\""
     ]
    }
   ],
   "source": [
    "city2.loc['Ferrari':'Lamborghini']"
   ]
  },
  {
   "cell_type": "code",
   "execution_count": 63,
   "id": "82166256-0fcc-4f82-ae90-2c34fb389d6b",
   "metadata": {},
   "outputs": [
    {
     "data": {
      "text/plain": [
       "Ferrari        10\n",
       "Ferrari        13\n",
       "Ferrari        13\n",
       "Ferrari         9\n",
       "Ferrari        10\n",
       "               ..\n",
       "Lamborghini    12\n",
       "Lamborghini     9\n",
       "Lamborghini     8\n",
       "Lamborghini    13\n",
       "Lamborghini     8\n",
       "Name: citympg, Length: 11210, dtype: int64[pyarrow]"
      ]
     },
     "execution_count": 63,
     "metadata": {},
     "output_type": "execute_result"
    }
   ],
   "source": [
    "city2.sort_index().loc['Ferrari':'Lamborghini']"
   ]
  },
  {
   "cell_type": "code",
   "execution_count": 67,
   "id": "33f71d8e-df5f-4549-a5b3-f0e7bc3e84f5",
   "metadata": {},
   "outputs": [
    {
     "data": {
      "text/plain": [
       "Federal Coach    15\n",
       "Federal Coach    13\n",
       "Federal Coach    13\n",
       "Federal Coach    14\n",
       "Federal Coach    13\n",
       "                 ..\n",
       "Isuzu            15\n",
       "Isuzu            15\n",
       "Isuzu            15\n",
       "Isuzu            27\n",
       "Isuzu            18\n",
       "Name: citympg, Length: 9040, dtype: int64[pyarrow]"
      ]
     },
     "execution_count": 67,
     "metadata": {},
     "output_type": "execute_result"
    }
   ],
   "source": [
    "city2.sort_index().loc['F':'J']"
   ]
  },
  {
   "cell_type": "code",
   "execution_count": 73,
   "id": "be110888-2d3c-4a9b-8683-2f38ed80db0b",
   "metadata": {},
   "outputs": [
    {
     "data": {
      "text/plain": [
       "Dodge    23\n",
       "Dodge    10\n",
       "Dodge    12\n",
       "Dodge    11\n",
       "Dodge    11\n",
       "         ..\n",
       "Dodge    18\n",
       "Dodge    17\n",
       "Dodge    14\n",
       "Dodge    14\n",
       "Dodge    11\n",
       "Name: citympg, Length: 2583, dtype: int64[pyarrow]"
      ]
     },
     "execution_count": 73,
     "metadata": {},
     "output_type": "execute_result"
    }
   ],
   "source": [
    "idx = pd.Index(['Dodge'])\n",
    "city2.loc[idx]"
   ]
  },
  {
   "cell_type": "code",
   "execution_count": 77,
   "id": "248f739e-de62-4884-a4e5-23cf202066c8",
   "metadata": {},
   "outputs": [
    {
     "data": {
      "text/plain": [
       "Dodge    23\n",
       "Dodge    10\n",
       "Dodge    12\n",
       "Dodge    11\n",
       "Dodge    11\n",
       "         ..\n",
       "Dodge    18\n",
       "Dodge    17\n",
       "Dodge    14\n",
       "Dodge    14\n",
       "Dodge    11\n",
       "Name: citympg, Length: 5166, dtype: int64[pyarrow]"
      ]
     },
     "execution_count": 77,
     "metadata": {},
     "output_type": "execute_result"
    }
   ],
   "source": [
    "idx = pd.Index(['Dodge','Dodge'])\n",
    "city2.loc[idx]"
   ]
  },
  {
   "cell_type": "code",
   "execution_count": 79,
   "id": "d07a88d1-3411-4b2b-9786-ecdac27bc563",
   "metadata": {},
   "outputs": [
    {
     "data": {
      "text/plain": [
       "Alfa Romeo    False\n",
       "Ferrari       False\n",
       "Dodge         False\n",
       "Dodge         False\n",
       "Subaru        False\n",
       "              ...  \n",
       "Subaru        False\n",
       "Subaru        False\n",
       "Subaru        False\n",
       "Subaru        False\n",
       "Subaru        False\n",
       "Name: citympg, Length: 41144, dtype: bool[pyarrow]"
      ]
     },
     "execution_count": 79,
     "metadata": {},
     "output_type": "execute_result"
    }
   ],
   "source": [
    "mask = city2 > 50\n",
    "mask"
   ]
  },
  {
   "cell_type": "code",
   "execution_count": 81,
   "id": "015f1e4d-8b6b-430c-9d8b-4c3cc8d17d8f",
   "metadata": {},
   "outputs": [
    {
     "data": {
      "text/plain": [
       "Nissan     81\n",
       "Toyota     81\n",
       "Toyota     81\n",
       "Ford       74\n",
       "Nissan     84\n",
       "         ... \n",
       "Tesla     140\n",
       "Tesla     115\n",
       "Tesla     104\n",
       "Tesla      98\n",
       "Toyota     55\n",
       "Name: citympg, Length: 236, dtype: int64[pyarrow]"
      ]
     },
     "execution_count": 81,
     "metadata": {},
     "output_type": "execute_result"
    }
   ],
   "source": [
    "city2.loc[mask]"
   ]
  },
  {
   "cell_type": "code",
   "execution_count": 89,
   "id": "46981811-5e6e-4bc5-aa07-d0460e18c4ba",
   "metadata": {},
   "outputs": [
    {
     "data": {
      "text/plain": [
       "Melon      4.389\n",
       "Carrots    3.069\n",
       "dtype: float64"
      ]
     },
     "execution_count": 89,
     "metadata": {},
     "output_type": "execute_result"
    }
   ],
   "source": [
    "cost = pd.Series([1.00, 2.25, 3.99, .99, 2.79],index=['Gum','Cookie','Melon','Roll', 'Carrots'])\n",
    "inflation = 1.1\n",
    "(cost\n",
    " .mul(inflation)\n",
    " .loc[lambda s_: s_ > 3]\n",
    ")"
   ]
  },
  {
   "cell_type": "code",
   "execution_count": 91,
   "id": "88cd18d4-8248-4e24-86ea-fbdcb598f8fc",
   "metadata": {},
   "outputs": [
    {
     "data": {
      "text/plain": [
       "Melon    4.389\n",
       "dtype: float64"
      ]
     },
     "execution_count": 91,
     "metadata": {},
     "output_type": "execute_result"
    }
   ],
   "source": [
    "cost = pd.Series([1.00, 2.25, 3.99, .99, 2.79],index=['Gum','Cookie','Melon','Roll', 'Carrots'])\n",
    "inflation = 1.1\n",
    "mask = cost > 3\n",
    "\n",
    "(cost\n",
    " .mul(inflation)\n",
    " .loc[mask]\n",
    ")"
   ]
  },
  {
   "cell_type": "code",
   "execution_count": 93,
   "id": "c50d25f6-54c9-4057-bbfb-0160e1c4eefe",
   "metadata": {},
   "outputs": [
    {
     "data": {
      "text/plain": [
       "19"
      ]
     },
     "execution_count": 93,
     "metadata": {},
     "output_type": "execute_result"
    }
   ],
   "source": [
    "city2.iloc[0]"
   ]
  },
  {
   "cell_type": "code",
   "execution_count": 95,
   "id": "6307a512-696a-4f03-9d71-3ddeadaee16d",
   "metadata": {},
   "outputs": [
    {
     "data": {
      "text/plain": [
       "16"
      ]
     },
     "execution_count": 95,
     "metadata": {},
     "output_type": "execute_result"
    }
   ],
   "source": [
    "city2.iloc[-1]"
   ]
  },
  {
   "cell_type": "code",
   "execution_count": 97,
   "id": "ae998b59-23e2-4136-861c-f6aad99d23ae",
   "metadata": {},
   "outputs": [
    {
     "data": {
      "text/plain": [
       "Alfa Romeo    19\n",
       "Ferrari        9\n",
       "Subaru        16\n",
       "Name: citympg, dtype: int64[pyarrow]"
      ]
     },
     "execution_count": 97,
     "metadata": {},
     "output_type": "execute_result"
    }
   ],
   "source": [
    "city2.iloc[[0,1,-1]]"
   ]
  },
  {
   "cell_type": "code",
   "execution_count": 99,
   "id": "4bbe0ad9-b47f-4484-bd00-b381ba536c30",
   "metadata": {},
   "outputs": [
    {
     "data": {
      "text/plain": [
       "Ferrari    9\n",
       "Name: citympg, dtype: int64[pyarrow]"
      ]
     },
     "execution_count": 99,
     "metadata": {},
     "output_type": "execute_result"
    }
   ],
   "source": [
    "city2.iloc[[1]]"
   ]
  },
  {
   "cell_type": "code",
   "execution_count": 101,
   "id": "7d0ba5ba-334c-4e17-a431-d91fe6e4f337",
   "metadata": {},
   "outputs": [
    {
     "data": {
      "text/plain": [
       "Alfa Romeo    19\n",
       "Ferrari        9\n",
       "Dodge         23\n",
       "Dodge         10\n",
       "Subaru        17\n",
       "Name: citympg, dtype: int64[pyarrow]"
      ]
     },
     "execution_count": 101,
     "metadata": {},
     "output_type": "execute_result"
    }
   ],
   "source": [
    "city2.iloc[0:5]"
   ]
  },
  {
   "cell_type": "code",
   "execution_count": 109,
   "id": "c7e6a5f6-5d96-4bf8-88ba-675cc5de055a",
   "metadata": {},
   "outputs": [
    {
     "data": {
      "text/plain": [
       "Saturn    21\n",
       "Saturn    24\n",
       "Saturn    21\n",
       "Subaru    19\n",
       "Subaru    20\n",
       "Subaru    18\n",
       "Subaru    18\n",
       "Subaru    16\n",
       "Name: citympg, dtype: int64[pyarrow]"
      ]
     },
     "execution_count": 109,
     "metadata": {},
     "output_type": "execute_result"
    }
   ],
   "source": [
    "city2.iloc[-8:]"
   ]
  },
  {
   "cell_type": "code",
   "execution_count": 111,
   "id": "064126e8-9115-44fb-9240-8118a3c2e981",
   "metadata": {},
   "outputs": [
    {
     "ename": "ValueError",
     "evalue": "iLocation based boolean indexing cannot use an indexable as a mask",
     "output_type": "error",
     "traceback": [
      "\u001b[0;31m---------------------------------------------------------------------------\u001b[0m",
      "\u001b[0;31mValueError\u001b[0m                                Traceback (most recent call last)",
      "Cell \u001b[0;32mIn[111], line 2\u001b[0m\n\u001b[1;32m      1\u001b[0m mask \u001b[38;5;241m=\u001b[39m city2 \u001b[38;5;241m>\u001b[39m \u001b[38;5;241m50\u001b[39m\n\u001b[0;32m----> 2\u001b[0m city2\u001b[38;5;241m.\u001b[39miloc[mask]\n",
      "File \u001b[0;32m/opt/anaconda3/lib/python3.12/site-packages/pandas/core/indexing.py:1191\u001b[0m, in \u001b[0;36m_LocationIndexer.__getitem__\u001b[0;34m(self, key)\u001b[0m\n\u001b[1;32m   1189\u001b[0m maybe_callable \u001b[38;5;241m=\u001b[39m com\u001b[38;5;241m.\u001b[39mapply_if_callable(key, \u001b[38;5;28mself\u001b[39m\u001b[38;5;241m.\u001b[39mobj)\n\u001b[1;32m   1190\u001b[0m maybe_callable \u001b[38;5;241m=\u001b[39m \u001b[38;5;28mself\u001b[39m\u001b[38;5;241m.\u001b[39m_check_deprecated_callable_usage(key, maybe_callable)\n\u001b[0;32m-> 1191\u001b[0m \u001b[38;5;28;01mreturn\u001b[39;00m \u001b[38;5;28mself\u001b[39m\u001b[38;5;241m.\u001b[39m_getitem_axis(maybe_callable, axis\u001b[38;5;241m=\u001b[39maxis)\n",
      "File \u001b[0;32m/opt/anaconda3/lib/python3.12/site-packages/pandas/core/indexing.py:1738\u001b[0m, in \u001b[0;36m_iLocIndexer._getitem_axis\u001b[0;34m(self, key, axis)\u001b[0m\n\u001b[1;32m   1735\u001b[0m     key \u001b[38;5;241m=\u001b[39m np\u001b[38;5;241m.\u001b[39masarray(key)\n\u001b[1;32m   1737\u001b[0m \u001b[38;5;28;01mif\u001b[39;00m com\u001b[38;5;241m.\u001b[39mis_bool_indexer(key):\n\u001b[0;32m-> 1738\u001b[0m     \u001b[38;5;28mself\u001b[39m\u001b[38;5;241m.\u001b[39m_validate_key(key, axis)\n\u001b[1;32m   1739\u001b[0m     \u001b[38;5;28;01mreturn\u001b[39;00m \u001b[38;5;28mself\u001b[39m\u001b[38;5;241m.\u001b[39m_getbool_axis(key, axis\u001b[38;5;241m=\u001b[39maxis)\n\u001b[1;32m   1741\u001b[0m \u001b[38;5;66;03m# a list of integers\u001b[39;00m\n",
      "File \u001b[0;32m/opt/anaconda3/lib/python3.12/site-packages/pandas/core/indexing.py:1583\u001b[0m, in \u001b[0;36m_iLocIndexer._validate_key\u001b[0;34m(self, key, axis)\u001b[0m\n\u001b[1;32m   1577\u001b[0m         \u001b[38;5;28;01mif\u001b[39;00m key\u001b[38;5;241m.\u001b[39mindex\u001b[38;5;241m.\u001b[39minferred_type \u001b[38;5;241m==\u001b[39m \u001b[38;5;124m\"\u001b[39m\u001b[38;5;124minteger\u001b[39m\u001b[38;5;124m\"\u001b[39m:\n\u001b[1;32m   1578\u001b[0m             \u001b[38;5;28;01mraise\u001b[39;00m \u001b[38;5;167;01mNotImplementedError\u001b[39;00m(\n\u001b[1;32m   1579\u001b[0m                 \u001b[38;5;124m\"\u001b[39m\u001b[38;5;124miLocation based boolean \u001b[39m\u001b[38;5;124m\"\u001b[39m\n\u001b[1;32m   1580\u001b[0m                 \u001b[38;5;124m\"\u001b[39m\u001b[38;5;124mindexing on an integer type \u001b[39m\u001b[38;5;124m\"\u001b[39m\n\u001b[1;32m   1581\u001b[0m                 \u001b[38;5;124m\"\u001b[39m\u001b[38;5;124mis not available\u001b[39m\u001b[38;5;124m\"\u001b[39m\n\u001b[1;32m   1582\u001b[0m             )\n\u001b[0;32m-> 1583\u001b[0m         \u001b[38;5;28;01mraise\u001b[39;00m \u001b[38;5;167;01mValueError\u001b[39;00m(\n\u001b[1;32m   1584\u001b[0m             \u001b[38;5;124m\"\u001b[39m\u001b[38;5;124miLocation based boolean indexing cannot use \u001b[39m\u001b[38;5;124m\"\u001b[39m\n\u001b[1;32m   1585\u001b[0m             \u001b[38;5;124m\"\u001b[39m\u001b[38;5;124man indexable as a mask\u001b[39m\u001b[38;5;124m\"\u001b[39m\n\u001b[1;32m   1586\u001b[0m         )\n\u001b[1;32m   1587\u001b[0m     \u001b[38;5;28;01mreturn\u001b[39;00m\n\u001b[1;32m   1589\u001b[0m \u001b[38;5;28;01mif\u001b[39;00m \u001b[38;5;28misinstance\u001b[39m(key, \u001b[38;5;28mslice\u001b[39m):\n",
      "\u001b[0;31mValueError\u001b[0m: iLocation based boolean indexing cannot use an indexable as a mask"
     ]
    }
   ],
   "source": [
    "mask = city2 > 50\n",
    "city2.iloc[mask]"
   ]
  },
  {
   "cell_type": "code",
   "execution_count": 113,
   "id": "47dc1767-644c-46ae-a4cc-ddef27dbf615",
   "metadata": {},
   "outputs": [
    {
     "data": {
      "text/plain": [
       "Nissan     81\n",
       "Toyota     81\n",
       "Toyota     81\n",
       "Ford       74\n",
       "Nissan     84\n",
       "         ... \n",
       "Tesla     140\n",
       "Tesla     115\n",
       "Tesla     104\n",
       "Tesla      98\n",
       "Toyota     55\n",
       "Name: citympg, Length: 236, dtype: int64[pyarrow]"
      ]
     },
     "execution_count": 113,
     "metadata": {},
     "output_type": "execute_result"
    }
   ],
   "source": [
    "mask = city2 > 50\n",
    "city2.iloc[mask.to_numpy()]"
   ]
  },
  {
   "cell_type": "code",
   "execution_count": 117,
   "id": "a3ecf79d-22d7-46e9-b0ba-a4716b38e181",
   "metadata": {},
   "outputs": [
    {
     "data": {
      "text/plain": [
       "Nissan     81\n",
       "Toyota     81\n",
       "Toyota     81\n",
       "Ford       74\n",
       "Nissan     84\n",
       "         ... \n",
       "Tesla     140\n",
       "Tesla     115\n",
       "Tesla     104\n",
       "Tesla      98\n",
       "Toyota     55\n",
       "Name: citympg, Length: 236, dtype: int64[pyarrow]"
      ]
     },
     "execution_count": 117,
     "metadata": {},
     "output_type": "execute_result"
    }
   ],
   "source": [
    "mask = city2 > 50\n",
    "city2.iloc[list(mask)]"
   ]
  },
  {
   "cell_type": "code",
   "execution_count": 119,
   "id": "c646b112-d7f7-41bc-b446-c8d1333dabf7",
   "metadata": {},
   "outputs": [
    {
     "data": {
      "text/plain": [
       "Alfa Romeo    19\n",
       "Ferrari        9\n",
       "Dodge         23\n",
       "Name: citympg, dtype: int64[pyarrow]"
      ]
     },
     "execution_count": 119,
     "metadata": {},
     "output_type": "execute_result"
    }
   ],
   "source": [
    "city2.head(3)"
   ]
  },
  {
   "cell_type": "code",
   "execution_count": 121,
   "id": "083b1eb5-86e6-4ad7-94d4-630fabd8717b",
   "metadata": {},
   "outputs": [
    {
     "data": {
      "text/plain": [
       "Subaru    18\n",
       "Subaru    18\n",
       "Subaru    16\n",
       "Name: citympg, dtype: int64[pyarrow]"
      ]
     },
     "execution_count": 121,
     "metadata": {},
     "output_type": "execute_result"
    }
   ],
   "source": [
    "city2.tail(3)"
   ]
  },
  {
   "cell_type": "code",
   "execution_count": 123,
   "id": "9895f1a8-1e14-44c6-8f5b-a0c2dfc7f81e",
   "metadata": {},
   "outputs": [
    {
     "data": {
      "text/plain": [
       "Volvo         16\n",
       "Mitsubishi    19\n",
       "Buick         27\n",
       "Jeep          15\n",
       "Land Rover    13\n",
       "Saab          17\n",
       "Name: citympg, dtype: int64[pyarrow]"
      ]
     },
     "execution_count": 123,
     "metadata": {},
     "output_type": "execute_result"
    }
   ],
   "source": [
    "city2.sample(6, random_state=42)"
   ]
  },
  {
   "cell_type": "code",
   "execution_count": 127,
   "id": "6efe6de0-74ad-4197-8db0-ada200c09dec",
   "metadata": {},
   "outputs": [
    {
     "ename": "ValueError",
     "evalue": "cannot reindex on an axis with duplicate labels",
     "output_type": "error",
     "traceback": [
      "\u001b[0;31m---------------------------------------------------------------------------\u001b[0m",
      "\u001b[0;31mValueError\u001b[0m                                Traceback (most recent call last)",
      "Cell \u001b[0;32mIn[127], line 1\u001b[0m\n\u001b[0;32m----> 1\u001b[0m city2\u001b[38;5;241m.\u001b[39mfilter(items\u001b[38;5;241m=\u001b[39m[\u001b[38;5;124m'\u001b[39m\u001b[38;5;124mFord\u001b[39m\u001b[38;5;124m'\u001b[39m,\u001b[38;5;124m'\u001b[39m\u001b[38;5;124mSubaru\u001b[39m\u001b[38;5;124m'\u001b[39m])\n",
      "File \u001b[0;32m/opt/anaconda3/lib/python3.12/site-packages/pandas/core/generic.py:5798\u001b[0m, in \u001b[0;36mNDFrame.filter\u001b[0;34m(self, items, like, regex, axis)\u001b[0m\n\u001b[1;32m   5796\u001b[0m         items \u001b[38;5;241m=\u001b[39m items\u001b[38;5;241m.\u001b[39mastype(labels\u001b[38;5;241m.\u001b[39mdtype)\n\u001b[1;32m   5797\u001b[0m     \u001b[38;5;66;03m# error: Keywords must be strings\u001b[39;00m\n\u001b[0;32m-> 5798\u001b[0m     \u001b[38;5;28;01mreturn\u001b[39;00m \u001b[38;5;28mself\u001b[39m\u001b[38;5;241m.\u001b[39mreindex(\u001b[38;5;241m*\u001b[39m\u001b[38;5;241m*\u001b[39m{name: items})  \u001b[38;5;66;03m# type: ignore[misc]\u001b[39;00m\n\u001b[1;32m   5799\u001b[0m \u001b[38;5;28;01melif\u001b[39;00m like:\n\u001b[1;32m   5801\u001b[0m     \u001b[38;5;28;01mdef\u001b[39;00m \u001b[38;5;21mf\u001b[39m(x) \u001b[38;5;241m-\u001b[39m\u001b[38;5;241m>\u001b[39m bool_t:\n",
      "File \u001b[0;32m/opt/anaconda3/lib/python3.12/site-packages/pandas/core/series.py:5153\u001b[0m, in \u001b[0;36mSeries.reindex\u001b[0;34m(self, index, axis, method, copy, level, fill_value, limit, tolerance)\u001b[0m\n\u001b[1;32m   5136\u001b[0m \u001b[38;5;129m@doc\u001b[39m(\n\u001b[1;32m   5137\u001b[0m     NDFrame\u001b[38;5;241m.\u001b[39mreindex,  \u001b[38;5;66;03m# type: ignore[has-type]\u001b[39;00m\n\u001b[1;32m   5138\u001b[0m     klass\u001b[38;5;241m=\u001b[39m_shared_doc_kwargs[\u001b[38;5;124m\"\u001b[39m\u001b[38;5;124mklass\u001b[39m\u001b[38;5;124m\"\u001b[39m],\n\u001b[0;32m   (...)\u001b[0m\n\u001b[1;32m   5151\u001b[0m     tolerance\u001b[38;5;241m=\u001b[39m\u001b[38;5;28;01mNone\u001b[39;00m,\n\u001b[1;32m   5152\u001b[0m ) \u001b[38;5;241m-\u001b[39m\u001b[38;5;241m>\u001b[39m Series:\n\u001b[0;32m-> 5153\u001b[0m     \u001b[38;5;28;01mreturn\u001b[39;00m \u001b[38;5;28msuper\u001b[39m()\u001b[38;5;241m.\u001b[39mreindex(\n\u001b[1;32m   5154\u001b[0m         index\u001b[38;5;241m=\u001b[39mindex,\n\u001b[1;32m   5155\u001b[0m         method\u001b[38;5;241m=\u001b[39mmethod,\n\u001b[1;32m   5156\u001b[0m         copy\u001b[38;5;241m=\u001b[39mcopy,\n\u001b[1;32m   5157\u001b[0m         level\u001b[38;5;241m=\u001b[39mlevel,\n\u001b[1;32m   5158\u001b[0m         fill_value\u001b[38;5;241m=\u001b[39mfill_value,\n\u001b[1;32m   5159\u001b[0m         limit\u001b[38;5;241m=\u001b[39mlimit,\n\u001b[1;32m   5160\u001b[0m         tolerance\u001b[38;5;241m=\u001b[39mtolerance,\n\u001b[1;32m   5161\u001b[0m     )\n",
      "File \u001b[0;32m/opt/anaconda3/lib/python3.12/site-packages/pandas/core/generic.py:5610\u001b[0m, in \u001b[0;36mNDFrame.reindex\u001b[0;34m(self, labels, index, columns, axis, method, copy, level, fill_value, limit, tolerance)\u001b[0m\n\u001b[1;32m   5607\u001b[0m     \u001b[38;5;28;01mreturn\u001b[39;00m \u001b[38;5;28mself\u001b[39m\u001b[38;5;241m.\u001b[39m_reindex_multi(axes, copy, fill_value)\n\u001b[1;32m   5609\u001b[0m \u001b[38;5;66;03m# perform the reindex on the axes\u001b[39;00m\n\u001b[0;32m-> 5610\u001b[0m \u001b[38;5;28;01mreturn\u001b[39;00m \u001b[38;5;28mself\u001b[39m\u001b[38;5;241m.\u001b[39m_reindex_axes(\n\u001b[1;32m   5611\u001b[0m     axes, level, limit, tolerance, method, fill_value, copy\n\u001b[1;32m   5612\u001b[0m )\u001b[38;5;241m.\u001b[39m__finalize__(\u001b[38;5;28mself\u001b[39m, method\u001b[38;5;241m=\u001b[39m\u001b[38;5;124m\"\u001b[39m\u001b[38;5;124mreindex\u001b[39m\u001b[38;5;124m\"\u001b[39m)\n",
      "File \u001b[0;32m/opt/anaconda3/lib/python3.12/site-packages/pandas/core/generic.py:5633\u001b[0m, in \u001b[0;36mNDFrame._reindex_axes\u001b[0;34m(self, axes, level, limit, tolerance, method, fill_value, copy)\u001b[0m\n\u001b[1;32m   5630\u001b[0m     \u001b[38;5;28;01mcontinue\u001b[39;00m\n\u001b[1;32m   5632\u001b[0m ax \u001b[38;5;241m=\u001b[39m \u001b[38;5;28mself\u001b[39m\u001b[38;5;241m.\u001b[39m_get_axis(a)\n\u001b[0;32m-> 5633\u001b[0m new_index, indexer \u001b[38;5;241m=\u001b[39m ax\u001b[38;5;241m.\u001b[39mreindex(\n\u001b[1;32m   5634\u001b[0m     labels, level\u001b[38;5;241m=\u001b[39mlevel, limit\u001b[38;5;241m=\u001b[39mlimit, tolerance\u001b[38;5;241m=\u001b[39mtolerance, method\u001b[38;5;241m=\u001b[39mmethod\n\u001b[1;32m   5635\u001b[0m )\n\u001b[1;32m   5637\u001b[0m axis \u001b[38;5;241m=\u001b[39m \u001b[38;5;28mself\u001b[39m\u001b[38;5;241m.\u001b[39m_get_axis_number(a)\n\u001b[1;32m   5638\u001b[0m obj \u001b[38;5;241m=\u001b[39m obj\u001b[38;5;241m.\u001b[39m_reindex_with_indexers(\n\u001b[1;32m   5639\u001b[0m     {axis: [new_index, indexer]},\n\u001b[1;32m   5640\u001b[0m     fill_value\u001b[38;5;241m=\u001b[39mfill_value,\n\u001b[1;32m   5641\u001b[0m     copy\u001b[38;5;241m=\u001b[39mcopy,\n\u001b[1;32m   5642\u001b[0m     allow_dups\u001b[38;5;241m=\u001b[39m\u001b[38;5;28;01mFalse\u001b[39;00m,\n\u001b[1;32m   5643\u001b[0m )\n",
      "File \u001b[0;32m/opt/anaconda3/lib/python3.12/site-packages/pandas/core/indexes/base.py:4429\u001b[0m, in \u001b[0;36mIndex.reindex\u001b[0;34m(self, target, method, level, limit, tolerance)\u001b[0m\n\u001b[1;32m   4426\u001b[0m     \u001b[38;5;28;01mraise\u001b[39;00m \u001b[38;5;167;01mValueError\u001b[39;00m(\u001b[38;5;124m\"\u001b[39m\u001b[38;5;124mcannot handle a non-unique multi-index!\u001b[39m\u001b[38;5;124m\"\u001b[39m)\n\u001b[1;32m   4427\u001b[0m \u001b[38;5;28;01melif\u001b[39;00m \u001b[38;5;129;01mnot\u001b[39;00m \u001b[38;5;28mself\u001b[39m\u001b[38;5;241m.\u001b[39mis_unique:\n\u001b[1;32m   4428\u001b[0m     \u001b[38;5;66;03m# GH#42568\u001b[39;00m\n\u001b[0;32m-> 4429\u001b[0m     \u001b[38;5;28;01mraise\u001b[39;00m \u001b[38;5;167;01mValueError\u001b[39;00m(\u001b[38;5;124m\"\u001b[39m\u001b[38;5;124mcannot reindex on an axis with duplicate labels\u001b[39m\u001b[38;5;124m\"\u001b[39m)\n\u001b[1;32m   4430\u001b[0m \u001b[38;5;28;01melse\u001b[39;00m:\n\u001b[1;32m   4431\u001b[0m     indexer, _ \u001b[38;5;241m=\u001b[39m \u001b[38;5;28mself\u001b[39m\u001b[38;5;241m.\u001b[39mget_indexer_non_unique(target)\n",
      "\u001b[0;31mValueError\u001b[0m: cannot reindex on an axis with duplicate labels"
     ]
    }
   ],
   "source": [
    "city2.filter(items=['Ford','Subaru'])"
   ]
  },
  {
   "cell_type": "code",
   "execution_count": 129,
   "id": "775fd5b3-1504-4551-babd-d3bcec19285d",
   "metadata": {},
   "outputs": [
    {
     "data": {
      "text/plain": [
       "Ford    18\n",
       "Ford    16\n",
       "Ford    17\n",
       "Ford    17\n",
       "Ford    15\n",
       "        ..\n",
       "Ford    26\n",
       "Ford    19\n",
       "Ford    21\n",
       "Ford    18\n",
       "Ford    19\n",
       "Name: citympg, Length: 3371, dtype: int64[pyarrow]"
      ]
     },
     "execution_count": 129,
     "metadata": {},
     "output_type": "execute_result"
    }
   ],
   "source": [
    "city2.filter(like='rd')"
   ]
  },
  {
   "cell_type": "code",
   "execution_count": 133,
   "id": "3f789081-3b27-4c54-b734-5652ef7ba68d",
   "metadata": {},
   "outputs": [
    {
     "data": {
      "text/plain": [
       "Subaru    17\n",
       "Subaru    21\n",
       "Subaru    22\n",
       "Ford      18\n",
       "Ford      16\n",
       "          ..\n",
       "Subaru    19\n",
       "Subaru    20\n",
       "Subaru    18\n",
       "Subaru    18\n",
       "Subaru    16\n",
       "Name: citympg, Length: 4256, dtype: int64[pyarrow]"
      ]
     },
     "execution_count": 133,
     "metadata": {},
     "output_type": "execute_result"
    }
   ],
   "source": [
    "city2.filter(regex='(Ford)|(Subaru)')"
   ]
  },
  {
   "cell_type": "code",
   "execution_count": 135,
   "id": "77c0860b-8a94-4d17-b2f4-9f0ff53bcebf",
   "metadata": {},
   "outputs": [
    {
     "ename": "ValueError",
     "evalue": "cannot reindex on an axis with duplicate labels",
     "output_type": "error",
     "traceback": [
      "\u001b[0;31m---------------------------------------------------------------------------\u001b[0m",
      "\u001b[0;31mValueError\u001b[0m                                Traceback (most recent call last)",
      "Cell \u001b[0;32mIn[135], line 1\u001b[0m\n\u001b[0;32m----> 1\u001b[0m city2\u001b[38;5;241m.\u001b[39mreindex([\u001b[38;5;124m'\u001b[39m\u001b[38;5;124mMissing\u001b[39m\u001b[38;5;124m'\u001b[39m, \u001b[38;5;124m'\u001b[39m\u001b[38;5;124mFord\u001b[39m\u001b[38;5;124m'\u001b[39m])\n",
      "File \u001b[0;32m/opt/anaconda3/lib/python3.12/site-packages/pandas/core/series.py:5153\u001b[0m, in \u001b[0;36mSeries.reindex\u001b[0;34m(self, index, axis, method, copy, level, fill_value, limit, tolerance)\u001b[0m\n\u001b[1;32m   5136\u001b[0m \u001b[38;5;129m@doc\u001b[39m(\n\u001b[1;32m   5137\u001b[0m     NDFrame\u001b[38;5;241m.\u001b[39mreindex,  \u001b[38;5;66;03m# type: ignore[has-type]\u001b[39;00m\n\u001b[1;32m   5138\u001b[0m     klass\u001b[38;5;241m=\u001b[39m_shared_doc_kwargs[\u001b[38;5;124m\"\u001b[39m\u001b[38;5;124mklass\u001b[39m\u001b[38;5;124m\"\u001b[39m],\n\u001b[0;32m   (...)\u001b[0m\n\u001b[1;32m   5151\u001b[0m     tolerance\u001b[38;5;241m=\u001b[39m\u001b[38;5;28;01mNone\u001b[39;00m,\n\u001b[1;32m   5152\u001b[0m ) \u001b[38;5;241m-\u001b[39m\u001b[38;5;241m>\u001b[39m Series:\n\u001b[0;32m-> 5153\u001b[0m     \u001b[38;5;28;01mreturn\u001b[39;00m \u001b[38;5;28msuper\u001b[39m()\u001b[38;5;241m.\u001b[39mreindex(\n\u001b[1;32m   5154\u001b[0m         index\u001b[38;5;241m=\u001b[39mindex,\n\u001b[1;32m   5155\u001b[0m         method\u001b[38;5;241m=\u001b[39mmethod,\n\u001b[1;32m   5156\u001b[0m         copy\u001b[38;5;241m=\u001b[39mcopy,\n\u001b[1;32m   5157\u001b[0m         level\u001b[38;5;241m=\u001b[39mlevel,\n\u001b[1;32m   5158\u001b[0m         fill_value\u001b[38;5;241m=\u001b[39mfill_value,\n\u001b[1;32m   5159\u001b[0m         limit\u001b[38;5;241m=\u001b[39mlimit,\n\u001b[1;32m   5160\u001b[0m         tolerance\u001b[38;5;241m=\u001b[39mtolerance,\n\u001b[1;32m   5161\u001b[0m     )\n",
      "File \u001b[0;32m/opt/anaconda3/lib/python3.12/site-packages/pandas/core/generic.py:5610\u001b[0m, in \u001b[0;36mNDFrame.reindex\u001b[0;34m(self, labels, index, columns, axis, method, copy, level, fill_value, limit, tolerance)\u001b[0m\n\u001b[1;32m   5607\u001b[0m     \u001b[38;5;28;01mreturn\u001b[39;00m \u001b[38;5;28mself\u001b[39m\u001b[38;5;241m.\u001b[39m_reindex_multi(axes, copy, fill_value)\n\u001b[1;32m   5609\u001b[0m \u001b[38;5;66;03m# perform the reindex on the axes\u001b[39;00m\n\u001b[0;32m-> 5610\u001b[0m \u001b[38;5;28;01mreturn\u001b[39;00m \u001b[38;5;28mself\u001b[39m\u001b[38;5;241m.\u001b[39m_reindex_axes(\n\u001b[1;32m   5611\u001b[0m     axes, level, limit, tolerance, method, fill_value, copy\n\u001b[1;32m   5612\u001b[0m )\u001b[38;5;241m.\u001b[39m__finalize__(\u001b[38;5;28mself\u001b[39m, method\u001b[38;5;241m=\u001b[39m\u001b[38;5;124m\"\u001b[39m\u001b[38;5;124mreindex\u001b[39m\u001b[38;5;124m\"\u001b[39m)\n",
      "File \u001b[0;32m/opt/anaconda3/lib/python3.12/site-packages/pandas/core/generic.py:5633\u001b[0m, in \u001b[0;36mNDFrame._reindex_axes\u001b[0;34m(self, axes, level, limit, tolerance, method, fill_value, copy)\u001b[0m\n\u001b[1;32m   5630\u001b[0m     \u001b[38;5;28;01mcontinue\u001b[39;00m\n\u001b[1;32m   5632\u001b[0m ax \u001b[38;5;241m=\u001b[39m \u001b[38;5;28mself\u001b[39m\u001b[38;5;241m.\u001b[39m_get_axis(a)\n\u001b[0;32m-> 5633\u001b[0m new_index, indexer \u001b[38;5;241m=\u001b[39m ax\u001b[38;5;241m.\u001b[39mreindex(\n\u001b[1;32m   5634\u001b[0m     labels, level\u001b[38;5;241m=\u001b[39mlevel, limit\u001b[38;5;241m=\u001b[39mlimit, tolerance\u001b[38;5;241m=\u001b[39mtolerance, method\u001b[38;5;241m=\u001b[39mmethod\n\u001b[1;32m   5635\u001b[0m )\n\u001b[1;32m   5637\u001b[0m axis \u001b[38;5;241m=\u001b[39m \u001b[38;5;28mself\u001b[39m\u001b[38;5;241m.\u001b[39m_get_axis_number(a)\n\u001b[1;32m   5638\u001b[0m obj \u001b[38;5;241m=\u001b[39m obj\u001b[38;5;241m.\u001b[39m_reindex_with_indexers(\n\u001b[1;32m   5639\u001b[0m     {axis: [new_index, indexer]},\n\u001b[1;32m   5640\u001b[0m     fill_value\u001b[38;5;241m=\u001b[39mfill_value,\n\u001b[1;32m   5641\u001b[0m     copy\u001b[38;5;241m=\u001b[39mcopy,\n\u001b[1;32m   5642\u001b[0m     allow_dups\u001b[38;5;241m=\u001b[39m\u001b[38;5;28;01mFalse\u001b[39;00m,\n\u001b[1;32m   5643\u001b[0m )\n",
      "File \u001b[0;32m/opt/anaconda3/lib/python3.12/site-packages/pandas/core/indexes/base.py:4429\u001b[0m, in \u001b[0;36mIndex.reindex\u001b[0;34m(self, target, method, level, limit, tolerance)\u001b[0m\n\u001b[1;32m   4426\u001b[0m     \u001b[38;5;28;01mraise\u001b[39;00m \u001b[38;5;167;01mValueError\u001b[39;00m(\u001b[38;5;124m\"\u001b[39m\u001b[38;5;124mcannot handle a non-unique multi-index!\u001b[39m\u001b[38;5;124m\"\u001b[39m)\n\u001b[1;32m   4427\u001b[0m \u001b[38;5;28;01melif\u001b[39;00m \u001b[38;5;129;01mnot\u001b[39;00m \u001b[38;5;28mself\u001b[39m\u001b[38;5;241m.\u001b[39mis_unique:\n\u001b[1;32m   4428\u001b[0m     \u001b[38;5;66;03m# GH#42568\u001b[39;00m\n\u001b[0;32m-> 4429\u001b[0m     \u001b[38;5;28;01mraise\u001b[39;00m \u001b[38;5;167;01mValueError\u001b[39;00m(\u001b[38;5;124m\"\u001b[39m\u001b[38;5;124mcannot reindex on an axis with duplicate labels\u001b[39m\u001b[38;5;124m\"\u001b[39m)\n\u001b[1;32m   4430\u001b[0m \u001b[38;5;28;01melse\u001b[39;00m:\n\u001b[1;32m   4431\u001b[0m     indexer, _ \u001b[38;5;241m=\u001b[39m \u001b[38;5;28mself\u001b[39m\u001b[38;5;241m.\u001b[39mget_indexer_non_unique(target)\n",
      "\u001b[0;31mValueError\u001b[0m: cannot reindex on an axis with duplicate labels"
     ]
    }
   ],
   "source": [
    "city2.reindex(['Missing', 'Ford'])"
   ]
  },
  {
   "cell_type": "code",
   "execution_count": 151,
   "id": "2237bc7b-b7db-49c3-9ab5-0fa6cb22576c",
   "metadata": {},
   "outputs": [
    {
     "data": {
      "text/plain": [
       "0            19\n",
       "0            19\n",
       "10           23\n",
       "20           14\n",
       "2000000    <NA>\n",
       "Name: city08, dtype: int64[pyarrow]"
      ]
     },
     "execution_count": 151,
     "metadata": {},
     "output_type": "execute_result"
    }
   ],
   "source": [
    "city_mpg.reindex([0,0,10,20,2_000_000])"
   ]
  },
  {
   "cell_type": "code",
   "execution_count": 156,
   "id": "c41bee18-9e27-4641-8f60-7b472bdbba66",
   "metadata": {},
   "outputs": [],
   "source": [
    "s1 = pd.Series([10,20,30], index=['a','b','c'])\n",
    "s2 = pd.Series([15, 25, 35], index=['b','c','d'])"
   ]
  },
  {
   "cell_type": "code",
   "execution_count": 158,
   "id": "226fa3e1-ac5c-4a72-a9cf-4745c8b2fd81",
   "metadata": {},
   "outputs": [
    {
     "data": {
      "text/plain": [
       "b    15\n",
       "c    25\n",
       "d    35\n",
       "dtype: int64"
      ]
     },
     "execution_count": 158,
     "metadata": {},
     "output_type": "execute_result"
    }
   ],
   "source": [
    "s2"
   ]
  },
  {
   "cell_type": "code",
   "execution_count": 160,
   "id": "e1ecc2be-73dd-4769-84a1-b4dcc8e0821c",
   "metadata": {},
   "outputs": [
    {
     "data": {
      "text/plain": [
       "a     NaN\n",
       "b    15.0\n",
       "c    25.0\n",
       "dtype: float64"
      ]
     },
     "execution_count": 160,
     "metadata": {},
     "output_type": "execute_result"
    }
   ],
   "source": [
    "s2.reindex(s1.index)"
   ]
  },
  {
   "cell_type": "code",
   "execution_count": 162,
   "id": "f5788b9f-b026-4190-9f3a-959faea953ff",
   "metadata": {},
   "outputs": [],
   "source": [
    "# Exercises"
   ]
  },
  {
   "cell_type": "code",
   "execution_count": 164,
   "id": "727c0d41-5674-43c9-9f91-c854e74dddaf",
   "metadata": {},
   "outputs": [
    {
     "data": {
      "text/plain": [
       "Index(['Alfa Romeo', 'Ferrari', 'Dodge', 'Dodge', 'Subaru', 'Subaru', 'Subaru',\n",
       "       'Toyota', 'Toyota', 'Toyota',\n",
       "       ...\n",
       "       'Saab', 'Saturn', 'Saturn', 'Saturn', 'Saturn', 'Subaru', 'Subaru',\n",
       "       'Subaru', 'Subaru', 'Subaru'],\n",
       "      dtype='object', length=41144)"
      ]
     },
     "execution_count": 164,
     "metadata": {},
     "output_type": "execute_result"
    }
   ],
   "source": [
    "# Inspect the index\n",
    "\n",
    "city2.index"
   ]
  },
  {
   "cell_type": "code",
   "execution_count": 190,
   "id": "18b50c93-9ef3-4292-b1af-2b89035c7e26",
   "metadata": {},
   "outputs": [
    {
     "data": {
      "text/plain": [
       "smart         34\n",
       "smart         33\n",
       "smart         33\n",
       "smart         34\n",
       "smart         34\n",
       "              ..\n",
       "AM General    16\n",
       "AM General    13\n",
       "AM General    18\n",
       "AM General    13\n",
       "AM General    13\n",
       "Name: citympg, Length: 41144, dtype: int64[pyarrow]"
      ]
     },
     "execution_count": 190,
     "metadata": {},
     "output_type": "execute_result"
    }
   ],
   "source": [
    "# Sort the index.\n",
    "\n",
    "city2.sort_index() # Ascending alphabetical sort\n",
    "city2.sort_index(ascending=False) # Descending alphabetical sort"
   ]
  },
  {
   "cell_type": "code",
   "execution_count": 192,
   "id": "9358fb05-65c6-40dc-8276-9df90c240f76",
   "metadata": {},
   "outputs": [
    {
     "data": {
      "text/plain": [
       "0        19\n",
       "1         9\n",
       "2        23\n",
       "3        10\n",
       "4        17\n",
       "         ..\n",
       "41139    19\n",
       "41140    20\n",
       "41141    18\n",
       "41142    18\n",
       "41143    16\n",
       "Name: citympg, Length: 41144, dtype: int64[pyarrow]"
      ]
     },
     "execution_count": 192,
     "metadata": {},
     "output_type": "execute_result"
    }
   ],
   "source": [
    "# Set the index to monotonically increasing integers starting from 0.\n",
    "\n",
    "city2.reset_index(drop=True)"
   ]
  },
  {
   "cell_type": "code",
   "execution_count": 288,
   "id": "232b1047-d8aa-4612-baf3-f5a66b7c3ca4",
   "metadata": {},
   "outputs": [
    {
     "data": {
      "text/plain": [
       "0        19\n",
       "1         9\n",
       "2        23\n",
       "3        10\n",
       "4        17\n",
       "         ..\n",
       "41139    19\n",
       "41140    20\n",
       "41141    18\n",
       "41142    18\n",
       "41143    16\n",
       "Name: citympg, Length: 41144, dtype: int64[pyarrow]"
      ]
     },
     "execution_count": 288,
     "metadata": {},
     "output_type": "execute_result"
    }
   ],
   "source": [
    "# Set the index to monotonically increasing integers starting from 0, then convert these to the string version. Save this a s2.\n",
    "\n",
    "s2 = city2.copy().reset_index(drop=True)\n",
    "s2.index = s2.index.astype(str)\n",
    "s2"
   ]
  },
  {
   "cell_type": "code",
   "execution_count": 250,
   "id": "175fb30b-582f-4cb0-bdd4-a4dd61406e6b",
   "metadata": {},
   "outputs": [
    {
     "data": {
      "text/plain": [
       "0    19\n",
       "1     9\n",
       "2    23\n",
       "3    10\n",
       "4    17\n",
       "Name: citympg, dtype: int64[pyarrow]"
      ]
     },
     "execution_count": 250,
     "metadata": {},
     "output_type": "execute_result"
    }
   ],
   "source": [
    "# Using s2, pull out the first five entries.\n",
    "\n",
    "s2.iloc[0:5]"
   ]
  },
  {
   "cell_type": "code",
   "execution_count": 252,
   "id": "b614bb76-1599-42ca-87cc-35761ac42cb9",
   "metadata": {},
   "outputs": [
    {
     "data": {
      "text/plain": [
       "41139    19\n",
       "41140    20\n",
       "41141    18\n",
       "41142    18\n",
       "41143    16\n",
       "Name: citympg, dtype: int64[pyarrow]"
      ]
     },
     "execution_count": 252,
     "metadata": {},
     "output_type": "execute_result"
    }
   ],
   "source": [
    "# Using s2, pull out the last five entries.\n",
    "\n",
    "s2.iloc[-5:]"
   ]
  },
  {
   "cell_type": "code",
   "execution_count": 266,
   "id": "75f4986b-7ab1-4cf8-99ab-9ef29dbf9c09",
   "metadata": {},
   "outputs": [
    {
     "data": {
      "text/plain": [
       "10     23\n",
       "11     18\n",
       "12     21\n",
       "13     18\n",
       "14     12\n",
       "       ..\n",
       "105    16\n",
       "106    16\n",
       "107    18\n",
       "108    18\n",
       "109    15\n",
       "Name: citympg, Length: 100, dtype: int64[pyarrow]"
      ]
     },
     "execution_count": 266,
     "metadata": {},
     "output_type": "execute_result"
    }
   ],
   "source": [
    "# Using s2, pull out one hundred entries starting at index position 10\n",
    "\n",
    "s2.iloc[10:110]"
   ]
  },
  {
   "cell_type": "code",
   "execution_count": 280,
   "id": "7de24e3d-19fb-4117-9b3c-d15bcb0d3a35",
   "metadata": {},
   "outputs": [
    {
     "data": {
      "text/plain": [
       "20    14\n",
       "10    23\n",
       "2     23\n",
       "Name: citympg, dtype: int64[pyarrow]"
      ]
     },
     "execution_count": 280,
     "metadata": {},
     "output_type": "execute_result"
    }
   ],
   "source": [
    "# Using s2, create a series with values with index entries '20', '10', and '2'.\n",
    "\n",
    "s3 = s2.reindex(index=[20,10,2])\n",
    "s3.index = s3.index.astype(str)\n",
    "s3"
   ]
  }
 ],
 "metadata": {
  "kernelspec": {
   "display_name": "Python [conda env:base] *",
   "language": "python",
   "name": "conda-base-py"
  },
  "language_info": {
   "codemirror_mode": {
    "name": "ipython",
    "version": 3
   },
   "file_extension": ".py",
   "mimetype": "text/x-python",
   "name": "python",
   "nbconvert_exporter": "python",
   "pygments_lexer": "ipython3",
   "version": "3.12.7"
  }
 },
 "nbformat": 4,
 "nbformat_minor": 5
}
