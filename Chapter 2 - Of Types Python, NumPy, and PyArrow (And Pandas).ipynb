{
 "cells": [
  {
   "cell_type": "code",
   "execution_count": 1,
   "id": "e8dee3a6-180c-4b76-a8fc-4ee5d89cbe50",
   "metadata": {},
   "outputs": [],
   "source": [
    "import numpy as np"
   ]
  },
  {
   "cell_type": "code",
   "execution_count": 3,
   "id": "1b92a9b9-3882-4050-ab44-68f109df878d",
   "metadata": {},
   "outputs": [],
   "source": [
    "array = np.arange(10, dtype='int32')"
   ]
  },
  {
   "cell_type": "code",
   "execution_count": 5,
   "id": "c359216b-bfac-43f5-a58e-f607c7de87f0",
   "metadata": {},
   "outputs": [],
   "source": [
    "array += 1"
   ]
  },
  {
   "cell_type": "code",
   "execution_count": 7,
   "id": "935bbd48-37cb-402b-8858-5eefc94b9380",
   "metadata": {},
   "outputs": [
    {
     "data": {
      "text/plain": [
       "array([ 1,  2,  3,  4,  5,  6,  7,  8,  9, 10], dtype=int32)"
      ]
     },
     "execution_count": 7,
     "metadata": {},
     "output_type": "execute_result"
    }
   ],
   "source": [
    "array"
   ]
  },
  {
   "cell_type": "code",
   "execution_count": 9,
   "id": "c9c86e49-f0e8-442f-a243-c68e50740896",
   "metadata": {},
   "outputs": [],
   "source": [
    "import numpy as np"
   ]
  },
  {
   "cell_type": "code",
   "execution_count": 11,
   "id": "e1c036f8-b93b-4129-a2e1-adcbd6a21f8f",
   "metadata": {},
   "outputs": [],
   "source": [
    "n1 = np.array([1], dtype='uint8')"
   ]
  },
  {
   "cell_type": "code",
   "execution_count": 13,
   "id": "7b860e24-4b0c-4e54-99d4-77aa00e4e98d",
   "metadata": {},
   "outputs": [],
   "source": [
    "n255 = np.array([255],dtype='uint8')"
   ]
  },
  {
   "cell_type": "code",
   "execution_count": 15,
   "id": "925024f5-89c7-452e-a684-e3aa6f011d8b",
   "metadata": {},
   "outputs": [
    {
     "data": {
      "text/plain": [
       "array([0], dtype=uint8)"
      ]
     },
     "execution_count": 15,
     "metadata": {},
     "output_type": "execute_result"
    }
   ],
   "source": [
    "n1+n255"
   ]
  },
  {
   "cell_type": "code",
   "execution_count": 17,
   "id": "d2aeabef-b80c-4d95-8627-875b0bee4508",
   "metadata": {},
   "outputs": [],
   "source": [
    "import numpy as np"
   ]
  },
  {
   "cell_type": "code",
   "execution_count": 30,
   "id": "0a094ec2-8f95-4b13-868d-7df863aafe56",
   "metadata": {},
   "outputs": [],
   "source": [
    "demo = np.array([1,2,3, np.nan])"
   ]
  },
  {
   "cell_type": "code",
   "execution_count": null,
   "id": "8bb5ee78-4a10-46f4-a9e9-b3c8d03d0783",
   "metadata": {},
   "outputs": [],
   "source": []
  },
  {
   "cell_type": "code",
   "execution_count": 32,
   "id": "3c3fba8c-4fca-4691-95cd-1ced6cf15959",
   "metadata": {},
   "outputs": [
    {
     "data": {
      "text/plain": [
       "array([ 1.,  2.,  3., nan])"
      ]
     },
     "execution_count": 32,
     "metadata": {},
     "output_type": "execute_result"
    }
   ],
   "source": [
    "demo"
   ]
  },
  {
   "cell_type": "code",
   "execution_count": 34,
   "id": "c0876418-39a6-4c13-9abc-f26cb5ea9c16",
   "metadata": {},
   "outputs": [
    {
     "data": {
      "text/plain": [
       "dtype('float64')"
      ]
     },
     "execution_count": 34,
     "metadata": {},
     "output_type": "execute_result"
    }
   ],
   "source": [
    "demo.dtype"
   ]
  },
  {
   "cell_type": "code",
   "execution_count": 60,
   "id": "57a42656-af5e-4c49-8009-fa89c7cb87dd",
   "metadata": {},
   "outputs": [],
   "source": [
    "small_values = [1,00,127]\n",
    "large_values = [2**31,2**63,2**100]\n",
    "missing_values = [None,1,-45]"
   ]
  },
  {
   "cell_type": "code",
   "execution_count": 40,
   "id": "da3ad491-d71c-4e3f-893c-0c1034e69c9b",
   "metadata": {},
   "outputs": [],
   "source": [
    "import pandas as pd"
   ]
  },
  {
   "cell_type": "code",
   "execution_count": 42,
   "id": "755f016d-898b-4e6f-83e1-8638b86c25cc",
   "metadata": {},
   "outputs": [],
   "source": [
    "small_ser = pd.Series(small_values)"
   ]
  },
  {
   "cell_type": "code",
   "execution_count": 44,
   "id": "ca308320-a6da-4bbf-a560-264fdcb67fda",
   "metadata": {},
   "outputs": [
    {
     "data": {
      "text/plain": [
       "0      1\n",
       "1      0\n",
       "2    127\n",
       "dtype: int64"
      ]
     },
     "execution_count": 44,
     "metadata": {},
     "output_type": "execute_result"
    }
   ],
   "source": [
    "small_ser"
   ]
  },
  {
   "cell_type": "code",
   "execution_count": 46,
   "id": "23d72112-a49c-49b5-a35e-c1d468d9c671",
   "metadata": {},
   "outputs": [
    {
     "data": {
      "text/plain": [
       "0      1\n",
       "1      0\n",
       "2    127\n",
       "dtype: int8"
      ]
     },
     "execution_count": 46,
     "metadata": {},
     "output_type": "execute_result"
    }
   ],
   "source": [
    "small_ser.astype('int8')"
   ]
  },
  {
   "cell_type": "code",
   "execution_count": 48,
   "id": "8279d222-e65e-4372-9c44-348f77309106",
   "metadata": {},
   "outputs": [],
   "source": [
    "small_ser = pd.Series(small_values,dtype='int8')"
   ]
  },
  {
   "cell_type": "code",
   "execution_count": 50,
   "id": "bb4a036f-3489-47e6-94e8-b26119ef698e",
   "metadata": {},
   "outputs": [
    {
     "data": {
      "text/plain": [
       "0      1\n",
       "1      0\n",
       "2    127\n",
       "dtype: int8"
      ]
     },
     "execution_count": 50,
     "metadata": {},
     "output_type": "execute_result"
    }
   ],
   "source": [
    "small_ser"
   ]
  },
  {
   "cell_type": "code",
   "execution_count": 52,
   "id": "8f1de9bb-7302-4501-98f0-9cef45187cb1",
   "metadata": {},
   "outputs": [],
   "source": [
    "small_ser_pa = pd.Series(small_values, dtype='int8[pyarrow]')"
   ]
  },
  {
   "cell_type": "code",
   "execution_count": 54,
   "id": "eb420792-ef67-4b06-9138-9b917c9bc90e",
   "metadata": {},
   "outputs": [
    {
     "data": {
      "text/plain": [
       "0      1\n",
       "1      0\n",
       "2    127\n",
       "dtype: int8[pyarrow]"
      ]
     },
     "execution_count": 54,
     "metadata": {},
     "output_type": "execute_result"
    }
   ],
   "source": [
    "small_ser_pa"
   ]
  },
  {
   "cell_type": "code",
   "execution_count": 64,
   "id": "33442567-90ea-4d4f-a39e-529a93504fd5",
   "metadata": {},
   "outputs": [],
   "source": [
    "large_ser = pd.Series(large_values)"
   ]
  },
  {
   "cell_type": "code",
   "execution_count": 66,
   "id": "91320750-b9ea-421c-9188-7af1b169668e",
   "metadata": {},
   "outputs": [
    {
     "data": {
      "text/plain": [
       "0                         2147483648\n",
       "1                9223372036854775808\n",
       "2    1267650600228229401496703205376\n",
       "dtype: object"
      ]
     },
     "execution_count": 66,
     "metadata": {},
     "output_type": "execute_result"
    }
   ],
   "source": [
    "large_ser"
   ]
  },
  {
   "cell_type": "code",
   "execution_count": 68,
   "id": "5056f9ec-5932-4255-abf2-58d365f59a9b",
   "metadata": {},
   "outputs": [
    {
     "ename": "OverflowError",
     "evalue": "Python int too large to convert to C long",
     "output_type": "error",
     "traceback": [
      "\u001b[0;31m---------------------------------------------------------------------------\u001b[0m",
      "\u001b[0;31mOverflowError\u001b[0m                             Traceback (most recent call last)",
      "Cell \u001b[0;32mIn[68], line 1\u001b[0m\n\u001b[0;32m----> 1\u001b[0m large_ser \u001b[38;5;241m=\u001b[39m pd\u001b[38;5;241m.\u001b[39mSeries(large_values, dtype\u001b[38;5;241m=\u001b[39m\u001b[38;5;124m'\u001b[39m\u001b[38;5;124mint64[pyarrow]\u001b[39m\u001b[38;5;124m'\u001b[39m)\n",
      "File \u001b[0;32m/opt/anaconda3/lib/python3.12/site-packages/pandas/core/series.py:584\u001b[0m, in \u001b[0;36mSeries.__init__\u001b[0;34m(self, data, index, dtype, name, copy, fastpath)\u001b[0m\n\u001b[1;32m    582\u001b[0m         data \u001b[38;5;241m=\u001b[39m data\u001b[38;5;241m.\u001b[39mcopy()\n\u001b[1;32m    583\u001b[0m \u001b[38;5;28;01melse\u001b[39;00m:\n\u001b[0;32m--> 584\u001b[0m     data \u001b[38;5;241m=\u001b[39m sanitize_array(data, index, dtype, copy)\n\u001b[1;32m    586\u001b[0m     manager \u001b[38;5;241m=\u001b[39m _get_option(\u001b[38;5;124m\"\u001b[39m\u001b[38;5;124mmode.data_manager\u001b[39m\u001b[38;5;124m\"\u001b[39m, silent\u001b[38;5;241m=\u001b[39m\u001b[38;5;28;01mTrue\u001b[39;00m)\n\u001b[1;32m    587\u001b[0m     \u001b[38;5;28;01mif\u001b[39;00m manager \u001b[38;5;241m==\u001b[39m \u001b[38;5;124m\"\u001b[39m\u001b[38;5;124mblock\u001b[39m\u001b[38;5;124m\"\u001b[39m:\n",
      "File \u001b[0;32m/opt/anaconda3/lib/python3.12/site-packages/pandas/core/construction.py:596\u001b[0m, in \u001b[0;36msanitize_array\u001b[0;34m(data, index, dtype, copy, allow_2d)\u001b[0m\n\u001b[1;32m    594\u001b[0m     _sanitize_non_ordered(data)\n\u001b[1;32m    595\u001b[0m     \u001b[38;5;28mcls\u001b[39m \u001b[38;5;241m=\u001b[39m dtype\u001b[38;5;241m.\u001b[39mconstruct_array_type()\n\u001b[0;32m--> 596\u001b[0m     subarr \u001b[38;5;241m=\u001b[39m \u001b[38;5;28mcls\u001b[39m\u001b[38;5;241m.\u001b[39m_from_sequence(data, dtype\u001b[38;5;241m=\u001b[39mdtype, copy\u001b[38;5;241m=\u001b[39mcopy)\n\u001b[1;32m    598\u001b[0m \u001b[38;5;66;03m# GH#846\u001b[39;00m\n\u001b[1;32m    599\u001b[0m \u001b[38;5;28;01melif\u001b[39;00m \u001b[38;5;28misinstance\u001b[39m(data, np\u001b[38;5;241m.\u001b[39mndarray):\n",
      "File \u001b[0;32m/opt/anaconda3/lib/python3.12/site-packages/pandas/core/arrays/arrow/array.py:309\u001b[0m, in \u001b[0;36mArrowExtensionArray._from_sequence\u001b[0;34m(cls, scalars, dtype, copy)\u001b[0m\n\u001b[1;32m    305\u001b[0m \u001b[38;5;250m\u001b[39m\u001b[38;5;124;03m\"\"\"\u001b[39;00m\n\u001b[1;32m    306\u001b[0m \u001b[38;5;124;03mConstruct a new ExtensionArray from a sequence of scalars.\u001b[39;00m\n\u001b[1;32m    307\u001b[0m \u001b[38;5;124;03m\"\"\"\u001b[39;00m\n\u001b[1;32m    308\u001b[0m pa_type \u001b[38;5;241m=\u001b[39m to_pyarrow_type(dtype)\n\u001b[0;32m--> 309\u001b[0m pa_array \u001b[38;5;241m=\u001b[39m \u001b[38;5;28mcls\u001b[39m\u001b[38;5;241m.\u001b[39m_box_pa_array(scalars, pa_type\u001b[38;5;241m=\u001b[39mpa_type, copy\u001b[38;5;241m=\u001b[39mcopy)\n\u001b[1;32m    310\u001b[0m arr \u001b[38;5;241m=\u001b[39m \u001b[38;5;28mcls\u001b[39m(pa_array)\n\u001b[1;32m    311\u001b[0m \u001b[38;5;28;01mreturn\u001b[39;00m arr\n",
      "File \u001b[0;32m/opt/anaconda3/lib/python3.12/site-packages/pandas/core/arrays/arrow/array.py:499\u001b[0m, in \u001b[0;36mArrowExtensionArray._box_pa_array\u001b[0;34m(cls, value, pa_type, copy)\u001b[0m\n\u001b[1;32m    496\u001b[0m     value \u001b[38;5;241m=\u001b[39m value\u001b[38;5;241m.\u001b[39mto_numpy()\n\u001b[1;32m    498\u001b[0m \u001b[38;5;28;01mtry\u001b[39;00m:\n\u001b[0;32m--> 499\u001b[0m     pa_array \u001b[38;5;241m=\u001b[39m pa\u001b[38;5;241m.\u001b[39marray(value, \u001b[38;5;28mtype\u001b[39m\u001b[38;5;241m=\u001b[39mpa_type, from_pandas\u001b[38;5;241m=\u001b[39m\u001b[38;5;28;01mTrue\u001b[39;00m)\n\u001b[1;32m    500\u001b[0m \u001b[38;5;28;01mexcept\u001b[39;00m (pa\u001b[38;5;241m.\u001b[39mArrowInvalid, pa\u001b[38;5;241m.\u001b[39mArrowTypeError):\n\u001b[1;32m    501\u001b[0m     \u001b[38;5;66;03m# GH50430: let pyarrow infer type, then cast\u001b[39;00m\n\u001b[1;32m    502\u001b[0m     pa_array \u001b[38;5;241m=\u001b[39m pa\u001b[38;5;241m.\u001b[39marray(value, from_pandas\u001b[38;5;241m=\u001b[39m\u001b[38;5;28;01mTrue\u001b[39;00m)\n",
      "File \u001b[0;32m/opt/anaconda3/lib/python3.12/site-packages/pyarrow/array.pxi:344\u001b[0m, in \u001b[0;36mpyarrow.lib.array\u001b[0;34m()\u001b[0m\n",
      "File \u001b[0;32m/opt/anaconda3/lib/python3.12/site-packages/pyarrow/array.pxi:42\u001b[0m, in \u001b[0;36mpyarrow.lib._sequence_to_array\u001b[0;34m()\u001b[0m\n",
      "File \u001b[0;32m/opt/anaconda3/lib/python3.12/site-packages/pyarrow/error.pxi:154\u001b[0m, in \u001b[0;36mpyarrow.lib.pyarrow_internal_check_status\u001b[0;34m()\u001b[0m\n",
      "File \u001b[0;32m/opt/anaconda3/lib/python3.12/site-packages/pyarrow/types.pxi:88\u001b[0m, in \u001b[0;36mpyarrow.lib._datatype_to_pep3118\u001b[0;34m()\u001b[0m\n",
      "\u001b[0;31mOverflowError\u001b[0m: Python int too large to convert to C long"
     ]
    }
   ],
   "source": [
    "large_ser = pd.Series(large_values, dtype='int64[pyarrow]')"
   ]
  },
  {
   "cell_type": "code",
   "execution_count": 70,
   "id": "a032c55d-40c4-4759-b33a-4b9f47c6aa19",
   "metadata": {},
   "outputs": [],
   "source": [
    "missing_ser = pd.Series(missing_values)"
   ]
  },
  {
   "cell_type": "code",
   "execution_count": 72,
   "id": "c92337fb-fec5-47f5-a308-55ed702cde6d",
   "metadata": {},
   "outputs": [
    {
     "data": {
      "text/plain": [
       "0     NaN\n",
       "1     1.0\n",
       "2   -45.0\n",
       "dtype: float64"
      ]
     },
     "execution_count": 72,
     "metadata": {},
     "output_type": "execute_result"
    }
   ],
   "source": [
    "missing_ser"
   ]
  },
  {
   "cell_type": "code",
   "execution_count": 74,
   "id": "afb9d190-b3a0-4989-991b-eebc09b1b1dc",
   "metadata": {},
   "outputs": [],
   "source": [
    "missing_ser_pa = pd.Series(missing_values, dtype='int8[pyarrow]')"
   ]
  },
  {
   "cell_type": "code",
   "execution_count": 76,
   "id": "7de969b3-796a-4128-861e-901df7ae60fe",
   "metadata": {},
   "outputs": [
    {
     "data": {
      "text/plain": [
       "0    <NA>\n",
       "1       1\n",
       "2     -45\n",
       "dtype: int8[pyarrow]"
      ]
     },
     "execution_count": 76,
     "metadata": {},
     "output_type": "execute_result"
    }
   ],
   "source": [
    "missing_ser_pa"
   ]
  },
  {
   "cell_type": "code",
   "execution_count": 82,
   "id": "fde7b7a2-4ce6-4683-affc-b6021180d9cb",
   "metadata": {},
   "outputs": [
    {
     "data": {
      "text/plain": [
       "0                  32773\n",
       "1             2147483640\n",
       "2    9223372036854775808\n",
       "dtype: uint64"
      ]
     },
     "execution_count": 82,
     "metadata": {},
     "output_type": "execute_result"
    }
   ],
   "source": [
    "medium_values = [2**15+5, 2**31-8, 2**63]\n",
    "medium_ser = pd.Series(medium_values)\n",
    "medium_ser"
   ]
  },
  {
   "cell_type": "code",
   "execution_count": 84,
   "id": "2acfe04b-4e61-4225-8f3d-9b8946d7e9c9",
   "metadata": {},
   "outputs": [
    {
     "data": {
      "text/plain": [
       "0    5\n",
       "1   -8\n",
       "2    0\n",
       "dtype: int8"
      ]
     },
     "execution_count": 84,
     "metadata": {},
     "output_type": "execute_result"
    }
   ],
   "source": [
    "medium_ser.astype('int8')"
   ]
  },
  {
   "cell_type": "code",
   "execution_count": 86,
   "id": "fde99768-ed7d-44c6-b821-4b9f7df9f55d",
   "metadata": {},
   "outputs": [
    {
     "ename": "ArrowInvalid",
     "evalue": "Integer value 32773 not in range: 0 to 127",
     "output_type": "error",
     "traceback": [
      "\u001b[0;31m---------------------------------------------------------------------------\u001b[0m",
      "\u001b[0;31mArrowInvalid\u001b[0m                              Traceback (most recent call last)",
      "Cell \u001b[0;32mIn[86], line 1\u001b[0m\n\u001b[0;32m----> 1\u001b[0m medium_ser\u001b[38;5;241m.\u001b[39mastype(\u001b[38;5;124m'\u001b[39m\u001b[38;5;124mint8[pyarrow]\u001b[39m\u001b[38;5;124m'\u001b[39m)\n",
      "File \u001b[0;32m/opt/anaconda3/lib/python3.12/site-packages/pandas/core/generic.py:6643\u001b[0m, in \u001b[0;36mNDFrame.astype\u001b[0;34m(self, dtype, copy, errors)\u001b[0m\n\u001b[1;32m   6637\u001b[0m     results \u001b[38;5;241m=\u001b[39m [\n\u001b[1;32m   6638\u001b[0m         ser\u001b[38;5;241m.\u001b[39mastype(dtype, copy\u001b[38;5;241m=\u001b[39mcopy, errors\u001b[38;5;241m=\u001b[39merrors) \u001b[38;5;28;01mfor\u001b[39;00m _, ser \u001b[38;5;129;01min\u001b[39;00m \u001b[38;5;28mself\u001b[39m\u001b[38;5;241m.\u001b[39mitems()\n\u001b[1;32m   6639\u001b[0m     ]\n\u001b[1;32m   6641\u001b[0m \u001b[38;5;28;01melse\u001b[39;00m:\n\u001b[1;32m   6642\u001b[0m     \u001b[38;5;66;03m# else, only a single dtype is given\u001b[39;00m\n\u001b[0;32m-> 6643\u001b[0m     new_data \u001b[38;5;241m=\u001b[39m \u001b[38;5;28mself\u001b[39m\u001b[38;5;241m.\u001b[39m_mgr\u001b[38;5;241m.\u001b[39mastype(dtype\u001b[38;5;241m=\u001b[39mdtype, copy\u001b[38;5;241m=\u001b[39mcopy, errors\u001b[38;5;241m=\u001b[39merrors)\n\u001b[1;32m   6644\u001b[0m     res \u001b[38;5;241m=\u001b[39m \u001b[38;5;28mself\u001b[39m\u001b[38;5;241m.\u001b[39m_constructor_from_mgr(new_data, axes\u001b[38;5;241m=\u001b[39mnew_data\u001b[38;5;241m.\u001b[39maxes)\n\u001b[1;32m   6645\u001b[0m     \u001b[38;5;28;01mreturn\u001b[39;00m res\u001b[38;5;241m.\u001b[39m__finalize__(\u001b[38;5;28mself\u001b[39m, method\u001b[38;5;241m=\u001b[39m\u001b[38;5;124m\"\u001b[39m\u001b[38;5;124mastype\u001b[39m\u001b[38;5;124m\"\u001b[39m)\n",
      "File \u001b[0;32m/opt/anaconda3/lib/python3.12/site-packages/pandas/core/internals/managers.py:430\u001b[0m, in \u001b[0;36mBaseBlockManager.astype\u001b[0;34m(self, dtype, copy, errors)\u001b[0m\n\u001b[1;32m    427\u001b[0m \u001b[38;5;28;01melif\u001b[39;00m using_copy_on_write():\n\u001b[1;32m    428\u001b[0m     copy \u001b[38;5;241m=\u001b[39m \u001b[38;5;28;01mFalse\u001b[39;00m\n\u001b[0;32m--> 430\u001b[0m \u001b[38;5;28;01mreturn\u001b[39;00m \u001b[38;5;28mself\u001b[39m\u001b[38;5;241m.\u001b[39mapply(\n\u001b[1;32m    431\u001b[0m     \u001b[38;5;124m\"\u001b[39m\u001b[38;5;124mastype\u001b[39m\u001b[38;5;124m\"\u001b[39m,\n\u001b[1;32m    432\u001b[0m     dtype\u001b[38;5;241m=\u001b[39mdtype,\n\u001b[1;32m    433\u001b[0m     copy\u001b[38;5;241m=\u001b[39mcopy,\n\u001b[1;32m    434\u001b[0m     errors\u001b[38;5;241m=\u001b[39merrors,\n\u001b[1;32m    435\u001b[0m     using_cow\u001b[38;5;241m=\u001b[39musing_copy_on_write(),\n\u001b[1;32m    436\u001b[0m )\n",
      "File \u001b[0;32m/opt/anaconda3/lib/python3.12/site-packages/pandas/core/internals/managers.py:363\u001b[0m, in \u001b[0;36mBaseBlockManager.apply\u001b[0;34m(self, f, align_keys, **kwargs)\u001b[0m\n\u001b[1;32m    361\u001b[0m         applied \u001b[38;5;241m=\u001b[39m b\u001b[38;5;241m.\u001b[39mapply(f, \u001b[38;5;241m*\u001b[39m\u001b[38;5;241m*\u001b[39mkwargs)\n\u001b[1;32m    362\u001b[0m     \u001b[38;5;28;01melse\u001b[39;00m:\n\u001b[0;32m--> 363\u001b[0m         applied \u001b[38;5;241m=\u001b[39m \u001b[38;5;28mgetattr\u001b[39m(b, f)(\u001b[38;5;241m*\u001b[39m\u001b[38;5;241m*\u001b[39mkwargs)\n\u001b[1;32m    364\u001b[0m     result_blocks \u001b[38;5;241m=\u001b[39m extend_blocks(applied, result_blocks)\n\u001b[1;32m    366\u001b[0m out \u001b[38;5;241m=\u001b[39m \u001b[38;5;28mtype\u001b[39m(\u001b[38;5;28mself\u001b[39m)\u001b[38;5;241m.\u001b[39mfrom_blocks(result_blocks, \u001b[38;5;28mself\u001b[39m\u001b[38;5;241m.\u001b[39maxes)\n",
      "File \u001b[0;32m/opt/anaconda3/lib/python3.12/site-packages/pandas/core/internals/blocks.py:758\u001b[0m, in \u001b[0;36mBlock.astype\u001b[0;34m(self, dtype, copy, errors, using_cow, squeeze)\u001b[0m\n\u001b[1;32m    755\u001b[0m         \u001b[38;5;28;01mraise\u001b[39;00m \u001b[38;5;167;01mValueError\u001b[39;00m(\u001b[38;5;124m\"\u001b[39m\u001b[38;5;124mCan not squeeze with more than one column.\u001b[39m\u001b[38;5;124m\"\u001b[39m)\n\u001b[1;32m    756\u001b[0m     values \u001b[38;5;241m=\u001b[39m values[\u001b[38;5;241m0\u001b[39m, :]  \u001b[38;5;66;03m# type: ignore[call-overload]\u001b[39;00m\n\u001b[0;32m--> 758\u001b[0m new_values \u001b[38;5;241m=\u001b[39m astype_array_safe(values, dtype, copy\u001b[38;5;241m=\u001b[39mcopy, errors\u001b[38;5;241m=\u001b[39merrors)\n\u001b[1;32m    760\u001b[0m new_values \u001b[38;5;241m=\u001b[39m maybe_coerce_values(new_values)\n\u001b[1;32m    762\u001b[0m refs \u001b[38;5;241m=\u001b[39m \u001b[38;5;28;01mNone\u001b[39;00m\n",
      "File \u001b[0;32m/opt/anaconda3/lib/python3.12/site-packages/pandas/core/dtypes/astype.py:237\u001b[0m, in \u001b[0;36mastype_array_safe\u001b[0;34m(values, dtype, copy, errors)\u001b[0m\n\u001b[1;32m    234\u001b[0m     dtype \u001b[38;5;241m=\u001b[39m dtype\u001b[38;5;241m.\u001b[39mnumpy_dtype\n\u001b[1;32m    236\u001b[0m \u001b[38;5;28;01mtry\u001b[39;00m:\n\u001b[0;32m--> 237\u001b[0m     new_values \u001b[38;5;241m=\u001b[39m astype_array(values, dtype, copy\u001b[38;5;241m=\u001b[39mcopy)\n\u001b[1;32m    238\u001b[0m \u001b[38;5;28;01mexcept\u001b[39;00m (\u001b[38;5;167;01mValueError\u001b[39;00m, \u001b[38;5;167;01mTypeError\u001b[39;00m):\n\u001b[1;32m    239\u001b[0m     \u001b[38;5;66;03m# e.g. _astype_nansafe can fail on object-dtype of strings\u001b[39;00m\n\u001b[1;32m    240\u001b[0m     \u001b[38;5;66;03m#  trying to convert to float\u001b[39;00m\n\u001b[1;32m    241\u001b[0m     \u001b[38;5;28;01mif\u001b[39;00m errors \u001b[38;5;241m==\u001b[39m \u001b[38;5;124m\"\u001b[39m\u001b[38;5;124mignore\u001b[39m\u001b[38;5;124m\"\u001b[39m:\n",
      "File \u001b[0;32m/opt/anaconda3/lib/python3.12/site-packages/pandas/core/dtypes/astype.py:182\u001b[0m, in \u001b[0;36mastype_array\u001b[0;34m(values, dtype, copy)\u001b[0m\n\u001b[1;32m    179\u001b[0m     values \u001b[38;5;241m=\u001b[39m values\u001b[38;5;241m.\u001b[39mastype(dtype, copy\u001b[38;5;241m=\u001b[39mcopy)\n\u001b[1;32m    181\u001b[0m \u001b[38;5;28;01melse\u001b[39;00m:\n\u001b[0;32m--> 182\u001b[0m     values \u001b[38;5;241m=\u001b[39m _astype_nansafe(values, dtype, copy\u001b[38;5;241m=\u001b[39mcopy)\n\u001b[1;32m    184\u001b[0m \u001b[38;5;66;03m# in pandas we don't store numpy str dtypes, so convert to object\u001b[39;00m\n\u001b[1;32m    185\u001b[0m \u001b[38;5;28;01mif\u001b[39;00m \u001b[38;5;28misinstance\u001b[39m(dtype, np\u001b[38;5;241m.\u001b[39mdtype) \u001b[38;5;129;01mand\u001b[39;00m \u001b[38;5;28missubclass\u001b[39m(values\u001b[38;5;241m.\u001b[39mdtype\u001b[38;5;241m.\u001b[39mtype, \u001b[38;5;28mstr\u001b[39m):\n",
      "File \u001b[0;32m/opt/anaconda3/lib/python3.12/site-packages/pandas/core/dtypes/astype.py:80\u001b[0m, in \u001b[0;36m_astype_nansafe\u001b[0;34m(arr, dtype, copy, skipna)\u001b[0m\n\u001b[1;32m     78\u001b[0m \u001b[38;5;66;03m# dispatch on extension dtype if needed\u001b[39;00m\n\u001b[1;32m     79\u001b[0m \u001b[38;5;28;01mif\u001b[39;00m \u001b[38;5;28misinstance\u001b[39m(dtype, ExtensionDtype):\n\u001b[0;32m---> 80\u001b[0m     \u001b[38;5;28;01mreturn\u001b[39;00m dtype\u001b[38;5;241m.\u001b[39mconstruct_array_type()\u001b[38;5;241m.\u001b[39m_from_sequence(arr, dtype\u001b[38;5;241m=\u001b[39mdtype, copy\u001b[38;5;241m=\u001b[39mcopy)\n\u001b[1;32m     82\u001b[0m \u001b[38;5;28;01melif\u001b[39;00m \u001b[38;5;129;01mnot\u001b[39;00m \u001b[38;5;28misinstance\u001b[39m(dtype, np\u001b[38;5;241m.\u001b[39mdtype):  \u001b[38;5;66;03m# pragma: no cover\u001b[39;00m\n\u001b[1;32m     83\u001b[0m     \u001b[38;5;28;01mraise\u001b[39;00m \u001b[38;5;167;01mValueError\u001b[39;00m(\u001b[38;5;124m\"\u001b[39m\u001b[38;5;124mdtype must be np.dtype or ExtensionDtype\u001b[39m\u001b[38;5;124m\"\u001b[39m)\n",
      "File \u001b[0;32m/opt/anaconda3/lib/python3.12/site-packages/pandas/core/arrays/arrow/array.py:309\u001b[0m, in \u001b[0;36mArrowExtensionArray._from_sequence\u001b[0;34m(cls, scalars, dtype, copy)\u001b[0m\n\u001b[1;32m    305\u001b[0m \u001b[38;5;250m\u001b[39m\u001b[38;5;124;03m\"\"\"\u001b[39;00m\n\u001b[1;32m    306\u001b[0m \u001b[38;5;124;03mConstruct a new ExtensionArray from a sequence of scalars.\u001b[39;00m\n\u001b[1;32m    307\u001b[0m \u001b[38;5;124;03m\"\"\"\u001b[39;00m\n\u001b[1;32m    308\u001b[0m pa_type \u001b[38;5;241m=\u001b[39m to_pyarrow_type(dtype)\n\u001b[0;32m--> 309\u001b[0m pa_array \u001b[38;5;241m=\u001b[39m \u001b[38;5;28mcls\u001b[39m\u001b[38;5;241m.\u001b[39m_box_pa_array(scalars, pa_type\u001b[38;5;241m=\u001b[39mpa_type, copy\u001b[38;5;241m=\u001b[39mcopy)\n\u001b[1;32m    310\u001b[0m arr \u001b[38;5;241m=\u001b[39m \u001b[38;5;28mcls\u001b[39m(pa_array)\n\u001b[1;32m    311\u001b[0m \u001b[38;5;28;01mreturn\u001b[39;00m arr\n",
      "File \u001b[0;32m/opt/anaconda3/lib/python3.12/site-packages/pandas/core/arrays/arrow/array.py:525\u001b[0m, in \u001b[0;36mArrowExtensionArray._box_pa_array\u001b[0;34m(cls, value, pa_type, copy)\u001b[0m\n\u001b[1;32m    523\u001b[0m \u001b[38;5;28;01melse\u001b[39;00m:\n\u001b[1;32m    524\u001b[0m     \u001b[38;5;28;01mtry\u001b[39;00m:\n\u001b[0;32m--> 525\u001b[0m         pa_array \u001b[38;5;241m=\u001b[39m pa_array\u001b[38;5;241m.\u001b[39mcast(pa_type)\n\u001b[1;32m    526\u001b[0m     \u001b[38;5;28;01mexcept\u001b[39;00m (\n\u001b[1;32m    527\u001b[0m         pa\u001b[38;5;241m.\u001b[39mArrowInvalid,\n\u001b[1;32m    528\u001b[0m         pa\u001b[38;5;241m.\u001b[39mArrowTypeError,\n\u001b[1;32m    529\u001b[0m         pa\u001b[38;5;241m.\u001b[39mArrowNotImplementedError,\n\u001b[1;32m    530\u001b[0m     ):\n\u001b[1;32m    531\u001b[0m         \u001b[38;5;28;01mif\u001b[39;00m pa\u001b[38;5;241m.\u001b[39mtypes\u001b[38;5;241m.\u001b[39mis_string(pa_array\u001b[38;5;241m.\u001b[39mtype) \u001b[38;5;129;01mor\u001b[39;00m pa\u001b[38;5;241m.\u001b[39mtypes\u001b[38;5;241m.\u001b[39mis_large_string(\n\u001b[1;32m    532\u001b[0m             pa_array\u001b[38;5;241m.\u001b[39mtype\n\u001b[1;32m    533\u001b[0m         ):\n\u001b[1;32m    534\u001b[0m             \u001b[38;5;66;03m# TODO: Move logic in _from_sequence_of_strings into\u001b[39;00m\n\u001b[1;32m    535\u001b[0m             \u001b[38;5;66;03m# _box_pa_array\u001b[39;00m\n",
      "File \u001b[0;32m/opt/anaconda3/lib/python3.12/site-packages/pyarrow/array.pxi:997\u001b[0m, in \u001b[0;36mpyarrow.lib.Array.cast\u001b[0;34m()\u001b[0m\n",
      "File \u001b[0;32m/opt/anaconda3/lib/python3.12/site-packages/pyarrow/compute.py:404\u001b[0m, in \u001b[0;36mcast\u001b[0;34m(arr, target_type, safe, options, memory_pool)\u001b[0m\n\u001b[1;32m    402\u001b[0m     \u001b[38;5;28;01melse\u001b[39;00m:\n\u001b[1;32m    403\u001b[0m         options \u001b[38;5;241m=\u001b[39m CastOptions\u001b[38;5;241m.\u001b[39msafe(target_type)\n\u001b[0;32m--> 404\u001b[0m \u001b[38;5;28;01mreturn\u001b[39;00m call_function(\u001b[38;5;124m\"\u001b[39m\u001b[38;5;124mcast\u001b[39m\u001b[38;5;124m\"\u001b[39m, [arr], options, memory_pool)\n",
      "File \u001b[0;32m/opt/anaconda3/lib/python3.12/site-packages/pyarrow/_compute.pyx:590\u001b[0m, in \u001b[0;36mpyarrow._compute.call_function\u001b[0;34m()\u001b[0m\n",
      "File \u001b[0;32m/opt/anaconda3/lib/python3.12/site-packages/pyarrow/_compute.pyx:385\u001b[0m, in \u001b[0;36mpyarrow._compute.Function.call\u001b[0;34m()\u001b[0m\n",
      "File \u001b[0;32m/opt/anaconda3/lib/python3.12/site-packages/pyarrow/error.pxi:154\u001b[0m, in \u001b[0;36mpyarrow.lib.pyarrow_internal_check_status\u001b[0;34m()\u001b[0m\n",
      "File \u001b[0;32m/opt/anaconda3/lib/python3.12/site-packages/pyarrow/error.pxi:91\u001b[0m, in \u001b[0;36mpyarrow.lib.check_status\u001b[0;34m()\u001b[0m\n",
      "\u001b[0;31mArrowInvalid\u001b[0m: Integer value 32773 not in range: 0 to 127"
     ]
    }
   ],
   "source": [
    "medium_ser.astype('int8[pyarrow]')"
   ]
  },
  {
   "cell_type": "code",
   "execution_count": 92,
   "id": "f22d4ca9-2c22-4a81-846d-7e6dd85ff9ef",
   "metadata": {},
   "outputs": [],
   "source": [
    "float_vals = [1.5,2.7,127.0]\n",
    "float_missing = [None, 1.5, -45.0]\n",
    "float_rain = [1.5, 2.7, 0.0, 'T', 1.5, 0]"
   ]
  },
  {
   "cell_type": "code",
   "execution_count": 96,
   "id": "f3a86713-3cc1-4993-a201-bb4b3b3740c4",
   "metadata": {},
   "outputs": [
    {
     "data": {
      "text/plain": [
       "0      1.5\n",
       "1      2.7\n",
       "2    127.0\n",
       "dtype: float64"
      ]
     },
     "execution_count": 96,
     "metadata": {},
     "output_type": "execute_result"
    }
   ],
   "source": [
    "pd.Series(float_vals)"
   ]
  },
  {
   "cell_type": "code",
   "execution_count": 98,
   "id": "dbe16dcf-c324-4953-acfa-79a30d497899",
   "metadata": {},
   "outputs": [
    {
     "data": {
      "text/plain": [
       "0     NaN\n",
       "1     1.5\n",
       "2   -45.0\n",
       "dtype: float64"
      ]
     },
     "execution_count": 98,
     "metadata": {},
     "output_type": "execute_result"
    }
   ],
   "source": [
    "pd.Series(float_missing)"
   ]
  },
  {
   "cell_type": "code",
   "execution_count": 100,
   "id": "d4b23971-2dd2-4150-b638-51332403271b",
   "metadata": {},
   "outputs": [
    {
     "data": {
      "text/plain": [
       "0    1.5\n",
       "1    2.7\n",
       "2    0.0\n",
       "3      T\n",
       "4    1.5\n",
       "5      0\n",
       "dtype: object"
      ]
     },
     "execution_count": 100,
     "metadata": {},
     "output_type": "execute_result"
    }
   ],
   "source": [
    "pd.Series(float_rain)"
   ]
  },
  {
   "cell_type": "code",
   "execution_count": 102,
   "id": "b8920635-d9c3-4091-a8b5-bb9639461905",
   "metadata": {},
   "outputs": [
    {
     "data": {
      "text/plain": [
       "0      1.5\n",
       "1      2.7\n",
       "2    127.0\n",
       "dtype: double[pyarrow]"
      ]
     },
     "execution_count": 102,
     "metadata": {},
     "output_type": "execute_result"
    }
   ],
   "source": [
    "pd.Series(float_vals, dtype='float64[pyarrow]')"
   ]
  },
  {
   "cell_type": "code",
   "execution_count": 104,
   "id": "6b2d130d-94a0-4230-9b93-011bdc2e7fee",
   "metadata": {},
   "outputs": [
    {
     "data": {
      "text/plain": [
       "0    <NA>\n",
       "1     1.5\n",
       "2   -45.0\n",
       "dtype: double[pyarrow]"
      ]
     },
     "execution_count": 104,
     "metadata": {},
     "output_type": "execute_result"
    }
   ],
   "source": [
    "pd.Series(float_missing, dtype='float64[pyarrow]')"
   ]
  },
  {
   "cell_type": "code",
   "execution_count": 106,
   "id": "2bc624aa-4b22-400b-b875-717c4144ce24",
   "metadata": {},
   "outputs": [
    {
     "data": {
      "text/plain": [
       "0    1.5\n",
       "1    2.7\n",
       "2    0.0\n",
       "3      T\n",
       "4    1.5\n",
       "5      0\n",
       "dtype: object"
      ]
     },
     "execution_count": 106,
     "metadata": {},
     "output_type": "execute_result"
    }
   ],
   "source": [
    "pd.Series(float_rain)"
   ]
  },
  {
   "cell_type": "code",
   "execution_count": 108,
   "id": "3eec171d-16d7-4c37-a104-24e49d2113ff",
   "metadata": {},
   "outputs": [
    {
     "data": {
      "text/plain": [
       "0    1.5\n",
       "1    2.7\n",
       "2    0.0\n",
       "3    0.0\n",
       "4    1.5\n",
       "5    0.0\n",
       "dtype: float64"
      ]
     },
     "execution_count": 108,
     "metadata": {},
     "output_type": "execute_result"
    }
   ],
   "source": [
    "pd.Series(float_rain).replace('T', '0.0').astype('float64')"
   ]
  },
  {
   "cell_type": "code",
   "execution_count": 114,
   "id": "071baf10-0fee-41ec-8060-94341bca0153",
   "metadata": {},
   "outputs": [
    {
     "ename": "ArrowInvalid",
     "evalue": "Could not convert '0.0' with type str: tried to convert to double",
     "output_type": "error",
     "traceback": [
      "\u001b[0;31m---------------------------------------------------------------------------\u001b[0m",
      "\u001b[0;31mArrowInvalid\u001b[0m                              Traceback (most recent call last)",
      "File \u001b[0;32m/opt/anaconda3/lib/python3.12/site-packages/pandas/core/arrays/arrow/array.py:499\u001b[0m, in \u001b[0;36mArrowExtensionArray._box_pa_array\u001b[0;34m(cls, value, pa_type, copy)\u001b[0m\n\u001b[1;32m    498\u001b[0m \u001b[38;5;28;01mtry\u001b[39;00m:\n\u001b[0;32m--> 499\u001b[0m     pa_array \u001b[38;5;241m=\u001b[39m pa\u001b[38;5;241m.\u001b[39marray(value, \u001b[38;5;28mtype\u001b[39m\u001b[38;5;241m=\u001b[39mpa_type, from_pandas\u001b[38;5;241m=\u001b[39m\u001b[38;5;28;01mTrue\u001b[39;00m)\n\u001b[1;32m    500\u001b[0m \u001b[38;5;28;01mexcept\u001b[39;00m (pa\u001b[38;5;241m.\u001b[39mArrowInvalid, pa\u001b[38;5;241m.\u001b[39mArrowTypeError):\n\u001b[1;32m    501\u001b[0m     \u001b[38;5;66;03m# GH50430: let pyarrow infer type, then cast\u001b[39;00m\n",
      "File \u001b[0;32m/opt/anaconda3/lib/python3.12/site-packages/pyarrow/array.pxi:340\u001b[0m, in \u001b[0;36mpyarrow.lib.array\u001b[0;34m()\u001b[0m\n",
      "File \u001b[0;32m/opt/anaconda3/lib/python3.12/site-packages/pyarrow/array.pxi:86\u001b[0m, in \u001b[0;36mpyarrow.lib._ndarray_to_array\u001b[0;34m()\u001b[0m\n",
      "File \u001b[0;32m/opt/anaconda3/lib/python3.12/site-packages/pyarrow/error.pxi:91\u001b[0m, in \u001b[0;36mpyarrow.lib.check_status\u001b[0;34m()\u001b[0m\n",
      "\u001b[0;31mArrowInvalid\u001b[0m: Could not convert '0.0' with type str: tried to convert to double",
      "\nDuring handling of the above exception, another exception occurred:\n",
      "\u001b[0;31mArrowInvalid\u001b[0m                              Traceback (most recent call last)",
      "Cell \u001b[0;32mIn[114], line 1\u001b[0m\n\u001b[0;32m----> 1\u001b[0m pd\u001b[38;5;241m.\u001b[39mSeries(float_rain)\u001b[38;5;241m.\u001b[39mreplace(\u001b[38;5;124m'\u001b[39m\u001b[38;5;124mT\u001b[39m\u001b[38;5;124m'\u001b[39m,\u001b[38;5;124m'\u001b[39m\u001b[38;5;124m0.0\u001b[39m\u001b[38;5;124m'\u001b[39m)\u001b[38;5;241m.\u001b[39mastype(\u001b[38;5;124m'\u001b[39m\u001b[38;5;124mfloat64[pyarrow]\u001b[39m\u001b[38;5;124m'\u001b[39m)\n",
      "File \u001b[0;32m/opt/anaconda3/lib/python3.12/site-packages/pandas/core/generic.py:6643\u001b[0m, in \u001b[0;36mNDFrame.astype\u001b[0;34m(self, dtype, copy, errors)\u001b[0m\n\u001b[1;32m   6637\u001b[0m     results \u001b[38;5;241m=\u001b[39m [\n\u001b[1;32m   6638\u001b[0m         ser\u001b[38;5;241m.\u001b[39mastype(dtype, copy\u001b[38;5;241m=\u001b[39mcopy, errors\u001b[38;5;241m=\u001b[39merrors) \u001b[38;5;28;01mfor\u001b[39;00m _, ser \u001b[38;5;129;01min\u001b[39;00m \u001b[38;5;28mself\u001b[39m\u001b[38;5;241m.\u001b[39mitems()\n\u001b[1;32m   6639\u001b[0m     ]\n\u001b[1;32m   6641\u001b[0m \u001b[38;5;28;01melse\u001b[39;00m:\n\u001b[1;32m   6642\u001b[0m     \u001b[38;5;66;03m# else, only a single dtype is given\u001b[39;00m\n\u001b[0;32m-> 6643\u001b[0m     new_data \u001b[38;5;241m=\u001b[39m \u001b[38;5;28mself\u001b[39m\u001b[38;5;241m.\u001b[39m_mgr\u001b[38;5;241m.\u001b[39mastype(dtype\u001b[38;5;241m=\u001b[39mdtype, copy\u001b[38;5;241m=\u001b[39mcopy, errors\u001b[38;5;241m=\u001b[39merrors)\n\u001b[1;32m   6644\u001b[0m     res \u001b[38;5;241m=\u001b[39m \u001b[38;5;28mself\u001b[39m\u001b[38;5;241m.\u001b[39m_constructor_from_mgr(new_data, axes\u001b[38;5;241m=\u001b[39mnew_data\u001b[38;5;241m.\u001b[39maxes)\n\u001b[1;32m   6645\u001b[0m     \u001b[38;5;28;01mreturn\u001b[39;00m res\u001b[38;5;241m.\u001b[39m__finalize__(\u001b[38;5;28mself\u001b[39m, method\u001b[38;5;241m=\u001b[39m\u001b[38;5;124m\"\u001b[39m\u001b[38;5;124mastype\u001b[39m\u001b[38;5;124m\"\u001b[39m)\n",
      "File \u001b[0;32m/opt/anaconda3/lib/python3.12/site-packages/pandas/core/internals/managers.py:430\u001b[0m, in \u001b[0;36mBaseBlockManager.astype\u001b[0;34m(self, dtype, copy, errors)\u001b[0m\n\u001b[1;32m    427\u001b[0m \u001b[38;5;28;01melif\u001b[39;00m using_copy_on_write():\n\u001b[1;32m    428\u001b[0m     copy \u001b[38;5;241m=\u001b[39m \u001b[38;5;28;01mFalse\u001b[39;00m\n\u001b[0;32m--> 430\u001b[0m \u001b[38;5;28;01mreturn\u001b[39;00m \u001b[38;5;28mself\u001b[39m\u001b[38;5;241m.\u001b[39mapply(\n\u001b[1;32m    431\u001b[0m     \u001b[38;5;124m\"\u001b[39m\u001b[38;5;124mastype\u001b[39m\u001b[38;5;124m\"\u001b[39m,\n\u001b[1;32m    432\u001b[0m     dtype\u001b[38;5;241m=\u001b[39mdtype,\n\u001b[1;32m    433\u001b[0m     copy\u001b[38;5;241m=\u001b[39mcopy,\n\u001b[1;32m    434\u001b[0m     errors\u001b[38;5;241m=\u001b[39merrors,\n\u001b[1;32m    435\u001b[0m     using_cow\u001b[38;5;241m=\u001b[39musing_copy_on_write(),\n\u001b[1;32m    436\u001b[0m )\n",
      "File \u001b[0;32m/opt/anaconda3/lib/python3.12/site-packages/pandas/core/internals/managers.py:363\u001b[0m, in \u001b[0;36mBaseBlockManager.apply\u001b[0;34m(self, f, align_keys, **kwargs)\u001b[0m\n\u001b[1;32m    361\u001b[0m         applied \u001b[38;5;241m=\u001b[39m b\u001b[38;5;241m.\u001b[39mapply(f, \u001b[38;5;241m*\u001b[39m\u001b[38;5;241m*\u001b[39mkwargs)\n\u001b[1;32m    362\u001b[0m     \u001b[38;5;28;01melse\u001b[39;00m:\n\u001b[0;32m--> 363\u001b[0m         applied \u001b[38;5;241m=\u001b[39m \u001b[38;5;28mgetattr\u001b[39m(b, f)(\u001b[38;5;241m*\u001b[39m\u001b[38;5;241m*\u001b[39mkwargs)\n\u001b[1;32m    364\u001b[0m     result_blocks \u001b[38;5;241m=\u001b[39m extend_blocks(applied, result_blocks)\n\u001b[1;32m    366\u001b[0m out \u001b[38;5;241m=\u001b[39m \u001b[38;5;28mtype\u001b[39m(\u001b[38;5;28mself\u001b[39m)\u001b[38;5;241m.\u001b[39mfrom_blocks(result_blocks, \u001b[38;5;28mself\u001b[39m\u001b[38;5;241m.\u001b[39maxes)\n",
      "File \u001b[0;32m/opt/anaconda3/lib/python3.12/site-packages/pandas/core/internals/blocks.py:758\u001b[0m, in \u001b[0;36mBlock.astype\u001b[0;34m(self, dtype, copy, errors, using_cow, squeeze)\u001b[0m\n\u001b[1;32m    755\u001b[0m         \u001b[38;5;28;01mraise\u001b[39;00m \u001b[38;5;167;01mValueError\u001b[39;00m(\u001b[38;5;124m\"\u001b[39m\u001b[38;5;124mCan not squeeze with more than one column.\u001b[39m\u001b[38;5;124m\"\u001b[39m)\n\u001b[1;32m    756\u001b[0m     values \u001b[38;5;241m=\u001b[39m values[\u001b[38;5;241m0\u001b[39m, :]  \u001b[38;5;66;03m# type: ignore[call-overload]\u001b[39;00m\n\u001b[0;32m--> 758\u001b[0m new_values \u001b[38;5;241m=\u001b[39m astype_array_safe(values, dtype, copy\u001b[38;5;241m=\u001b[39mcopy, errors\u001b[38;5;241m=\u001b[39merrors)\n\u001b[1;32m    760\u001b[0m new_values \u001b[38;5;241m=\u001b[39m maybe_coerce_values(new_values)\n\u001b[1;32m    762\u001b[0m refs \u001b[38;5;241m=\u001b[39m \u001b[38;5;28;01mNone\u001b[39;00m\n",
      "File \u001b[0;32m/opt/anaconda3/lib/python3.12/site-packages/pandas/core/dtypes/astype.py:237\u001b[0m, in \u001b[0;36mastype_array_safe\u001b[0;34m(values, dtype, copy, errors)\u001b[0m\n\u001b[1;32m    234\u001b[0m     dtype \u001b[38;5;241m=\u001b[39m dtype\u001b[38;5;241m.\u001b[39mnumpy_dtype\n\u001b[1;32m    236\u001b[0m \u001b[38;5;28;01mtry\u001b[39;00m:\n\u001b[0;32m--> 237\u001b[0m     new_values \u001b[38;5;241m=\u001b[39m astype_array(values, dtype, copy\u001b[38;5;241m=\u001b[39mcopy)\n\u001b[1;32m    238\u001b[0m \u001b[38;5;28;01mexcept\u001b[39;00m (\u001b[38;5;167;01mValueError\u001b[39;00m, \u001b[38;5;167;01mTypeError\u001b[39;00m):\n\u001b[1;32m    239\u001b[0m     \u001b[38;5;66;03m# e.g. _astype_nansafe can fail on object-dtype of strings\u001b[39;00m\n\u001b[1;32m    240\u001b[0m     \u001b[38;5;66;03m#  trying to convert to float\u001b[39;00m\n\u001b[1;32m    241\u001b[0m     \u001b[38;5;28;01mif\u001b[39;00m errors \u001b[38;5;241m==\u001b[39m \u001b[38;5;124m\"\u001b[39m\u001b[38;5;124mignore\u001b[39m\u001b[38;5;124m\"\u001b[39m:\n",
      "File \u001b[0;32m/opt/anaconda3/lib/python3.12/site-packages/pandas/core/dtypes/astype.py:182\u001b[0m, in \u001b[0;36mastype_array\u001b[0;34m(values, dtype, copy)\u001b[0m\n\u001b[1;32m    179\u001b[0m     values \u001b[38;5;241m=\u001b[39m values\u001b[38;5;241m.\u001b[39mastype(dtype, copy\u001b[38;5;241m=\u001b[39mcopy)\n\u001b[1;32m    181\u001b[0m \u001b[38;5;28;01melse\u001b[39;00m:\n\u001b[0;32m--> 182\u001b[0m     values \u001b[38;5;241m=\u001b[39m _astype_nansafe(values, dtype, copy\u001b[38;5;241m=\u001b[39mcopy)\n\u001b[1;32m    184\u001b[0m \u001b[38;5;66;03m# in pandas we don't store numpy str dtypes, so convert to object\u001b[39;00m\n\u001b[1;32m    185\u001b[0m \u001b[38;5;28;01mif\u001b[39;00m \u001b[38;5;28misinstance\u001b[39m(dtype, np\u001b[38;5;241m.\u001b[39mdtype) \u001b[38;5;129;01mand\u001b[39;00m \u001b[38;5;28missubclass\u001b[39m(values\u001b[38;5;241m.\u001b[39mdtype\u001b[38;5;241m.\u001b[39mtype, \u001b[38;5;28mstr\u001b[39m):\n",
      "File \u001b[0;32m/opt/anaconda3/lib/python3.12/site-packages/pandas/core/dtypes/astype.py:80\u001b[0m, in \u001b[0;36m_astype_nansafe\u001b[0;34m(arr, dtype, copy, skipna)\u001b[0m\n\u001b[1;32m     78\u001b[0m \u001b[38;5;66;03m# dispatch on extension dtype if needed\u001b[39;00m\n\u001b[1;32m     79\u001b[0m \u001b[38;5;28;01mif\u001b[39;00m \u001b[38;5;28misinstance\u001b[39m(dtype, ExtensionDtype):\n\u001b[0;32m---> 80\u001b[0m     \u001b[38;5;28;01mreturn\u001b[39;00m dtype\u001b[38;5;241m.\u001b[39mconstruct_array_type()\u001b[38;5;241m.\u001b[39m_from_sequence(arr, dtype\u001b[38;5;241m=\u001b[39mdtype, copy\u001b[38;5;241m=\u001b[39mcopy)\n\u001b[1;32m     82\u001b[0m \u001b[38;5;28;01melif\u001b[39;00m \u001b[38;5;129;01mnot\u001b[39;00m \u001b[38;5;28misinstance\u001b[39m(dtype, np\u001b[38;5;241m.\u001b[39mdtype):  \u001b[38;5;66;03m# pragma: no cover\u001b[39;00m\n\u001b[1;32m     83\u001b[0m     \u001b[38;5;28;01mraise\u001b[39;00m \u001b[38;5;167;01mValueError\u001b[39;00m(\u001b[38;5;124m\"\u001b[39m\u001b[38;5;124mdtype must be np.dtype or ExtensionDtype\u001b[39m\u001b[38;5;124m\"\u001b[39m)\n",
      "File \u001b[0;32m/opt/anaconda3/lib/python3.12/site-packages/pandas/core/arrays/arrow/array.py:309\u001b[0m, in \u001b[0;36mArrowExtensionArray._from_sequence\u001b[0;34m(cls, scalars, dtype, copy)\u001b[0m\n\u001b[1;32m    305\u001b[0m \u001b[38;5;250m\u001b[39m\u001b[38;5;124;03m\"\"\"\u001b[39;00m\n\u001b[1;32m    306\u001b[0m \u001b[38;5;124;03mConstruct a new ExtensionArray from a sequence of scalars.\u001b[39;00m\n\u001b[1;32m    307\u001b[0m \u001b[38;5;124;03m\"\"\"\u001b[39;00m\n\u001b[1;32m    308\u001b[0m pa_type \u001b[38;5;241m=\u001b[39m to_pyarrow_type(dtype)\n\u001b[0;32m--> 309\u001b[0m pa_array \u001b[38;5;241m=\u001b[39m \u001b[38;5;28mcls\u001b[39m\u001b[38;5;241m.\u001b[39m_box_pa_array(scalars, pa_type\u001b[38;5;241m=\u001b[39mpa_type, copy\u001b[38;5;241m=\u001b[39mcopy)\n\u001b[1;32m    310\u001b[0m arr \u001b[38;5;241m=\u001b[39m \u001b[38;5;28mcls\u001b[39m(pa_array)\n\u001b[1;32m    311\u001b[0m \u001b[38;5;28;01mreturn\u001b[39;00m arr\n",
      "File \u001b[0;32m/opt/anaconda3/lib/python3.12/site-packages/pandas/core/arrays/arrow/array.py:502\u001b[0m, in \u001b[0;36mArrowExtensionArray._box_pa_array\u001b[0;34m(cls, value, pa_type, copy)\u001b[0m\n\u001b[1;32m    499\u001b[0m     pa_array \u001b[38;5;241m=\u001b[39m pa\u001b[38;5;241m.\u001b[39marray(value, \u001b[38;5;28mtype\u001b[39m\u001b[38;5;241m=\u001b[39mpa_type, from_pandas\u001b[38;5;241m=\u001b[39m\u001b[38;5;28;01mTrue\u001b[39;00m)\n\u001b[1;32m    500\u001b[0m \u001b[38;5;28;01mexcept\u001b[39;00m (pa\u001b[38;5;241m.\u001b[39mArrowInvalid, pa\u001b[38;5;241m.\u001b[39mArrowTypeError):\n\u001b[1;32m    501\u001b[0m     \u001b[38;5;66;03m# GH50430: let pyarrow infer type, then cast\u001b[39;00m\n\u001b[0;32m--> 502\u001b[0m     pa_array \u001b[38;5;241m=\u001b[39m pa\u001b[38;5;241m.\u001b[39marray(value, from_pandas\u001b[38;5;241m=\u001b[39m\u001b[38;5;28;01mTrue\u001b[39;00m)\n\u001b[1;32m    504\u001b[0m \u001b[38;5;28;01mif\u001b[39;00m pa_type \u001b[38;5;129;01mis\u001b[39;00m \u001b[38;5;28;01mNone\u001b[39;00m \u001b[38;5;129;01mand\u001b[39;00m pa\u001b[38;5;241m.\u001b[39mtypes\u001b[38;5;241m.\u001b[39mis_duration(pa_array\u001b[38;5;241m.\u001b[39mtype):\n\u001b[1;32m    505\u001b[0m     \u001b[38;5;66;03m# Workaround https://github.com/apache/arrow/issues/37291\u001b[39;00m\n\u001b[1;32m    506\u001b[0m     \u001b[38;5;28;01mfrom\u001b[39;00m \u001b[38;5;21;01mpandas\u001b[39;00m\u001b[38;5;21;01m.\u001b[39;00m\u001b[38;5;21;01mcore\u001b[39;00m\u001b[38;5;21;01m.\u001b[39;00m\u001b[38;5;21;01mtools\u001b[39;00m\u001b[38;5;21;01m.\u001b[39;00m\u001b[38;5;21;01mtimedeltas\u001b[39;00m \u001b[38;5;28;01mimport\u001b[39;00m to_timedelta\n",
      "File \u001b[0;32m/opt/anaconda3/lib/python3.12/site-packages/pyarrow/array.pxi:340\u001b[0m, in \u001b[0;36mpyarrow.lib.array\u001b[0;34m()\u001b[0m\n",
      "File \u001b[0;32m/opt/anaconda3/lib/python3.12/site-packages/pyarrow/array.pxi:86\u001b[0m, in \u001b[0;36mpyarrow.lib._ndarray_to_array\u001b[0;34m()\u001b[0m\n",
      "File \u001b[0;32m/opt/anaconda3/lib/python3.12/site-packages/pyarrow/error.pxi:91\u001b[0m, in \u001b[0;36mpyarrow.lib.check_status\u001b[0;34m()\u001b[0m\n",
      "\u001b[0;31mArrowInvalid\u001b[0m: Could not convert '0.0' with type str: tried to convert to double"
     ]
    }
   ],
   "source": [
    "pd.Series(float_rain).replace('T','0.0').astype('float64[pyarrow]')"
   ]
  },
  {
   "cell_type": "code",
   "execution_count": 116,
   "id": "38e16c84-f32b-4155-960f-8ae4fcb493f6",
   "metadata": {},
   "outputs": [
    {
     "name": "stderr",
     "output_type": "stream",
     "text": [
      "/var/folders/j1/_rvyqj0d1tbbbrpqmjwvjfz80000gn/T/ipykernel_37535/2912682391.py:1: FutureWarning: Downcasting behavior in `replace` is deprecated and will be removed in a future version. To retain the old behavior, explicitly call `result.infer_objects(copy=False)`. To opt-in to the future behavior, set `pd.set_option('future.no_silent_downcasting', True)`\n",
      "  pd.Series(float_rain).replace('T', 0).astype('float64[pyarrow]')\n"
     ]
    },
    {
     "data": {
      "text/plain": [
       "0    1.5\n",
       "1    2.7\n",
       "2    0.0\n",
       "3    0.0\n",
       "4    1.5\n",
       "5    0.0\n",
       "dtype: double[pyarrow]"
      ]
     },
     "execution_count": 116,
     "metadata": {},
     "output_type": "execute_result"
    }
   ],
   "source": [
    "pd.Series(float_rain).replace('T', 0).astype('float64[pyarrow]')"
   ]
  },
  {
   "cell_type": "code",
   "execution_count": 124,
   "id": "5e996732-5139-4003-a24b-6bb837fe450a",
   "metadata": {},
   "outputs": [
    {
     "data": {
      "text/plain": [
       "0    1.5\n",
       "1    2.7\n",
       "2    0.0\n",
       "3    0.0\n",
       "4    1.5\n",
       "5    0.0\n",
       "dtype: double[pyarrow]"
      ]
     },
     "execution_count": 124,
     "metadata": {},
     "output_type": "execute_result"
    }
   ],
   "source": [
    "pd.Series(float_rain).replace('T', '0.0').astype('float').astype('float64[pyarrow]')"
   ]
  },
  {
   "cell_type": "code",
   "execution_count": 126,
   "id": "8eacc216-f8d1-4a6f-a2ee-192821433135",
   "metadata": {},
   "outputs": [],
   "source": [
    "import pyarrow as pa\n",
    "import pandas as pd"
   ]
  },
  {
   "cell_type": "code",
   "execution_count": 130,
   "id": "8f436803-2292-4d35-82d5-ef224e6bb7d1",
   "metadata": {},
   "outputs": [],
   "source": [
    "string_pa = pd.ArrowDtype(pa.string())"
   ]
  },
  {
   "cell_type": "code",
   "execution_count": 132,
   "id": "0034715a-b76a-412b-aa52-f4312c8ddba0",
   "metadata": {},
   "outputs": [],
   "source": [
    "text_freeform = ['My name is Jeff', 'I like pandas', 'I like programming']\n",
    "text_with_missing = ['My name is Jeff', None, 'I like programming']"
   ]
  },
  {
   "cell_type": "code",
   "execution_count": 134,
   "id": "2f4ef729-6cfb-4244-bb0f-34f7938f77fa",
   "metadata": {},
   "outputs": [
    {
     "data": {
      "text/plain": [
       "0       My name is Jeff\n",
       "1         I like pandas\n",
       "2    I like programming\n",
       "dtype: object"
      ]
     },
     "execution_count": 134,
     "metadata": {},
     "output_type": "execute_result"
    }
   ],
   "source": [
    "pd.Series(text_freeform)"
   ]
  },
  {
   "cell_type": "code",
   "execution_count": 136,
   "id": "3c115520-e45e-482e-bc37-bc2a8a763d5c",
   "metadata": {},
   "outputs": [
    {
     "data": {
      "text/plain": [
       "0       My name is Jeff\n",
       "1                  None\n",
       "2    I like programming\n",
       "dtype: object"
      ]
     },
     "execution_count": 136,
     "metadata": {},
     "output_type": "execute_result"
    }
   ],
   "source": [
    "pd.Series(text_with_missing)"
   ]
  },
  {
   "cell_type": "code",
   "execution_count": 144,
   "id": "4a4a4e7d-62c1-407d-8d6a-ca5bec0d3823",
   "metadata": {},
   "outputs": [
    {
     "data": {
      "text/plain": [
       "0       My name is Jeff\n",
       "1         I like pandas\n",
       "2    I like programming\n",
       "dtype: string[pyarrow]"
      ]
     },
     "execution_count": 144,
     "metadata": {},
     "output_type": "execute_result"
    }
   ],
   "source": [
    "string_pa = pd.ArrowDtype(pa.string())\n",
    "tf1 = pd.Series(text_freeform, dtype=string_pa)\n",
    "tf1"
   ]
  },
  {
   "cell_type": "code",
   "execution_count": 150,
   "id": "e4195df8-3020-40d4-8968-0982f902e96c",
   "metadata": {},
   "outputs": [
    {
     "data": {
      "text/plain": [
       "0       My name is Jeff\n",
       "1         I like pandas\n",
       "2    I like programming\n",
       "dtype: string"
      ]
     },
     "execution_count": 150,
     "metadata": {},
     "output_type": "execute_result"
    }
   ],
   "source": [
    "tf2 = pd.Series(text_freeform, dtype='string[pyarrow]')\n",
    "tf2"
   ]
  },
  {
   "cell_type": "code",
   "execution_count": 152,
   "id": "54e2590c-2409-4b7f-a333-216d5cfc6f1b",
   "metadata": {},
   "outputs": [
    {
     "data": {
      "text/plain": [
       "False"
      ]
     },
     "execution_count": 152,
     "metadata": {},
     "output_type": "execute_result"
    }
   ],
   "source": [
    "tf1.dtype == tf2.dtype"
   ]
  },
  {
   "cell_type": "code",
   "execution_count": 162,
   "id": "d00a20d1-4974-466b-aa1f-2f9caec9e7ab",
   "metadata": {},
   "outputs": [
    {
     "data": {
      "text/plain": [
       "0       My name is Jeff\n",
       "1                  <NA>\n",
       "2    I like programming\n",
       "dtype: string[pyarrow]"
      ]
     },
     "execution_count": 162,
     "metadata": {},
     "output_type": "execute_result"
    }
   ],
   "source": [
    "string_pa = pd.ArrowDtype(pa.string())\n",
    "pd.Series(text_with_missing, dtype=string_pa)"
   ]
  },
  {
   "cell_type": "code",
   "execution_count": 164,
   "id": "470a6507-f979-43a6-a4ef-98833cd1fff3",
   "metadata": {},
   "outputs": [],
   "source": [
    "states = ['CA', 'NY', 'TX']\n",
    "months = ['Jan', 'Feb', 'Mar', 'Apr', 'May', 'Jun', 'Jul', 'Aug', 'Sep', 'Oct', 'Nov', 'Dec']"
   ]
  },
  {
   "cell_type": "code",
   "execution_count": 166,
   "id": "0059bab7-6c76-4b94-a305-6fed03632f49",
   "metadata": {},
   "outputs": [
    {
     "data": {
      "text/plain": [
       "0    CA\n",
       "1    NY\n",
       "2    TX\n",
       "dtype: category\n",
       "Categories (3, object): ['CA', 'NY', 'TX']"
      ]
     },
     "execution_count": 166,
     "metadata": {},
     "output_type": "execute_result"
    }
   ],
   "source": [
    "pd.Series(states, dtype='category')"
   ]
  },
  {
   "cell_type": "code",
   "execution_count": 176,
   "id": "0bbf1c0e-63f3-40a7-a1cc-c72a173e2f1c",
   "metadata": {},
   "outputs": [
    {
     "data": {
      "text/plain": [
       "0     Jan\n",
       "1     Feb\n",
       "2     Mar\n",
       "3     Apr\n",
       "4     May\n",
       "5     Jun\n",
       "6     Jul\n",
       "7     Aug\n",
       "8     Sep\n",
       "9     Oct\n",
       "10    Nov\n",
       "11    Dec\n",
       "dtype: category\n",
       "Categories (12, object): ['Apr', 'Aug', 'Dec', 'Feb', ..., 'May', 'Nov', 'Oct', 'Sep']"
      ]
     },
     "execution_count": 176,
     "metadata": {},
     "output_type": "execute_result"
    }
   ],
   "source": [
    "pd.Series(months, dtype='category')"
   ]
  },
  {
   "cell_type": "markdown",
   "id": "700c40ac-c474-4084-a58e-4e41c32a7987",
   "metadata": {},
   "source": [
    "pd.Series(months, dtype='category').sort_values()"
   ]
  },
  {
   "cell_type": "code",
   "execution_count": 182,
   "id": "fcb3995d-8204-4a3c-bcba-b9a8aee3c6ad",
   "metadata": {},
   "outputs": [],
   "source": [
    "month_cat = pd.CategoricalDtype(categories=months,ordered=True)"
   ]
  },
  {
   "cell_type": "code",
   "execution_count": 184,
   "id": "de007bde-dc82-42e1-800f-3174aa341fc9",
   "metadata": {},
   "outputs": [
    {
     "data": {
      "text/plain": [
       "0     Jan\n",
       "1     Feb\n",
       "2     Mar\n",
       "3     Apr\n",
       "4     May\n",
       "5     Jun\n",
       "6     Jul\n",
       "7     Aug\n",
       "8     Sep\n",
       "9     Oct\n",
       "10    Nov\n",
       "11    Dec\n",
       "dtype: category\n",
       "Categories (12, object): ['Jan' < 'Feb' < 'Mar' < 'Apr' ... 'Sep' < 'Oct' < 'Nov' < 'Dec']"
      ]
     },
     "execution_count": 184,
     "metadata": {},
     "output_type": "execute_result"
    }
   ],
   "source": [
    "pd.Series(months, dtype=month_cat).sort_values()"
   ]
  },
  {
   "cell_type": "code",
   "execution_count": 188,
   "id": "cec79806-2d67-43a5-b0de-21d911b32f18",
   "metadata": {},
   "outputs": [
    {
     "data": {
      "text/plain": [
       "0     Jan\n",
       "1     Feb\n",
       "2     Mar\n",
       "3     Apr\n",
       "4     May\n",
       "5     Jun\n",
       "6     Jul\n",
       "7     Aug\n",
       "8     Sep\n",
       "9     Oct\n",
       "10    Nov\n",
       "11    Dec\n",
       "dtype: category\n",
       "Categories (12, object): ['Jan' < 'Feb' < 'Mar' < 'Apr' ... 'Sep' < 'Oct' < 'Nov' < 'Dec']"
      ]
     },
     "execution_count": 188,
     "metadata": {},
     "output_type": "execute_result"
    }
   ],
   "source": [
    "month_cat = pd.CategoricalDtype(categories = months, ordered=True)\n",
    "pd.Series(months, dtype=month_cat).sort_values()"
   ]
  },
  {
   "cell_type": "code",
   "execution_count": 190,
   "id": "f7af6a11-5cdb-4d62-b17a-27e1bf09c97b",
   "metadata": {},
   "outputs": [
    {
     "data": {
      "text/plain": [
       "0     Jan\n",
       "1     Feb\n",
       "2     Mar\n",
       "3     Apr\n",
       "4     May\n",
       "5     Jun\n",
       "6     Jul\n",
       "7     Aug\n",
       "8     Sep\n",
       "9     Oct\n",
       "10    Nov\n",
       "11    Dec\n",
       "dtype: category\n",
       "Categories (12, object): ['Jan' < 'Feb' < 'Mar' < 'Apr' ... 'Sep' < 'Oct' < 'Nov' < 'Dec']"
      ]
     },
     "execution_count": 190,
     "metadata": {},
     "output_type": "execute_result"
    }
   ],
   "source": [
    "pd.Series(months, dtype=string_pa).astype(month_cat)"
   ]
  },
  {
   "cell_type": "code",
   "execution_count": 192,
   "id": "a6fc97ad-0a61-4aa8-b5c8-417221c5271d",
   "metadata": {},
   "outputs": [],
   "source": [
    "import datetime as dt\n",
    "dt_list = [dt.datetime(2020, 1,1, 4, 30), dt.datetime(2020,1,2),dt.datetime(2020,1,3,)]"
   ]
  },
  {
   "cell_type": "code",
   "execution_count": 194,
   "id": "b8ab1f44-a751-4f4d-beb0-81cdc3d7474c",
   "metadata": {},
   "outputs": [],
   "source": [
    "string_dates = ['2020-01-01 04:30:00','2020-01-02 00:00:00', '2020-01-03 00:00:00']"
   ]
  },
  {
   "cell_type": "code",
   "execution_count": 196,
   "id": "f2a171ab-d35b-4b84-9cb0-f54c1ff0bf01",
   "metadata": {},
   "outputs": [],
   "source": [
    "string_dates_missing = ['2020-01-01 4:30', None, '2020-01-03']\n",
    "epoch_dates = [1577836800,1577923200,1578009600]"
   ]
  },
  {
   "cell_type": "code",
   "execution_count": 198,
   "id": "cd6dea38-8ddb-4041-9470-a347758d5a13",
   "metadata": {},
   "outputs": [
    {
     "data": {
      "text/plain": [
       "0   2020-01-01 04:30:00\n",
       "1   2020-01-02 00:00:00\n",
       "2   2020-01-03 00:00:00\n",
       "dtype: datetime64[ns]"
      ]
     },
     "execution_count": 198,
     "metadata": {},
     "output_type": "execute_result"
    }
   ],
   "source": [
    "pd.Series(dt_list)"
   ]
  },
  {
   "cell_type": "code",
   "execution_count": 200,
   "id": "a8880011-0d6f-4d6c-9465-9196305df379",
   "metadata": {},
   "outputs": [
    {
     "data": {
      "text/plain": [
       "0   2020-01-01 04:30:00\n",
       "1   2020-01-02 00:00:00\n",
       "2   2020-01-03 00:00:00\n",
       "dtype: datetime64[ns]"
      ]
     },
     "execution_count": 200,
     "metadata": {},
     "output_type": "execute_result"
    }
   ],
   "source": [
    "pd.Series(string_dates,dtype='datetime64[ns]')"
   ]
  },
  {
   "cell_type": "code",
   "execution_count": 202,
   "id": "3b0af055-3032-47e7-be9d-24c8e3b57a62",
   "metadata": {},
   "outputs": [
    {
     "data": {
      "text/plain": [
       "0   2020-01-01 04:30:00\n",
       "1                   NaT\n",
       "2   2020-01-03 00:00:00\n",
       "dtype: datetime64[ns]"
      ]
     },
     "execution_count": 202,
     "metadata": {},
     "output_type": "execute_result"
    }
   ],
   "source": [
    "pd.Series(string_dates_missing, dtype='datetime64[ns]')"
   ]
  },
  {
   "cell_type": "code",
   "execution_count": 206,
   "id": "788b2982-4906-4bc2-9dad-ff3617ff7348",
   "metadata": {},
   "outputs": [
    {
     "data": {
      "text/plain": [
       "0   1970-01-01 00:00:01.577836800\n",
       "1   1970-01-01 00:00:01.577923200\n",
       "2   1970-01-01 00:00:01.578009600\n",
       "dtype: datetime64[ns]"
      ]
     },
     "execution_count": 206,
     "metadata": {},
     "output_type": "execute_result"
    }
   ],
   "source": [
    "pd.Series(epoch_dates, dtype='datetime64[ns]')"
   ]
  },
  {
   "cell_type": "code",
   "execution_count": 208,
   "id": "5e5591c7-7b3f-4b81-9150-4162c0a9c685",
   "metadata": {},
   "outputs": [
    {
     "data": {
      "text/plain": [
       "0   2020-01-01\n",
       "1   2020-01-02\n",
       "2   2020-01-03\n",
       "dtype: datetime64[s]"
      ]
     },
     "execution_count": 208,
     "metadata": {},
     "output_type": "execute_result"
    }
   ],
   "source": [
    "pd.Series(epoch_dates, dtype='datetime64[s]')"
   ]
  },
  {
   "cell_type": "code",
   "execution_count": 210,
   "id": "382a64ca-f48c-4892-b440-41eb8cdf5086",
   "metadata": {},
   "outputs": [
    {
     "data": {
      "text/plain": [
       "0    2020-01-01 04:30:00\n",
       "1    2020-01-02 00:00:00\n",
       "2    2020-01-03 00:00:00\n",
       "dtype: timestamp[ns][pyarrow]"
      ]
     },
     "execution_count": 210,
     "metadata": {},
     "output_type": "execute_result"
    }
   ],
   "source": [
    "pd.Series(dt_list, dtype='timestamp[ns][pyarrow]')"
   ]
  },
  {
   "cell_type": "code",
   "execution_count": 212,
   "id": "13c1a0bd-9551-47b3-8e61-65850de9060f",
   "metadata": {},
   "outputs": [
    {
     "data": {
      "text/plain": [
       "0    2020-01-01 04:30:00\n",
       "1    2020-01-02 00:00:00\n",
       "2    2020-01-03 00:00:00\n",
       "dtype: timestamp[ns][pyarrow]"
      ]
     },
     "execution_count": 212,
     "metadata": {},
     "output_type": "execute_result"
    }
   ],
   "source": [
    "pd.Series(string_dates, dtype='timestamp[ns][pyarrow]')"
   ]
  },
  {
   "cell_type": "code",
   "execution_count": 214,
   "id": "d1fbdfc1-bf50-495d-a4a0-32bc994976a7",
   "metadata": {},
   "outputs": [
    {
     "data": {
      "text/plain": [
       "0    2020-01-01 00:00:00\n",
       "1    2020-01-02 00:00:00\n",
       "2    2020-01-03 00:00:00\n",
       "dtype: timestamp[s][pyarrow]"
      ]
     },
     "execution_count": 214,
     "metadata": {},
     "output_type": "execute_result"
    }
   ],
   "source": [
    "pd.Series(epoch_dates).astype('timestamp[s][pyarrow]')"
   ]
  },
  {
   "cell_type": "code",
   "execution_count": null,
   "id": "04e0104b-5722-457b-a70f-4a916912b6bf",
   "metadata": {},
   "outputs": [],
   "source": []
  }
 ],
 "metadata": {
  "kernelspec": {
   "display_name": "Python 3 (ipykernel)",
   "language": "python",
   "name": "python3"
  },
  "language_info": {
   "codemirror_mode": {
    "name": "ipython",
    "version": 3
   },
   "file_extension": ".py",
   "mimetype": "text/x-python",
   "name": "python",
   "nbconvert_exporter": "python",
   "pygments_lexer": "ipython3",
   "version": "3.12.2"
  }
 },
 "nbformat": 4,
 "nbformat_minor": 5
}
