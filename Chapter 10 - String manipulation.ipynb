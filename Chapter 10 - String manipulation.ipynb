{
 "cells": [
  {
   "cell_type": "code",
   "execution_count": 1,
   "id": "a8a80c6f-cb2e-4a7a-97fb-926e4eada6ab",
   "metadata": {},
   "outputs": [],
   "source": [
    "import pandas as pd\n",
    "\n",
    "url = 'https://github.com/mattharrison/datasets/raw/master/data/''vehicles.csv.zip'\n",
    "df = pd.read_csv(url, dtype_backend='pyarrow', engine='pyarrow')\n",
    "pd.set_option('display.max_columns', None)\n",
    "\n",
    "def gt20(val):\n",
    "    return val > 20\n",
    "\n",
    "city_mpg = df.city08\n",
    "highway_mpg = df.highway08\n",
    "make = df.make"
   ]
  },
  {
   "cell_type": "code",
   "execution_count": 2,
   "id": "59b278e7-116a-4232-8cf4-8460ed144f20",
   "metadata": {},
   "outputs": [
    {
     "data": {
      "text/plain": [
       "0        Alfa Romeo\n",
       "1           Ferrari\n",
       "2             Dodge\n",
       "3             Dodge\n",
       "4            Subaru\n",
       "            ...    \n",
       "41139        Subaru\n",
       "41140        Subaru\n",
       "41141        Subaru\n",
       "41142        Subaru\n",
       "41143        Subaru\n",
       "Name: make, Length: 41144, dtype: string[pyarrow]"
      ]
     },
     "execution_count": 2,
     "metadata": {},
     "output_type": "execute_result"
    }
   ],
   "source": [
    "make"
   ]
  },
  {
   "cell_type": "code",
   "execution_count": 3,
   "id": "ac6d79ed-4363-4533-924d-83363c9f45fa",
   "metadata": {},
   "outputs": [
    {
     "data": {
      "text/plain": [
       "0        Alfa Romeo\n",
       "1           Ferrari\n",
       "2             Dodge\n",
       "3             Dodge\n",
       "4            Subaru\n",
       "            ...    \n",
       "41139        Subaru\n",
       "41140        Subaru\n",
       "41141        Subaru\n",
       "41142        Subaru\n",
       "41143        Subaru\n",
       "Name: make, Length: 41144, dtype: object"
      ]
     },
     "execution_count": 3,
     "metadata": {},
     "output_type": "execute_result"
    }
   ],
   "source": [
    "make.astype(str)"
   ]
  },
  {
   "cell_type": "code",
   "execution_count": 4,
   "id": "91a80c65-a231-46ee-9478-c6b4856dfcab",
   "metadata": {},
   "outputs": [
    {
     "data": {
      "text/plain": [
       "0        Alfa Romeo\n",
       "1           Ferrari\n",
       "2             Dodge\n",
       "3             Dodge\n",
       "4            Subaru\n",
       "            ...    \n",
       "41139        Subaru\n",
       "41140        Subaru\n",
       "41141        Subaru\n",
       "41142        Subaru\n",
       "41143        Subaru\n",
       "Name: make, Length: 41144, dtype: string[pyarrow]"
      ]
     },
     "execution_count": 4,
     "metadata": {},
     "output_type": "execute_result"
    }
   ],
   "source": [
    "import pyarrow as pa\n",
    "string_pa = pd.ArrowDtype(pa.string())\n",
    "make.astype(str).astype(string_pa)"
   ]
  },
  {
   "cell_type": "code",
   "execution_count": 5,
   "id": "c7f2e8a3-b643-4638-a097-b44831409713",
   "metadata": {},
   "outputs": [
    {
     "data": {
      "text/plain": [
       "'hello'"
      ]
     },
     "execution_count": 5,
     "metadata": {},
     "output_type": "execute_result"
    }
   ],
   "source": [
    "'Ford'.lower()\n",
    "'Hello'.lower()"
   ]
  },
  {
   "cell_type": "code",
   "execution_count": 6,
   "id": "fa4be1ef-cd88-4110-9822-c34c4bb7125d",
   "metadata": {},
   "outputs": [
    {
     "data": {
      "text/plain": [
       "0        alfa romeo\n",
       "1           ferrari\n",
       "2             dodge\n",
       "3             dodge\n",
       "4            subaru\n",
       "            ...    \n",
       "41139        subaru\n",
       "41140        subaru\n",
       "41141        subaru\n",
       "41142        subaru\n",
       "41143        subaru\n",
       "Name: make, Length: 41144, dtype: string[pyarrow]"
      ]
     },
     "execution_count": 6,
     "metadata": {},
     "output_type": "execute_result"
    }
   ],
   "source": [
    "make.str.lower()"
   ]
  },
  {
   "cell_type": "code",
   "execution_count": 7,
   "id": "fa1640fc-83ac-4072-ab2f-53c15e6229d9",
   "metadata": {},
   "outputs": [
    {
     "data": {
      "text/plain": [
       "0"
      ]
     },
     "execution_count": 7,
     "metadata": {},
     "output_type": "execute_result"
    }
   ],
   "source": [
    "'Alpha Romeo'.find('A')"
   ]
  },
  {
   "cell_type": "code",
   "execution_count": 8,
   "id": "0c737aa5-2958-453c-aac2-adce1f346b49",
   "metadata": {},
   "outputs": [
    {
     "data": {
      "text/plain": [
       "0         0\n",
       "1        -1\n",
       "2        -1\n",
       "3        -1\n",
       "4        -1\n",
       "         ..\n",
       "41139    -1\n",
       "41140    -1\n",
       "41141    -1\n",
       "41142    -1\n",
       "41143    -1\n",
       "Name: make, Length: 41144, dtype: int32[pyarrow]"
      ]
     },
     "execution_count": 8,
     "metadata": {},
     "output_type": "execute_result"
    }
   ],
   "source": [
    "make.str.find('A')"
   ]
  },
  {
   "cell_type": "code",
   "execution_count": 9,
   "id": "c0461819-57ff-4897-bbca-865a879b843f",
   "metadata": {},
   "outputs": [],
   "source": [
    "# print(make.str.extract(r'([^a-z A-Z])')) ERROR"
   ]
  },
  {
   "cell_type": "code",
   "execution_count": 10,
   "id": "d574e0d4-98fe-4a11-949e-280b9f1ffd02",
   "metadata": {},
   "outputs": [
    {
     "name": "stdout",
     "output_type": "stream",
     "text": [
      "      non_alpha\n",
      "0          <NA>\n",
      "1          <NA>\n",
      "2          <NA>\n",
      "3          <NA>\n",
      "4          <NA>\n",
      "...         ...\n",
      "41139      <NA>\n",
      "41140      <NA>\n",
      "41141      <NA>\n",
      "41142      <NA>\n",
      "41143      <NA>\n",
      "\n",
      "[41144 rows x 1 columns]\n"
     ]
    }
   ],
   "source": [
    "print(make.str.extract(r'(?P<non_alpha>[^a-z A-Z])'))"
   ]
  },
  {
   "cell_type": "code",
   "execution_count": 11,
   "id": "795caa45-28a5-425c-932e-e1bc2d99e4bb",
   "metadata": {},
   "outputs": [
    {
     "data": {
      "text/plain": [
       "non_alpha\n",
       "-    1727\n",
       ".      46\n",
       ",       9\n",
       "Name: count, dtype: int64[pyarrow]"
      ]
     },
     "execution_count": 11,
     "metadata": {},
     "output_type": "execute_result"
    }
   ],
   "source": [
    "(make\n",
    " .str.extract(r'(?P<non_alpha>[^a-z A-Z])',\n",
    "              expand=False)\n",
    " .value_counts()\n",
    ")"
   ]
  },
  {
   "cell_type": "code",
   "execution_count": 12,
   "id": "498c7eb8-1073-4702-a754-2b79d27ca2ea",
   "metadata": {},
   "outputs": [
    {
     "data": {
      "text/plain": [
       "non_num\n",
       "C    5336\n",
       "M    4833\n",
       "F    3686\n",
       "B    2796\n",
       "G    2691\n",
       "D    2679\n",
       "P    2589\n",
       "S    2234\n",
       "T    2159\n",
       "V    2001\n",
       "H    1803\n",
       "A    1610\n",
       "N    1471\n",
       "J    1435\n",
       "L    1241\n",
       "I     860\n",
       "K     618\n",
       "O     462\n",
       "R     392\n",
       "E     167\n",
       "s      38\n",
       "W      32\n",
       "Y       8\n",
       "Q       3\n",
       "Name: count, dtype: int64[pyarrow]"
      ]
     },
     "execution_count": 12,
     "metadata": {},
     "output_type": "execute_result"
    }
   ],
   "source": [
    "# If a column in a CSV file contains non-numeric characters, use the following code to find them:\n",
    "\n",
    "col = make\n",
    "\n",
    "(col\n",
    " .str.extract(r'(?P<non_num>[^0-9.])', expand=False)\n",
    " .value_counts()\n",
    ")"
   ]
  },
  {
   "cell_type": "code",
   "execution_count": 13,
   "id": "19b911ba-ffdd-4ad5-a542-ace33255c4a9",
   "metadata": {},
   "outputs": [
    {
     "data": {
      "text/plain": [
       "0     0-10\n",
       "1    11-15\n",
       "2    11-15\n",
       "3    61-65\n",
       "4    46-50\n",
       "dtype: string[pyarrow]"
      ]
     },
     "execution_count": 13,
     "metadata": {},
     "output_type": "execute_result"
    }
   ],
   "source": [
    "import pyarrow as pa\n",
    "string_pa = pd.ArrowDtype(pa.string())\n",
    "age = pd.Series(['0-10', '11-15', '11-15', '61-65', '46-50'],\n",
    "                 dtype=string_pa)\n",
    "age"
   ]
  },
  {
   "cell_type": "code",
   "execution_count": 14,
   "id": "d9a3955a-40be-4d21-adc4-7a7f7f9d6f04",
   "metadata": {},
   "outputs": [
    {
     "data": {
      "text/plain": [
       "0     ['0' '10']\n",
       "1    ['11' '15']\n",
       "2    ['11' '15']\n",
       "3    ['61' '65']\n",
       "4    ['46' '50']\n",
       "dtype: list<item: string>[pyarrow]"
      ]
     },
     "execution_count": 14,
     "metadata": {},
     "output_type": "execute_result"
    }
   ],
   "source": [
    "age.str.split('-')"
   ]
  },
  {
   "cell_type": "code",
   "execution_count": 15,
   "id": "cc6cefd3-eef5-475e-b96c-6f0dbcade7c6",
   "metadata": {},
   "outputs": [
    {
     "data": {
      "text/plain": [
       "0     0\n",
       "1    11\n",
       "2    11\n",
       "3    61\n",
       "4    46\n",
       "Name: 0, dtype: int8[pyarrow]"
      ]
     },
     "execution_count": 15,
     "metadata": {},
     "output_type": "execute_result"
    }
   ],
   "source": [
    "(age\n",
    " .str.split('-', expand=True)\n",
    " .iloc[:,0]\n",
    " .astype('int8[pyarrow]')\n",
    ")"
   ]
  },
  {
   "cell_type": "code",
   "execution_count": 16,
   "id": "56aa7366-11b7-4b92-bb83-0d48d51a969b",
   "metadata": {},
   "outputs": [
    {
     "data": {
      "text/plain": [
       "0    10\n",
       "1    15\n",
       "2    15\n",
       "3    65\n",
       "4    50\n",
       "dtype: int8[pyarrow]"
      ]
     },
     "execution_count": 16,
     "metadata": {},
     "output_type": "execute_result"
    }
   ],
   "source": [
    "(age\n",
    " .str.slice(-2)\n",
    " .astype('int8[pyarrow]')\n",
    ")"
   ]
  },
  {
   "cell_type": "code",
   "execution_count": 17,
   "id": "19a6d41d-3a97-4622-a74a-41bad299ca53",
   "metadata": {},
   "outputs": [
    {
     "data": {
      "text/plain": [
       "0    10\n",
       "1    15\n",
       "2    15\n",
       "3    65\n",
       "4    50\n",
       "dtype: int8[pyarrow]"
      ]
     },
     "execution_count": 17,
     "metadata": {},
     "output_type": "execute_result"
    }
   ],
   "source": [
    "(age\n",
    " .str[-2:]\n",
    " .astype('int8[pyarrow]')\n",
    ")"
   ]
  },
  {
   "cell_type": "code",
   "execution_count": 18,
   "id": "bcedcb31-bf90-4f38-8ec6-c485507b0ef0",
   "metadata": {},
   "outputs": [
    {
     "data": {
      "text/plain": [
       "0     5.0\n",
       "1    13.0\n",
       "2    13.0\n",
       "3    63.0\n",
       "4    48.0\n",
       "dtype: double[pyarrow]"
      ]
     },
     "execution_count": 18,
     "metadata": {},
     "output_type": "execute_result"
    }
   ],
   "source": [
    "(age\n",
    " .str.split('-', expand=True)\n",
    " .astype('int8[pyarrow]')\n",
    " .mean(axis='columns')\n",
    ")"
   ]
  },
  {
   "cell_type": "code",
   "execution_count": 19,
   "id": "c6bf46d2-22ad-4b09-9b0a-b666605523fc",
   "metadata": {},
   "outputs": [],
   "source": [
    "import random\n",
    "def between(row):\n",
    "    return random.randint(*row.values)"
   ]
  },
  {
   "cell_type": "code",
   "execution_count": 20,
   "id": "f0f799aa-8386-4ff1-83c1-979bf431da91",
   "metadata": {},
   "outputs": [
    {
     "data": {
      "text/plain": [
       "0     7\n",
       "1    13\n",
       "2    13\n",
       "3    64\n",
       "4    48\n",
       "dtype: int64"
      ]
     },
     "execution_count": 20,
     "metadata": {},
     "output_type": "execute_result"
    }
   ],
   "source": [
    "(age\n",
    " .str.split('-', expand=True)\n",
    " .astype(int)\n",
    " .apply(between, axis='columns')\n",
    ")"
   ]
  },
  {
   "cell_type": "code",
   "execution_count": 21,
   "id": "5b323c04-ddd3-49d4-938b-6a7893dc3715",
   "metadata": {},
   "outputs": [
    {
     "name": "stdout",
     "output_type": "stream",
     "text": [
      "   lower  upper      rand        age\n",
      "0      0     10  0.396236   3.962362\n",
      "1     11     15  0.893016  14.572063\n",
      "2     11     15  0.390988  12.563951\n",
      "3     61     65  0.205707  61.822827\n",
      "4     46     50  0.503962  48.015849\n"
     ]
    }
   ],
   "source": [
    "import numpy as np\n",
    "print(age\n",
    "      .str.split('-', expand=True)\n",
    "      .rename(columns={0:'lower',1:'upper'})\n",
    "      .astype('int8[pyarrow]')\n",
    "      .assign(rand=np.random.rand(len(age)),\n",
    "              age=lambda df_: (df_.lower + (df_.rand *\n",
    "                                            (df_.upper - df_.lower)))\n",
    "              .astype('int8[pyarrow]', errors='ignore')\n",
    "             )\n",
    "     )\n"
   ]
  },
  {
   "cell_type": "code",
   "execution_count": 22,
   "id": "e35a8fcf-5f2b-4aa0-8857-43200ae27f3f",
   "metadata": {},
   "outputs": [
    {
     "data": {
      "text/plain": [
       "0     8\n",
       "1    11\n",
       "2    11\n",
       "3    63\n",
       "4    49\n",
       "dtype: int64"
      ]
     },
     "execution_count": 22,
     "metadata": {},
     "output_type": "execute_result"
    }
   ],
   "source": [
    "import numpy as np # imports numpy\n",
    "(age # uses the age bins shown here: age = pd.Series(['0-10', '11-15', '11-15', '61-65', '46-50'],\n",
    " .str.split('-', expand=True) # splits the bins by '-' into two columns\n",
    " .astype(int) # turns the output of the two columns into integers\n",
    " .pipe(lambda df_: pd.Series(np.random.randint(df_.iloc[:,0], # not yet sure what pipe does. # takes a random intiger and does something with iloc idk what the comma in iloc[:,0] does\n",
    "                                               df_.iloc[:,1]), index = df_.index) # idk what [:,1] the comma does here, and does something with an index\n",
    "      )\n",
    ")"
   ]
  },
  {
   "cell_type": "code",
   "execution_count": 23,
   "id": "6ba148f8-30a6-45e7-b68c-7f22aabc6ae7",
   "metadata": {},
   "outputs": [
    {
     "data": {
      "text/plain": [
       "0        61-65\n",
       "1        46-50\n",
       "2        11-15\n",
       "3        46-50\n",
       "4        46-50\n",
       "         ...  \n",
       "99995    11-15\n",
       "99996     0-10\n",
       "99997    46-50\n",
       "99998    61-65\n",
       "99999     0-10\n",
       "Length: 100000, dtype: string[pyarrow]"
      ]
     },
     "execution_count": 23,
     "metadata": {},
     "output_type": "execute_result"
    }
   ],
   "source": [
    "age_100k = (age # takes age series\n",
    "            .sample(100_000, replace=True, random_state=42) # creates a randomly sampled figures from age, 100,000 of them\n",
    "            .reset_index(drop=True) # creates a natural index, as the original index values are kept from the source Series\n",
    "           )\n",
    "age_100k"
   ]
  },
  {
   "cell_type": "code",
   "execution_count": 24,
   "id": "d3b7a372-e02e-4bf0-b614-28da1121da9f",
   "metadata": {},
   "outputs": [
    {
     "name": "stdout",
     "output_type": "stream",
     "text": [
      "12.4 ms ± 475 μs per loop (mean ± std. dev. of 7 runs, 100 loops each)\n"
     ]
    }
   ],
   "source": [
    "%%timeit\n",
    "(age_100k\n",
    " .str.split('-', expand=True)\n",
    " .astype('int8[pyarrow]')\n",
    " .pipe(lambda df_: pd.Series(np.random.randint(df_.iloc[:,0], \n",
    "                                               df_.iloc[:,1]), index =df_.index)\n",
    "                            )\n",
    "      )"
   ]
  },
  {
   "cell_type": "code",
   "execution_count": 25,
   "id": "75336e0a-8ec1-42b9-85e3-29a5baa57406",
   "metadata": {},
   "outputs": [
    {
     "name": "stdout",
     "output_type": "stream",
     "text": [
      "2.25 s ± 18.4 ms per loop (mean ± std. dev. of 7 runs, 1 loop each)\n"
     ]
    }
   ],
   "source": [
    "%%timeit\n",
    "(age_100k\n",
    " .str.split('-', expand=True)\n",
    " .astype('int8[pyarrow]')\n",
    " .apply(between, axis='columns')\n",
    ")"
   ]
  },
  {
   "cell_type": "code",
   "execution_count": 26,
   "id": "9c8831d9-c044-4786-a103-bd81771758dd",
   "metadata": {},
   "outputs": [
    {
     "name": "stdout",
     "output_type": "stream",
     "text": [
      "12.6 ms ± 374 μs per loop (mean ± std. dev. of 7 runs, 100 loops each)\n"
     ]
    }
   ],
   "source": [
    "%%timeit\n",
    "(age_100k\n",
    " .str.split('-', expand=True)\n",
    " .rename(columns={0:'lower', 1:'upper'})\n",
    " .astype('int8[pyarrow]')\n",
    " .assign(rand=np.random.rand(len(age_100k)),\n",
    "         age=lambda df_: (df_.lower + (df_.rand * \n",
    "                                       (df_.upper - df_.lower)))\n",
    "         .astype('int8[pyarrow]', errors='ignore')\n",
    "        )\n",
    ")"
   ]
  },
  {
   "cell_type": "code",
   "execution_count": 27,
   "id": "ac1b700a-6a73-47d4-87fc-042fad4e101f",
   "metadata": {},
   "outputs": [
    {
     "data": {
      "text/html": [
       "<div>\n",
       "<style scoped>\n",
       "    .dataframe tbody tr th:only-of-type {\n",
       "        vertical-align: middle;\n",
       "    }\n",
       "\n",
       "    .dataframe tbody tr th {\n",
       "        vertical-align: top;\n",
       "    }\n",
       "\n",
       "    .dataframe thead th {\n",
       "        text-align: right;\n",
       "    }\n",
       "</style>\n",
       "<table border=\"1\" class=\"dataframe\">\n",
       "  <thead>\n",
       "    <tr style=\"text-align: right;\">\n",
       "      <th></th>\n",
       "      <th>lower</th>\n",
       "      <th>upper</th>\n",
       "      <th>rand</th>\n",
       "      <th>age</th>\n",
       "    </tr>\n",
       "  </thead>\n",
       "  <tbody>\n",
       "    <tr>\n",
       "      <th>0</th>\n",
       "      <td>61</td>\n",
       "      <td>65</td>\n",
       "      <td>0.279029</td>\n",
       "      <td>62.116114</td>\n",
       "    </tr>\n",
       "    <tr>\n",
       "      <th>1</th>\n",
       "      <td>46</td>\n",
       "      <td>50</td>\n",
       "      <td>0.320900</td>\n",
       "      <td>47.283598</td>\n",
       "    </tr>\n",
       "    <tr>\n",
       "      <th>2</th>\n",
       "      <td>11</td>\n",
       "      <td>15</td>\n",
       "      <td>0.272636</td>\n",
       "      <td>12.090542</td>\n",
       "    </tr>\n",
       "    <tr>\n",
       "      <th>3</th>\n",
       "      <td>46</td>\n",
       "      <td>50</td>\n",
       "      <td>0.236211</td>\n",
       "      <td>46.944843</td>\n",
       "    </tr>\n",
       "    <tr>\n",
       "      <th>4</th>\n",
       "      <td>46</td>\n",
       "      <td>50</td>\n",
       "      <td>0.213092</td>\n",
       "      <td>46.852369</td>\n",
       "    </tr>\n",
       "    <tr>\n",
       "      <th>...</th>\n",
       "      <td>...</td>\n",
       "      <td>...</td>\n",
       "      <td>...</td>\n",
       "      <td>...</td>\n",
       "    </tr>\n",
       "    <tr>\n",
       "      <th>99995</th>\n",
       "      <td>11</td>\n",
       "      <td>15</td>\n",
       "      <td>0.735504</td>\n",
       "      <td>13.942014</td>\n",
       "    </tr>\n",
       "    <tr>\n",
       "      <th>99996</th>\n",
       "      <td>0</td>\n",
       "      <td>10</td>\n",
       "      <td>0.945133</td>\n",
       "      <td>9.451328</td>\n",
       "    </tr>\n",
       "    <tr>\n",
       "      <th>99997</th>\n",
       "      <td>46</td>\n",
       "      <td>50</td>\n",
       "      <td>0.730028</td>\n",
       "      <td>48.92011</td>\n",
       "    </tr>\n",
       "    <tr>\n",
       "      <th>99998</th>\n",
       "      <td>61</td>\n",
       "      <td>65</td>\n",
       "      <td>0.372781</td>\n",
       "      <td>62.491126</td>\n",
       "    </tr>\n",
       "    <tr>\n",
       "      <th>99999</th>\n",
       "      <td>0</td>\n",
       "      <td>10</td>\n",
       "      <td>0.454324</td>\n",
       "      <td>4.543239</td>\n",
       "    </tr>\n",
       "  </tbody>\n",
       "</table>\n",
       "<p>100000 rows × 4 columns</p>\n",
       "</div>"
      ],
      "text/plain": [
       "       lower  upper      rand        age\n",
       "0         61     65  0.279029  62.116114\n",
       "1         46     50  0.320900  47.283598\n",
       "2         11     15  0.272636  12.090542\n",
       "3         46     50  0.236211  46.944843\n",
       "4         46     50  0.213092  46.852369\n",
       "...      ...    ...       ...        ...\n",
       "99995     11     15  0.735504  13.942014\n",
       "99996      0     10  0.945133   9.451328\n",
       "99997     46     50  0.730028   48.92011\n",
       "99998     61     65  0.372781  62.491126\n",
       "99999      0     10  0.454324   4.543239\n",
       "\n",
       "[100000 rows x 4 columns]"
      ]
     },
     "execution_count": 27,
     "metadata": {},
     "output_type": "execute_result"
    }
   ],
   "source": [
    "(age_100k\n",
    " .str.split('-', expand=True) # splits into columns\n",
    " .rename(columns={0:'lower', 1:'upper'}) # renames the first column as lower, and second as upper\n",
    " .astype('int8[pyarrow]') # set type of intiger\n",
    " .assign(rand=np.random.rand(len(age_100k)), # creates rand column as decimals for 100 rows contained in age_100k \n",
    "         age=lambda df_: (df_.lower + (df_.rand *  ( # the lower age is added to the multiplication of the range differences with the random intiger found in in rand colum\n",
    "                                       (df_.upper - df_.lower))) # finds the difference between lower and upper\n",
    "         .astype('int8[pyarrow]', errors='ignore') # converts to int8 using PyArrow and ignores any values that can't be computed\n",
    "        )\n",
    ")\n",
    ")"
   ]
  },
  {
   "cell_type": "code",
   "execution_count": 28,
   "id": "b6314fa0-dbd1-4cea-9fba-1e48fe380609",
   "metadata": {},
   "outputs": [],
   "source": [
    "%load_ext Cython"
   ]
  },
  {
   "cell_type": "code",
   "execution_count": 29,
   "id": "11c62366-9fc0-42cc-88f3-92e2bf7b90f8",
   "metadata": {},
   "outputs": [],
   "source": [
    "%%cython\n",
    "import random\n",
    "def between_cy(row):\n",
    "    return random.randint(*row.values)"
   ]
  },
  {
   "cell_type": "code",
   "execution_count": 30,
   "id": "8d8204c9-d897-4d64-a1ab-cca48d34458b",
   "metadata": {},
   "outputs": [],
   "source": [
    "%%cython\n",
    "import random\n",
    "import numpy as np\n",
    "def between_cy3(x: np.int64, y: np.int64) -> np.int64:\n",
    "    return random.randint(x,y)"
   ]
  },
  {
   "cell_type": "code",
   "execution_count": 31,
   "id": "cb9c46f5-820a-4a4d-b564-25578d671031",
   "metadata": {},
   "outputs": [
    {
     "data": {
      "text/plain": [
       "0     4\n",
       "1    14\n",
       "2    15\n",
       "3    65\n",
       "4    50\n",
       "dtype: int64"
      ]
     },
     "execution_count": 31,
     "metadata": {},
     "output_type": "execute_result"
    }
   ],
   "source": [
    "(age # selects age series to run\n",
    " .str.split('-', expand=True) # Splits the ages into two collumns\n",
    " .astype(int) # converts all to intigers\n",
    " .apply(lambda row: between_cy3(row[0], row[1]), axis=1) # apply the between_cy3 function for first and second row, horizontally\n",
    ")"
   ]
  },
  {
   "cell_type": "code",
   "execution_count": 32,
   "id": "8c409f47-08f4-4789-8ad3-3689236929e6",
   "metadata": {},
   "outputs": [
    {
     "name": "stdout",
     "output_type": "stream",
     "text": [
      "400 ms ± 8.14 ms per loop (mean ± std. dev. of 7 runs, 1 loop each)\n"
     ]
    }
   ],
   "source": [
    "%%timeit\n",
    "(age_100k # selects age series to run\n",
    " .str.split('-', expand=True) # Splits the ages into two collumns\n",
    " .astype(int) # converts all to intigers\n",
    " .apply(lambda row: between_cy3(row[0], row[1]), axis=1) # apply the between_cy3 function for first and second row, horizontally\n",
    ")"
   ]
  },
  {
   "cell_type": "code",
   "execution_count": 33,
   "id": "8a02f23d-6923-499f-875e-792de9b286ae",
   "metadata": {},
   "outputs": [
    {
     "name": "stdout",
     "output_type": "stream",
     "text": [
      " "
     ]
    },
    {
     "name": "stdout",
     "output_type": "stream",
     "text": [
      "         4658611 function calls (4658564 primitive calls) in 1.203 seconds\n",
      "\n",
      "   Ordered by: internal time\n",
      "   List reduced from 399 to 10 due to restriction <10>\n",
      "\n",
      "   ncalls  tottime  percall  cumtime  percall filename:lineno(function)\n",
      "   200000    0.172    0.000    0.603    0.000 series.py:1095(__getitem__)\n",
      "1100351/1100345    0.106    0.000    0.159    0.000 {built-in method builtins.isinstance}\n",
      "   100001    0.099    0.000    0.199    0.000 apply.py:1247(series_generator)\n",
      "   200000    0.097    0.000    0.243    0.000 series.py:1220(_get_value)\n",
      "   200000    0.073    0.000    0.087    0.000 base.py:3777(get_loc)\n",
      "   200000    0.066    0.000    0.128    0.000 indexing.py:2765(check_dict_or_set_indexers)\n",
      "        1    0.055    0.055    1.153    1.153 apply.py:1070(apply_series_generator)\n",
      "   100000    0.053    0.000    0.139    0.000 random.py:291(randrange)\n",
      "   100000    0.051    0.000    0.821    0.000 <string>:1(<lambda>)\n",
      "   100000    0.048    0.000    0.056    0.000 managers.py:2065(set_values)"
     ]
    }
   ],
   "source": [
    "%prun  -l 10 (age_100k.str.split('-', expand=True).astype(int) \\\n",
    "       .apply(lambda row: between_cy3(row[0], row[1]), axis=1))"
   ]
  },
  {
   "cell_type": "code",
   "execution_count": 34,
   "id": "b63839dd-95bc-4aa5-8f55-aeb9d41c8962",
   "metadata": {},
   "outputs": [],
   "source": [
    "%%cython\n",
    "\n",
    "import numpy as np\n",
    "import random\n",
    "def apply_between_cy4(x: np.ndarray[int],\n",
    "                      y: np.ndarray[int]) -> np.ndarray[int]:\n",
    "    res: np.ndarray[int] = np.empty(len(x), dtype='int32')\n",
    "    i : int\n",
    "    for i in range(len(x)):\n",
    "        res[i] = random.randint(x[i], y[i])\n",
    "    return res"
   ]
  },
  {
   "cell_type": "code",
   "execution_count": 35,
   "id": "2d0aae42-e078-4829-b53e-efab2e48c785",
   "metadata": {},
   "outputs": [
    {
     "name": "stdout",
     "output_type": "stream",
     "text": [
      "139 ms ± 5.52 ms per loop (mean ± std. dev. of 7 runs, 10 loops each)\n"
     ]
    }
   ],
   "source": [
    "%%timeit\n",
    "(age_100k\n",
    " .str.split('-', expand=True)\n",
    " .astype('int8[pyarrow]')\n",
    " .pipe(lambda df_: apply_between_cy4(\n",
    "     df_.iloc[:,0].to_numpy(dtype='int32'),\n",
    "     df_.iloc[:,1].to_numpy(dtype='int32')))\n",
    ")"
   ]
  },
  {
   "cell_type": "code",
   "execution_count": 36,
   "id": "086139b8-0263-4c03-ba80-261d2496658d",
   "metadata": {},
   "outputs": [],
   "source": [
    "%%cython\n",
    "import numpy as np\n",
    "import random\n",
    "def apply_between_cy5(x: np.ndarray[int],\n",
    "                      y: np.ndarray[int]) -> np.ndarray[long]:\n",
    "    return np.random.randint(x,y)"
   ]
  },
  {
   "cell_type": "code",
   "execution_count": 37,
   "id": "ce69e710-4960-4d33-a774-2276e55fc2e5",
   "metadata": {},
   "outputs": [
    {
     "name": "stdout",
     "output_type": "stream",
     "text": [
      "24.9 ms ± 393 μs per loop (mean ± std. dev. of 7 runs, 10 loops each)\n"
     ]
    }
   ],
   "source": [
    "%%timeit\n",
    "(age_100k\n",
    " .str.split('-', expand=True)\n",
    " .astype(int)\n",
    " .pipe(lambda df_: apply_between_cy5(\n",
    "     df_.iloc[:,0].to_numpy(dtype='int32'),\n",
    "     df_.iloc[:,1].to_numpy(dtype='int32')))\n",
    " )"
   ]
  },
  {
   "cell_type": "code",
   "execution_count": 38,
   "id": "0fa7854e-2e67-4e0c-8e3a-db47a5d6b200",
   "metadata": {},
   "outputs": [],
   "source": [
    "# Optimising .apply with Numba"
   ]
  },
  {
   "cell_type": "code",
   "execution_count": null,
   "id": "d686e02e-466a-4b05-8e1c-00bbd24b2473",
   "metadata": {},
   "outputs": [],
   "source": []
  },
  {
   "cell_type": "code",
   "execution_count": 39,
   "id": "f3f5e2c5-b7bf-4ec9-bedb-3979586b083c",
   "metadata": {},
   "outputs": [
    {
     "data": {
      "text/plain": [
       "'0.59.1'"
      ]
     },
     "execution_count": 39,
     "metadata": {},
     "output_type": "execute_result"
    }
   ],
   "source": [
    "import numba\n",
    "numba.__version__"
   ]
  },
  {
   "cell_type": "code",
   "execution_count": 40,
   "id": "d337517e-350d-4aec-a580-29c6a72ebf0b",
   "metadata": {},
   "outputs": [
    {
     "ename": "TypingError",
     "evalue": "Failed in nopython mode pipeline (step: nopython frontend)\n\u001b[1m\u001b[1m\u001b[1mNo implementation of function Function(<built-in method randint of numpy.random.mtrand.RandomState object at 0x10a820b40>) found for signature:\n \n >>> randint(array(int32, 1d, A), array(int32, 1d, A))\n \nThere are 6 candidate implementations:\n\u001b[1m  - Of which 2 did not match due to:\n  Overload in function 'np_randint_impl_1': File: numba/cpython/randomimpl.py: Line 568.\n    With argument(s): '(array(int32, 1d, A), array(int32, 1d, A))':\u001b[0m\n\u001b[1m   Rejected as the implementation raised a specific error:\n     TypingError: \u001b[1mtoo many positional arguments\u001b[0m\u001b[0m\n  raised from /opt/anaconda3/lib/python3.12/site-packages/numba/core/typing/templates.py:784\n\u001b[1m  - Of which 2 did not match due to:\n  Overload of function 'randint': File: numba/cpython/randomimpl.py: Line 574.\n    With argument(s): '(array(int32, 1d, A), array(int32, 1d, A))':\u001b[0m\n\u001b[1m   No match.\u001b[0m\n\u001b[1m  - Of which 2 did not match due to:\n  Overload in function 'np_randint_impl_3': File: numba/cpython/randomimpl.py: Line 599.\n    With argument(s): '(array(int32, 1d, A), array(int32, 1d, A))':\u001b[0m\n\u001b[1m   Rejected as the implementation raised a specific error:\n     TypingError: \u001b[1mmissing a required argument: 'size'\u001b[0m\u001b[0m\n  raised from /opt/anaconda3/lib/python3.12/site-packages/numba/core/typing/templates.py:784\n\u001b[0m\n\u001b[0m\u001b[1mDuring: resolving callee type: Function(<built-in method randint of numpy.random.mtrand.RandomState object at 0x10a820b40>)\u001b[0m\n\u001b[0m\u001b[1mDuring: typing of call at /var/folders/j1/_rvyqj0d1tbbbrpqmjwvjfz80000gn/T/ipykernel_1273/1336924674.py (6)\n\u001b[0m\n\u001b[1m\nFile \"../../../../../var/folders/j1/_rvyqj0d1tbbbrpqmjwvjfz80000gn/T/ipykernel_1273/1336924674.py\", line 6:\u001b[0m\n\u001b[1m<source missing, REPL/exec in use?>\u001b[0m\n",
     "output_type": "error",
     "traceback": [
      "\u001b[0;31m---------------------------------------------------------------------------\u001b[0m",
      "\u001b[0;31mTypingError\u001b[0m                               Traceback (most recent call last)",
      "Cell \u001b[0;32mIn[40], line 4\u001b[0m\n\u001b[1;32m      1\u001b[0m \u001b[38;5;28;01mimport\u001b[39;00m \u001b[38;5;21;01mnumba\u001b[39;00m \u001b[38;5;28;01mas\u001b[39;00m \u001b[38;5;21;01mnb\u001b[39;00m\n\u001b[1;32m      2\u001b[0m \u001b[38;5;28;01mimport\u001b[39;00m \u001b[38;5;21;01mnumpy\u001b[39;00m\n\u001b[0;32m----> 4\u001b[0m \u001b[38;5;129m@nb\u001b[39m\u001b[38;5;241m.\u001b[39mjit(nb\u001b[38;5;241m.\u001b[39mint32[:](nb\u001b[38;5;241m.\u001b[39mint32[:], nb\u001b[38;5;241m.\u001b[39mint32[:]))\n\u001b[1;32m      5\u001b[0m \u001b[38;5;28;01mdef\u001b[39;00m \u001b[38;5;21mbetween_nb\u001b[39m(arr1, arr2):\n\u001b[1;32m      6\u001b[0m     \u001b[38;5;28;01mreturn\u001b[39;00m numpy\u001b[38;5;241m.\u001b[39mrandom\u001b[38;5;241m.\u001b[39mrandint(arr1, arr2)\n",
      "File \u001b[0;32m/opt/anaconda3/lib/python3.12/site-packages/numba/core/decorators.py:236\u001b[0m, in \u001b[0;36m_jit.<locals>.wrapper\u001b[0;34m(func)\u001b[0m\n\u001b[1;32m    234\u001b[0m     \u001b[38;5;28;01mwith\u001b[39;00m typeinfer\u001b[38;5;241m.\u001b[39mregister_dispatcher(disp):\n\u001b[1;32m    235\u001b[0m         \u001b[38;5;28;01mfor\u001b[39;00m sig \u001b[38;5;129;01min\u001b[39;00m sigs:\n\u001b[0;32m--> 236\u001b[0m             disp\u001b[38;5;241m.\u001b[39mcompile(sig)\n\u001b[1;32m    237\u001b[0m         disp\u001b[38;5;241m.\u001b[39mdisable_compile()\n\u001b[1;32m    238\u001b[0m \u001b[38;5;28;01mreturn\u001b[39;00m disp\n",
      "File \u001b[0;32m/opt/anaconda3/lib/python3.12/site-packages/numba/core/dispatcher.py:957\u001b[0m, in \u001b[0;36mDispatcher.compile\u001b[0;34m(self, sig)\u001b[0m\n\u001b[1;32m    955\u001b[0m \u001b[38;5;28;01mwith\u001b[39;00m ev\u001b[38;5;241m.\u001b[39mtrigger_event(\u001b[38;5;124m\"\u001b[39m\u001b[38;5;124mnumba:compile\u001b[39m\u001b[38;5;124m\"\u001b[39m, data\u001b[38;5;241m=\u001b[39mev_details):\n\u001b[1;32m    956\u001b[0m     \u001b[38;5;28;01mtry\u001b[39;00m:\n\u001b[0;32m--> 957\u001b[0m         cres \u001b[38;5;241m=\u001b[39m \u001b[38;5;28mself\u001b[39m\u001b[38;5;241m.\u001b[39m_compiler\u001b[38;5;241m.\u001b[39mcompile(args, return_type)\n\u001b[1;32m    958\u001b[0m     \u001b[38;5;28;01mexcept\u001b[39;00m errors\u001b[38;5;241m.\u001b[39mForceLiteralArg \u001b[38;5;28;01mas\u001b[39;00m e:\n\u001b[1;32m    959\u001b[0m         \u001b[38;5;28;01mdef\u001b[39;00m \u001b[38;5;21mfolded\u001b[39m(args, kws):\n",
      "File \u001b[0;32m/opt/anaconda3/lib/python3.12/site-packages/numba/core/dispatcher.py:129\u001b[0m, in \u001b[0;36m_FunctionCompiler.compile\u001b[0;34m(self, args, return_type)\u001b[0m\n\u001b[1;32m    127\u001b[0m     \u001b[38;5;28;01mreturn\u001b[39;00m retval\n\u001b[1;32m    128\u001b[0m \u001b[38;5;28;01melse\u001b[39;00m:\n\u001b[0;32m--> 129\u001b[0m     \u001b[38;5;28;01mraise\u001b[39;00m retval\n",
      "File \u001b[0;32m/opt/anaconda3/lib/python3.12/site-packages/numba/core/dispatcher.py:139\u001b[0m, in \u001b[0;36m_FunctionCompiler._compile_cached\u001b[0;34m(self, args, return_type)\u001b[0m\n\u001b[1;32m    136\u001b[0m     \u001b[38;5;28;01mpass\u001b[39;00m\n\u001b[1;32m    138\u001b[0m \u001b[38;5;28;01mtry\u001b[39;00m:\n\u001b[0;32m--> 139\u001b[0m     retval \u001b[38;5;241m=\u001b[39m \u001b[38;5;28mself\u001b[39m\u001b[38;5;241m.\u001b[39m_compile_core(args, return_type)\n\u001b[1;32m    140\u001b[0m \u001b[38;5;28;01mexcept\u001b[39;00m errors\u001b[38;5;241m.\u001b[39mTypingError \u001b[38;5;28;01mas\u001b[39;00m e:\n\u001b[1;32m    141\u001b[0m     \u001b[38;5;28mself\u001b[39m\u001b[38;5;241m.\u001b[39m_failed_cache[key] \u001b[38;5;241m=\u001b[39m e\n",
      "File \u001b[0;32m/opt/anaconda3/lib/python3.12/site-packages/numba/core/dispatcher.py:152\u001b[0m, in \u001b[0;36m_FunctionCompiler._compile_core\u001b[0;34m(self, args, return_type)\u001b[0m\n\u001b[1;32m    149\u001b[0m flags \u001b[38;5;241m=\u001b[39m \u001b[38;5;28mself\u001b[39m\u001b[38;5;241m.\u001b[39m_customize_flags(flags)\n\u001b[1;32m    151\u001b[0m impl \u001b[38;5;241m=\u001b[39m \u001b[38;5;28mself\u001b[39m\u001b[38;5;241m.\u001b[39m_get_implementation(args, {})\n\u001b[0;32m--> 152\u001b[0m cres \u001b[38;5;241m=\u001b[39m compiler\u001b[38;5;241m.\u001b[39mcompile_extra(\u001b[38;5;28mself\u001b[39m\u001b[38;5;241m.\u001b[39mtargetdescr\u001b[38;5;241m.\u001b[39mtyping_context,\n\u001b[1;32m    153\u001b[0m                               \u001b[38;5;28mself\u001b[39m\u001b[38;5;241m.\u001b[39mtargetdescr\u001b[38;5;241m.\u001b[39mtarget_context,\n\u001b[1;32m    154\u001b[0m                               impl,\n\u001b[1;32m    155\u001b[0m                               args\u001b[38;5;241m=\u001b[39margs, return_type\u001b[38;5;241m=\u001b[39mreturn_type,\n\u001b[1;32m    156\u001b[0m                               flags\u001b[38;5;241m=\u001b[39mflags, \u001b[38;5;28mlocals\u001b[39m\u001b[38;5;241m=\u001b[39m\u001b[38;5;28mself\u001b[39m\u001b[38;5;241m.\u001b[39mlocals,\n\u001b[1;32m    157\u001b[0m                               pipeline_class\u001b[38;5;241m=\u001b[39m\u001b[38;5;28mself\u001b[39m\u001b[38;5;241m.\u001b[39mpipeline_class)\n\u001b[1;32m    158\u001b[0m \u001b[38;5;66;03m# Check typing error if object mode is used\u001b[39;00m\n\u001b[1;32m    159\u001b[0m \u001b[38;5;28;01mif\u001b[39;00m cres\u001b[38;5;241m.\u001b[39mtyping_error \u001b[38;5;129;01mis\u001b[39;00m \u001b[38;5;129;01mnot\u001b[39;00m \u001b[38;5;28;01mNone\u001b[39;00m \u001b[38;5;129;01mand\u001b[39;00m \u001b[38;5;129;01mnot\u001b[39;00m flags\u001b[38;5;241m.\u001b[39menable_pyobject:\n",
      "File \u001b[0;32m/opt/anaconda3/lib/python3.12/site-packages/numba/core/compiler.py:751\u001b[0m, in \u001b[0;36mcompile_extra\u001b[0;34m(typingctx, targetctx, func, args, return_type, flags, locals, library, pipeline_class)\u001b[0m\n\u001b[1;32m    727\u001b[0m \u001b[38;5;250m\u001b[39m\u001b[38;5;124;03m\"\"\"Compiler entry point\u001b[39;00m\n\u001b[1;32m    728\u001b[0m \n\u001b[1;32m    729\u001b[0m \u001b[38;5;124;03mParameter\u001b[39;00m\n\u001b[0;32m   (...)\u001b[0m\n\u001b[1;32m    747\u001b[0m \u001b[38;5;124;03m    compiler pipeline\u001b[39;00m\n\u001b[1;32m    748\u001b[0m \u001b[38;5;124;03m\"\"\"\u001b[39;00m\n\u001b[1;32m    749\u001b[0m pipeline \u001b[38;5;241m=\u001b[39m pipeline_class(typingctx, targetctx, library,\n\u001b[1;32m    750\u001b[0m                           args, return_type, flags, \u001b[38;5;28mlocals\u001b[39m)\n\u001b[0;32m--> 751\u001b[0m \u001b[38;5;28;01mreturn\u001b[39;00m pipeline\u001b[38;5;241m.\u001b[39mcompile_extra(func)\n",
      "File \u001b[0;32m/opt/anaconda3/lib/python3.12/site-packages/numba/core/compiler.py:445\u001b[0m, in \u001b[0;36mCompilerBase.compile_extra\u001b[0;34m(self, func)\u001b[0m\n\u001b[1;32m    443\u001b[0m \u001b[38;5;28mself\u001b[39m\u001b[38;5;241m.\u001b[39mstate\u001b[38;5;241m.\u001b[39mlifted \u001b[38;5;241m=\u001b[39m ()\n\u001b[1;32m    444\u001b[0m \u001b[38;5;28mself\u001b[39m\u001b[38;5;241m.\u001b[39mstate\u001b[38;5;241m.\u001b[39mlifted_from \u001b[38;5;241m=\u001b[39m \u001b[38;5;28;01mNone\u001b[39;00m\n\u001b[0;32m--> 445\u001b[0m \u001b[38;5;28;01mreturn\u001b[39;00m \u001b[38;5;28mself\u001b[39m\u001b[38;5;241m.\u001b[39m_compile_bytecode()\n",
      "File \u001b[0;32m/opt/anaconda3/lib/python3.12/site-packages/numba/core/compiler.py:513\u001b[0m, in \u001b[0;36mCompilerBase._compile_bytecode\u001b[0;34m(self)\u001b[0m\n\u001b[1;32m    509\u001b[0m \u001b[38;5;250m\u001b[39m\u001b[38;5;124;03m\"\"\"\u001b[39;00m\n\u001b[1;32m    510\u001b[0m \u001b[38;5;124;03mPopulate and run pipeline for bytecode input\u001b[39;00m\n\u001b[1;32m    511\u001b[0m \u001b[38;5;124;03m\"\"\"\u001b[39;00m\n\u001b[1;32m    512\u001b[0m \u001b[38;5;28;01massert\u001b[39;00m \u001b[38;5;28mself\u001b[39m\u001b[38;5;241m.\u001b[39mstate\u001b[38;5;241m.\u001b[39mfunc_ir \u001b[38;5;129;01mis\u001b[39;00m \u001b[38;5;28;01mNone\u001b[39;00m\n\u001b[0;32m--> 513\u001b[0m \u001b[38;5;28;01mreturn\u001b[39;00m \u001b[38;5;28mself\u001b[39m\u001b[38;5;241m.\u001b[39m_compile_core()\n",
      "File \u001b[0;32m/opt/anaconda3/lib/python3.12/site-packages/numba/core/compiler.py:492\u001b[0m, in \u001b[0;36mCompilerBase._compile_core\u001b[0;34m(self)\u001b[0m\n\u001b[1;32m    490\u001b[0m         \u001b[38;5;28mself\u001b[39m\u001b[38;5;241m.\u001b[39mstate\u001b[38;5;241m.\u001b[39mstatus\u001b[38;5;241m.\u001b[39mfail_reason \u001b[38;5;241m=\u001b[39m e\n\u001b[1;32m    491\u001b[0m         \u001b[38;5;28;01mif\u001b[39;00m is_final_pipeline:\n\u001b[0;32m--> 492\u001b[0m             \u001b[38;5;28;01mraise\u001b[39;00m e\n\u001b[1;32m    493\u001b[0m \u001b[38;5;28;01melse\u001b[39;00m:\n\u001b[1;32m    494\u001b[0m     \u001b[38;5;28;01mraise\u001b[39;00m CompilerError(\u001b[38;5;124m\"\u001b[39m\u001b[38;5;124mAll available pipelines exhausted\u001b[39m\u001b[38;5;124m\"\u001b[39m)\n",
      "File \u001b[0;32m/opt/anaconda3/lib/python3.12/site-packages/numba/core/compiler.py:479\u001b[0m, in \u001b[0;36mCompilerBase._compile_core\u001b[0;34m(self)\u001b[0m\n\u001b[1;32m    477\u001b[0m res \u001b[38;5;241m=\u001b[39m \u001b[38;5;28;01mNone\u001b[39;00m\n\u001b[1;32m    478\u001b[0m \u001b[38;5;28;01mtry\u001b[39;00m:\n\u001b[0;32m--> 479\u001b[0m     pm\u001b[38;5;241m.\u001b[39mrun(\u001b[38;5;28mself\u001b[39m\u001b[38;5;241m.\u001b[39mstate)\n\u001b[1;32m    480\u001b[0m     \u001b[38;5;28;01mif\u001b[39;00m \u001b[38;5;28mself\u001b[39m\u001b[38;5;241m.\u001b[39mstate\u001b[38;5;241m.\u001b[39mcr \u001b[38;5;129;01mis\u001b[39;00m \u001b[38;5;129;01mnot\u001b[39;00m \u001b[38;5;28;01mNone\u001b[39;00m:\n\u001b[1;32m    481\u001b[0m         \u001b[38;5;28;01mbreak\u001b[39;00m\n",
      "File \u001b[0;32m/opt/anaconda3/lib/python3.12/site-packages/numba/core/compiler_machinery.py:368\u001b[0m, in \u001b[0;36mPassManager.run\u001b[0;34m(self, state)\u001b[0m\n\u001b[1;32m    365\u001b[0m msg \u001b[38;5;241m=\u001b[39m \u001b[38;5;124m\"\u001b[39m\u001b[38;5;124mFailed in \u001b[39m\u001b[38;5;132;01m%s\u001b[39;00m\u001b[38;5;124m mode pipeline (step: \u001b[39m\u001b[38;5;132;01m%s\u001b[39;00m\u001b[38;5;124m)\u001b[39m\u001b[38;5;124m\"\u001b[39m \u001b[38;5;241m%\u001b[39m \\\n\u001b[1;32m    366\u001b[0m     (\u001b[38;5;28mself\u001b[39m\u001b[38;5;241m.\u001b[39mpipeline_name, pass_desc)\n\u001b[1;32m    367\u001b[0m patched_exception \u001b[38;5;241m=\u001b[39m \u001b[38;5;28mself\u001b[39m\u001b[38;5;241m.\u001b[39m_patch_error(msg, e)\n\u001b[0;32m--> 368\u001b[0m \u001b[38;5;28;01mraise\u001b[39;00m patched_exception\n",
      "File \u001b[0;32m/opt/anaconda3/lib/python3.12/site-packages/numba/core/compiler_machinery.py:356\u001b[0m, in \u001b[0;36mPassManager.run\u001b[0;34m(self, state)\u001b[0m\n\u001b[1;32m    354\u001b[0m pass_inst \u001b[38;5;241m=\u001b[39m _pass_registry\u001b[38;5;241m.\u001b[39mget(pss)\u001b[38;5;241m.\u001b[39mpass_inst\n\u001b[1;32m    355\u001b[0m \u001b[38;5;28;01mif\u001b[39;00m \u001b[38;5;28misinstance\u001b[39m(pass_inst, CompilerPass):\n\u001b[0;32m--> 356\u001b[0m     \u001b[38;5;28mself\u001b[39m\u001b[38;5;241m.\u001b[39m_runPass(idx, pass_inst, state)\n\u001b[1;32m    357\u001b[0m \u001b[38;5;28;01melse\u001b[39;00m:\n\u001b[1;32m    358\u001b[0m     \u001b[38;5;28;01mraise\u001b[39;00m \u001b[38;5;167;01mBaseException\u001b[39;00m(\u001b[38;5;124m\"\u001b[39m\u001b[38;5;124mLegacy pass in use\u001b[39m\u001b[38;5;124m\"\u001b[39m)\n",
      "File \u001b[0;32m/opt/anaconda3/lib/python3.12/site-packages/numba/core/compiler_lock.py:35\u001b[0m, in \u001b[0;36m_CompilerLock.__call__.<locals>._acquire_compile_lock\u001b[0;34m(*args, **kwargs)\u001b[0m\n\u001b[1;32m     32\u001b[0m \u001b[38;5;129m@functools\u001b[39m\u001b[38;5;241m.\u001b[39mwraps(func)\n\u001b[1;32m     33\u001b[0m \u001b[38;5;28;01mdef\u001b[39;00m \u001b[38;5;21m_acquire_compile_lock\u001b[39m(\u001b[38;5;241m*\u001b[39margs, \u001b[38;5;241m*\u001b[39m\u001b[38;5;241m*\u001b[39mkwargs):\n\u001b[1;32m     34\u001b[0m     \u001b[38;5;28;01mwith\u001b[39;00m \u001b[38;5;28mself\u001b[39m:\n\u001b[0;32m---> 35\u001b[0m         \u001b[38;5;28;01mreturn\u001b[39;00m func(\u001b[38;5;241m*\u001b[39margs, \u001b[38;5;241m*\u001b[39m\u001b[38;5;241m*\u001b[39mkwargs)\n",
      "File \u001b[0;32m/opt/anaconda3/lib/python3.12/site-packages/numba/core/compiler_machinery.py:311\u001b[0m, in \u001b[0;36mPassManager._runPass\u001b[0;34m(self, index, pss, internal_state)\u001b[0m\n\u001b[1;32m    309\u001b[0m     mutated \u001b[38;5;241m|\u001b[39m\u001b[38;5;241m=\u001b[39m check(pss\u001b[38;5;241m.\u001b[39mrun_initialization, internal_state)\n\u001b[1;32m    310\u001b[0m \u001b[38;5;28;01mwith\u001b[39;00m SimpleTimer() \u001b[38;5;28;01mas\u001b[39;00m pass_time:\n\u001b[0;32m--> 311\u001b[0m     mutated \u001b[38;5;241m|\u001b[39m\u001b[38;5;241m=\u001b[39m check(pss\u001b[38;5;241m.\u001b[39mrun_pass, internal_state)\n\u001b[1;32m    312\u001b[0m \u001b[38;5;28;01mwith\u001b[39;00m SimpleTimer() \u001b[38;5;28;01mas\u001b[39;00m finalize_time:\n\u001b[1;32m    313\u001b[0m     mutated \u001b[38;5;241m|\u001b[39m\u001b[38;5;241m=\u001b[39m check(pss\u001b[38;5;241m.\u001b[39mrun_finalizer, internal_state)\n",
      "File \u001b[0;32m/opt/anaconda3/lib/python3.12/site-packages/numba/core/compiler_machinery.py:273\u001b[0m, in \u001b[0;36mPassManager._runPass.<locals>.check\u001b[0;34m(func, compiler_state)\u001b[0m\n\u001b[1;32m    272\u001b[0m \u001b[38;5;28;01mdef\u001b[39;00m \u001b[38;5;21mcheck\u001b[39m(func, compiler_state):\n\u001b[0;32m--> 273\u001b[0m     mangled \u001b[38;5;241m=\u001b[39m func(compiler_state)\n\u001b[1;32m    274\u001b[0m     \u001b[38;5;28;01mif\u001b[39;00m mangled \u001b[38;5;129;01mnot\u001b[39;00m \u001b[38;5;129;01min\u001b[39;00m (\u001b[38;5;28;01mTrue\u001b[39;00m, \u001b[38;5;28;01mFalse\u001b[39;00m):\n\u001b[1;32m    275\u001b[0m         msg \u001b[38;5;241m=\u001b[39m (\u001b[38;5;124m\"\u001b[39m\u001b[38;5;124mCompilerPass implementations should return True/False. \u001b[39m\u001b[38;5;124m\"\u001b[39m\n\u001b[1;32m    276\u001b[0m                \u001b[38;5;124m\"\u001b[39m\u001b[38;5;124mCompilerPass with name \u001b[39m\u001b[38;5;124m'\u001b[39m\u001b[38;5;132;01m%s\u001b[39;00m\u001b[38;5;124m'\u001b[39m\u001b[38;5;124m did not.\u001b[39m\u001b[38;5;124m\"\u001b[39m)\n",
      "File \u001b[0;32m/opt/anaconda3/lib/python3.12/site-packages/numba/core/typed_passes.py:112\u001b[0m, in \u001b[0;36mBaseTypeInference.run_pass\u001b[0;34m(self, state)\u001b[0m\n\u001b[1;32m    106\u001b[0m \u001b[38;5;250m\u001b[39m\u001b[38;5;124;03m\"\"\"\u001b[39;00m\n\u001b[1;32m    107\u001b[0m \u001b[38;5;124;03mType inference and legalization\u001b[39;00m\n\u001b[1;32m    108\u001b[0m \u001b[38;5;124;03m\"\"\"\u001b[39;00m\n\u001b[1;32m    109\u001b[0m \u001b[38;5;28;01mwith\u001b[39;00m fallback_context(state, \u001b[38;5;124m'\u001b[39m\u001b[38;5;124mFunction \u001b[39m\u001b[38;5;124m\"\u001b[39m\u001b[38;5;132;01m%s\u001b[39;00m\u001b[38;5;124m\"\u001b[39m\u001b[38;5;124m failed type inference\u001b[39m\u001b[38;5;124m'\u001b[39m\n\u001b[1;32m    110\u001b[0m                       \u001b[38;5;241m%\u001b[39m (state\u001b[38;5;241m.\u001b[39mfunc_id\u001b[38;5;241m.\u001b[39mfunc_name,)):\n\u001b[1;32m    111\u001b[0m     \u001b[38;5;66;03m# Type inference\u001b[39;00m\n\u001b[0;32m--> 112\u001b[0m     typemap, return_type, calltypes, errs \u001b[38;5;241m=\u001b[39m type_inference_stage(\n\u001b[1;32m    113\u001b[0m         state\u001b[38;5;241m.\u001b[39mtypingctx,\n\u001b[1;32m    114\u001b[0m         state\u001b[38;5;241m.\u001b[39mtargetctx,\n\u001b[1;32m    115\u001b[0m         state\u001b[38;5;241m.\u001b[39mfunc_ir,\n\u001b[1;32m    116\u001b[0m         state\u001b[38;5;241m.\u001b[39margs,\n\u001b[1;32m    117\u001b[0m         state\u001b[38;5;241m.\u001b[39mreturn_type,\n\u001b[1;32m    118\u001b[0m         state\u001b[38;5;241m.\u001b[39mlocals,\n\u001b[1;32m    119\u001b[0m         raise_errors\u001b[38;5;241m=\u001b[39m\u001b[38;5;28mself\u001b[39m\u001b[38;5;241m.\u001b[39m_raise_errors)\n\u001b[1;32m    120\u001b[0m     state\u001b[38;5;241m.\u001b[39mtypemap \u001b[38;5;241m=\u001b[39m typemap\n\u001b[1;32m    121\u001b[0m     \u001b[38;5;66;03m# save errors in case of partial typing\u001b[39;00m\n",
      "File \u001b[0;32m/opt/anaconda3/lib/python3.12/site-packages/numba/core/typed_passes.py:93\u001b[0m, in \u001b[0;36mtype_inference_stage\u001b[0;34m(typingctx, targetctx, interp, args, return_type, locals, raise_errors)\u001b[0m\n\u001b[1;32m     91\u001b[0m     infer\u001b[38;5;241m.\u001b[39mbuild_constraint()\n\u001b[1;32m     92\u001b[0m     \u001b[38;5;66;03m# return errors in case of partial typing\u001b[39;00m\n\u001b[0;32m---> 93\u001b[0m     errs \u001b[38;5;241m=\u001b[39m infer\u001b[38;5;241m.\u001b[39mpropagate(raise_errors\u001b[38;5;241m=\u001b[39mraise_errors)\n\u001b[1;32m     94\u001b[0m     typemap, restype, calltypes \u001b[38;5;241m=\u001b[39m infer\u001b[38;5;241m.\u001b[39munify(raise_errors\u001b[38;5;241m=\u001b[39mraise_errors)\n\u001b[1;32m     96\u001b[0m \u001b[38;5;28;01mreturn\u001b[39;00m _TypingResults(typemap, restype, calltypes, errs)\n",
      "File \u001b[0;32m/opt/anaconda3/lib/python3.12/site-packages/numba/core/typeinfer.py:1091\u001b[0m, in \u001b[0;36mTypeInferer.propagate\u001b[0;34m(self, raise_errors)\u001b[0m\n\u001b[1;32m   1088\u001b[0m force_lit_args \u001b[38;5;241m=\u001b[39m [e \u001b[38;5;28;01mfor\u001b[39;00m e \u001b[38;5;129;01min\u001b[39;00m errors\n\u001b[1;32m   1089\u001b[0m                   \u001b[38;5;28;01mif\u001b[39;00m \u001b[38;5;28misinstance\u001b[39m(e, ForceLiteralArg)]\n\u001b[1;32m   1090\u001b[0m \u001b[38;5;28;01mif\u001b[39;00m \u001b[38;5;129;01mnot\u001b[39;00m force_lit_args:\n\u001b[0;32m-> 1091\u001b[0m     \u001b[38;5;28;01mraise\u001b[39;00m errors[\u001b[38;5;241m0\u001b[39m]\n\u001b[1;32m   1092\u001b[0m \u001b[38;5;28;01melse\u001b[39;00m:\n\u001b[1;32m   1093\u001b[0m     \u001b[38;5;28;01mraise\u001b[39;00m reduce(operator\u001b[38;5;241m.\u001b[39mor_, force_lit_args)\n",
      "\u001b[0;31mTypingError\u001b[0m: Failed in nopython mode pipeline (step: nopython frontend)\n\u001b[1m\u001b[1m\u001b[1mNo implementation of function Function(<built-in method randint of numpy.random.mtrand.RandomState object at 0x10a820b40>) found for signature:\n \n >>> randint(array(int32, 1d, A), array(int32, 1d, A))\n \nThere are 6 candidate implementations:\n\u001b[1m  - Of which 2 did not match due to:\n  Overload in function 'np_randint_impl_1': File: numba/cpython/randomimpl.py: Line 568.\n    With argument(s): '(array(int32, 1d, A), array(int32, 1d, A))':\u001b[0m\n\u001b[1m   Rejected as the implementation raised a specific error:\n     TypingError: \u001b[1mtoo many positional arguments\u001b[0m\u001b[0m\n  raised from /opt/anaconda3/lib/python3.12/site-packages/numba/core/typing/templates.py:784\n\u001b[1m  - Of which 2 did not match due to:\n  Overload of function 'randint': File: numba/cpython/randomimpl.py: Line 574.\n    With argument(s): '(array(int32, 1d, A), array(int32, 1d, A))':\u001b[0m\n\u001b[1m   No match.\u001b[0m\n\u001b[1m  - Of which 2 did not match due to:\n  Overload in function 'np_randint_impl_3': File: numba/cpython/randomimpl.py: Line 599.\n    With argument(s): '(array(int32, 1d, A), array(int32, 1d, A))':\u001b[0m\n\u001b[1m   Rejected as the implementation raised a specific error:\n     TypingError: \u001b[1mmissing a required argument: 'size'\u001b[0m\u001b[0m\n  raised from /opt/anaconda3/lib/python3.12/site-packages/numba/core/typing/templates.py:784\n\u001b[0m\n\u001b[0m\u001b[1mDuring: resolving callee type: Function(<built-in method randint of numpy.random.mtrand.RandomState object at 0x10a820b40>)\u001b[0m\n\u001b[0m\u001b[1mDuring: typing of call at /var/folders/j1/_rvyqj0d1tbbbrpqmjwvjfz80000gn/T/ipykernel_1273/1336924674.py (6)\n\u001b[0m\n\u001b[1m\nFile \"../../../../../var/folders/j1/_rvyqj0d1tbbbrpqmjwvjfz80000gn/T/ipykernel_1273/1336924674.py\", line 6:\u001b[0m\n\u001b[1m<source missing, REPL/exec in use?>\u001b[0m\n"
     ]
    }
   ],
   "source": [
    "import numba as nb\n",
    "import numpy\n",
    "\n",
    "@nb.jit(nb.int32[:](nb.int32[:], nb.int32[:]))\n",
    "def between_nb(arr1, arr2):\n",
    "    return numpy.random.randint(arr1, arr2)"
   ]
  },
  {
   "cell_type": "code",
   "execution_count": 41,
   "id": "4470dade-52f5-4f39-a8cf-32c81467ac13",
   "metadata": {},
   "outputs": [
    {
     "ename": "NameError",
     "evalue": "name 'between_nb' is not defined",
     "output_type": "error",
     "traceback": [
      "\u001b[0;31m---------------------------------------------------------------------------\u001b[0m",
      "\u001b[0;31mNameError\u001b[0m                                 Traceback (most recent call last)",
      "Cell \u001b[0;32mIn[41], line 4\u001b[0m\n\u001b[1;32m      1\u001b[0m (age_100k\n\u001b[1;32m      2\u001b[0m  \u001b[38;5;241m.\u001b[39mstr\u001b[38;5;241m.\u001b[39msplit(\u001b[38;5;124m'\u001b[39m\u001b[38;5;124m-\u001b[39m\u001b[38;5;124m'\u001b[39m, expand\u001b[38;5;241m=\u001b[39m\u001b[38;5;28;01mTrue\u001b[39;00m)\n\u001b[1;32m      3\u001b[0m  \u001b[38;5;241m.\u001b[39mastype(\u001b[38;5;28mint\u001b[39m)\n\u001b[0;32m----> 4\u001b[0m  \u001b[38;5;241m.\u001b[39mpipe(\u001b[38;5;28;01mlambda\u001b[39;00m df_: between_nb(df_\u001b[38;5;241m.\u001b[39miloc[:,\u001b[38;5;241m0\u001b[39m]\u001b[38;5;241m.\u001b[39mto_numpy(dtype\u001b[38;5;241m=\u001b[39m\u001b[38;5;124m'\u001b[39m\u001b[38;5;124mint32\u001b[39m\u001b[38;5;124m'\u001b[39m),\n\u001b[1;32m      5\u001b[0m                               df_\u001b[38;5;241m.\u001b[39miloc[:,\u001b[38;5;241m1\u001b[39m]\u001b[38;5;241m.\u001b[39mto_numpy(dtype\u001b[38;5;241m=\u001b[39m\u001b[38;5;124m'\u001b[39m\u001b[38;5;124mint32\u001b[39m\u001b[38;5;124m'\u001b[39m)))\n\u001b[1;32m      6\u001b[0m )\n",
      "File \u001b[0;32m/opt/anaconda3/lib/python3.12/site-packages/pandas/core/generic.py:6231\u001b[0m, in \u001b[0;36mNDFrame.pipe\u001b[0;34m(self, func, *args, **kwargs)\u001b[0m\n\u001b[1;32m   6229\u001b[0m \u001b[38;5;28;01mif\u001b[39;00m using_copy_on_write():\n\u001b[1;32m   6230\u001b[0m     \u001b[38;5;28;01mreturn\u001b[39;00m common\u001b[38;5;241m.\u001b[39mpipe(\u001b[38;5;28mself\u001b[39m\u001b[38;5;241m.\u001b[39mcopy(deep\u001b[38;5;241m=\u001b[39m\u001b[38;5;28;01mNone\u001b[39;00m), func, \u001b[38;5;241m*\u001b[39margs, \u001b[38;5;241m*\u001b[39m\u001b[38;5;241m*\u001b[39mkwargs)\n\u001b[0;32m-> 6231\u001b[0m \u001b[38;5;28;01mreturn\u001b[39;00m common\u001b[38;5;241m.\u001b[39mpipe(\u001b[38;5;28mself\u001b[39m, func, \u001b[38;5;241m*\u001b[39margs, \u001b[38;5;241m*\u001b[39m\u001b[38;5;241m*\u001b[39mkwargs)\n",
      "File \u001b[0;32m/opt/anaconda3/lib/python3.12/site-packages/pandas/core/common.py:502\u001b[0m, in \u001b[0;36mpipe\u001b[0;34m(obj, func, *args, **kwargs)\u001b[0m\n\u001b[1;32m    500\u001b[0m     \u001b[38;5;28;01mreturn\u001b[39;00m func(\u001b[38;5;241m*\u001b[39margs, \u001b[38;5;241m*\u001b[39m\u001b[38;5;241m*\u001b[39mkwargs)\n\u001b[1;32m    501\u001b[0m \u001b[38;5;28;01melse\u001b[39;00m:\n\u001b[0;32m--> 502\u001b[0m     \u001b[38;5;28;01mreturn\u001b[39;00m func(obj, \u001b[38;5;241m*\u001b[39margs, \u001b[38;5;241m*\u001b[39m\u001b[38;5;241m*\u001b[39mkwargs)\n",
      "Cell \u001b[0;32mIn[41], line 4\u001b[0m, in \u001b[0;36m<lambda>\u001b[0;34m(df_)\u001b[0m\n\u001b[1;32m      1\u001b[0m (age_100k\n\u001b[1;32m      2\u001b[0m  \u001b[38;5;241m.\u001b[39mstr\u001b[38;5;241m.\u001b[39msplit(\u001b[38;5;124m'\u001b[39m\u001b[38;5;124m-\u001b[39m\u001b[38;5;124m'\u001b[39m, expand\u001b[38;5;241m=\u001b[39m\u001b[38;5;28;01mTrue\u001b[39;00m)\n\u001b[1;32m      3\u001b[0m  \u001b[38;5;241m.\u001b[39mastype(\u001b[38;5;28mint\u001b[39m)\n\u001b[0;32m----> 4\u001b[0m  \u001b[38;5;241m.\u001b[39mpipe(\u001b[38;5;28;01mlambda\u001b[39;00m df_: between_nb(df_\u001b[38;5;241m.\u001b[39miloc[:,\u001b[38;5;241m0\u001b[39m]\u001b[38;5;241m.\u001b[39mto_numpy(dtype\u001b[38;5;241m=\u001b[39m\u001b[38;5;124m'\u001b[39m\u001b[38;5;124mint32\u001b[39m\u001b[38;5;124m'\u001b[39m),\n\u001b[1;32m      5\u001b[0m                               df_\u001b[38;5;241m.\u001b[39miloc[:,\u001b[38;5;241m1\u001b[39m]\u001b[38;5;241m.\u001b[39mto_numpy(dtype\u001b[38;5;241m=\u001b[39m\u001b[38;5;124m'\u001b[39m\u001b[38;5;124mint32\u001b[39m\u001b[38;5;124m'\u001b[39m)))\n\u001b[1;32m      6\u001b[0m )\n",
      "\u001b[0;31mNameError\u001b[0m: name 'between_nb' is not defined"
     ]
    }
   ],
   "source": [
    "(age_100k\n",
    " .str.split('-', expand=True)\n",
    " .astype(int)\n",
    " .pipe(lambda df_: between_nb(df_.iloc[:,0].to_numpy(dtype='int32'),\n",
    "                              df_.iloc[:,1].to_numpy(dtype='int32')))\n",
    ")"
   ]
  },
  {
   "cell_type": "code",
   "execution_count": 42,
   "id": "6160e50a-318d-4fd8-840d-1086f7de1e64",
   "metadata": {},
   "outputs": [
    {
     "data": {
      "text/plain": [
       "0        Ålfa Romeo\n",
       "1           Ferrari\n",
       "2             Dodge\n",
       "3             Dodge\n",
       "4            Subaru\n",
       "            ...    \n",
       "41139        Subaru\n",
       "41140        Subaru\n",
       "41141        Subaru\n",
       "41142        Subaru\n",
       "41143        Subaru\n",
       "Name: make, Length: 41144, dtype: string[pyarrow]"
      ]
     },
     "execution_count": 42,
     "metadata": {},
     "output_type": "execute_result"
    }
   ],
   "source": [
    "make.str.replace('A','Å')"
   ]
  },
  {
   "cell_type": "code",
   "execution_count": 43,
   "id": "32d3d16c",
   "metadata": {},
   "outputs": [
    {
     "data": {
      "text/plain": [
       "Series([], Name: make, dtype: string[pyarrow])"
      ]
     },
     "execution_count": 43,
     "metadata": {},
     "output_type": "execute_result"
    }
   ],
   "source": [
    "make[make == 'A']"
   ]
  },
  {
   "cell_type": "code",
   "execution_count": 44,
   "id": "3d10863e",
   "metadata": {},
   "outputs": [
    {
     "data": {
      "text/plain": [
       "0        Alfa Romeo\n",
       "1           Ferrari\n",
       "2             Dodge\n",
       "3             Dodge\n",
       "4            Subaru\n",
       "            ...    \n",
       "41139        Subaru\n",
       "41140        Subaru\n",
       "41141        Subaru\n",
       "41142        Subaru\n",
       "41143        Subaru\n",
       "Name: make, Length: 41144, dtype: string[pyarrow]"
      ]
     },
     "execution_count": 44,
     "metadata": {},
     "output_type": "execute_result"
    }
   ],
   "source": [
    "make.replace('A','Å')"
   ]
  },
  {
   "cell_type": "code",
   "execution_count": 49,
   "id": "134975c3",
   "metadata": {},
   "outputs": [
    {
     "data": {
      "text/plain": [
       "0        Ålfa Romeo\n",
       "1           Ferrari\n",
       "2             Dodge\n",
       "3             Dodge\n",
       "4            Subaru\n",
       "            ...    \n",
       "41139        Subaru\n",
       "41140        Subaru\n",
       "41141        Subaru\n",
       "41142        Subaru\n",
       "41143        Subaru\n",
       "Name: make, Length: 41144, dtype: string[pyarrow]"
      ]
     },
     "execution_count": 49,
     "metadata": {},
     "output_type": "execute_result"
    }
   ],
   "source": [
    "make.replace({'Audi': 'Åudi', 'Acura': 'Åcura',\n",
    "             'Ashton Martin': 'Åshton Martin', \n",
    "             'Alfa Romeo': 'Ålfa Romeo'})"
   ]
  },
  {
   "cell_type": "code",
   "execution_count": 50,
   "id": "2b85d74c",
   "metadata": {},
   "outputs": [
    {
     "data": {
      "text/plain": [
       "0        Ålfa Romeo\n",
       "1           Ferrari\n",
       "2             Dodge\n",
       "3             Dodge\n",
       "4            Subaru\n",
       "            ...    \n",
       "41139        Subaru\n",
       "41140        Subaru\n",
       "41141        Subaru\n",
       "41142        Subaru\n",
       "41143        Subaru\n",
       "Name: make, Length: 41144, dtype: string[pyarrow]"
      ]
     },
     "execution_count": 50,
     "metadata": {},
     "output_type": "execute_result"
    }
   ],
   "source": [
    "make.replace('A','Å', regex=True)"
   ]
  },
  {
   "cell_type": "code",
   "execution_count": 51,
   "id": "011b3b14",
   "metadata": {},
   "outputs": [],
   "source": [
    "# Exercises"
   ]
  },
  {
   "cell_type": "code",
   "execution_count": 52,
   "id": "b0a51329",
   "metadata": {},
   "outputs": [
    {
     "data": {
      "text/plain": [
       "0        alfa romeo\n",
       "1           ferrari\n",
       "2             dodge\n",
       "3             dodge\n",
       "4            subaru\n",
       "            ...    \n",
       "41139        subaru\n",
       "41140        subaru\n",
       "41141        subaru\n",
       "41142        subaru\n",
       "41143        subaru\n",
       "Name: make, Length: 41144, dtype: string[pyarrow]"
      ]
     },
     "execution_count": 52,
     "metadata": {},
     "output_type": "execute_result"
    }
   ],
   "source": [
    "# Using a string column, lowercase the values\n",
    "\n",
    "make.str.lower()"
   ]
  },
  {
   "cell_type": "code",
   "execution_count": 71,
   "id": "a60e3e8d",
   "metadata": {},
   "outputs": [
    {
     "data": {
      "text/plain": [
       "0        A\n",
       "1        F\n",
       "2        D\n",
       "3        D\n",
       "4        S\n",
       "        ..\n",
       "41139    S\n",
       "41140    S\n",
       "41141    S\n",
       "41142    S\n",
       "41143    S\n",
       "Name: make, Length: 41144, dtype: string[pyarrow]"
      ]
     },
     "execution_count": 71,
     "metadata": {},
     "output_type": "execute_result"
    }
   ],
   "source": [
    "# Using a string column, slice out the first character.\n",
    " \n",
    "# make[0] returns only the first item\n",
    "\n",
    "make.str[0] # you need to go into the str function to select the application you want to do, and then [0] for selecting the characters"
   ]
  },
  {
   "cell_type": "code",
   "execution_count": 75,
   "id": "fa953ced",
   "metadata": {},
   "outputs": [
    {
     "data": {
      "text/plain": [
       "0        meo\n",
       "1        ari\n",
       "2        dge\n",
       "3        dge\n",
       "4        aru\n",
       "        ... \n",
       "41139    aru\n",
       "41140    aru\n",
       "41141    aru\n",
       "41142    aru\n",
       "41143    aru\n",
       "Name: make, Length: 41144, dtype: string[pyarrow]"
      ]
     },
     "execution_count": 75,
     "metadata": {},
     "output_type": "execute_result"
    }
   ],
   "source": [
    "# Using a string column, slice out the last three characters.\n",
    "\n",
    "make.str[-3:]"
   ]
  },
  {
   "cell_type": "code",
   "execution_count": 106,
   "id": "76e6f649",
   "metadata": {},
   "outputs": [
    {
     "data": {
      "text/html": [
       "<div>\n",
       "<style scoped>\n",
       "    .dataframe tbody tr th:only-of-type {\n",
       "        vertical-align: middle;\n",
       "    }\n",
       "\n",
       "    .dataframe tbody tr th {\n",
       "        vertical-align: top;\n",
       "    }\n",
       "\n",
       "    .dataframe thead th {\n",
       "        text-align: right;\n",
       "    }\n",
       "</style>\n",
       "<table border=\"1\" class=\"dataframe\">\n",
       "  <thead>\n",
       "    <tr style=\"text-align: right;\">\n",
       "      <th></th>\n",
       "      <th>0</th>\n",
       "    </tr>\n",
       "  </thead>\n",
       "  <tbody>\n",
       "    <tr>\n",
       "      <th>0</th>\n",
       "      <td>1001</td>\n",
       "    </tr>\n",
       "    <tr>\n",
       "      <th>1</th>\n",
       "      <td>325</td>\n",
       "    </tr>\n",
       "    <tr>\n",
       "      <th>2</th>\n",
       "      <td>9988</td>\n",
       "    </tr>\n",
       "    <tr>\n",
       "      <th>3</th>\n",
       "      <td>15</td>\n",
       "    </tr>\n",
       "    <tr>\n",
       "      <th>4</th>\n",
       "      <td>3030</td>\n",
       "    </tr>\n",
       "    <tr>\n",
       "      <th>5</th>\n",
       "      <td>9007</td>\n",
       "    </tr>\n",
       "    <tr>\n",
       "      <th>6</th>\n",
       "      <td>2017</td>\n",
       "    </tr>\n",
       "    <tr>\n",
       "      <th>7</th>\n",
       "      <td>2</td>\n",
       "    </tr>\n",
       "    <tr>\n",
       "      <th>8</th>\n",
       "      <td>60</td>\n",
       "    </tr>\n",
       "    <tr>\n",
       "      <th>9</th>\n",
       "      <td>999</td>\n",
       "    </tr>\n",
       "    <tr>\n",
       "      <th>10</th>\n",
       "      <td>7</td>\n",
       "    </tr>\n",
       "    <tr>\n",
       "      <th>11</th>\n",
       "      <td>777</td>\n",
       "    </tr>\n",
       "    <tr>\n",
       "      <th>12</th>\n",
       "      <td>42</td>\n",
       "    </tr>\n",
       "    <tr>\n",
       "      <th>13</th>\n",
       "      <td>55</td>\n",
       "    </tr>\n",
       "    <tr>\n",
       "      <th>14</th>\n",
       "      <td>444</td>\n",
       "    </tr>\n",
       "    <tr>\n",
       "      <th>15</th>\n",
       "      <td>12</td>\n",
       "    </tr>\n",
       "    <tr>\n",
       "      <th>16</th>\n",
       "      <td>003</td>\n",
       "    </tr>\n",
       "    <tr>\n",
       "      <th>17</th>\n",
       "      <td>5</td>\n",
       "    </tr>\n",
       "    <tr>\n",
       "      <th>18</th>\n",
       "      <td>888</td>\n",
       "    </tr>\n",
       "    <tr>\n",
       "      <th>19</th>\n",
       "      <td>999</td>\n",
       "    </tr>\n",
       "  </tbody>\n",
       "</table>\n",
       "</div>"
      ],
      "text/plain": [
       "       0\n",
       "0   1001\n",
       "1    325\n",
       "2   9988\n",
       "3     15\n",
       "4   3030\n",
       "5   9007\n",
       "6   2017\n",
       "7      2\n",
       "8     60\n",
       "9    999\n",
       "10     7\n",
       "11   777\n",
       "12    42\n",
       "13    55\n",
       "14   444\n",
       "15    12\n",
       "16   003\n",
       "17     5\n",
       "18   888\n",
       "19   999"
      ]
     },
     "execution_count": 106,
     "metadata": {},
     "output_type": "execute_result"
    }
   ],
   "source": [
    "# Create a series extracting the numeric values using a string column.\n",
    "\n",
    "product_info = pd.Series([\n",
    "    \"Item#1001 - Price: $25.50\",\n",
    "    \"SKU: A325, Qty: 10\",\n",
    "    \"Ref: X9988, Units: 300\",\n",
    "    \"Discounted: 15%\",\n",
    "    \"Box ID 3030 - Weight: 5kg\",\n",
    "    \"Product Z - ID9007 - 40pcs\",\n",
    "    \"OldStock - 2017 batch\",\n",
    "    \"Volume: 2.5L - Item 8891\",\n",
    "    \"Wattage 60W - Model MZ22\",\n",
    "    \"Serial 999-88-777\",\n",
    "    \"Count: 7\",\n",
    "    \"Item #777 - Cost $3\",\n",
    "    \"Order42 complete\",\n",
    "    \"Tag55-Checked\",\n",
    "    \"Out of stock - ID444\",\n",
    "    \"Min pack of 12 - Code 5555\",\n",
    "    \"Batch 003 - size: M\",\n",
    "    \"Level 5 Clearance\",\n",
    "    \"New - 888 units\",\n",
    "    \"CodeX999\"\n",
    "])\n",
    "\n",
    "# product_info.str.split(^'{1-9}', regex=True, expand=True)\n",
    "# product_info.str.split('-', expand=True)\n",
    "\n",
    "extracted_numbers = product_info.str.extract(r'(\\d+)')\n",
    "extracted_numbers"
   ]
  },
  {
   "cell_type": "code",
   "execution_count": 113,
   "id": "fef6d8d8",
   "metadata": {},
   "outputs": [
    {
     "data": {
      "text/html": [
       "<div>\n",
       "<style scoped>\n",
       "    .dataframe tbody tr th:only-of-type {\n",
       "        vertical-align: middle;\n",
       "    }\n",
       "\n",
       "    .dataframe tbody tr th {\n",
       "        vertical-align: top;\n",
       "    }\n",
       "\n",
       "    .dataframe thead th {\n",
       "        text-align: right;\n",
       "    }\n",
       "</style>\n",
       "<table border=\"1\" class=\"dataframe\">\n",
       "  <thead>\n",
       "    <tr style=\"text-align: right;\">\n",
       "      <th></th>\n",
       "      <th>0</th>\n",
       "    </tr>\n",
       "  </thead>\n",
       "  <tbody>\n",
       "    <tr>\n",
       "      <th>0</th>\n",
       "      <td>é</td>\n",
       "    </tr>\n",
       "    <tr>\n",
       "      <th>1</th>\n",
       "      <td>ñ</td>\n",
       "    </tr>\n",
       "    <tr>\n",
       "      <th>2</th>\n",
       "      <td>Ü</td>\n",
       "    </tr>\n",
       "    <tr>\n",
       "      <th>3</th>\n",
       "      <td>ü</td>\n",
       "    </tr>\n",
       "    <tr>\n",
       "      <th>4</th>\n",
       "      <td>é</td>\n",
       "    </tr>\n",
       "    <tr>\n",
       "      <th>5</th>\n",
       "      <td>Привет</td>\n",
       "    </tr>\n",
       "    <tr>\n",
       "      <th>6</th>\n",
       "      <td>こんにちは世界</td>\n",
       "    </tr>\n",
       "    <tr>\n",
       "      <th>7</th>\n",
       "      <td>مرحبا</td>\n",
       "    </tr>\n",
       "    <tr>\n",
       "      <th>8</th>\n",
       "      <td>你好，世界</td>\n",
       "    </tr>\n",
       "    <tr>\n",
       "      <th>9</th>\n",
       "      <td>ã</td>\n",
       "    </tr>\n",
       "    <tr>\n",
       "      <th>10</th>\n",
       "      <td>é</td>\n",
       "    </tr>\n",
       "    <tr>\n",
       "      <th>11</th>\n",
       "      <td>€</td>\n",
       "    </tr>\n",
       "    <tr>\n",
       "      <th>12</th>\n",
       "      <td>¥</td>\n",
       "    </tr>\n",
       "    <tr>\n",
       "      <th>13</th>\n",
       "      <td>©</td>\n",
       "    </tr>\n",
       "    <tr>\n",
       "      <th>14</th>\n",
       "      <td>🚀</td>\n",
       "    </tr>\n",
       "    <tr>\n",
       "      <th>15</th>\n",
       "      <td>ü</td>\n",
       "    </tr>\n",
       "    <tr>\n",
       "      <th>16</th>\n",
       "      <td>😊</td>\n",
       "    </tr>\n",
       "    <tr>\n",
       "      <th>17</th>\n",
       "      <td>è</td>\n",
       "    </tr>\n",
       "    <tr>\n",
       "      <th>18</th>\n",
       "      <td>Жизнь</td>\n",
       "    </tr>\n",
       "    <tr>\n",
       "      <th>19</th>\n",
       "      <td>مرحبا</td>\n",
       "    </tr>\n",
       "  </tbody>\n",
       "</table>\n",
       "</div>"
      ],
      "text/plain": [
       "          0\n",
       "0         é\n",
       "1         ñ\n",
       "2         Ü\n",
       "3         ü\n",
       "4         é\n",
       "5    Привет\n",
       "6   こんにちは世界\n",
       "7     مرحبا\n",
       "8     你好，世界\n",
       "9         ã\n",
       "10        é\n",
       "11        €\n",
       "12        ¥\n",
       "13        ©\n",
       "14        🚀\n",
       "15        ü\n",
       "16        😊\n",
       "17        è\n",
       "18    Жизнь\n",
       "19    مرحبا"
      ]
     },
     "execution_count": 113,
     "metadata": {},
     "output_type": "execute_result"
    }
   ],
   "source": [
    "# Using a string column, create a series extracting the non-ASCII values.\n",
    "\n",
    "non_ascii_data = pd.Series([\n",
    "    \"Café del Mar\",\n",
    "    \"Niño jugando en la calle\",\n",
    "    \"Über cool!\",\n",
    "    \"München ist schön\",\n",
    "    \"Résumé de l'été\",\n",
    "    \"Привет, как дела?\",\n",
    "    \"こんにちは世界\",\n",
    "    \"مرحبا بالعالم\",\n",
    "    \"你好，世界\",\n",
    "    \"São Paulo - número 123\",\n",
    "    \"Pokémon Go🔥\",\n",
    "    \"Kosten: 25€\",\n",
    "    \"Precio: 100¥\",\n",
    "    \"© Copyright 2025\",\n",
    "    \"🚀 Launch sequence initiated\",\n",
    "    \"Frühstück um 8:00 Uhr\",\n",
    "    \"Smiley 😊 approved\",\n",
    "    \"Hèllo wørld\",\n",
    "    \"Жизнь прекрасна\",\n",
    "    \"مرحبا بكم في Python\"\n",
    "])\n",
    "\n",
    "extracted_non_ascii = non_ascii_data.str.extract(r'([^\\x00-\\x7F]+)')\n",
    "extracted_non_ascii"
   ]
  },
  {
   "cell_type": "code",
   "execution_count": 144,
   "id": "ad6524c3",
   "metadata": {},
   "outputs": [
    {
     "data": {
      "text/html": [
       "<div>\n",
       "<style scoped>\n",
       "    .dataframe tbody tr th:only-of-type {\n",
       "        vertical-align: middle;\n",
       "    }\n",
       "\n",
       "    .dataframe tbody tr th {\n",
       "        vertical-align: top;\n",
       "    }\n",
       "\n",
       "    .dataframe thead th {\n",
       "        text-align: right;\n",
       "    }\n",
       "</style>\n",
       "<table border=\"1\" class=\"dataframe\">\n",
       "  <thead>\n",
       "    <tr style=\"text-align: right;\">\n",
       "      <th></th>\n",
       "      <th>0</th>\n",
       "      <th>1</th>\n",
       "      <th>2</th>\n",
       "      <th>3</th>\n",
       "      <th>4</th>\n",
       "      <th>5</th>\n",
       "      <th>6</th>\n",
       "      <th>7</th>\n",
       "      <th>8</th>\n",
       "      <th>9</th>\n",
       "      <th>10</th>\n",
       "      <th>11</th>\n",
       "      <th>12</th>\n",
       "      <th>13</th>\n",
       "      <th>14</th>\n",
       "      <th>15</th>\n",
       "      <th>16</th>\n",
       "      <th>17</th>\n",
       "      <th>18</th>\n",
       "      <th>19</th>\n",
       "      <th>20</th>\n",
       "      <th>21</th>\n",
       "      <th>22</th>\n",
       "      <th>23</th>\n",
       "      <th>24</th>\n",
       "      <th>25</th>\n",
       "      <th>26</th>\n",
       "      <th>27</th>\n",
       "      <th>28</th>\n",
       "      <th>29</th>\n",
       "      <th>30</th>\n",
       "      <th>31</th>\n",
       "      <th>32</th>\n",
       "      <th>33</th>\n",
       "    </tr>\n",
       "  </thead>\n",
       "  <tbody>\n",
       "    <tr>\n",
       "      <th>0</th>\n",
       "      <td>A</td>\n",
       "      <td>l</td>\n",
       "      <td>f</td>\n",
       "      <td>a</td>\n",
       "      <td></td>\n",
       "      <td>R</td>\n",
       "      <td>o</td>\n",
       "      <td>m</td>\n",
       "      <td>e</td>\n",
       "      <td>o</td>\n",
       "      <td>NaN</td>\n",
       "      <td>NaN</td>\n",
       "      <td>NaN</td>\n",
       "      <td>NaN</td>\n",
       "      <td>NaN</td>\n",
       "      <td>NaN</td>\n",
       "      <td>NaN</td>\n",
       "      <td>NaN</td>\n",
       "      <td>NaN</td>\n",
       "      <td>NaN</td>\n",
       "      <td>NaN</td>\n",
       "      <td>NaN</td>\n",
       "      <td>NaN</td>\n",
       "      <td>NaN</td>\n",
       "      <td>NaN</td>\n",
       "      <td>NaN</td>\n",
       "      <td>NaN</td>\n",
       "      <td>NaN</td>\n",
       "      <td>NaN</td>\n",
       "      <td>NaN</td>\n",
       "      <td>NaN</td>\n",
       "      <td>NaN</td>\n",
       "      <td>NaN</td>\n",
       "      <td>NaN</td>\n",
       "    </tr>\n",
       "    <tr>\n",
       "      <th>1</th>\n",
       "      <td>F</td>\n",
       "      <td>e</td>\n",
       "      <td>r</td>\n",
       "      <td>r</td>\n",
       "      <td>a</td>\n",
       "      <td>r</td>\n",
       "      <td>i</td>\n",
       "      <td>NaN</td>\n",
       "      <td>NaN</td>\n",
       "      <td>NaN</td>\n",
       "      <td>NaN</td>\n",
       "      <td>NaN</td>\n",
       "      <td>NaN</td>\n",
       "      <td>NaN</td>\n",
       "      <td>NaN</td>\n",
       "      <td>NaN</td>\n",
       "      <td>NaN</td>\n",
       "      <td>NaN</td>\n",
       "      <td>NaN</td>\n",
       "      <td>NaN</td>\n",
       "      <td>NaN</td>\n",
       "      <td>NaN</td>\n",
       "      <td>NaN</td>\n",
       "      <td>NaN</td>\n",
       "      <td>NaN</td>\n",
       "      <td>NaN</td>\n",
       "      <td>NaN</td>\n",
       "      <td>NaN</td>\n",
       "      <td>NaN</td>\n",
       "      <td>NaN</td>\n",
       "      <td>NaN</td>\n",
       "      <td>NaN</td>\n",
       "      <td>NaN</td>\n",
       "      <td>NaN</td>\n",
       "    </tr>\n",
       "    <tr>\n",
       "      <th>2</th>\n",
       "      <td>D</td>\n",
       "      <td>o</td>\n",
       "      <td>d</td>\n",
       "      <td>g</td>\n",
       "      <td>e</td>\n",
       "      <td>NaN</td>\n",
       "      <td>NaN</td>\n",
       "      <td>NaN</td>\n",
       "      <td>NaN</td>\n",
       "      <td>NaN</td>\n",
       "      <td>NaN</td>\n",
       "      <td>NaN</td>\n",
       "      <td>NaN</td>\n",
       "      <td>NaN</td>\n",
       "      <td>NaN</td>\n",
       "      <td>NaN</td>\n",
       "      <td>NaN</td>\n",
       "      <td>NaN</td>\n",
       "      <td>NaN</td>\n",
       "      <td>NaN</td>\n",
       "      <td>NaN</td>\n",
       "      <td>NaN</td>\n",
       "      <td>NaN</td>\n",
       "      <td>NaN</td>\n",
       "      <td>NaN</td>\n",
       "      <td>NaN</td>\n",
       "      <td>NaN</td>\n",
       "      <td>NaN</td>\n",
       "      <td>NaN</td>\n",
       "      <td>NaN</td>\n",
       "      <td>NaN</td>\n",
       "      <td>NaN</td>\n",
       "      <td>NaN</td>\n",
       "      <td>NaN</td>\n",
       "    </tr>\n",
       "    <tr>\n",
       "      <th>3</th>\n",
       "      <td>D</td>\n",
       "      <td>o</td>\n",
       "      <td>d</td>\n",
       "      <td>g</td>\n",
       "      <td>e</td>\n",
       "      <td>NaN</td>\n",
       "      <td>NaN</td>\n",
       "      <td>NaN</td>\n",
       "      <td>NaN</td>\n",
       "      <td>NaN</td>\n",
       "      <td>NaN</td>\n",
       "      <td>NaN</td>\n",
       "      <td>NaN</td>\n",
       "      <td>NaN</td>\n",
       "      <td>NaN</td>\n",
       "      <td>NaN</td>\n",
       "      <td>NaN</td>\n",
       "      <td>NaN</td>\n",
       "      <td>NaN</td>\n",
       "      <td>NaN</td>\n",
       "      <td>NaN</td>\n",
       "      <td>NaN</td>\n",
       "      <td>NaN</td>\n",
       "      <td>NaN</td>\n",
       "      <td>NaN</td>\n",
       "      <td>NaN</td>\n",
       "      <td>NaN</td>\n",
       "      <td>NaN</td>\n",
       "      <td>NaN</td>\n",
       "      <td>NaN</td>\n",
       "      <td>NaN</td>\n",
       "      <td>NaN</td>\n",
       "      <td>NaN</td>\n",
       "      <td>NaN</td>\n",
       "    </tr>\n",
       "    <tr>\n",
       "      <th>4</th>\n",
       "      <td>S</td>\n",
       "      <td>u</td>\n",
       "      <td>b</td>\n",
       "      <td>a</td>\n",
       "      <td>r</td>\n",
       "      <td>u</td>\n",
       "      <td>NaN</td>\n",
       "      <td>NaN</td>\n",
       "      <td>NaN</td>\n",
       "      <td>NaN</td>\n",
       "      <td>NaN</td>\n",
       "      <td>NaN</td>\n",
       "      <td>NaN</td>\n",
       "      <td>NaN</td>\n",
       "      <td>NaN</td>\n",
       "      <td>NaN</td>\n",
       "      <td>NaN</td>\n",
       "      <td>NaN</td>\n",
       "      <td>NaN</td>\n",
       "      <td>NaN</td>\n",
       "      <td>NaN</td>\n",
       "      <td>NaN</td>\n",
       "      <td>NaN</td>\n",
       "      <td>NaN</td>\n",
       "      <td>NaN</td>\n",
       "      <td>NaN</td>\n",
       "      <td>NaN</td>\n",
       "      <td>NaN</td>\n",
       "      <td>NaN</td>\n",
       "      <td>NaN</td>\n",
       "      <td>NaN</td>\n",
       "      <td>NaN</td>\n",
       "      <td>NaN</td>\n",
       "      <td>NaN</td>\n",
       "    </tr>\n",
       "    <tr>\n",
       "      <th>...</th>\n",
       "      <td>...</td>\n",
       "      <td>...</td>\n",
       "      <td>...</td>\n",
       "      <td>...</td>\n",
       "      <td>...</td>\n",
       "      <td>...</td>\n",
       "      <td>...</td>\n",
       "      <td>...</td>\n",
       "      <td>...</td>\n",
       "      <td>...</td>\n",
       "      <td>...</td>\n",
       "      <td>...</td>\n",
       "      <td>...</td>\n",
       "      <td>...</td>\n",
       "      <td>...</td>\n",
       "      <td>...</td>\n",
       "      <td>...</td>\n",
       "      <td>...</td>\n",
       "      <td>...</td>\n",
       "      <td>...</td>\n",
       "      <td>...</td>\n",
       "      <td>...</td>\n",
       "      <td>...</td>\n",
       "      <td>...</td>\n",
       "      <td>...</td>\n",
       "      <td>...</td>\n",
       "      <td>...</td>\n",
       "      <td>...</td>\n",
       "      <td>...</td>\n",
       "      <td>...</td>\n",
       "      <td>...</td>\n",
       "      <td>...</td>\n",
       "      <td>...</td>\n",
       "      <td>...</td>\n",
       "    </tr>\n",
       "    <tr>\n",
       "      <th>41139</th>\n",
       "      <td>S</td>\n",
       "      <td>u</td>\n",
       "      <td>b</td>\n",
       "      <td>a</td>\n",
       "      <td>r</td>\n",
       "      <td>u</td>\n",
       "      <td>NaN</td>\n",
       "      <td>NaN</td>\n",
       "      <td>NaN</td>\n",
       "      <td>NaN</td>\n",
       "      <td>NaN</td>\n",
       "      <td>NaN</td>\n",
       "      <td>NaN</td>\n",
       "      <td>NaN</td>\n",
       "      <td>NaN</td>\n",
       "      <td>NaN</td>\n",
       "      <td>NaN</td>\n",
       "      <td>NaN</td>\n",
       "      <td>NaN</td>\n",
       "      <td>NaN</td>\n",
       "      <td>NaN</td>\n",
       "      <td>NaN</td>\n",
       "      <td>NaN</td>\n",
       "      <td>NaN</td>\n",
       "      <td>NaN</td>\n",
       "      <td>NaN</td>\n",
       "      <td>NaN</td>\n",
       "      <td>NaN</td>\n",
       "      <td>NaN</td>\n",
       "      <td>NaN</td>\n",
       "      <td>NaN</td>\n",
       "      <td>NaN</td>\n",
       "      <td>NaN</td>\n",
       "      <td>NaN</td>\n",
       "    </tr>\n",
       "    <tr>\n",
       "      <th>41140</th>\n",
       "      <td>S</td>\n",
       "      <td>u</td>\n",
       "      <td>b</td>\n",
       "      <td>a</td>\n",
       "      <td>r</td>\n",
       "      <td>u</td>\n",
       "      <td>NaN</td>\n",
       "      <td>NaN</td>\n",
       "      <td>NaN</td>\n",
       "      <td>NaN</td>\n",
       "      <td>NaN</td>\n",
       "      <td>NaN</td>\n",
       "      <td>NaN</td>\n",
       "      <td>NaN</td>\n",
       "      <td>NaN</td>\n",
       "      <td>NaN</td>\n",
       "      <td>NaN</td>\n",
       "      <td>NaN</td>\n",
       "      <td>NaN</td>\n",
       "      <td>NaN</td>\n",
       "      <td>NaN</td>\n",
       "      <td>NaN</td>\n",
       "      <td>NaN</td>\n",
       "      <td>NaN</td>\n",
       "      <td>NaN</td>\n",
       "      <td>NaN</td>\n",
       "      <td>NaN</td>\n",
       "      <td>NaN</td>\n",
       "      <td>NaN</td>\n",
       "      <td>NaN</td>\n",
       "      <td>NaN</td>\n",
       "      <td>NaN</td>\n",
       "      <td>NaN</td>\n",
       "      <td>NaN</td>\n",
       "    </tr>\n",
       "    <tr>\n",
       "      <th>41141</th>\n",
       "      <td>S</td>\n",
       "      <td>u</td>\n",
       "      <td>b</td>\n",
       "      <td>a</td>\n",
       "      <td>r</td>\n",
       "      <td>u</td>\n",
       "      <td>NaN</td>\n",
       "      <td>NaN</td>\n",
       "      <td>NaN</td>\n",
       "      <td>NaN</td>\n",
       "      <td>NaN</td>\n",
       "      <td>NaN</td>\n",
       "      <td>NaN</td>\n",
       "      <td>NaN</td>\n",
       "      <td>NaN</td>\n",
       "      <td>NaN</td>\n",
       "      <td>NaN</td>\n",
       "      <td>NaN</td>\n",
       "      <td>NaN</td>\n",
       "      <td>NaN</td>\n",
       "      <td>NaN</td>\n",
       "      <td>NaN</td>\n",
       "      <td>NaN</td>\n",
       "      <td>NaN</td>\n",
       "      <td>NaN</td>\n",
       "      <td>NaN</td>\n",
       "      <td>NaN</td>\n",
       "      <td>NaN</td>\n",
       "      <td>NaN</td>\n",
       "      <td>NaN</td>\n",
       "      <td>NaN</td>\n",
       "      <td>NaN</td>\n",
       "      <td>NaN</td>\n",
       "      <td>NaN</td>\n",
       "    </tr>\n",
       "    <tr>\n",
       "      <th>41142</th>\n",
       "      <td>S</td>\n",
       "      <td>u</td>\n",
       "      <td>b</td>\n",
       "      <td>a</td>\n",
       "      <td>r</td>\n",
       "      <td>u</td>\n",
       "      <td>NaN</td>\n",
       "      <td>NaN</td>\n",
       "      <td>NaN</td>\n",
       "      <td>NaN</td>\n",
       "      <td>NaN</td>\n",
       "      <td>NaN</td>\n",
       "      <td>NaN</td>\n",
       "      <td>NaN</td>\n",
       "      <td>NaN</td>\n",
       "      <td>NaN</td>\n",
       "      <td>NaN</td>\n",
       "      <td>NaN</td>\n",
       "      <td>NaN</td>\n",
       "      <td>NaN</td>\n",
       "      <td>NaN</td>\n",
       "      <td>NaN</td>\n",
       "      <td>NaN</td>\n",
       "      <td>NaN</td>\n",
       "      <td>NaN</td>\n",
       "      <td>NaN</td>\n",
       "      <td>NaN</td>\n",
       "      <td>NaN</td>\n",
       "      <td>NaN</td>\n",
       "      <td>NaN</td>\n",
       "      <td>NaN</td>\n",
       "      <td>NaN</td>\n",
       "      <td>NaN</td>\n",
       "      <td>NaN</td>\n",
       "    </tr>\n",
       "    <tr>\n",
       "      <th>41143</th>\n",
       "      <td>S</td>\n",
       "      <td>u</td>\n",
       "      <td>b</td>\n",
       "      <td>a</td>\n",
       "      <td>r</td>\n",
       "      <td>u</td>\n",
       "      <td>NaN</td>\n",
       "      <td>NaN</td>\n",
       "      <td>NaN</td>\n",
       "      <td>NaN</td>\n",
       "      <td>NaN</td>\n",
       "      <td>NaN</td>\n",
       "      <td>NaN</td>\n",
       "      <td>NaN</td>\n",
       "      <td>NaN</td>\n",
       "      <td>NaN</td>\n",
       "      <td>NaN</td>\n",
       "      <td>NaN</td>\n",
       "      <td>NaN</td>\n",
       "      <td>NaN</td>\n",
       "      <td>NaN</td>\n",
       "      <td>NaN</td>\n",
       "      <td>NaN</td>\n",
       "      <td>NaN</td>\n",
       "      <td>NaN</td>\n",
       "      <td>NaN</td>\n",
       "      <td>NaN</td>\n",
       "      <td>NaN</td>\n",
       "      <td>NaN</td>\n",
       "      <td>NaN</td>\n",
       "      <td>NaN</td>\n",
       "      <td>NaN</td>\n",
       "      <td>NaN</td>\n",
       "      <td>NaN</td>\n",
       "    </tr>\n",
       "  </tbody>\n",
       "</table>\n",
       "<p>41144 rows × 34 columns</p>\n",
       "</div>"
      ],
      "text/plain": [
       "      0  1  2  3  4    5    6    7    8    9    10   11   12   13   14   15  \\\n",
       "0      A  l  f  a       R    o    m    e    o  NaN  NaN  NaN  NaN  NaN  NaN   \n",
       "1      F  e  r  r  a    r    i  NaN  NaN  NaN  NaN  NaN  NaN  NaN  NaN  NaN   \n",
       "2      D  o  d  g  e  NaN  NaN  NaN  NaN  NaN  NaN  NaN  NaN  NaN  NaN  NaN   \n",
       "3      D  o  d  g  e  NaN  NaN  NaN  NaN  NaN  NaN  NaN  NaN  NaN  NaN  NaN   \n",
       "4      S  u  b  a  r    u  NaN  NaN  NaN  NaN  NaN  NaN  NaN  NaN  NaN  NaN   \n",
       "...   .. .. .. .. ..  ...  ...  ...  ...  ...  ...  ...  ...  ...  ...  ...   \n",
       "41139  S  u  b  a  r    u  NaN  NaN  NaN  NaN  NaN  NaN  NaN  NaN  NaN  NaN   \n",
       "41140  S  u  b  a  r    u  NaN  NaN  NaN  NaN  NaN  NaN  NaN  NaN  NaN  NaN   \n",
       "41141  S  u  b  a  r    u  NaN  NaN  NaN  NaN  NaN  NaN  NaN  NaN  NaN  NaN   \n",
       "41142  S  u  b  a  r    u  NaN  NaN  NaN  NaN  NaN  NaN  NaN  NaN  NaN  NaN   \n",
       "41143  S  u  b  a  r    u  NaN  NaN  NaN  NaN  NaN  NaN  NaN  NaN  NaN  NaN   \n",
       "\n",
       "        16   17   18   19   20   21   22   23   24   25   26   27   28   29  \\\n",
       "0      NaN  NaN  NaN  NaN  NaN  NaN  NaN  NaN  NaN  NaN  NaN  NaN  NaN  NaN   \n",
       "1      NaN  NaN  NaN  NaN  NaN  NaN  NaN  NaN  NaN  NaN  NaN  NaN  NaN  NaN   \n",
       "2      NaN  NaN  NaN  NaN  NaN  NaN  NaN  NaN  NaN  NaN  NaN  NaN  NaN  NaN   \n",
       "3      NaN  NaN  NaN  NaN  NaN  NaN  NaN  NaN  NaN  NaN  NaN  NaN  NaN  NaN   \n",
       "4      NaN  NaN  NaN  NaN  NaN  NaN  NaN  NaN  NaN  NaN  NaN  NaN  NaN  NaN   \n",
       "...    ...  ...  ...  ...  ...  ...  ...  ...  ...  ...  ...  ...  ...  ...   \n",
       "41139  NaN  NaN  NaN  NaN  NaN  NaN  NaN  NaN  NaN  NaN  NaN  NaN  NaN  NaN   \n",
       "41140  NaN  NaN  NaN  NaN  NaN  NaN  NaN  NaN  NaN  NaN  NaN  NaN  NaN  NaN   \n",
       "41141  NaN  NaN  NaN  NaN  NaN  NaN  NaN  NaN  NaN  NaN  NaN  NaN  NaN  NaN   \n",
       "41142  NaN  NaN  NaN  NaN  NaN  NaN  NaN  NaN  NaN  NaN  NaN  NaN  NaN  NaN   \n",
       "41143  NaN  NaN  NaN  NaN  NaN  NaN  NaN  NaN  NaN  NaN  NaN  NaN  NaN  NaN   \n",
       "\n",
       "        30   31   32   33  \n",
       "0      NaN  NaN  NaN  NaN  \n",
       "1      NaN  NaN  NaN  NaN  \n",
       "2      NaN  NaN  NaN  NaN  \n",
       "3      NaN  NaN  NaN  NaN  \n",
       "4      NaN  NaN  NaN  NaN  \n",
       "...    ...  ...  ...  ...  \n",
       "41139  NaN  NaN  NaN  NaN  \n",
       "41140  NaN  NaN  NaN  NaN  \n",
       "41141  NaN  NaN  NaN  NaN  \n",
       "41142  NaN  NaN  NaN  NaN  \n",
       "41143  NaN  NaN  NaN  NaN  \n",
       "\n",
       "[41144 rows x 34 columns]"
      ]
     },
     "execution_count": 144,
     "metadata": {},
     "output_type": "execute_result"
    }
   ],
   "source": [
    "# Using a string column, create a dataframe with the dummy columns for every character in the column.\n",
    "\n",
    "# make.str.split(r'(.)', expand= True, regex=True)\n",
    "make.str.findall(r'.').apply(pd.Series)"
   ]
  },
  {
   "cell_type": "code",
   "execution_count": null,
   "id": "c7310709",
   "metadata": {},
   "outputs": [],
   "source": []
  }
 ],
 "metadata": {
  "kernelspec": {
   "display_name": "base",
   "language": "python",
   "name": "python3"
  },
  "language_info": {
   "codemirror_mode": {
    "name": "ipython",
    "version": 3
   },
   "file_extension": ".py",
   "mimetype": "text/x-python",
   "name": "python",
   "nbconvert_exporter": "python",
   "pygments_lexer": "ipython3",
   "version": "3.12.2"
  }
 },
 "nbformat": 4,
 "nbformat_minor": 5
}
