{
 "cells": [
  {
   "cell_type": "code",
   "execution_count": 1,
   "id": "a8a80c6f-cb2e-4a7a-97fb-926e4eada6ab",
   "metadata": {},
   "outputs": [],
   "source": [
    "import pandas as pd\n",
    "\n",
    "url = 'https://github.com/mattharrison/datasets/raw/master/data/''vehicles.csv.zip'\n",
    "df = pd.read_csv(url, dtype_backend='pyarrow', engine='pyarrow')\n",
    "pd.set_option('display.max_columns', None)\n",
    "\n",
    "def gt20(val):\n",
    "    return val > 20\n",
    "\n",
    "city_mpg = df.city08\n",
    "highway_mpg = df.highway08\n",
    "make = df.make"
   ]
  },
  {
   "cell_type": "code",
   "execution_count": 2,
   "id": "59b278e7-116a-4232-8cf4-8460ed144f20",
   "metadata": {},
   "outputs": [
    {
     "data": {
      "text/plain": [
       "0        Alfa Romeo\n",
       "1           Ferrari\n",
       "2             Dodge\n",
       "3             Dodge\n",
       "4            Subaru\n",
       "            ...    \n",
       "41139        Subaru\n",
       "41140        Subaru\n",
       "41141        Subaru\n",
       "41142        Subaru\n",
       "41143        Subaru\n",
       "Name: make, Length: 41144, dtype: string[pyarrow]"
      ]
     },
     "execution_count": 2,
     "metadata": {},
     "output_type": "execute_result"
    }
   ],
   "source": [
    "make"
   ]
  },
  {
   "cell_type": "code",
   "execution_count": 3,
   "id": "ac6d79ed-4363-4533-924d-83363c9f45fa",
   "metadata": {},
   "outputs": [
    {
     "data": {
      "text/plain": [
       "0        Alfa Romeo\n",
       "1           Ferrari\n",
       "2             Dodge\n",
       "3             Dodge\n",
       "4            Subaru\n",
       "            ...    \n",
       "41139        Subaru\n",
       "41140        Subaru\n",
       "41141        Subaru\n",
       "41142        Subaru\n",
       "41143        Subaru\n",
       "Name: make, Length: 41144, dtype: object"
      ]
     },
     "execution_count": 3,
     "metadata": {},
     "output_type": "execute_result"
    }
   ],
   "source": [
    "make.astype(str)"
   ]
  },
  {
   "cell_type": "code",
   "execution_count": 4,
   "id": "91a80c65-a231-46ee-9478-c6b4856dfcab",
   "metadata": {},
   "outputs": [
    {
     "data": {
      "text/plain": [
       "0        Alfa Romeo\n",
       "1           Ferrari\n",
       "2             Dodge\n",
       "3             Dodge\n",
       "4            Subaru\n",
       "            ...    \n",
       "41139        Subaru\n",
       "41140        Subaru\n",
       "41141        Subaru\n",
       "41142        Subaru\n",
       "41143        Subaru\n",
       "Name: make, Length: 41144, dtype: string[pyarrow]"
      ]
     },
     "execution_count": 4,
     "metadata": {},
     "output_type": "execute_result"
    }
   ],
   "source": [
    "import pyarrow as pa\n",
    "string_pa = pd.ArrowDtype(pa.string())\n",
    "make.astype(str).astype(string_pa)"
   ]
  },
  {
   "cell_type": "code",
   "execution_count": 5,
   "id": "c7f2e8a3-b643-4638-a097-b44831409713",
   "metadata": {},
   "outputs": [
    {
     "data": {
      "text/plain": [
       "'hello'"
      ]
     },
     "execution_count": 5,
     "metadata": {},
     "output_type": "execute_result"
    }
   ],
   "source": [
    "'Ford'.lower()\n",
    "'Hello'.lower()"
   ]
  },
  {
   "cell_type": "code",
   "execution_count": 6,
   "id": "fa4be1ef-cd88-4110-9822-c34c4bb7125d",
   "metadata": {},
   "outputs": [
    {
     "data": {
      "text/plain": [
       "0        alfa romeo\n",
       "1           ferrari\n",
       "2             dodge\n",
       "3             dodge\n",
       "4            subaru\n",
       "            ...    \n",
       "41139        subaru\n",
       "41140        subaru\n",
       "41141        subaru\n",
       "41142        subaru\n",
       "41143        subaru\n",
       "Name: make, Length: 41144, dtype: string[pyarrow]"
      ]
     },
     "execution_count": 6,
     "metadata": {},
     "output_type": "execute_result"
    }
   ],
   "source": [
    "make.str.lower()"
   ]
  },
  {
   "cell_type": "code",
   "execution_count": 7,
   "id": "fa1640fc-83ac-4072-ab2f-53c15e6229d9",
   "metadata": {},
   "outputs": [
    {
     "data": {
      "text/plain": [
       "0"
      ]
     },
     "execution_count": 7,
     "metadata": {},
     "output_type": "execute_result"
    }
   ],
   "source": [
    "'Alpha Romeo'.find('A')"
   ]
  },
  {
   "cell_type": "code",
   "execution_count": 8,
   "id": "0c737aa5-2958-453c-aac2-adce1f346b49",
   "metadata": {},
   "outputs": [
    {
     "data": {
      "text/plain": [
       "0         0\n",
       "1        -1\n",
       "2        -1\n",
       "3        -1\n",
       "4        -1\n",
       "         ..\n",
       "41139    -1\n",
       "41140    -1\n",
       "41141    -1\n",
       "41142    -1\n",
       "41143    -1\n",
       "Name: make, Length: 41144, dtype: int32[pyarrow]"
      ]
     },
     "execution_count": 8,
     "metadata": {},
     "output_type": "execute_result"
    }
   ],
   "source": [
    "make.str.find('A')"
   ]
  },
  {
   "cell_type": "code",
   "execution_count": 9,
   "id": "c0461819-57ff-4897-bbca-865a879b843f",
   "metadata": {},
   "outputs": [
    {
     "ename": "ValueError",
     "evalue": "pat='([^a-z A-Z])' must contain a symbolic group name.",
     "output_type": "error",
     "traceback": [
      "\u001b[0;31m---------------------------------------------------------------------------\u001b[0m",
      "\u001b[0;31mValueError\u001b[0m                                Traceback (most recent call last)",
      "Cell \u001b[0;32mIn[9], line 1\u001b[0m\n\u001b[0;32m----> 1\u001b[0m \u001b[38;5;28mprint\u001b[39m(make\u001b[38;5;241m.\u001b[39mstr\u001b[38;5;241m.\u001b[39mextract(\u001b[38;5;124mr\u001b[39m\u001b[38;5;124m'\u001b[39m\u001b[38;5;124m([^a-z A-Z])\u001b[39m\u001b[38;5;124m'\u001b[39m))\n",
      "File \u001b[0;32m/opt/anaconda3/lib/python3.12/site-packages/pandas/core/strings/accessor.py:137\u001b[0m, in \u001b[0;36mforbid_nonstring_types.<locals>._forbid_nonstring_types.<locals>.wrapper\u001b[0;34m(self, *args, **kwargs)\u001b[0m\n\u001b[1;32m    132\u001b[0m     msg \u001b[38;5;241m=\u001b[39m (\n\u001b[1;32m    133\u001b[0m         \u001b[38;5;124mf\u001b[39m\u001b[38;5;124m\"\u001b[39m\u001b[38;5;124mCannot use .str.\u001b[39m\u001b[38;5;132;01m{\u001b[39;00mfunc_name\u001b[38;5;132;01m}\u001b[39;00m\u001b[38;5;124m with values of \u001b[39m\u001b[38;5;124m\"\u001b[39m\n\u001b[1;32m    134\u001b[0m         \u001b[38;5;124mf\u001b[39m\u001b[38;5;124m\"\u001b[39m\u001b[38;5;124minferred dtype \u001b[39m\u001b[38;5;124m'\u001b[39m\u001b[38;5;132;01m{\u001b[39;00m\u001b[38;5;28mself\u001b[39m\u001b[38;5;241m.\u001b[39m_inferred_dtype\u001b[38;5;132;01m}\u001b[39;00m\u001b[38;5;124m'\u001b[39m\u001b[38;5;124m.\u001b[39m\u001b[38;5;124m\"\u001b[39m\n\u001b[1;32m    135\u001b[0m     )\n\u001b[1;32m    136\u001b[0m     \u001b[38;5;28;01mraise\u001b[39;00m \u001b[38;5;167;01mTypeError\u001b[39;00m(msg)\n\u001b[0;32m--> 137\u001b[0m \u001b[38;5;28;01mreturn\u001b[39;00m func(\u001b[38;5;28mself\u001b[39m, \u001b[38;5;241m*\u001b[39margs, \u001b[38;5;241m*\u001b[39m\u001b[38;5;241m*\u001b[39mkwargs)\n",
      "File \u001b[0;32m/opt/anaconda3/lib/python3.12/site-packages/pandas/core/strings/accessor.py:2758\u001b[0m, in \u001b[0;36mStringMethods.extract\u001b[0;34m(self, pat, flags, expand)\u001b[0m\n\u001b[1;32m   2755\u001b[0m     result \u001b[38;5;241m=\u001b[39m DataFrame(columns\u001b[38;5;241m=\u001b[39mcolumns, dtype\u001b[38;5;241m=\u001b[39mresult_dtype)\n\u001b[1;32m   2757\u001b[0m \u001b[38;5;28;01melse\u001b[39;00m:\n\u001b[0;32m-> 2758\u001b[0m     result_list \u001b[38;5;241m=\u001b[39m \u001b[38;5;28mself\u001b[39m\u001b[38;5;241m.\u001b[39m_data\u001b[38;5;241m.\u001b[39marray\u001b[38;5;241m.\u001b[39m_str_extract(\n\u001b[1;32m   2759\u001b[0m         pat, flags\u001b[38;5;241m=\u001b[39mflags, expand\u001b[38;5;241m=\u001b[39mreturns_df\n\u001b[1;32m   2760\u001b[0m     )\n\u001b[1;32m   2762\u001b[0m     result_index: Index \u001b[38;5;241m|\u001b[39m \u001b[38;5;28;01mNone\u001b[39;00m\n\u001b[1;32m   2763\u001b[0m     \u001b[38;5;28;01mif\u001b[39;00m \u001b[38;5;28misinstance\u001b[39m(obj, ABCSeries):\n",
      "File \u001b[0;32m/opt/anaconda3/lib/python3.12/site-packages/pandas/core/arrays/arrow/array.py:2488\u001b[0m, in \u001b[0;36mArrowExtensionArray._str_extract\u001b[0;34m(self, pat, flags, expand)\u001b[0m\n\u001b[1;32m   2486\u001b[0m groups \u001b[38;5;241m=\u001b[39m re\u001b[38;5;241m.\u001b[39mcompile(pat)\u001b[38;5;241m.\u001b[39mgroupindex\u001b[38;5;241m.\u001b[39mkeys()\n\u001b[1;32m   2487\u001b[0m \u001b[38;5;28;01mif\u001b[39;00m \u001b[38;5;28mlen\u001b[39m(groups) \u001b[38;5;241m==\u001b[39m \u001b[38;5;241m0\u001b[39m:\n\u001b[0;32m-> 2488\u001b[0m     \u001b[38;5;28;01mraise\u001b[39;00m \u001b[38;5;167;01mValueError\u001b[39;00m(\u001b[38;5;124mf\u001b[39m\u001b[38;5;124m\"\u001b[39m\u001b[38;5;132;01m{\u001b[39;00mpat\u001b[38;5;132;01m=}\u001b[39;00m\u001b[38;5;124m must contain a symbolic group name.\u001b[39m\u001b[38;5;124m\"\u001b[39m)\n\u001b[1;32m   2489\u001b[0m result \u001b[38;5;241m=\u001b[39m pc\u001b[38;5;241m.\u001b[39mextract_regex(\u001b[38;5;28mself\u001b[39m\u001b[38;5;241m.\u001b[39m_pa_array, pat)\n\u001b[1;32m   2490\u001b[0m \u001b[38;5;28;01mif\u001b[39;00m expand:\n",
      "\u001b[0;31mValueError\u001b[0m: pat='([^a-z A-Z])' must contain a symbolic group name."
     ]
    }
   ],
   "source": [
    "print(make.str.extract(r'([^a-z A-Z])'))"
   ]
  },
  {
   "cell_type": "code",
   "execution_count": 12,
   "id": "d574e0d4-98fe-4a11-949e-280b9f1ffd02",
   "metadata": {},
   "outputs": [
    {
     "name": "stdout",
     "output_type": "stream",
     "text": [
      "      non_alpha\n",
      "0          <NA>\n",
      "1          <NA>\n",
      "2          <NA>\n",
      "3          <NA>\n",
      "4          <NA>\n",
      "...         ...\n",
      "41139      <NA>\n",
      "41140      <NA>\n",
      "41141      <NA>\n",
      "41142      <NA>\n",
      "41143      <NA>\n",
      "\n",
      "[41144 rows x 1 columns]\n"
     ]
    }
   ],
   "source": [
    "print(make.str.extract(r'(?P<non_alpha>[^a-z A-Z])'))"
   ]
  },
  {
   "cell_type": "code",
   "execution_count": 14,
   "id": "795caa45-28a5-425c-932e-e1bc2d99e4bb",
   "metadata": {},
   "outputs": [
    {
     "data": {
      "text/plain": [
       "non_alpha\n",
       "-    1727\n",
       ".      46\n",
       ",       9\n",
       "Name: count, dtype: int64[pyarrow]"
      ]
     },
     "execution_count": 14,
     "metadata": {},
     "output_type": "execute_result"
    }
   ],
   "source": [
    "(make\n",
    " .str.extract(r'(?P<non_alpha>[^a-z A-Z])',\n",
    "              expand=False)\n",
    " .value_counts()\n",
    ")"
   ]
  },
  {
   "cell_type": "code",
   "execution_count": 16,
   "id": "498c7eb8-1073-4702-a754-2b79d27ca2ea",
   "metadata": {},
   "outputs": [
    {
     "data": {
      "text/plain": [
       "non_num\n",
       "C    5336\n",
       "M    4833\n",
       "F    3686\n",
       "B    2796\n",
       "G    2691\n",
       "D    2679\n",
       "P    2589\n",
       "S    2234\n",
       "T    2159\n",
       "V    2001\n",
       "H    1803\n",
       "A    1610\n",
       "N    1471\n",
       "J    1435\n",
       "L    1241\n",
       "I     860\n",
       "K     618\n",
       "O     462\n",
       "R     392\n",
       "E     167\n",
       "s      38\n",
       "W      32\n",
       "Y       8\n",
       "Q       3\n",
       "Name: count, dtype: int64[pyarrow]"
      ]
     },
     "execution_count": 16,
     "metadata": {},
     "output_type": "execute_result"
    }
   ],
   "source": [
    "# If a column in a CSV file contains non-numeric characters, use the following code to find them:\n",
    "\n",
    "col = make\n",
    "\n",
    "(col\n",
    " .str.extract(r'(?P<non_num>[^0-9.])', expand=False)\n",
    " .value_counts()\n",
    ")"
   ]
  },
  {
   "cell_type": "code",
   "execution_count": 18,
   "id": "19b911ba-ffdd-4ad5-a542-ace33255c4a9",
   "metadata": {},
   "outputs": [
    {
     "data": {
      "text/plain": [
       "0     0-10\n",
       "1    11-15\n",
       "2    11-15\n",
       "3    61-65\n",
       "4    46-50\n",
       "dtype: string[pyarrow]"
      ]
     },
     "execution_count": 18,
     "metadata": {},
     "output_type": "execute_result"
    }
   ],
   "source": [
    "import pyarrow as pa\n",
    "string_pa = pd.ArrowDtype(pa.string())\n",
    "age = pd.Series(['0-10', '11-15', '11-15', '61-65', '46-50'],\n",
    "                 dtype=string_pa)\n",
    "age"
   ]
  },
  {
   "cell_type": "code",
   "execution_count": 20,
   "id": "d9a3955a-40be-4d21-adc4-7a7f7f9d6f04",
   "metadata": {},
   "outputs": [
    {
     "data": {
      "text/plain": [
       "0     ['0' '10']\n",
       "1    ['11' '15']\n",
       "2    ['11' '15']\n",
       "3    ['61' '65']\n",
       "4    ['46' '50']\n",
       "dtype: list<item: string>[pyarrow]"
      ]
     },
     "execution_count": 20,
     "metadata": {},
     "output_type": "execute_result"
    }
   ],
   "source": [
    "age.str.split('-')"
   ]
  },
  {
   "cell_type": "code",
   "execution_count": 22,
   "id": "cc6cefd3-eef5-475e-b96c-6f0dbcade7c6",
   "metadata": {},
   "outputs": [
    {
     "data": {
      "text/plain": [
       "0     0\n",
       "1    11\n",
       "2    11\n",
       "3    61\n",
       "4    46\n",
       "Name: 0, dtype: int8[pyarrow]"
      ]
     },
     "execution_count": 22,
     "metadata": {},
     "output_type": "execute_result"
    }
   ],
   "source": [
    "(age\n",
    " .str.split('-', expand=True)\n",
    " .iloc[:,0]\n",
    " .astype('int8[pyarrow]')\n",
    ")"
   ]
  },
  {
   "cell_type": "code",
   "execution_count": 24,
   "id": "56aa7366-11b7-4b92-bb83-0d48d51a969b",
   "metadata": {},
   "outputs": [
    {
     "data": {
      "text/plain": [
       "0    10\n",
       "1    15\n",
       "2    15\n",
       "3    65\n",
       "4    50\n",
       "dtype: int8[pyarrow]"
      ]
     },
     "execution_count": 24,
     "metadata": {},
     "output_type": "execute_result"
    }
   ],
   "source": [
    "(age\n",
    " .str.slice(-2)\n",
    " .astype('int8[pyarrow]')\n",
    ")"
   ]
  },
  {
   "cell_type": "code",
   "execution_count": 28,
   "id": "19a6d41d-3a97-4622-a74a-41bad299ca53",
   "metadata": {},
   "outputs": [
    {
     "data": {
      "text/plain": [
       "0    10\n",
       "1    15\n",
       "2    15\n",
       "3    65\n",
       "4    50\n",
       "dtype: int8[pyarrow]"
      ]
     },
     "execution_count": 28,
     "metadata": {},
     "output_type": "execute_result"
    }
   ],
   "source": [
    "(age\n",
    " .str[-2:]\n",
    " .astype('int8[pyarrow]')\n",
    ")"
   ]
  },
  {
   "cell_type": "code",
   "execution_count": 38,
   "id": "bcedcb31-bf90-4f38-8ec6-c485507b0ef0",
   "metadata": {},
   "outputs": [
    {
     "data": {
      "text/plain": [
       "0     5.0\n",
       "1    13.0\n",
       "2    13.0\n",
       "3    63.0\n",
       "4    48.0\n",
       "dtype: double[pyarrow]"
      ]
     },
     "execution_count": 38,
     "metadata": {},
     "output_type": "execute_result"
    }
   ],
   "source": [
    "(age\n",
    " .str.split('-', expand=True)\n",
    " .astype('int8[pyarrow]')\n",
    " .mean(axis='columns')\n",
    ")"
   ]
  },
  {
   "cell_type": "code",
   "execution_count": 34,
   "id": "c6bf46d2-22ad-4b09-9b0a-b666605523fc",
   "metadata": {},
   "outputs": [],
   "source": [
    "import random\n",
    "def between(row):\n",
    "    return random.randint(*row.values)"
   ]
  },
  {
   "cell_type": "code",
   "execution_count": 40,
   "id": "f0f799aa-8386-4ff1-83c1-979bf431da91",
   "metadata": {},
   "outputs": [
    {
     "data": {
      "text/plain": [
       "0     3\n",
       "1    11\n",
       "2    12\n",
       "3    63\n",
       "4    48\n",
       "dtype: int64"
      ]
     },
     "execution_count": 40,
     "metadata": {},
     "output_type": "execute_result"
    }
   ],
   "source": [
    "(age\n",
    " .str.split('-', expand=True)\n",
    " .astype(int)\n",
    " .apply(between, axis='columns')\n",
    ")"
   ]
  },
  {
   "cell_type": "code",
   "execution_count": 42,
   "id": "5b323c04-ddd3-49d4-938b-6a7893dc3715",
   "metadata": {},
   "outputs": [
    {
     "name": "stdout",
     "output_type": "stream",
     "text": [
      "   lower  upper      rand        age\n",
      "0      0     10  0.934849   9.348491\n",
      "1     11     15  0.710798   13.84319\n",
      "2     11     15  0.312591  12.250366\n",
      "3     61     65  0.849451  64.397805\n",
      "4     46     50  0.228212  46.912848\n"
     ]
    }
   ],
   "source": [
    "import numpy as np\n",
    "print(age\n",
    "      .str.split('-', expand=True)\n",
    "      .rename(columns={0:'lower',1:'upper'})\n",
    "      .astype('int8[pyarrow]')\n",
    "      .assign(rand=np.random.rand(len(age)),\n",
    "              age=lambda df_: (df_.lower + (df_.rand *\n",
    "                                            (df_.upper - df_.lower)))\n",
    "              .astype('int8[pyarrow]', errors='ignore')\n",
    "             )\n",
    "     )\n"
   ]
  },
  {
   "cell_type": "code",
   "execution_count": 48,
   "id": "e35a8fcf-5f2b-4aa0-8857-43200ae27f3f",
   "metadata": {},
   "outputs": [
    {
     "data": {
      "text/plain": [
       "0     6\n",
       "1    11\n",
       "2    13\n",
       "3    61\n",
       "4    49\n",
       "dtype: int64"
      ]
     },
     "execution_count": 48,
     "metadata": {},
     "output_type": "execute_result"
    }
   ],
   "source": [
    "import numpy as np # imports numpy\n",
    "(age # uses the age bins shown here: age = pd.Series(['0-10', '11-15', '11-15', '61-65', '46-50'],\n",
    " .str.split('-', expand=True) # splits the bins by '-' into two columns\n",
    " .astype(int) # turns the output of the two columns into integers\n",
    " .pipe(lambda df_: pd.Series(np.random.randint(df_.iloc[:,0], # not yet sure what pipe does. # takes a random intiger and does something with iloc idk what the comma in iloc[:,0] does\n",
    "                                               df_.iloc[:,1]), index = df_.index) # idk what [:,1] the comma does here, and does something with an index\n",
    "      )\n",
    ")"
   ]
  },
  {
   "cell_type": "code",
   "execution_count": 90,
   "id": "6ba148f8-30a6-45e7-b68c-7f22aabc6ae7",
   "metadata": {},
   "outputs": [
    {
     "data": {
      "text/plain": [
       "0        61-65\n",
       "1        46-50\n",
       "2        11-15\n",
       "3        46-50\n",
       "4        46-50\n",
       "         ...  \n",
       "99995    11-15\n",
       "99996     0-10\n",
       "99997    46-50\n",
       "99998    61-65\n",
       "99999     0-10\n",
       "Length: 100000, dtype: string[pyarrow]"
      ]
     },
     "execution_count": 90,
     "metadata": {},
     "output_type": "execute_result"
    }
   ],
   "source": [
    "age_100k = (age # takes age series\n",
    "            .sample(100_000, replace=True, random_state=42) # creates a randomly sampled figures from age, 100,000 of them\n",
    "            .reset_index(drop=True) # creates a natural index, as the original index values are kept from the source Series\n",
    "           )\n",
    "age_100k"
   ]
  },
  {
   "cell_type": "code",
   "execution_count": 64,
   "id": "d3b7a372-e02e-4bf0-b614-28da1121da9f",
   "metadata": {},
   "outputs": [
    {
     "name": "stdout",
     "output_type": "stream",
     "text": [
      "11.9 ms ± 181 μs per loop (mean ± std. dev. of 7 runs, 100 loops each)\n"
     ]
    }
   ],
   "source": [
    "%%timeit\n",
    "(age_100k\n",
    " .str.split('-', expand=True)\n",
    " .astype('int8[pyarrow]')\n",
    " .pipe(lambda df_: pd.Series(np.random.randint(df_.iloc[:,0], \n",
    "                                               df_.iloc[:,1]), index =df_.index)\n",
    "                            )\n",
    "      )"
   ]
  },
  {
   "cell_type": "code",
   "execution_count": 74,
   "id": "75336e0a-8ec1-42b9-85e3-29a5baa57406",
   "metadata": {},
   "outputs": [
    {
     "name": "stdout",
     "output_type": "stream",
     "text": [
      "2.1 s ± 7.52 ms per loop (mean ± std. dev. of 7 runs, 1 loop each)\n"
     ]
    }
   ],
   "source": [
    "%%timeit\n",
    "(age_100k\n",
    " .str.split('-', expand=True)\n",
    " .astype('int8[pyarrow]')\n",
    " .apply(between, axis='columns')\n",
    ")"
   ]
  },
  {
   "cell_type": "code",
   "execution_count": 84,
   "id": "9c8831d9-c044-4786-a103-bd81771758dd",
   "metadata": {},
   "outputs": [
    {
     "name": "stdout",
     "output_type": "stream",
     "text": [
      "11.5 ms ± 110 μs per loop (mean ± std. dev. of 7 runs, 100 loops each)\n"
     ]
    }
   ],
   "source": [
    "%%timeit\n",
    "(age_100k\n",
    " .str.split('-', expand=True)\n",
    " .rename(columns={0:'lower', 1:'upper'})\n",
    " .astype('int8[pyarrow]')\n",
    " .assign(rand=np.random.rand(len(age_100k)),\n",
    "         age=lambda df_: (df_.lower + (df_.rand * \n",
    "                                       (df_.upper - df_.lower)))\n",
    "         .astype('int8[pyarrow]', errors='ignore')\n",
    "        )\n",
    ")"
   ]
  },
  {
   "cell_type": "code",
   "execution_count": 94,
   "id": "ac1b700a-6a73-47d4-87fc-042fad4e101f",
   "metadata": {},
   "outputs": [
    {
     "data": {
      "text/html": [
       "<div>\n",
       "<style scoped>\n",
       "    .dataframe tbody tr th:only-of-type {\n",
       "        vertical-align: middle;\n",
       "    }\n",
       "\n",
       "    .dataframe tbody tr th {\n",
       "        vertical-align: top;\n",
       "    }\n",
       "\n",
       "    .dataframe thead th {\n",
       "        text-align: right;\n",
       "    }\n",
       "</style>\n",
       "<table border=\"1\" class=\"dataframe\">\n",
       "  <thead>\n",
       "    <tr style=\"text-align: right;\">\n",
       "      <th></th>\n",
       "      <th>lower</th>\n",
       "      <th>upper</th>\n",
       "      <th>rand</th>\n",
       "      <th>age</th>\n",
       "    </tr>\n",
       "  </thead>\n",
       "  <tbody>\n",
       "    <tr>\n",
       "      <th>0</th>\n",
       "      <td>61</td>\n",
       "      <td>65</td>\n",
       "      <td>0.943068</td>\n",
       "      <td>64.772274</td>\n",
       "    </tr>\n",
       "    <tr>\n",
       "      <th>1</th>\n",
       "      <td>46</td>\n",
       "      <td>50</td>\n",
       "      <td>0.879028</td>\n",
       "      <td>49.516113</td>\n",
       "    </tr>\n",
       "    <tr>\n",
       "      <th>2</th>\n",
       "      <td>11</td>\n",
       "      <td>15</td>\n",
       "      <td>0.801416</td>\n",
       "      <td>14.205666</td>\n",
       "    </tr>\n",
       "    <tr>\n",
       "      <th>3</th>\n",
       "      <td>46</td>\n",
       "      <td>50</td>\n",
       "      <td>0.274917</td>\n",
       "      <td>47.099669</td>\n",
       "    </tr>\n",
       "    <tr>\n",
       "      <th>4</th>\n",
       "      <td>46</td>\n",
       "      <td>50</td>\n",
       "      <td>0.694535</td>\n",
       "      <td>48.778139</td>\n",
       "    </tr>\n",
       "    <tr>\n",
       "      <th>...</th>\n",
       "      <td>...</td>\n",
       "      <td>...</td>\n",
       "      <td>...</td>\n",
       "      <td>...</td>\n",
       "    </tr>\n",
       "    <tr>\n",
       "      <th>99995</th>\n",
       "      <td>11</td>\n",
       "      <td>15</td>\n",
       "      <td>0.777213</td>\n",
       "      <td>14.108854</td>\n",
       "    </tr>\n",
       "    <tr>\n",
       "      <th>99996</th>\n",
       "      <td>0</td>\n",
       "      <td>10</td>\n",
       "      <td>0.668945</td>\n",
       "      <td>6.689449</td>\n",
       "    </tr>\n",
       "    <tr>\n",
       "      <th>99997</th>\n",
       "      <td>46</td>\n",
       "      <td>50</td>\n",
       "      <td>0.018032</td>\n",
       "      <td>46.072127</td>\n",
       "    </tr>\n",
       "    <tr>\n",
       "      <th>99998</th>\n",
       "      <td>61</td>\n",
       "      <td>65</td>\n",
       "      <td>0.688045</td>\n",
       "      <td>63.75218</td>\n",
       "    </tr>\n",
       "    <tr>\n",
       "      <th>99999</th>\n",
       "      <td>0</td>\n",
       "      <td>10</td>\n",
       "      <td>0.147464</td>\n",
       "      <td>1.474636</td>\n",
       "    </tr>\n",
       "  </tbody>\n",
       "</table>\n",
       "<p>100000 rows × 4 columns</p>\n",
       "</div>"
      ],
      "text/plain": [
       "       lower  upper      rand        age\n",
       "0         61     65  0.943068  64.772274\n",
       "1         46     50  0.879028  49.516113\n",
       "2         11     15  0.801416  14.205666\n",
       "3         46     50  0.274917  47.099669\n",
       "4         46     50  0.694535  48.778139\n",
       "...      ...    ...       ...        ...\n",
       "99995     11     15  0.777213  14.108854\n",
       "99996      0     10  0.668945   6.689449\n",
       "99997     46     50  0.018032  46.072127\n",
       "99998     61     65  0.688045   63.75218\n",
       "99999      0     10  0.147464   1.474636\n",
       "\n",
       "[100000 rows x 4 columns]"
      ]
     },
     "execution_count": 94,
     "metadata": {},
     "output_type": "execute_result"
    }
   ],
   "source": [
    "(age_100k\n",
    " .str.split('-', expand=True) # splits into columns\n",
    " .rename(columns={0:'lower', 1:'upper'}) # renames the first column as lower, and second as upper\n",
    " .astype('int8[pyarrow]') # set type of intiger\n",
    " .assign(rand=np.random.rand(len(age_100k)), # creates rand column as decimals for 100 rows contained in age_100k \n",
    "         age=lambda df_: (df_.lower + (df_.rand *  ( # the lower age is added to the multiplication of the range differences with the random intiger found in in rand colum\n",
    "                                       (df_.upper - df_.lower))) # finds the difference between lower and upper\n",
    "         .astype('int8[pyarrow]', errors='ignore') # converts to int8 using PyArrow and ignores any values that can't be computed\n",
    "        )\n",
    ")\n",
    ")"
   ]
  },
  {
   "cell_type": "code",
   "execution_count": 100,
   "id": "b6314fa0-dbd1-4cea-9fba-1e48fe380609",
   "metadata": {},
   "outputs": [],
   "source": [
    "%load_ext Cython"
   ]
  },
  {
   "cell_type": "code",
   "execution_count": 102,
   "id": "11c62366-9fc0-42cc-88f3-92e2bf7b90f8",
   "metadata": {},
   "outputs": [
    {
     "name": "stdout",
     "output_type": "stream",
     "text": [
      "Content of stderr:\n",
      "ld: warning: duplicate -rpath '/opt/anaconda3/lib' ignored"
     ]
    }
   ],
   "source": [
    "%%cython\n",
    "import random\n",
    "def between_cy(row):\n",
    "    return random.randint(*row.values)"
   ]
  },
  {
   "cell_type": "code",
   "execution_count": 104,
   "id": "8d8204c9-d897-4d64-a1ab-cca48d34458b",
   "metadata": {},
   "outputs": [
    {
     "name": "stdout",
     "output_type": "stream",
     "text": [
      "Content of stderr:\n",
      "ld: warning: duplicate -rpath '/opt/anaconda3/lib' ignored"
     ]
    }
   ],
   "source": [
    "%%cython\n",
    "import random\n",
    "import numpy as np\n",
    "def between_cy3(x: np.int64, y: np.int64) -> np.int64:\n",
    "    return random.randint(x,y)"
   ]
  },
  {
   "cell_type": "code",
   "execution_count": 139,
   "id": "cb9c46f5-820a-4a4d-b564-25578d671031",
   "metadata": {},
   "outputs": [
    {
     "data": {
      "text/plain": [
       "0     3\n",
       "1    13\n",
       "dtype: int64"
      ]
     },
     "execution_count": 139,
     "metadata": {},
     "output_type": "execute_result"
    }
   ],
   "source": [
    "(age\n",
    " .str.split('-', expand=True)\n",
    " .astype(int)\n",
    " .apply(lambda row: between_cy3(row[0], row[1]), axis=0)\n",
    ")"
   ]
  },
  {
   "cell_type": "code",
   "execution_count": null,
   "id": "8c409f47-08f4-4789-8ad3-3689236929e6",
   "metadata": {},
   "outputs": [],
   "source": []
  },
  {
   "cell_type": "code",
   "execution_count": null,
   "id": "8a02f23d-6923-499f-875e-792de9b286ae",
   "metadata": {},
   "outputs": [],
   "source": []
  }
 ],
 "metadata": {
  "kernelspec": {
   "display_name": "Python 3 (ipykernel)",
   "language": "python",
   "name": "python3"
  },
  "language_info": {
   "codemirror_mode": {
    "name": "ipython",
    "version": 3
   },
   "file_extension": ".py",
   "mimetype": "text/x-python",
   "name": "python",
   "nbconvert_exporter": "python",
   "pygments_lexer": "ipython3",
   "version": "3.12.2"
  }
 },
 "nbformat": 4,
 "nbformat_minor": 5
}
