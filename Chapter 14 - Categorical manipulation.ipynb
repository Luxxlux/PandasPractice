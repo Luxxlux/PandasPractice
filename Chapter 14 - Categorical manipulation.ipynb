{
 "cells": [
  {
   "cell_type": "code",
   "execution_count": null,
   "id": "e1a3b994",
   "metadata": {},
   "outputs": [],
   "source": [
    "import pandas as pd\n",
    "url = 'https://github.com/mattharrison/datasets/raw/master/data/vehicles.csv.zip'\n",
    "df = pd.read_csv(url, engine='pyarrow', dtype_backend='pyarrow')\n"
   ]
  },
  {
   "cell_type": "code",
   "execution_count": 16,
   "id": "4de09cb9",
   "metadata": {},
   "outputs": [],
   "source": [
    "make = df.make\n",
    "city_mpg = df.city08"
   ]
  },
  {
   "cell_type": "code",
   "execution_count": 3,
   "id": "8861b6b8",
   "metadata": {},
   "outputs": [
    {
     "data": {
      "text/plain": [
       "0        Alfa Romeo\n",
       "1           Ferrari\n",
       "2             Dodge\n",
       "3             Dodge\n",
       "4            Subaru\n",
       "            ...    \n",
       "41139        Subaru\n",
       "41140        Subaru\n",
       "41141        Subaru\n",
       "41142        Subaru\n",
       "41143        Subaru\n",
       "Name: make, Length: 41144, dtype: string[pyarrow]"
      ]
     },
     "execution_count": 3,
     "metadata": {},
     "output_type": "execute_result"
    }
   ],
   "source": [
    "make"
   ]
  },
  {
   "cell_type": "code",
   "execution_count": 4,
   "id": "df3450af",
   "metadata": {},
   "outputs": [
    {
     "data": {
      "text/plain": [
       "make\n",
       "Chevrolet                           4003\n",
       "Ford                                3371\n",
       "Dodge                               2583\n",
       "GMC                                 2494\n",
       "Toyota                              2071\n",
       "                                    ... \n",
       "Grumman Allied Industries              1\n",
       "Environmental Rsch and Devp Corp       1\n",
       "General Motors                         1\n",
       "Goldacre                               1\n",
       "Isis Imports Ltd                       1\n",
       "Name: count, Length: 136, dtype: int64[pyarrow]"
      ]
     },
     "execution_count": 4,
     "metadata": {},
     "output_type": "execute_result"
    }
   ],
   "source": [
    "make.value_counts()"
   ]
  },
  {
   "cell_type": "code",
   "execution_count": 5,
   "id": "87647e92",
   "metadata": {},
   "outputs": [
    {
     "data": {
      "text/plain": [
       "((41144,), 136)"
      ]
     },
     "execution_count": 5,
     "metadata": {},
     "output_type": "execute_result"
    }
   ],
   "source": [
    "make.shape, make.nunique() # number of entries,number of unique entries"
   ]
  },
  {
   "cell_type": "code",
   "execution_count": 6,
   "id": "f11b4a34",
   "metadata": {},
   "outputs": [],
   "source": [
    "cat_make = make.astype('category')"
   ]
  },
  {
   "cell_type": "code",
   "execution_count": 7,
   "id": "b8cc6860",
   "metadata": {},
   "outputs": [
    {
     "data": {
      "text/plain": [
       "425767"
      ]
     },
     "execution_count": 7,
     "metadata": {},
     "output_type": "execute_result"
    }
   ],
   "source": [
    "make.memory_usage(deep=True)"
   ]
  },
  {
   "cell_type": "code",
   "execution_count": 8,
   "id": "57658b5f",
   "metadata": {},
   "outputs": [
    {
     "data": {
      "text/plain": [
       "88701"
      ]
     },
     "execution_count": 8,
     "metadata": {},
     "output_type": "execute_result"
    }
   ],
   "source": [
    "cat_make.memory_usage(deep=True)"
   ]
  },
  {
   "cell_type": "code",
   "execution_count": 9,
   "id": "f821e985",
   "metadata": {},
   "outputs": [
    {
     "name": "stdout",
     "output_type": "stream",
     "text": [
      "198 μs ± 11.8 μs per loop (mean ± std. dev. of 7 runs, 1,000 loops each)\n"
     ]
    }
   ],
   "source": [
    "%%timeit\n",
    "cat_make.str.upper()"
   ]
  },
  {
   "cell_type": "code",
   "execution_count": 10,
   "id": "006a5329",
   "metadata": {},
   "outputs": [
    {
     "name": "stdout",
     "output_type": "stream",
     "text": [
      "443 μs ± 8.51 μs per loop (mean ± std. dev. of 7 runs, 1,000 loops each)\n"
     ]
    }
   ],
   "source": [
    "%%timeit\n",
    "make.str.upper()"
   ]
  },
  {
   "cell_type": "code",
   "execution_count": 11,
   "id": "a370341a",
   "metadata": {},
   "outputs": [],
   "source": [
    "old_make = make.astype(str)"
   ]
  },
  {
   "cell_type": "code",
   "execution_count": 12,
   "id": "5d244c58",
   "metadata": {},
   "outputs": [
    {
     "name": "stdout",
     "output_type": "stream",
     "text": [
      "1.87 ms ± 48.6 μs per loop (mean ± std. dev. of 7 runs, 1,000 loops each)\n"
     ]
    }
   ],
   "source": [
    "%%timeit\n",
    "old_make.str.upper()"
   ]
  },
  {
   "cell_type": "code",
   "execution_count": 44,
   "id": "8fe4c367",
   "metadata": {},
   "outputs": [
    {
     "data": {
      "text/plain": [
       "city08\n",
       "Very Low     30872\n",
       "Low           9667\n",
       "Lower-Mid      367\n",
       "Mid             54\n",
       "Upper-Mid       11\n",
       "High            48\n",
       "Higher          32\n",
       "Very High       26\n",
       "Extreme         55\n",
       "Ultra           12\n",
       "Name: count, dtype: int64"
      ]
     },
     "execution_count": 44,
     "metadata": {},
     "output_type": "execute_result"
    }
   ],
   "source": [
    "labels = [\"Very Low\", \"Low\", \"Lower-Mid\", \"Mid\", \"Upper-Mid\", \"High\", \"Higher\", \"Very High\", \"Extreme\", \"Ultra\"]\n",
    "pd.cut(city_mpg, 10, labels=labels).value_counts(sort=False)"
   ]
  },
  {
   "cell_type": "code",
   "execution_count": 58,
   "id": "147202d2",
   "metadata": {},
   "outputs": [],
   "source": [
    "make_type = pd.CategoricalDtype( # makes the categories\n",
    "    categories=sorted(make.unique()), ordered=True # sorts them, by unique\n",
    ")"
   ]
  },
  {
   "cell_type": "code",
   "execution_count": 46,
   "id": "9cf24460",
   "metadata": {},
   "outputs": [
    {
     "data": {
      "text/plain": [
       "0        Alfa Romeo\n",
       "1           Ferrari\n",
       "2             Dodge\n",
       "3             Dodge\n",
       "4            Subaru\n",
       "            ...    \n",
       "41139        Subaru\n",
       "41140        Subaru\n",
       "41141        Subaru\n",
       "41142        Subaru\n",
       "41143        Subaru\n",
       "Name: make, Length: 41144, dtype: category\n",
       "Categories (136, object): ['AM General' < 'ASC Incorporated' < 'Acura' < 'Alfa Romeo' ... 'Volvo' < 'Wallace Environmental' < 'Yugo' < 'smart']"
      ]
     },
     "execution_count": 46,
     "metadata": {},
     "output_type": "execute_result"
    }
   ],
   "source": [
    "ordered_make = make.astype(make_type)\n",
    "ordered_make"
   ]
  },
  {
   "cell_type": "code",
   "execution_count": 56,
   "id": "9260ae1c",
   "metadata": {},
   "outputs": [
    {
     "data": {
      "text/plain": [
       "358      AM General\n",
       "369      AM General\n",
       "19314    AM General\n",
       "19316    AM General\n",
       "20288    AM General\n",
       "            ...    \n",
       "32557         smart\n",
       "32757         smart\n",
       "32758         smart\n",
       "34309         smart\n",
       "34310         smart\n",
       "Name: make, Length: 41144, dtype: string[pyarrow]"
      ]
     },
     "execution_count": 56,
     "metadata": {},
     "output_type": "execute_result"
    }
   ],
   "source": [
    "make.sort_values()"
   ]
  },
  {
   "cell_type": "code",
   "execution_count": 61,
   "id": "2ee7b7a5",
   "metadata": {},
   "outputs": [
    {
     "data": {
      "text/plain": [
       "0        Alfa Romeo\n",
       "1           Ferrari\n",
       "2             Dodge\n",
       "3             Dodge\n",
       "4            Subaru\n",
       "            ...    \n",
       "41139        Subaru\n",
       "41140        Subaru\n",
       "41141        Subaru\n",
       "41142        Subaru\n",
       "41143        Subaru\n",
       "Name: make, Length: 41144, dtype: category\n",
       "Categories (136, string[pyarrow]): [AM General < ASC Incorporated < Acura < Alfa Romeo ... Volvo < Wallace Environmental < Yugo < smart]"
      ]
     },
     "execution_count": 61,
     "metadata": {},
     "output_type": "execute_result"
    }
   ],
   "source": [
    "(make\n",
    " .astype('category')\n",
    " .cat.as_ordered()\n",
    " )"
   ]
  },
  {
   "cell_type": "code",
   "execution_count": 63,
   "id": "19be7177",
   "metadata": {},
   "outputs": [
    {
     "data": {
      "text/plain": [
       "'smart'"
      ]
     },
     "execution_count": 63,
     "metadata": {},
     "output_type": "execute_result"
    }
   ],
   "source": [
    "ordered_make.max()"
   ]
  },
  {
   "cell_type": "code",
   "execution_count": 65,
   "id": "f092c6e1",
   "metadata": {},
   "outputs": [],
   "source": [
    "# cat_make.max()\n",
    "# results in error, as is not ordered"
   ]
  },
  {
   "cell_type": "code",
   "execution_count": 66,
   "id": "dece0cfd",
   "metadata": {},
   "outputs": [
    {
     "data": {
      "text/plain": [
       "20288    AM General\n",
       "20289    AM General\n",
       "369      AM General\n",
       "358      AM General\n",
       "19314    AM General\n",
       "            ...    \n",
       "31289         smart\n",
       "31290         smart\n",
       "29605         smart\n",
       "22974         smart\n",
       "26882         smart\n",
       "Name: make, Length: 41144, dtype: category\n",
       "Categories (136, object): ['AM General' < 'ASC Incorporated' < 'Acura' < 'Alfa Romeo' ... 'Volvo' < 'Wallace Environmental' < 'Yugo' < 'smart']"
      ]
     },
     "execution_count": 66,
     "metadata": {},
     "output_type": "execute_result"
    }
   ],
   "source": [
    "ordered_make.sort_values()"
   ]
  },
  {
   "cell_type": "code",
   "execution_count": 71,
   "id": "efe7fde7",
   "metadata": {},
   "outputs": [
    {
     "name": "stdout",
     "output_type": "stream",
     "text": [
      "78.3 μs ± 1.77 μs per loop (mean ± std. dev. of 7 runs, 10,000 loops each)\n"
     ]
    }
   ],
   "source": [
    "%%timeit\n",
    "cat_make.cat.rename_categories(\n",
    "    [c.lower() for c in cat_make.cat.categories]\n",
    ")"
   ]
  },
  {
   "cell_type": "code",
   "execution_count": 72,
   "id": "b2743cb8",
   "metadata": {},
   "outputs": [
    {
     "name": "stdout",
     "output_type": "stream",
     "text": [
      "41.7 μs ± 1.2 μs per loop (mean ± std. dev. of 7 runs, 10,000 loops each)\n"
     ]
    }
   ],
   "source": [
    "%%timeit\n",
    "ordered_make.cat.rename_categories(\n",
    "    {c: c.lower() for c in ordered_make.cat.categories}\n",
    ")"
   ]
  },
  {
   "cell_type": "code",
   "execution_count": 73,
   "id": "0a8cb5ad",
   "metadata": {},
   "outputs": [
    {
     "name": "stdout",
     "output_type": "stream",
     "text": [
      "36.2 μs ± 454 ns per loop (mean ± std. dev. of 7 runs, 10,000 loops each)\n"
     ]
    }
   ],
   "source": [
    "%%timeit\n",
    "ordered_make.cat.rename_categories(\n",
    "    lambda c: c.lower()\n",
    ")"
   ]
  },
  {
   "cell_type": "code",
   "execution_count": 74,
   "id": "cc369323",
   "metadata": {},
   "outputs": [
    {
     "data": {
      "text/plain": [
       "0        Alfa Romeo\n",
       "1           Ferrari\n",
       "2             Dodge\n",
       "3             Dodge\n",
       "4            Subaru\n",
       "            ...    \n",
       "41139        Subaru\n",
       "41140        Subaru\n",
       "41141        Subaru\n",
       "41142        Subaru\n",
       "41143        Subaru\n",
       "Name: make, Length: 41144, dtype: category\n",
       "Categories (136, object): ['Acura' < 'Alfa Romeo' < 'AM General' < 'American Motors Corporation' ... 'Volvo' < 'VPG' < 'Wallace Environmental' < 'Yugo']"
      ]
     },
     "execution_count": 74,
     "metadata": {},
     "output_type": "execute_result"
    }
   ],
   "source": [
    "ordered_make.cat.reorder_categories(\n",
    "    sorted(cat_make.cat.categories, key=str.lower)\n",
    ")"
   ]
  },
  {
   "cell_type": "code",
   "execution_count": 75,
   "id": "bf112d85",
   "metadata": {},
   "outputs": [
    {
     "data": {
      "text/plain": [
       "make\n",
       "Dodge                        17\n",
       "Oldsmobile                    8\n",
       "Ford                          8\n",
       "Buick                         7\n",
       "Chevrolet                     5\n",
       "                             ..\n",
       "Grumman Allied Industries     0\n",
       "Goldacre                      0\n",
       "Geo                           0\n",
       "Genesis                       0\n",
       "smart                         0\n",
       "Name: count, Length: 136, dtype: int64"
      ]
     },
     "execution_count": 75,
     "metadata": {},
     "output_type": "execute_result"
    }
   ],
   "source": [
    "ordered_make.head(100).value_counts()"
   ]
  },
  {
   "cell_type": "code",
   "execution_count": 79,
   "id": "e0a9d81b",
   "metadata": {},
   "outputs": [
    {
     "data": {
      "text/plain": [
       "make\n",
       "AM General                           <NA>\n",
       "ASC Incorporated                     <NA>\n",
       "Acura                                <NA>\n",
       "Alfa Romeo                     Alfa Romeo\n",
       "American Motors Corporation          <NA>\n",
       "                                  ...    \n",
       "Volkswagen                     Volkswagen\n",
       "Volvo                               Volvo\n",
       "Wallace Environmental                <NA>\n",
       "Yugo                                 <NA>\n",
       "smart                                <NA>\n",
       "Name: make, Length: 136, dtype: category\n",
       "Categories (136, string[pyarrow]): [AM General, ASC Incorporated, Acura, Alfa Romeo, ..., Volvo, Wallace Environmental, Yugo, smart]"
      ]
     },
     "execution_count": 79,
     "metadata": {},
     "output_type": "execute_result"
    }
   ],
   "source": [
    "(cat_make\n",
    " .head(100)\n",
    " .groupby(cat_make.head(100),observed=False)\n",
    " .first())"
   ]
  },
  {
   "cell_type": "code",
   "execution_count": 80,
   "id": "b7ad2e74",
   "metadata": {},
   "outputs": [
    {
     "data": {
      "text/plain": [
       "make\n",
       "Alfa Romeo          Alfa Romeo\n",
       "Audi                      Audi\n",
       "BMW                        BMW\n",
       "Buick                    Buick\n",
       "CX Automotive    CX Automotive\n",
       "Cadillac              Cadillac\n",
       "Chevrolet            Chevrolet\n",
       "Chrysler              Chrysler\n",
       "Dodge                    Dodge\n",
       "Ferrari                Ferrari\n",
       "Ford                      Ford\n",
       "Hyundai                Hyundai\n",
       "Infiniti              Infiniti\n",
       "Lexus                    Lexus\n",
       "Mazda                    Mazda\n",
       "Mercury                Mercury\n",
       "Nissan                  Nissan\n",
       "Oldsmobile          Oldsmobile\n",
       "Plymouth              Plymouth\n",
       "Pontiac                Pontiac\n",
       "Rolls-Royce        Rolls-Royce\n",
       "Subaru                  Subaru\n",
       "Toyota                  Toyota\n",
       "Volkswagen          Volkswagen\n",
       "Volvo                    Volvo\n",
       "Name: make, dtype: string[pyarrow]"
      ]
     },
     "execution_count": 80,
     "metadata": {},
     "output_type": "execute_result"
    }
   ],
   "source": [
    "(make\n",
    " .head(100)\n",
    " .groupby(make.head(100))\n",
    " .first())"
   ]
  },
  {
   "cell_type": "code",
   "execution_count": 81,
   "id": "dacca873",
   "metadata": {},
   "outputs": [
    {
     "data": {
      "text/plain": [
       "'Alfa Romeo'"
      ]
     },
     "execution_count": 81,
     "metadata": {},
     "output_type": "execute_result"
    }
   ],
   "source": [
    "ordered_make.iloc[0]"
   ]
  },
  {
   "cell_type": "code",
   "execution_count": 82,
   "id": "61d9c768",
   "metadata": {},
   "outputs": [
    {
     "data": {
      "text/plain": [
       "0    Alfa Romeo\n",
       "Name: make, dtype: category\n",
       "Categories (136, object): ['AM General' < 'ASC Incorporated' < 'Acura' < 'Alfa Romeo' ... 'Volvo' < 'Wallace Environmental' < 'Yugo' < 'smart']"
      ]
     },
     "execution_count": 82,
     "metadata": {},
     "output_type": "execute_result"
    }
   ],
   "source": [
    "ordered_make.iloc[[0]]"
   ]
  },
  {
   "cell_type": "code",
   "execution_count": 91,
   "id": "c062b989",
   "metadata": {},
   "outputs": [
    {
     "data": {
      "text/plain": [
       "BMW          BMW\n",
       "Ford        Ford\n",
       "Toyota    Toyota\n",
       "dtype: object"
      ]
     },
     "execution_count": 91,
     "metadata": {},
     "output_type": "execute_result"
    }
   ],
   "source": [
    "s = pd.Series([\"BMW\", \"Ford\", \"BMW\", \"Toyota\"], index=[2000, 2001, 2002, 2003])\n",
    "\n",
    "(s.groupby(s, observed=True)\n",
    ".first()\n",
    " )"
   ]
  },
  {
   "cell_type": "code",
   "execution_count": 99,
   "id": "b37faa5d",
   "metadata": {},
   "outputs": [],
   "source": [
    "def generalise_topn(ser, n=5, other='Other'): # three parameters\n",
    "    topn = ser.value_counts().index[:n] # the top n index values sorted by value_counts()\n",
    "    if isinstance(ser.dtype, pd.CategoricalDtype): # checks whether ser.dtype is a CategoricalDtype\n",
    "        ser = ser.cat.set_categories( # reset the categories to be:\n",
    "            topn.set_categories(list(topn)+[other]) # in a list of the topn with the specified 'other'\n",
    "        )\n",
    "    return ser.where(ser.isin(topn), other) # where in topn, return as is, otherwise, return specified 'other'"
   ]
  },
  {
   "cell_type": "code",
   "execution_count": 93,
   "id": "8a3e720a",
   "metadata": {},
   "outputs": [
    {
     "data": {
      "text/plain": [
       "Index(['Chevrolet', 'Ford', 'Dodge', 'GMC', 'Toyota'], dtype='string[pyarrow]', name='make')"
      ]
     },
     "execution_count": 93,
     "metadata": {},
     "output_type": "execute_result"
    }
   ],
   "source": [
    "make.value_counts().index[:5]"
   ]
  },
  {
   "cell_type": "code",
   "execution_count": 95,
   "id": "10d012d9",
   "metadata": {},
   "outputs": [
    {
     "data": {
      "text/plain": [
       "Index(['Chevrolet', 'Ford', 'Dodge', 'GMC', 'Toyota', 'BMW', 'Mercedes-Benz',\n",
       "       'Nissan', 'Volkswagen', 'Mitsubishi',\n",
       "       ...\n",
       "       'Karma', 'Koenigsegg', 'Aurora Cars Ltd', 'RUF Automobile',\n",
       "       'JBA Motorcars, Inc.', 'Grumman Allied Industries',\n",
       "       'Environmental Rsch and Devp Corp', 'General Motors', 'Goldacre',\n",
       "       'Isis Imports Ltd'],\n",
       "      dtype='string[pyarrow]', name='make', length=136)"
      ]
     },
     "execution_count": 95,
     "metadata": {},
     "output_type": "execute_result"
    }
   ],
   "source": [
    "make.value_counts().index"
   ]
  },
  {
   "cell_type": "code",
   "execution_count": 114,
   "id": "06823b22",
   "metadata": {},
   "outputs": [
    {
     "data": {
      "text/plain": [
       "0            NA\n",
       "1            NA\n",
       "2         Dodge\n",
       "3         Dodge\n",
       "4        Subaru\n",
       "          ...  \n",
       "41139    Subaru\n",
       "41140    Subaru\n",
       "41141    Subaru\n",
       "41142    Subaru\n",
       "41143    Subaru\n",
       "Name: make, Length: 41144, dtype: category\n",
       "Categories (21, object): ['Chevrolet', 'Ford', 'Dodge', 'GMC', ..., 'Volvo', 'Hyundai', 'Chrysler', 'NA']"
      ]
     },
     "execution_count": 114,
     "metadata": {},
     "output_type": "execute_result"
    }
   ],
   "source": [
    "cat_make.pipe(generalise_topn, n=20, other='NA')"
   ]
  },
  {
   "cell_type": "code",
   "execution_count": 128,
   "id": "ff6e88ac",
   "metadata": {},
   "outputs": [],
   "source": [
    "def generalise_topn(ser, n=5, other='Other'):\n",
    "    topn = ser.value_counts().index[:n]\n",
    "    if isinstance(ser.dtype, pd.CategoricalDtype):\n",
    "        ser = ser.cat.set_categories(\n",
    "            topn.set_categories(list(topn) + [other])\n",
    "        )\n",
    "    return ser.where(ser.isin(topn), other)"
   ]
  },
  {
   "cell_type": "code",
   "execution_count": 129,
   "id": "0898c5bc",
   "metadata": {},
   "outputs": [
    {
     "data": {
      "text/plain": [
       "0           NA\n",
       "1           NA\n",
       "2        Dodge\n",
       "3        Dodge\n",
       "4           NA\n",
       "         ...  \n",
       "41139       NA\n",
       "41140       NA\n",
       "41141       NA\n",
       "41142       NA\n",
       "41143       NA\n",
       "Name: make, Length: 41144, dtype: category\n",
       "Categories (6, object): ['Chevrolet', 'Ford', 'Dodge', 'GMC', 'Toyota', 'NA']"
      ]
     },
     "execution_count": 129,
     "metadata": {},
     "output_type": "execute_result"
    }
   ],
   "source": [
    "cat_make.pipe(generalise_topn, n=5, other='NA')"
   ]
  },
  {
   "cell_type": "code",
   "execution_count": 130,
   "id": "68e82c06",
   "metadata": {},
   "outputs": [],
   "source": [
    "def generalise_mapping(ser, mapping, default):\n",
    "    seen = None\n",
    "    res = ser.astype(str)\n",
    "    for old, new in mapping.items():\n",
    "        mask = ser.str.contains(old)\n",
    "        if seen is None:\n",
    "            seen = mask\n",
    "        else:\n",
    "            seen |= mask\n",
    "        res = res.where(~mask, new)\n",
    "    res = res.where(seen, default)\n",
    "    return res.astype('category')"
   ]
  },
  {
   "cell_type": "code",
   "execution_count": 131,
   "id": "1d0b8b14",
   "metadata": {},
   "outputs": [
    {
     "data": {
      "text/plain": [
       "0        Other\n",
       "1        Other\n",
       "2           US\n",
       "3           US\n",
       "4        Other\n",
       "         ...  \n",
       "41139    Other\n",
       "41140    Other\n",
       "41141    Other\n",
       "41142    Other\n",
       "41143    Other\n",
       "Name: make, Length: 41144, dtype: category\n",
       "Categories (3, object): ['German', 'Other', 'US']"
      ]
     },
     "execution_count": 131,
     "metadata": {},
     "output_type": "execute_result"
    }
   ],
   "source": [
    "generalise_mapping(cat_make, {'Ford': 'US', 'Tesla': 'US',\n",
    "                              'Chevrolet': 'US', 'Dodge': 'US',\n",
    "                              'Oldsmobile': 'US', 'Plymouth': 'US',\n",
    "                              'BMW': 'German'}, 'Other')"
   ]
  },
  {
   "cell_type": "code",
   "execution_count": null,
   "id": "b04a7279",
   "metadata": {},
   "outputs": [],
   "source": []
  }
 ],
 "metadata": {
  "kernelspec": {
   "display_name": "base",
   "language": "python",
   "name": "python3"
  },
  "language_info": {
   "codemirror_mode": {
    "name": "ipython",
    "version": 3
   },
   "file_extension": ".py",
   "mimetype": "text/x-python",
   "name": "python",
   "nbconvert_exporter": "python",
   "pygments_lexer": "ipython3",
   "version": "3.13.5"
  }
 },
 "nbformat": 4,
 "nbformat_minor": 5
}
