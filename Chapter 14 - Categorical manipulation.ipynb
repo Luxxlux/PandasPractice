{
 "cells": [
  {
   "cell_type": "code",
   "execution_count": 14,
   "id": "e1a3b994",
   "metadata": {},
   "outputs": [],
   "source": [
    "import pandas as pd\n",
    "url = 'https://github.com/mattharrison/datasets/raw/master/data/vehicles.csv.zip'\n",
    "df = pd.read_csv(url, engine='pyarrow', dtype_backend='pyarrow')\n"
   ]
  },
  {
   "cell_type": "code",
   "execution_count": 15,
   "id": "4de09cb9",
   "metadata": {},
   "outputs": [],
   "source": [
    "make = df.make\n",
    "city_mpg = df.city08"
   ]
  },
  {
   "cell_type": "code",
   "execution_count": 16,
   "id": "8861b6b8",
   "metadata": {},
   "outputs": [
    {
     "data": {
      "text/plain": [
       "0        Alfa Romeo\n",
       "1           Ferrari\n",
       "2             Dodge\n",
       "3             Dodge\n",
       "4            Subaru\n",
       "            ...    \n",
       "41139        Subaru\n",
       "41140        Subaru\n",
       "41141        Subaru\n",
       "41142        Subaru\n",
       "41143        Subaru\n",
       "Name: make, Length: 41144, dtype: string[pyarrow]"
      ]
     },
     "execution_count": 16,
     "metadata": {},
     "output_type": "execute_result"
    }
   ],
   "source": [
    "make"
   ]
  },
  {
   "cell_type": "code",
   "execution_count": 17,
   "id": "df3450af",
   "metadata": {},
   "outputs": [
    {
     "data": {
      "text/plain": [
       "make\n",
       "Chevrolet                           4003\n",
       "Ford                                3371\n",
       "Dodge                               2583\n",
       "GMC                                 2494\n",
       "Toyota                              2071\n",
       "                                    ... \n",
       "Grumman Allied Industries              1\n",
       "Environmental Rsch and Devp Corp       1\n",
       "General Motors                         1\n",
       "Goldacre                               1\n",
       "Isis Imports Ltd                       1\n",
       "Name: count, Length: 136, dtype: int64[pyarrow]"
      ]
     },
     "execution_count": 17,
     "metadata": {},
     "output_type": "execute_result"
    }
   ],
   "source": [
    "make.value_counts()"
   ]
  },
  {
   "cell_type": "code",
   "execution_count": 18,
   "id": "87647e92",
   "metadata": {},
   "outputs": [
    {
     "data": {
      "text/plain": [
       "((41144,), 136)"
      ]
     },
     "execution_count": 18,
     "metadata": {},
     "output_type": "execute_result"
    }
   ],
   "source": [
    "make.shape, make.nunique() # number of entries,number of unique entries"
   ]
  },
  {
   "cell_type": "code",
   "execution_count": 19,
   "id": "f11b4a34",
   "metadata": {},
   "outputs": [],
   "source": [
    "cat_make = make.astype('category')"
   ]
  },
  {
   "cell_type": "code",
   "execution_count": 20,
   "id": "b8cc6860",
   "metadata": {},
   "outputs": [
    {
     "data": {
      "text/plain": [
       "425767"
      ]
     },
     "execution_count": 20,
     "metadata": {},
     "output_type": "execute_result"
    }
   ],
   "source": [
    "make.memory_usage(deep=True)"
   ]
  },
  {
   "cell_type": "code",
   "execution_count": 21,
   "id": "57658b5f",
   "metadata": {},
   "outputs": [
    {
     "data": {
      "text/plain": [
       "88701"
      ]
     },
     "execution_count": 21,
     "metadata": {},
     "output_type": "execute_result"
    }
   ],
   "source": [
    "cat_make.memory_usage(deep=True)"
   ]
  },
  {
   "cell_type": "code",
   "execution_count": 22,
   "id": "f821e985",
   "metadata": {},
   "outputs": [
    {
     "name": "stdout",
     "output_type": "stream",
     "text": [
      "334 μs ± 6.73 μs per loop (mean ± std. dev. of 7 runs, 1,000 loops each)\n"
     ]
    }
   ],
   "source": [
    "%%timeit\n",
    "cat_make.str.upper()"
   ]
  },
  {
   "cell_type": "code",
   "execution_count": 23,
   "id": "006a5329",
   "metadata": {},
   "outputs": [
    {
     "name": "stdout",
     "output_type": "stream",
     "text": [
      "671 μs ± 87.6 μs per loop (mean ± std. dev. of 7 runs, 1,000 loops each)\n"
     ]
    }
   ],
   "source": [
    "%%timeit\n",
    "make.str.upper()"
   ]
  },
  {
   "cell_type": "code",
   "execution_count": 24,
   "id": "a370341a",
   "metadata": {},
   "outputs": [],
   "source": [
    "old_make = make.astype(str)"
   ]
  },
  {
   "cell_type": "code",
   "execution_count": 25,
   "id": "5d244c58",
   "metadata": {},
   "outputs": [
    {
     "name": "stdout",
     "output_type": "stream",
     "text": [
      "3.79 ms ± 678 μs per loop (mean ± std. dev. of 7 runs, 100 loops each)\n"
     ]
    }
   ],
   "source": [
    "%%timeit\n",
    "old_make.str.upper()"
   ]
  },
  {
   "cell_type": "code",
   "execution_count": 26,
   "id": "8fe4c367",
   "metadata": {},
   "outputs": [
    {
     "data": {
      "text/plain": [
       "city08\n",
       "Very Low     30872\n",
       "Low           9667\n",
       "Lower-Mid      367\n",
       "Mid             54\n",
       "Upper-Mid       11\n",
       "High            48\n",
       "Higher          32\n",
       "Very High       26\n",
       "Extreme         55\n",
       "Ultra           12\n",
       "Name: count, dtype: int64"
      ]
     },
     "execution_count": 26,
     "metadata": {},
     "output_type": "execute_result"
    }
   ],
   "source": [
    "labels = [\"Very Low\", \"Low\", \"Lower-Mid\", \"Mid\", \"Upper-Mid\", \"High\", \"Higher\", \"Very High\", \"Extreme\", \"Ultra\"]\n",
    "pd.cut(city_mpg, 10, labels=labels).value_counts(sort=False)"
   ]
  },
  {
   "cell_type": "code",
   "execution_count": 27,
   "id": "147202d2",
   "metadata": {},
   "outputs": [],
   "source": [
    "make_type = pd.CategoricalDtype( # makes the categories\n",
    "    categories=sorted(make.unique()), ordered=True # sorts them, by unique\n",
    ")"
   ]
  },
  {
   "cell_type": "code",
   "execution_count": 28,
   "id": "9cf24460",
   "metadata": {},
   "outputs": [
    {
     "data": {
      "text/plain": [
       "0        Alfa Romeo\n",
       "1           Ferrari\n",
       "2             Dodge\n",
       "3             Dodge\n",
       "4            Subaru\n",
       "            ...    \n",
       "41139        Subaru\n",
       "41140        Subaru\n",
       "41141        Subaru\n",
       "41142        Subaru\n",
       "41143        Subaru\n",
       "Name: make, Length: 41144, dtype: category\n",
       "Categories (136, object): ['AM General' < 'ASC Incorporated' < 'Acura' < 'Alfa Romeo' ... 'Volvo' < 'Wallace Environmental' < 'Yugo' < 'smart']"
      ]
     },
     "execution_count": 28,
     "metadata": {},
     "output_type": "execute_result"
    }
   ],
   "source": [
    "ordered_make = make.astype(make_type)\n",
    "ordered_make"
   ]
  },
  {
   "cell_type": "code",
   "execution_count": 29,
   "id": "9260ae1c",
   "metadata": {},
   "outputs": [
    {
     "data": {
      "text/plain": [
       "358      AM General\n",
       "369      AM General\n",
       "19314    AM General\n",
       "19316    AM General\n",
       "20288    AM General\n",
       "            ...    \n",
       "32557         smart\n",
       "32757         smart\n",
       "32758         smart\n",
       "34309         smart\n",
       "34310         smart\n",
       "Name: make, Length: 41144, dtype: string[pyarrow]"
      ]
     },
     "execution_count": 29,
     "metadata": {},
     "output_type": "execute_result"
    }
   ],
   "source": [
    "make.sort_values()"
   ]
  },
  {
   "cell_type": "code",
   "execution_count": 30,
   "id": "2ee7b7a5",
   "metadata": {},
   "outputs": [
    {
     "data": {
      "text/plain": [
       "0        Alfa Romeo\n",
       "1           Ferrari\n",
       "2             Dodge\n",
       "3             Dodge\n",
       "4            Subaru\n",
       "            ...    \n",
       "41139        Subaru\n",
       "41140        Subaru\n",
       "41141        Subaru\n",
       "41142        Subaru\n",
       "41143        Subaru\n",
       "Name: make, Length: 41144, dtype: category\n",
       "Categories (136, string[pyarrow]): [AM General < ASC Incorporated < Acura < Alfa Romeo ... Volvo < Wallace Environmental < Yugo < smart]"
      ]
     },
     "execution_count": 30,
     "metadata": {},
     "output_type": "execute_result"
    }
   ],
   "source": [
    "(make\n",
    " .astype('category')\n",
    " .cat.as_ordered()\n",
    " )"
   ]
  },
  {
   "cell_type": "code",
   "execution_count": 31,
   "id": "19be7177",
   "metadata": {},
   "outputs": [
    {
     "data": {
      "text/plain": [
       "'smart'"
      ]
     },
     "execution_count": 31,
     "metadata": {},
     "output_type": "execute_result"
    }
   ],
   "source": [
    "ordered_make.max()"
   ]
  },
  {
   "cell_type": "code",
   "execution_count": 32,
   "id": "f092c6e1",
   "metadata": {},
   "outputs": [],
   "source": [
    "# cat_make.max()\n",
    "# results in error, as is not ordered"
   ]
  },
  {
   "cell_type": "code",
   "execution_count": 33,
   "id": "dece0cfd",
   "metadata": {},
   "outputs": [
    {
     "data": {
      "text/plain": [
       "20288    AM General\n",
       "20289    AM General\n",
       "369      AM General\n",
       "358      AM General\n",
       "19314    AM General\n",
       "            ...    \n",
       "31289         smart\n",
       "31290         smart\n",
       "29605         smart\n",
       "22974         smart\n",
       "26882         smart\n",
       "Name: make, Length: 41144, dtype: category\n",
       "Categories (136, object): ['AM General' < 'ASC Incorporated' < 'Acura' < 'Alfa Romeo' ... 'Volvo' < 'Wallace Environmental' < 'Yugo' < 'smart']"
      ]
     },
     "execution_count": 33,
     "metadata": {},
     "output_type": "execute_result"
    }
   ],
   "source": [
    "ordered_make.sort_values()"
   ]
  },
  {
   "cell_type": "code",
   "execution_count": 34,
   "id": "efe7fde7",
   "metadata": {},
   "outputs": [
    {
     "name": "stdout",
     "output_type": "stream",
     "text": [
      "114 μs ± 4.14 μs per loop (mean ± std. dev. of 7 runs, 10,000 loops each)\n"
     ]
    }
   ],
   "source": [
    "%%timeit\n",
    "cat_make.cat.rename_categories(\n",
    "    [c.lower() for c in cat_make.cat.categories]\n",
    ")"
   ]
  },
  {
   "cell_type": "code",
   "execution_count": 35,
   "id": "b2743cb8",
   "metadata": {},
   "outputs": [
    {
     "name": "stdout",
     "output_type": "stream",
     "text": [
      "67.7 μs ± 2.11 μs per loop (mean ± std. dev. of 7 runs, 10,000 loops each)\n"
     ]
    }
   ],
   "source": [
    "%%timeit\n",
    "ordered_make.cat.rename_categories(\n",
    "    {c: c.lower() for c in ordered_make.cat.categories}\n",
    ")"
   ]
  },
  {
   "cell_type": "code",
   "execution_count": 36,
   "id": "0a8cb5ad",
   "metadata": {},
   "outputs": [
    {
     "name": "stdout",
     "output_type": "stream",
     "text": [
      "55.6 μs ± 156 ns per loop (mean ± std. dev. of 7 runs, 10,000 loops each)\n"
     ]
    }
   ],
   "source": [
    "%%timeit\n",
    "ordered_make.cat.rename_categories(\n",
    "    lambda c: c.lower()\n",
    ")"
   ]
  },
  {
   "cell_type": "code",
   "execution_count": 37,
   "id": "cc369323",
   "metadata": {},
   "outputs": [
    {
     "data": {
      "text/plain": [
       "0        Alfa Romeo\n",
       "1           Ferrari\n",
       "2             Dodge\n",
       "3             Dodge\n",
       "4            Subaru\n",
       "            ...    \n",
       "41139        Subaru\n",
       "41140        Subaru\n",
       "41141        Subaru\n",
       "41142        Subaru\n",
       "41143        Subaru\n",
       "Name: make, Length: 41144, dtype: category\n",
       "Categories (136, object): ['Acura' < 'Alfa Romeo' < 'AM General' < 'American Motors Corporation' ... 'Volvo' < 'VPG' < 'Wallace Environmental' < 'Yugo']"
      ]
     },
     "execution_count": 37,
     "metadata": {},
     "output_type": "execute_result"
    }
   ],
   "source": [
    "ordered_make.cat.reorder_categories(\n",
    "    sorted(cat_make.cat.categories, key=str.lower)\n",
    ")"
   ]
  },
  {
   "cell_type": "code",
   "execution_count": 38,
   "id": "bf112d85",
   "metadata": {},
   "outputs": [
    {
     "data": {
      "text/plain": [
       "make\n",
       "Dodge                        17\n",
       "Oldsmobile                    8\n",
       "Ford                          8\n",
       "Buick                         7\n",
       "Chevrolet                     5\n",
       "                             ..\n",
       "Grumman Allied Industries     0\n",
       "Goldacre                      0\n",
       "Geo                           0\n",
       "Genesis                       0\n",
       "smart                         0\n",
       "Name: count, Length: 136, dtype: int64"
      ]
     },
     "execution_count": 38,
     "metadata": {},
     "output_type": "execute_result"
    }
   ],
   "source": [
    "ordered_make.head(100).value_counts()"
   ]
  },
  {
   "cell_type": "code",
   "execution_count": 39,
   "id": "e0a9d81b",
   "metadata": {},
   "outputs": [
    {
     "data": {
      "text/plain": [
       "make\n",
       "AM General                           <NA>\n",
       "ASC Incorporated                     <NA>\n",
       "Acura                                <NA>\n",
       "Alfa Romeo                     Alfa Romeo\n",
       "American Motors Corporation          <NA>\n",
       "                                  ...    \n",
       "Volkswagen                     Volkswagen\n",
       "Volvo                               Volvo\n",
       "Wallace Environmental                <NA>\n",
       "Yugo                                 <NA>\n",
       "smart                                <NA>\n",
       "Name: make, Length: 136, dtype: category\n",
       "Categories (136, string[pyarrow]): [AM General, ASC Incorporated, Acura, Alfa Romeo, ..., Volvo, Wallace Environmental, Yugo, smart]"
      ]
     },
     "execution_count": 39,
     "metadata": {},
     "output_type": "execute_result"
    }
   ],
   "source": [
    "(cat_make\n",
    " .head(100)\n",
    " .groupby(cat_make.head(100),observed=False)\n",
    " .first())"
   ]
  },
  {
   "cell_type": "code",
   "execution_count": 40,
   "id": "b7ad2e74",
   "metadata": {},
   "outputs": [
    {
     "data": {
      "text/plain": [
       "make\n",
       "Alfa Romeo          Alfa Romeo\n",
       "Audi                      Audi\n",
       "BMW                        BMW\n",
       "Buick                    Buick\n",
       "CX Automotive    CX Automotive\n",
       "Cadillac              Cadillac\n",
       "Chevrolet            Chevrolet\n",
       "Chrysler              Chrysler\n",
       "Dodge                    Dodge\n",
       "Ferrari                Ferrari\n",
       "Ford                      Ford\n",
       "Hyundai                Hyundai\n",
       "Infiniti              Infiniti\n",
       "Lexus                    Lexus\n",
       "Mazda                    Mazda\n",
       "Mercury                Mercury\n",
       "Nissan                  Nissan\n",
       "Oldsmobile          Oldsmobile\n",
       "Plymouth              Plymouth\n",
       "Pontiac                Pontiac\n",
       "Rolls-Royce        Rolls-Royce\n",
       "Subaru                  Subaru\n",
       "Toyota                  Toyota\n",
       "Volkswagen          Volkswagen\n",
       "Volvo                    Volvo\n",
       "Name: make, dtype: string[pyarrow]"
      ]
     },
     "execution_count": 40,
     "metadata": {},
     "output_type": "execute_result"
    }
   ],
   "source": [
    "(make\n",
    " .head(100)\n",
    " .groupby(make.head(100))\n",
    " .first())"
   ]
  },
  {
   "cell_type": "code",
   "execution_count": 41,
   "id": "dacca873",
   "metadata": {},
   "outputs": [
    {
     "data": {
      "text/plain": [
       "'Alfa Romeo'"
      ]
     },
     "execution_count": 41,
     "metadata": {},
     "output_type": "execute_result"
    }
   ],
   "source": [
    "ordered_make.iloc[0]"
   ]
  },
  {
   "cell_type": "code",
   "execution_count": 42,
   "id": "61d9c768",
   "metadata": {},
   "outputs": [
    {
     "data": {
      "text/plain": [
       "0    Alfa Romeo\n",
       "Name: make, dtype: category\n",
       "Categories (136, object): ['AM General' < 'ASC Incorporated' < 'Acura' < 'Alfa Romeo' ... 'Volvo' < 'Wallace Environmental' < 'Yugo' < 'smart']"
      ]
     },
     "execution_count": 42,
     "metadata": {},
     "output_type": "execute_result"
    }
   ],
   "source": [
    "ordered_make.iloc[[0]]"
   ]
  },
  {
   "cell_type": "code",
   "execution_count": 43,
   "id": "c062b989",
   "metadata": {},
   "outputs": [
    {
     "data": {
      "text/plain": [
       "BMW          BMW\n",
       "Ford        Ford\n",
       "Toyota    Toyota\n",
       "dtype: object"
      ]
     },
     "execution_count": 43,
     "metadata": {},
     "output_type": "execute_result"
    }
   ],
   "source": [
    "s = pd.Series([\"BMW\", \"Ford\", \"BMW\", \"Toyota\"], index=[2000, 2001, 2002, 2003])\n",
    "\n",
    "(s.groupby(s, observed=True)\n",
    ".first()\n",
    " )"
   ]
  },
  {
   "cell_type": "code",
   "execution_count": 44,
   "id": "b37faa5d",
   "metadata": {},
   "outputs": [],
   "source": [
    "def generalise_topn(ser, n=5, other='Other'): # three parameters\n",
    "    topn = ser.value_counts().index[:n] # the top n index values sorted by value_counts()\n",
    "    if isinstance(ser.dtype, pd.CategoricalDtype): # checks whether ser.dtype is a CategoricalDtype\n",
    "        ser = ser.cat.set_categories( # reset the categories to be:\n",
    "            topn.set_categories(list(topn)+[other]) # in a list of the topn with the specified 'other'\n",
    "        )\n",
    "    return ser.where(ser.isin(topn), other) # where in topn, return as is, otherwise, return specified 'other'"
   ]
  },
  {
   "cell_type": "code",
   "execution_count": 45,
   "id": "8a3e720a",
   "metadata": {},
   "outputs": [
    {
     "data": {
      "text/plain": [
       "Index(['Chevrolet', 'Ford', 'Dodge', 'GMC', 'Toyota'], dtype='string[pyarrow]', name='make')"
      ]
     },
     "execution_count": 45,
     "metadata": {},
     "output_type": "execute_result"
    }
   ],
   "source": [
    "make.value_counts().index[:5]"
   ]
  },
  {
   "cell_type": "code",
   "execution_count": 46,
   "id": "10d012d9",
   "metadata": {},
   "outputs": [
    {
     "data": {
      "text/plain": [
       "Index(['Chevrolet', 'Ford', 'Dodge', 'GMC', 'Toyota', 'BMW', 'Mercedes-Benz',\n",
       "       'Nissan', 'Volkswagen', 'Mitsubishi',\n",
       "       ...\n",
       "       'Karma', 'Koenigsegg', 'Aurora Cars Ltd', 'RUF Automobile',\n",
       "       'JBA Motorcars, Inc.', 'Grumman Allied Industries',\n",
       "       'Environmental Rsch and Devp Corp', 'General Motors', 'Goldacre',\n",
       "       'Isis Imports Ltd'],\n",
       "      dtype='string[pyarrow]', name='make', length=136)"
      ]
     },
     "execution_count": 46,
     "metadata": {},
     "output_type": "execute_result"
    }
   ],
   "source": [
    "make.value_counts().index"
   ]
  },
  {
   "cell_type": "code",
   "execution_count": 47,
   "id": "06823b22",
   "metadata": {},
   "outputs": [
    {
     "data": {
      "text/plain": [
       "0            NA\n",
       "1            NA\n",
       "2         Dodge\n",
       "3         Dodge\n",
       "4        Subaru\n",
       "          ...  \n",
       "41139    Subaru\n",
       "41140    Subaru\n",
       "41141    Subaru\n",
       "41142    Subaru\n",
       "41143    Subaru\n",
       "Name: make, Length: 41144, dtype: category\n",
       "Categories (21, object): ['Chevrolet', 'Ford', 'Dodge', 'GMC', ..., 'Volvo', 'Hyundai', 'Chrysler', 'NA']"
      ]
     },
     "execution_count": 47,
     "metadata": {},
     "output_type": "execute_result"
    }
   ],
   "source": [
    "cat_make.pipe(generalise_topn, n=20, other='NA')"
   ]
  },
  {
   "cell_type": "code",
   "execution_count": 48,
   "id": "ff6e88ac",
   "metadata": {},
   "outputs": [],
   "source": [
    "def generalise_topn(ser, n=5, other='Other'):\n",
    "    topn = ser.value_counts().index[:n]\n",
    "    if isinstance(ser.dtype, pd.CategoricalDtype):\n",
    "        ser = ser.cat.set_categories(\n",
    "            topn.set_categories(list(topn) + [other])\n",
    "        )\n",
    "    return ser.where(ser.isin(topn), other)"
   ]
  },
  {
   "cell_type": "code",
   "execution_count": 49,
   "id": "0898c5bc",
   "metadata": {},
   "outputs": [
    {
     "data": {
      "text/plain": [
       "0           NA\n",
       "1           NA\n",
       "2        Dodge\n",
       "3        Dodge\n",
       "4           NA\n",
       "         ...  \n",
       "41139       NA\n",
       "41140       NA\n",
       "41141       NA\n",
       "41142       NA\n",
       "41143       NA\n",
       "Name: make, Length: 41144, dtype: category\n",
       "Categories (6, object): ['Chevrolet', 'Ford', 'Dodge', 'GMC', 'Toyota', 'NA']"
      ]
     },
     "execution_count": 49,
     "metadata": {},
     "output_type": "execute_result"
    }
   ],
   "source": [
    "def generalise_topn(ser, n=5, other='Other'):\n",
    "    topn = ser.value_counts().index[:5]\n",
    "    if isinstance(ser.dtype, pd.CategoricalDtype):\n",
    "        ser = ser.cat.set_categories(\n",
    "            topn.set_categories(list(topn) + [other])\n",
    "        )\n",
    "    return ser.where(ser.isin(topn), other)\n",
    "\n",
    "cat_make.pipe(generalise_topn, n=5, other='NA')"
   ]
  },
  {
   "cell_type": "code",
   "execution_count": 53,
   "id": "68e82c06",
   "metadata": {},
   "outputs": [
    {
     "data": {
      "text/plain": [
       "0        Other\n",
       "1        Other\n",
       "2           US\n",
       "3           US\n",
       "4        Other\n",
       "         ...  \n",
       "41139    Other\n",
       "41140    Other\n",
       "41141    Other\n",
       "41142    Other\n",
       "41143    Other\n",
       "Name: make, Length: 41144, dtype: category\n",
       "Categories (3, object): ['German', 'Other', 'US']"
      ]
     },
     "execution_count": 53,
     "metadata": {},
     "output_type": "execute_result"
    }
   ],
   "source": [
    "def generalise_mapping(ser, mapping, default):\n",
    "    seen = None\n",
    "    res = ser.astype(str)\n",
    "    for old, new in mapping.items():\n",
    "        mask = ser.str.contains(old)\n",
    "        if seen is None:\n",
    "            seen = mask\n",
    "        else:\n",
    "            seen |= mask\n",
    "        res = res.where(~mask, new)\n",
    "    res = res.where(seen, default)\n",
    "    return res.astype('category')\n",
    "\n",
    "\n",
    "\n",
    "\n",
    "\n",
    "generalise_mapping(cat_make, {'Ford': 'US', 'Tesla': 'US',\n",
    "                              'Chevrolet': 'US', 'Dodge': 'US',\n",
    "                              'Oldsmobile': 'US', 'Plymouth': 'US',\n",
    "                              'BMW': 'German'}, 'Other')"
   ]
  },
  {
   "cell_type": "code",
   "execution_count": 51,
   "id": "1d0b8b14",
   "metadata": {},
   "outputs": [
    {
     "data": {
      "text/plain": [
       "0        Other\n",
       "1        Other\n",
       "2           US\n",
       "3           US\n",
       "4        Other\n",
       "         ...  \n",
       "41139    Other\n",
       "41140    Other\n",
       "41141    Other\n",
       "41142    Other\n",
       "41143    Other\n",
       "Name: make, Length: 41144, dtype: category\n",
       "Categories (3, object): ['German', 'Other', 'US']"
      ]
     },
     "execution_count": 51,
     "metadata": {},
     "output_type": "execute_result"
    }
   ],
   "source": [
    "generalise_mapping(cat_make, {'Ford': 'US', 'Tesla': 'US',\n",
    "                              'Chevrolet': 'US', 'Dodge': 'US',\n",
    "                              'Oldsmobile': 'US', 'Plymouth': 'US',\n",
    "                              'BMW': 'German'}, 'Other')"
   ]
  },
  {
   "cell_type": "code",
   "execution_count": 52,
   "id": "b04a7279",
   "metadata": {},
   "outputs": [
    {
     "data": {
      "text/plain": [
       "True"
      ]
     },
     "execution_count": 52,
     "metadata": {},
     "output_type": "execute_result"
    }
   ],
   "source": [
    "x = True\n",
    "y = False\n",
    "\n",
    "x |= y\n",
    "x"
   ]
  },
  {
   "cell_type": "code",
   "execution_count": null,
   "id": "0db2a727",
   "metadata": {},
   "outputs": [],
   "source": [
    "# Convert a text column into a categorical column. How much memory did you save?\n",
    "\n",
    "# make.dtype\n",
    "\n",
    "categorical_make = make.astype('category')\n",
    "\n",
    "## results:\n",
    "# 5.96 ns ± 0.195 ns per loop (mean ± std. dev. of 7 runs, 100,000,000 loops each)\n",
    "# vs\n",
    "# 6.13 ns ± 0.255 ns per loop (mean ± std. dev. of 7 runs, 100,000,000 loops each)\n"
   ]
  },
  {
   "cell_type": "code",
   "execution_count": 81,
   "id": "5a239688",
   "metadata": {},
   "outputs": [
    {
     "name": "stdout",
     "output_type": "stream",
     "text": [
      "Numeric column bite usage: 329284\n",
      "Binned column bite usage: 41736\n",
      "pd.cut resulting in: 287548 bites faster\n"
     ]
    }
   ],
   "source": [
    "#Convert a numeric column into a categorical column by binning it (pd.cut). How much memory did you save?\n",
    "\n",
    "num_bites = city_mpg.memory_usage(deep=True)\n",
    "cat_bites = pd.cut(city_mpg, 10).memory_usage(deep=True)\n",
    "\n",
    "print(f'Numeric column bite usage: {num_bites}')\n",
    "print(f'Binned column bite usage: {cat_bites}')\n",
    "print(f'pd.cut resulting in: {num_bites - cat_bites} bites faster')"
   ]
  },
  {
   "cell_type": "code",
   "execution_count": 84,
   "id": "4f4fed70",
   "metadata": {},
   "outputs": [
    {
     "name": "stdout",
     "output_type": "stream",
     "text": [
      "Categorical column bite usage: 88701\n",
      "Generalised columns bite usage: 41774\n",
      "pd.cut resulting in: 46927 bites faster\n"
     ]
    }
   ],
   "source": [
    "# Use the generalize_topn function to limit the amounts of categories in your column. How much memory did you save?\n",
    "\n",
    "cat_make = make.astype('category')\n",
    "cat_speed = cat_make.memory_usage(deep=True)\n",
    "\n",
    "gen_speed = cat_make.pipe(generalise_topn, n=5, other='Other').memory_usage(deep=True)\n",
    "\n",
    "\n",
    "\n",
    "print(f'Categorical column bite usage: {cat_speed}')\n",
    "print(f'Generalised columns bite usage: {gen_speed}')\n",
    "print(f'pd.cut resulting in: {cat_speed - gen_speed} bites faster')"
   ]
  }
 ],
 "metadata": {
  "kernelspec": {
   "display_name": "base",
   "language": "python",
   "name": "python3"
  },
  "language_info": {
   "codemirror_mode": {
    "name": "ipython",
    "version": 3
   },
   "file_extension": ".py",
   "mimetype": "text/x-python",
   "name": "python",
   "nbconvert_exporter": "python",
   "pygments_lexer": "ipython3",
   "version": "3.13.5"
  }
 },
 "nbformat": 4,
 "nbformat_minor": 5
}
