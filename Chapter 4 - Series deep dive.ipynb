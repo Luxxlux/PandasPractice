{
 "cells": [
  {
   "cell_type": "code",
   "execution_count": 11,
   "id": "e6c1035e-3133-48eb-8bf6-b000e083a279",
   "metadata": {},
   "outputs": [],
   "source": [
    "import pandas as pd\n",
    "url = ('https://github.com/mattharrison/datasets/raw/master/data/''vehicles.csv.zip')"
   ]
  },
  {
   "cell_type": "code",
   "execution_count": 13,
   "id": "96863e97-bd8d-4ec7-8440-064bbe91b6cb",
   "metadata": {},
   "outputs": [],
   "source": [
    "df = pd.read_csv(url, dtype_backend='pyarrow',\n",
    "                 engine='pyarrow')"
   ]
  },
  {
   "cell_type": "code",
   "execution_count": 15,
   "id": "d06241f1-1022-418c-a0e0-7a929e8a141e",
   "metadata": {},
   "outputs": [],
   "source": [
    "city_mpg = df.city08"
   ]
  },
  {
   "cell_type": "code",
   "execution_count": 17,
   "id": "03447fa9-3d96-48f6-8176-e40438f490ab",
   "metadata": {},
   "outputs": [],
   "source": [
    "highway_mpg = df.highway08"
   ]
  },
  {
   "cell_type": "code",
   "execution_count": 19,
   "id": "4d80f262-9040-4bbf-9a17-17f390c62c94",
   "metadata": {},
   "outputs": [
    {
     "data": {
      "text/plain": [
       "0        19\n",
       "1         9\n",
       "2        23\n",
       "3        10\n",
       "4        17\n",
       "         ..\n",
       "41139    19\n",
       "41140    20\n",
       "41141    18\n",
       "41142    18\n",
       "41143    16\n",
       "Name: city08, Length: 41144, dtype: int64[pyarrow]"
      ]
     },
     "execution_count": 19,
     "metadata": {},
     "output_type": "execute_result"
    }
   ],
   "source": [
    "city_mpg"
   ]
  },
  {
   "cell_type": "code",
   "execution_count": 21,
   "id": "af11090f-eb1c-41aa-bb55-085cbc20917b",
   "metadata": {},
   "outputs": [
    {
     "data": {
      "text/plain": [
       "0        25\n",
       "1        14\n",
       "2        33\n",
       "3        12\n",
       "4        23\n",
       "         ..\n",
       "41139    26\n",
       "41140    28\n",
       "41141    24\n",
       "41142    24\n",
       "41143    21\n",
       "Name: highway08, Length: 41144, dtype: int64[pyarrow]"
      ]
     },
     "execution_count": 21,
     "metadata": {},
     "output_type": "execute_result"
    }
   ],
   "source": [
    "highway_mpg"
   ]
  },
  {
   "cell_type": "code",
   "execution_count": 23,
   "id": "2568cef1-ce72-4c95-8d1d-5fda0fda9f54",
   "metadata": {},
   "outputs": [
    {
     "data": {
      "text/plain": [
       "420"
      ]
     },
     "execution_count": 23,
     "metadata": {},
     "output_type": "execute_result"
    }
   ],
   "source": [
    "len(dir(city_mpg))"
   ]
  },
  {
   "cell_type": "code",
   "execution_count": 25,
   "id": "f1121913-4218-48a5-ba3f-148520f7a0f0",
   "metadata": {},
   "outputs": [],
   "source": [
    "s = pd.Series(['a','b','c'])"
   ]
  },
  {
   "cell_type": "code",
   "execution_count": 29,
   "id": "deedc127-f9d8-4c72-87d5-b17a340f4457",
   "metadata": {},
   "outputs": [
    {
     "data": {
      "text/plain": [
       "100"
      ]
     },
     "execution_count": 29,
     "metadata": {},
     "output_type": "execute_result"
    }
   ],
   "source": [
    "len(dir(s.str))"
   ]
  },
  {
   "cell_type": "code",
   "execution_count": 39,
   "id": "c8d0385b-0ce1-4863-94f7-dea7295eaede",
   "metadata": {},
   "outputs": [],
   "source": [
    "s = pd.Series(pd.date_range('2025.07.06', periods=3, freq='YE'))"
   ]
  },
  {
   "cell_type": "code",
   "execution_count": 35,
   "id": "08b41624-938a-401b-9b63-b8b3c465e406",
   "metadata": {},
   "outputs": [
    {
     "data": {
      "text/plain": [
       "84"
      ]
     },
     "execution_count": 35,
     "metadata": {},
     "output_type": "execute_result"
    }
   ],
   "source": [
    "len(dir(s.dt))"
   ]
  },
  {
   "cell_type": "code",
   "execution_count": 41,
   "id": "0dd77194-92a9-4fab-a337-a3434d2e3f0b",
   "metadata": {},
   "outputs": [
    {
     "data": {
      "text/plain": [
       "0   2025-12-31\n",
       "1   2026-12-31\n",
       "2   2027-12-31\n",
       "dtype: datetime64[ns]"
      ]
     },
     "execution_count": 41,
     "metadata": {},
     "output_type": "execute_result"
    }
   ],
   "source": [
    "s"
   ]
  },
  {
   "cell_type": "code",
   "execution_count": 45,
   "id": "b3422642-2fd9-4cf4-9185-677cc70b574b",
   "metadata": {},
   "outputs": [
    {
     "data": {
      "text/plain": [
       "0    2025\n",
       "1    2026\n",
       "2    2027\n",
       "dtype: int32"
      ]
     },
     "execution_count": 45,
     "metadata": {},
     "output_type": "execute_result"
    }
   ],
   "source": [
    "s.dt.year"
   ]
  },
  {
   "cell_type": "code",
   "execution_count": 61,
   "id": "f7b31abd-df3b-43e7-8b76-132431d223b8",
   "metadata": {},
   "outputs": [
    {
     "data": {
      "text/plain": [
       "2025-07-06    6\n",
       "2025-07-07    0\n",
       "2025-07-08    1\n",
       "2025-07-09    2\n",
       "2025-07-10    3\n",
       "2025-07-11    4\n",
       "2025-07-12    5\n",
       "2025-07-13    6\n",
       "2025-07-14    0\n",
       "2025-07-15    1\n",
       "2025-07-16    2\n",
       "2025-07-17    3\n",
       "2025-07-18    4\n",
       "2025-07-19    5\n",
       "2025-07-20    6\n",
       "2025-07-21    0\n",
       "2025-07-22    1\n",
       "2025-07-23    2\n",
       "2025-07-24    3\n",
       "2025-07-25    4\n",
       "2025-07-26    5\n",
       "2025-07-27    6\n",
       "2025-07-28    0\n",
       "2025-07-29    1\n",
       "2025-07-30    2\n",
       "2025-07-31    3\n",
       "2025-08-01    4\n",
       "2025-08-02    5\n",
       "2025-08-03    6\n",
       "2025-08-04    0\n",
       "2025-08-05    1\n",
       "2025-08-06    2\n",
       "2025-08-07    3\n",
       "2025-08-08    4\n",
       "2025-08-09    5\n",
       "2025-08-10    6\n",
       "2025-08-11    0\n",
       "2025-08-12    1\n",
       "2025-08-13    2\n",
       "2025-08-14    3\n",
       "2025-08-15    4\n",
       "2025-08-16    5\n",
       "2025-08-17    6\n",
       "2025-08-18    0\n",
       "2025-08-19    1\n",
       "2025-08-20    2\n",
       "2025-08-21    3\n",
       "2025-08-22    4\n",
       "2025-08-23    5\n",
       "2025-08-24    6\n",
       "Freq: D, dtype: int32"
      ]
     },
     "execution_count": 61,
     "metadata": {},
     "output_type": "execute_result"
    }
   ],
   "source": [
    "s = pd.date_range('2025.07.06', '2025.08.24', freq='d').to_series()\n",
    "s.dt.dayofweek"
   ]
  },
  {
   "cell_type": "code",
   "execution_count": 69,
   "id": "3fbb63fd-10b4-4a6c-9589-4dcd05e2264b",
   "metadata": {},
   "outputs": [
    {
     "data": {
      "text/plain": [
       "Index(['Apr 10, 2025, 10:00:00 AM', 'Apr 10, 2025, 10:00:01 AM',\n",
       "       'Apr 10, 2025, 10:00:02 AM', 'Apr 10, 2025, 10:00:03 AM',\n",
       "       'Apr 10, 2025, 10:00:04 AM', 'Apr 10, 2025, 10:00:05 AM',\n",
       "       'Apr 10, 2025, 10:00:06 AM', 'Apr 10, 2025, 10:00:07 AM',\n",
       "       'Apr 10, 2025, 10:00:08 AM', 'Apr 10, 2025, 10:00:09 AM',\n",
       "       'Apr 10, 2025, 10:00:10 AM', 'Apr 10, 2025, 10:00:11 AM',\n",
       "       'Apr 10, 2025, 10:00:12 AM', 'Apr 10, 2025, 10:00:13 AM',\n",
       "       'Apr 10, 2025, 10:00:14 AM', 'Apr 10, 2025, 10:00:15 AM',\n",
       "       'Apr 10, 2025, 10:00:16 AM', 'Apr 10, 2025, 10:00:17 AM',\n",
       "       'Apr 10, 2025, 10:00:18 AM', 'Apr 10, 2025, 10:00:19 AM'],\n",
       "      dtype='object')"
      ]
     },
     "execution_count": 69,
     "metadata": {},
     "output_type": "execute_result"
    }
   ],
   "source": [
    "rng = pd.date_range(pd.Timestamp(\"2025.04.10 10:00\"), # creates the time you want to go off of\n",
    "                    periods=20, # how many periods by frequency bellow you want as output\n",
    "                    freq='s')\n",
    "rng.strftime('%b %d, %Y, %r')"
   ]
  },
  {
   "cell_type": "code",
   "execution_count": null,
   "id": "d86602b5-cec8-4286-b352-febc46e1aacd",
   "metadata": {},
   "outputs": [],
   "source": []
  }
 ],
 "metadata": {
  "kernelspec": {
   "display_name": "Python 3 (ipykernel)",
   "language": "python",
   "name": "python3"
  },
  "language_info": {
   "codemirror_mode": {
    "name": "ipython",
    "version": 3
   },
   "file_extension": ".py",
   "mimetype": "text/x-python",
   "name": "python",
   "nbconvert_exporter": "python",
   "pygments_lexer": "ipython3",
   "version": "3.12.2"
  }
 },
 "nbformat": 4,
 "nbformat_minor": 5
}
